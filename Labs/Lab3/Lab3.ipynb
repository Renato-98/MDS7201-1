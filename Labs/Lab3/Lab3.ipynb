{
 "cells": [
  {
   "cell_type": "markdown",
   "metadata": {
    "cell_id": "e37cb69cb73a49c2ad07cf670e073cb7",
    "deepnote_cell_height": 156.390625,
    "deepnote_cell_type": "markdown",
    "id": "XUZ1dFPHzAHl"
   },
   "source": [
    "<h1><center>Laboratorio 3: El Pandas no muerde 🐼</center></h1>\n",
    "\n",
    "<center><strong>MDS7202: Laboratorio de Programación Científica para Ciencia de Datos - Primavera 2024</strong></center>"
   ]
  },
  {
   "cell_type": "markdown",
   "metadata": {
    "id": "PkEUN6c8S-E_"
   },
   "source": [
    "### Cuerpo Docente:\n",
    "\n",
    "- Profesores: Ignacio Meza, Sebastián Tinoco\n",
    "- Auxiliar: Eduardo Moya\n",
    "- Ayudantes: Nicolás Ojeda, Melanie Peña, Valentina Rojas"
   ]
  },
  {
   "cell_type": "markdown",
   "metadata": {
    "cell_id": "8ebcb0f2f70c43319279fdd28c13fe89",
    "deepnote_cell_height": 171.796875,
    "deepnote_cell_type": "markdown",
    "id": "tXflExjqzAHr"
   },
   "source": [
    "### Equipo: **SUPER IMPORTANTE - notebooks sin nombre no serán revisados**\n",
    "\n",
    "- Nombre de alumno 1: Renato Pino\n",
    "- Nombre de alumno 2: Valentina Abello\n"
   ]
  },
  {
   "cell_type": "markdown",
   "metadata": {
    "cell_id": "290822720f3e4484b09e762655bcdb76",
    "deepnote_cell_height": 62,
    "deepnote_cell_type": "markdown",
    "id": "AD-V0bbZzAHr"
   },
   "source": [
    "### **Link de repositorio de GitHub:** [Repositorio](https://github.com/Renato-98/MDS7202-1)"
   ]
  },
  {
   "cell_type": "markdown",
   "metadata": {
    "cell_id": "60255b81ff0349ad9b18f598a8d71386",
    "deepnote_cell_height": 216,
    "deepnote_cell_type": "markdown",
    "id": "hnYD2hBMAwXf",
    "tags": []
   },
   "source": [
    "## Reglas:\n",
    "\n",
    "- **Grupos de 2 personas**\n",
    "- Fecha de entrega: 6 días de plazo con descuento de 1 punto por día. Entregas Jueves a las 23:59.\n",
    "- Instrucciones del lab el viernes a las 16:15 en formato online. Asistencia no es obligatoria.\n",
    "- <u>Prohibidas las copias</u>. Cualquier intento de copia será debidamente penalizado con el reglamento de la escuela.\n",
    "- Tienen que subir el laboratorio a u-cursos y a su repositorio de github. Labs que no estén en u-cursos no serán revisados. Recuerden que el repositorio también tiene nota.\n",
    "- Cualquier duda fuera del horario de clases al foro. Mensajes al equipo docente serán respondidos por este medio.\n",
    "- Pueden usar cualquier material del curso que estimen conveniente."
   ]
  },
  {
   "cell_type": "markdown",
   "metadata": {
    "cell_id": "5bf6f5f66dcd4da9a6926774cec108ab",
    "deepnote_cell_height": 114.390625,
    "deepnote_cell_type": "markdown",
    "id": "xzz695obAwXg",
    "tags": []
   },
   "source": [
    "### Temas a tratar\n",
    "\n",
    "- Introducción al manejo de datos tabulares por medio de la libreria `pandas`."
   ]
  },
  {
   "cell_type": "markdown",
   "metadata": {
    "cell_id": "50ec30f08f2548a29bc979ed1741f5a0",
    "deepnote_cell_height": 243.390625,
    "deepnote_cell_type": "markdown",
    "id": "6uBLPj1PzAHs"
   },
   "source": [
    "### Objetivos principales del laboratorio\n",
    "\n",
    "- Entender, aplicar y aprovechar las ventajas que nos ofrece la libreria `pandas` para manejar datos tabulares.\n",
    "- Aprender a utilizar la documentación de pandas (y en general, de cualquier librería de python) como también a buscar soluciones en la web.\n",
    "\n",
    "> **Nota**: El laboratorio deberá ser desarrollado sin el uso indiscriminado de iteradores nativos de python (aka \"for\", \"while\"). La idea es que aprendan a exprimir al máximo las funciones optimizadas que nos entrega `pandas`, las cuales vale mencionar, son bastante más eficientes que los iteradores nativos sobre DataFrames."
   ]
  },
  {
   "cell_type": "markdown",
   "metadata": {
    "cell_id": "bc3394397e5241b8825745ec98c9db11",
    "deepnote_cell_height": 62,
    "deepnote_cell_type": "markdown",
    "id": "MhISwri4zAHy"
   },
   "source": [
    "### Librerias utiles para el Lab 😸"
   ]
  },
  {
   "cell_type": "code",
   "execution_count": 3,
   "metadata": {
    "ExecuteTime": {
     "end_time": "2024-09-03T14:40:44.601949Z",
     "start_time": "2024-09-03T14:40:40.476491Z"
    },
    "cell_id": "4a3449ea038e423d948cdcb7fb51513c",
    "colab": {
     "base_uri": "https://localhost:8080/"
    },
    "deepnote_cell_type": "code",
    "deepnote_to_be_reexecuted": false,
    "executionInfo": {
     "elapsed": 4847,
     "status": "ok",
     "timestamp": 1619205948702,
     "user": {
      "displayName": "IGNACIO ALEJANDRO MEZA",
      "photoUrl": "",
      "userId": "17011121633069169364"
     },
     "user_tz": 240
    },
    "execution_millis": 16059,
    "execution_start": 1662655795388,
    "id": "uyc33dKdzAHy",
    "outputId": "0b8ebbb5-c76c-45a4-9d3e-1b6dba06a278",
    "source_hash": "8da0b14b"
   },
   "outputs": [],
   "source": [
    "# Libreria Core del lab.\n",
    "import numpy as np\n",
    "import pandas as pd\n",
    "from IPython.display import display\n",
    "\n",
    "#Libreria para plotear\n",
    "#%pip install --upgrade plotly\n",
    "import plotly.express as px\n",
    "\n",
    "# Librerias utiles\n",
    "from sklearn.preprocessing import StandardScaler"
   ]
  },
  {
   "cell_type": "markdown",
   "metadata": {
    "cell_id": "84ab36016f4d40afaa9cc8ea0e1f99c0",
    "deepnote_cell_height": 82,
    "deepnote_cell_type": "markdown",
    "id": "xpOTbQcxbSiy"
   },
   "source": [
    "# 1. Rendimiento en Estudiantes 📚"
   ]
  },
  {
   "cell_type": "markdown",
   "metadata": {
    "cell_id": "17cbd3ab27814f05902800f03510fc40",
    "deepnote_cell_height": 119.59375,
    "deepnote_cell_type": "markdown",
    "id": "jnmZfFpxTTYX"
   },
   "source": [
    "Para este laboratorio deberán trabajar con el dataset `students_grades.json` el cual contiene información sobre el rendimiento de alumnos en distintos ramos.\n",
    "El objetivo principal será el de realizar un trabajo de limpieza de prepración y exploración de datos utilizando exclusivamente `DataFrames` y sus métodos asociados.\n",
    "\n",
    "\n"
   ]
  },
  {
   "cell_type": "code",
   "execution_count": 2,
   "metadata": {
    "ExecuteTime": {
     "end_time": "2024-08-30T19:16:00.485058Z",
     "start_time": "2024-08-30T19:16:00.453826Z"
    },
    "cell_id": "1013ed7b1ec345fd88771a3812af8140",
    "colab": {
     "base_uri": "https://localhost:8080/"
    },
    "deepnote_cell_type": "code",
    "deepnote_to_be_reexecuted": false,
    "executionInfo": {
     "elapsed": 625,
     "status": "ok",
     "timestamp": 1619205948705,
     "user": {
      "displayName": "IGNACIO ALEJANDRO MEZA",
      "photoUrl": "",
      "userId": "17011121633069169364"
     },
     "user_tz": 240
    },
    "execution_millis": 8,
    "execution_start": 1632493422315,
    "id": "Jqq-s010Iwl1",
    "outputId": "d90c065b-1e2f-43f6-81eb-c92ed177f5f5",
    "source_hash": "c60dc4a7"
   },
   "outputs": [
    {
     "name": "stdout",
     "output_type": "stream",
     "text": [
      "Ignorando conexión drive-colab\n"
     ]
    }
   ],
   "source": [
    "# Si usted está utilizando Colabolatory le puede ser útil este código para cargar los archivos.\n",
    "try:\n",
    "    from google.colab import drive\n",
    "    drive.mount(\"/content/drive\")\n",
    "    path = 'Dirección donde tiene los archivos en el Drive'\n",
    "except:\n",
    "    print('Ignorando conexión drive-colab')"
   ]
  },
  {
   "cell_type": "markdown",
   "metadata": {
    "cell_id": "c9b077c5f27b4c19bcdccc3d2c9a06b2",
    "deepnote_cell_height": 496.3125,
    "deepnote_cell_type": "markdown",
    "id": "Y7sGYwOpN1VJ"
   },
   "source": [
    "## 1. Carga e Inspección de Datos [1.0 Puntos]\n"
   ]
  },
  {
   "cell_type": "markdown",
   "metadata": {
    "cell_id": "2d59d81cd22d49fda637f19c4feb0417",
    "deepnote_cell_height": 867.59375,
    "deepnote_cell_type": "markdown",
    "id": "EWMCPSjdAwXk",
    "tags": []
   },
   "source": [
    "<p align=\"center\">\n",
    "  <img src=\"https://i.imgur.com/44knnIf.png\" width=\"500\" height=\"500\">\n",
    "</p>\n",
    "\n",
    "*Don Caguayo*, rector de la Universidad de la Cachaña, les comenta que actualmente la Universidad no tiene una subdirección de análisis de datos, pero que tiene un gran interés en formar una. Es por esto, que se contacta con ud. y su equipo para iniciar de forma exploratoria diversas tareas de análisis y consolidación de datos respectivos al rendimiento de sus alumnos.\n",
    "\n",
    "Previo a su primera reunión con el rector, el rector le envía una copia de la base de datos, la cuál a usted y su equipo le encantaría examinar. Para esto, la primera tarea que debe realizar es abrir y cargar el dataset.\n",
    "\n",
    "\n",
    "> **Notar que es sumamente importante el formato que posee cada columna** para su manipulación y que posiblemente ustedes deberán especificar algunos tipos de datos a mano. Ver la documentación del método `read_json` para mayor información.\n",
    "\n",
    "A continuación se muestra un ejemplo de los dos primeros registros del dataset:\n",
    "\n",
    "```json\n",
    "[\n",
    "  {\n",
    "    \"names\": \"Rita Courtney\",\n",
    "    \"gender\": \"female\",\n",
    "    \"race/ethnicity\": \"group B\",\n",
    "    \"parental level of education\": \"some high school\",\n",
    "    \"lunch\": \"standard\",\n",
    "    \"test preparation course\": \"none\",\n",
    "    \"math score\": 37,\n",
    "    \"reading score\": 46,\n",
    "    \"writing score\": 46\n",
    "  },\n",
    "  {\n",
    "    \"names\": \"Madeline Fuller\",\n",
    "    \"gender\": \"female\",\n",
    "    \"race/ethnicity\": \"group C\",\n",
    "    \"parental level of education\": \"some high school\",\n",
    "    \"lunch\": \"standard\",\n",
    "    \"test preparation course\": \"none\",\n",
    "    \"math score\": 124,\n",
    "    \"reading score\": 142,\n",
    "    \"writing score\": 142\n",
    "  }\n",
    "]\n",
    "```\n",
    "\n",
    "\n",
    "\n"
   ]
  },
  {
   "cell_type": "code",
   "execution_count": 4,
   "metadata": {
    "ExecuteTime": {
     "end_time": "2024-09-03T16:47:01.495349Z",
     "start_time": "2024-09-03T16:47:01.442752Z"
    },
    "cell_id": "3cc75cc7307e457a9e9349e035baeaec",
    "deepnote_cell_height": 61,
    "deepnote_cell_type": "code",
    "id": "rguAYH4WAwXk",
    "tags": []
   },
   "outputs": [
    {
     "data": {
      "text/html": [
       "<div>\n",
       "<style scoped>\n",
       "    .dataframe tbody tr th:only-of-type {\n",
       "        vertical-align: middle;\n",
       "    }\n",
       "\n",
       "    .dataframe tbody tr th {\n",
       "        vertical-align: top;\n",
       "    }\n",
       "\n",
       "    .dataframe thead th {\n",
       "        text-align: right;\n",
       "    }\n",
       "</style>\n",
       "<table border=\"1\" class=\"dataframe\">\n",
       "  <thead>\n",
       "    <tr style=\"text-align: right;\">\n",
       "      <th></th>\n",
       "      <th>names</th>\n",
       "      <th>gender</th>\n",
       "      <th>race/ethnicity</th>\n",
       "      <th>parental level of education</th>\n",
       "      <th>lunch</th>\n",
       "      <th>test preparation course</th>\n",
       "      <th>math score</th>\n",
       "      <th>reading score</th>\n",
       "      <th>writing score</th>\n",
       "    </tr>\n",
       "  </thead>\n",
       "  <tbody>\n",
       "    <tr>\n",
       "      <th>0</th>\n",
       "      <td>Rita Courtney</td>\n",
       "      <td>female</td>\n",
       "      <td>group B</td>\n",
       "      <td>some high school</td>\n",
       "      <td>standard</td>\n",
       "      <td>none</td>\n",
       "      <td>37</td>\n",
       "      <td>46</td>\n",
       "      <td>46</td>\n",
       "    </tr>\n",
       "    <tr>\n",
       "      <th>1</th>\n",
       "      <td>Madeline Fuller</td>\n",
       "      <td>female</td>\n",
       "      <td>group C</td>\n",
       "      <td>some high school</td>\n",
       "      <td>standard</td>\n",
       "      <td>none</td>\n",
       "      <td>124</td>\n",
       "      <td>142</td>\n",
       "      <td>142</td>\n",
       "    </tr>\n",
       "    <tr>\n",
       "      <th>2</th>\n",
       "      <td>Daniel Rester</td>\n",
       "      <td>male</td>\n",
       "      <td>group E</td>\n",
       "      <td>associate's degree</td>\n",
       "      <td>standard</td>\n",
       "      <td>none</td>\n",
       "      <td>156</td>\n",
       "      <td>196</td>\n",
       "      <td>193</td>\n",
       "    </tr>\n",
       "    <tr>\n",
       "      <th>3</th>\n",
       "      <td>Charles Linstrom</td>\n",
       "      <td>male</td>\n",
       "      <td>group A</td>\n",
       "      <td>bachelor's degree</td>\n",
       "      <td>standard</td>\n",
       "      <td>completed</td>\n",
       "      <td>80</td>\n",
       "      <td>78</td>\n",
       "      <td>81</td>\n",
       "    </tr>\n",
       "    <tr>\n",
       "      <th>4</th>\n",
       "      <td>Geraldine Hale</td>\n",
       "      <td>female</td>\n",
       "      <td>group A</td>\n",
       "      <td>associate's degree</td>\n",
       "      <td>standard</td>\n",
       "      <td>none</td>\n",
       "      <td>131</td>\n",
       "      <td>166</td>\n",
       "      <td>166</td>\n",
       "    </tr>\n",
       "    <tr>\n",
       "      <th>...</th>\n",
       "      <td>...</td>\n",
       "      <td>...</td>\n",
       "      <td>...</td>\n",
       "      <td>...</td>\n",
       "      <td>...</td>\n",
       "      <td>...</td>\n",
       "      <td>...</td>\n",
       "      <td>...</td>\n",
       "      <td>...</td>\n",
       "    </tr>\n",
       "    <tr>\n",
       "      <th>1395</th>\n",
       "      <td>Alexander Dillon</td>\n",
       "      <td>male</td>\n",
       "      <td>group D</td>\n",
       "      <td>associate's degree</td>\n",
       "      <td>standard</td>\n",
       "      <td>none</td>\n",
       "      <td>193</td>\n",
       "      <td>142</td>\n",
       "      <td>193</td>\n",
       "    </tr>\n",
       "    <tr>\n",
       "      <th>1396</th>\n",
       "      <td>Marina Zeigler</td>\n",
       "      <td>female</td>\n",
       "      <td>group C</td>\n",
       "      <td>bachelor's degree</td>\n",
       "      <td>free/reduced</td>\n",
       "      <td>completed</td>\n",
       "      <td>66</td>\n",
       "      <td>74</td>\n",
       "      <td>81</td>\n",
       "    </tr>\n",
       "    <tr>\n",
       "      <th>1397</th>\n",
       "      <td>Laurie Carter</td>\n",
       "      <td>female</td>\n",
       "      <td>group B</td>\n",
       "      <td>some high school</td>\n",
       "      <td>standard</td>\n",
       "      <td>completed</td>\n",
       "      <td>54</td>\n",
       "      <td>61</td>\n",
       "      <td>62</td>\n",
       "    </tr>\n",
       "    <tr>\n",
       "      <th>1398</th>\n",
       "      <td>Joseph Mccoy</td>\n",
       "      <td>male</td>\n",
       "      <td>group D</td>\n",
       "      <td>some college</td>\n",
       "      <td>free/reduced</td>\n",
       "      <td>none</td>\n",
       "      <td>193</td>\n",
       "      <td>196</td>\n",
       "      <td>193</td>\n",
       "    </tr>\n",
       "    <tr>\n",
       "      <th>1399</th>\n",
       "      <td>Amanda Perez</td>\n",
       "      <td>female</td>\n",
       "      <td>group A</td>\n",
       "      <td>high school</td>\n",
       "      <td>standard</td>\n",
       "      <td>completed</td>\n",
       "      <td>68</td>\n",
       "      <td>80</td>\n",
       "      <td>76</td>\n",
       "    </tr>\n",
       "  </tbody>\n",
       "</table>\n",
       "<p>1400 rows × 9 columns</p>\n",
       "</div>"
      ],
      "text/plain": [
       "                 names  gender race/ethnicity parental level of education  \\\n",
       "0        Rita Courtney  female        group B            some high school   \n",
       "1      Madeline Fuller  female        group C            some high school   \n",
       "2        Daniel Rester    male        group E          associate's degree   \n",
       "3     Charles Linstrom    male        group A           bachelor's degree   \n",
       "4       Geraldine Hale  female        group A          associate's degree   \n",
       "...                ...     ...            ...                         ...   \n",
       "1395  Alexander Dillon    male        group D          associate's degree   \n",
       "1396    Marina Zeigler  female        group C           bachelor's degree   \n",
       "1397     Laurie Carter  female        group B            some high school   \n",
       "1398      Joseph Mccoy    male        group D                some college   \n",
       "1399      Amanda Perez  female        group A                 high school   \n",
       "\n",
       "             lunch test preparation course math score reading score  \\\n",
       "0         standard                    none         37            46   \n",
       "1         standard                    none        124           142   \n",
       "2         standard                    none        156           196   \n",
       "3         standard               completed         80            78   \n",
       "4         standard                    none        131           166   \n",
       "...            ...                     ...        ...           ...   \n",
       "1395      standard                    none        193           142   \n",
       "1396  free/reduced               completed         66            74   \n",
       "1397      standard               completed         54            61   \n",
       "1398  free/reduced                    none        193           196   \n",
       "1399      standard               completed         68            80   \n",
       "\n",
       "     writing score  \n",
       "0               46  \n",
       "1              142  \n",
       "2              193  \n",
       "3               81  \n",
       "4              166  \n",
       "...            ...  \n",
       "1395           193  \n",
       "1396            81  \n",
       "1397            62  \n",
       "1398           193  \n",
       "1399            76  \n",
       "\n",
       "[1400 rows x 9 columns]"
      ]
     },
     "execution_count": 4,
     "metadata": {},
     "output_type": "execute_result"
    }
   ],
   "source": [
    "df_grades = pd.read_json('./students_grades.json',  dtype=True)\n",
    "df_grades"
   ]
  },
  {
   "cell_type": "code",
   "execution_count": 5,
   "metadata": {
    "ExecuteTime": {
     "end_time": "2024-09-03T04:26:07.254511Z",
     "start_time": "2024-09-03T04:26:07.226775Z"
    }
   },
   "outputs": [
    {
     "name": "stdout",
     "output_type": "stream",
     "text": [
      "<class 'pandas.core.frame.DataFrame'>\n",
      "RangeIndex: 1400 entries, 0 to 1399\n",
      "Data columns (total 9 columns):\n",
      " #   Column                       Non-Null Count  Dtype \n",
      "---  ------                       --------------  ----- \n",
      " 0   names                        1400 non-null   object\n",
      " 1   gender                       1400 non-null   object\n",
      " 2   race/ethnicity               1400 non-null   object\n",
      " 3   parental level of education  1400 non-null   object\n",
      " 4   lunch                        1400 non-null   object\n",
      " 5   test preparation course      1400 non-null   object\n",
      " 6   math score                   1400 non-null   object\n",
      " 7   reading score                1400 non-null   object\n",
      " 8   writing score                1400 non-null   object\n",
      "dtypes: object(9)\n",
      "memory usage: 98.6+ KB\n"
     ]
    }
   ],
   "source": [
    "df_grades.info()\n",
    "# Las variables terminadas en 'score' son claramente variables numericas, pero aparecen como typo object, asi que hay que transformarlas."
   ]
  },
  {
   "cell_type": "code",
   "execution_count": 6,
   "metadata": {
    "ExecuteTime": {
     "end_time": "2024-09-03T16:47:05.110502Z",
     "start_time": "2024-09-03T16:47:05.069473Z"
    }
   },
   "outputs": [
    {
     "name": "stdout",
     "output_type": "stream",
     "text": [
      "<class 'pandas.core.frame.DataFrame'>\n",
      "RangeIndex: 1400 entries, 0 to 1399\n",
      "Data columns (total 9 columns):\n",
      " #   Column                       Non-Null Count  Dtype  \n",
      "---  ------                       --------------  -----  \n",
      " 0   names                        1400 non-null   object \n",
      " 1   gender                       1400 non-null   object \n",
      " 2   race/ethnicity               1400 non-null   object \n",
      " 3   parental level of education  1400 non-null   object \n",
      " 4   lunch                        1400 non-null   object \n",
      " 5   test preparation course      1400 non-null   object \n",
      " 6   math score                   1360 non-null   float64\n",
      " 7   reading score                1360 non-null   float64\n",
      " 8   writing score                1353 non-null   float64\n",
      "dtypes: float64(3), object(6)\n",
      "memory usage: 98.6+ KB\n"
     ]
    }
   ],
   "source": [
    "df_grades[['math score', 'reading score', 'writing score']] = df_grades[['math score', 'reading score', 'writing score']].apply(pd.to_numeric)\n",
    "df_grades.info()"
   ]
  },
  {
   "cell_type": "markdown",
   "metadata": {
    "cell_id": "5c790e67aed541058edb176b1eff2632",
    "deepnote_cell_height": 503,
    "deepnote_cell_type": "markdown",
    "id": "sgVJGeVMMshn"
   },
   "source": [
    "\n",
    "<p align=\"center\">\n",
    "  <img src=\"https://i.giphy.com/media/4FQMuOKR6zQRO/giphy.webp\">\n",
    "</p>\n",
    "\n",
    "\n",
    "Posteriormente, el rector les comenta que la sección de TI posee una base de datos con más de **1000** filas, en donde cada fila representa un alumno matriculado. Sin embargo, cree fuertemente que existen errores en esta: solo tiene registro de **1000** matriculas. Por este motivo, especula que se han realizado malas prácticas al registrar dichos datos.\n",
    "\n",
    "En consecuencia, el rector les solicita a ustedes como tarea inicial que exploren la base de datos y encuentre posibles falencias dentro de sus registros. Para esto, usted debe estar al tanto que las notas están en una escala que van del **0 al 100** (porcentaje de logro) y **no es posible que un alumno haya dado más de una vez el mismo examen**. Cualquier registro que posea un valor diferente a esta escala, **debería ser eliminado de la base de datos**.\n"
   ]
  },
  {
   "cell_type": "markdown",
   "metadata": {
    "cell_id": "87e47a63ed174ab38f73a1a96bd22fff",
    "deepnote_cell_height": 729,
    "deepnote_cell_type": "markdown",
    "id": "debRWFhzAwXl",
    "tags": []
   },
   "source": [
    "> **Instrucciones**\n",
    "\n",
    "**Cree una función** que tome un `DataFrame` y que le permita revisar si las diferentes variables que lo componen son coherentes y si es posible observar anomalías en estas.\n",
    "\n",
    "**To-Do**\n",
    "1. [X] Imprimir un mensaje con las dimensiones del Dataframe.\n",
    "2. [X] Imprimir un mensaje con los nombres de las columnas que conforman el DataFrame.\n",
    "3. [X] Mostrar los primeros 5, los últimos 5 elementos del DataFrame y realice un muestreo de 5 elementos de forma aleatoria.\n",
    "4. [X] Mostrar una descripción rápida de las variables numéricas del DataFrame (utilice un método visto en clases).\n",
    "5. [X] Imprimir un mensaje con la cantidad de valores nulos (investigue el método `isna()` y `sum()` de los DataFrames).\n",
    "6. [X] Imprimir un mensaje que detalle la cantidad de valores unicos (investigue `nunique()`) .\n",
    "7. [X] Imprimir un mensaje con el total de filas que contengan nombres duplicados (investigue `duplicated()` y su parámetro `subset`).\n",
    "8. [X] Mostrar las filas que contengan nombres sean duplicados (investigue `duplicated()` y su parámetro `subset`).\n",
    "\n",
    "Finalmente, responda las siguientes preguntas (comente esto en la celda ubicada debajo de **justificación**.):\n",
    "\n",
    "9. [X] ¿Qué anomalías es posible observar de los datos que componen el DataFrame? ¿Existen valores nulos o duplicados?\n",
    "\n",
    "\n",
    "10. [X] Su compañero ChatGPT le provee un código para que pueda entender los resultados de las pruebas desde un gráfico. ¿Qué puede interpretar de la distribución de las notas en el boxplot?\n",
    "\n",
    "> **Nota:** Para imprmir utilice `print(...)`. Para mostrar `DataFrames`, utilice `display(...)` ya que este permite mostrar estos elementos como tablas.\n",
    "\n",
    "> **Nota 2:** Utilice la documentación de [pandas](https://pandas.pydata.org/docs/index.html) como también StackOverflow para resolver cualquier problema o inconveniente.\n",
    "\n",
    "> **Nota 3:** Si no ha trabajado con boxplot antes, el siguiente link puede serle de mucha ayuda: [boxplot](https://medium.com/dayem-siddiqui/understanding-and-interpreting-box-plots-d07aab9d1b6c)"
   ]
  },
  {
   "cell_type": "markdown",
   "metadata": {
    "cell_id": "799b57588fce41e7adfb919e1683471d",
    "deepnote_cell_height": 52.390625,
    "deepnote_cell_type": "markdown",
    "id": "XJqJ_8SLAwXl",
    "tags": []
   },
   "source": [
    "**Respuesta:**"
   ]
  },
  {
   "cell_type": "code",
   "execution_count": 7,
   "metadata": {
    "ExecuteTime": {
     "end_time": "2024-09-03T04:23:43.782584Z",
     "start_time": "2024-09-03T04:23:43.738200Z"
    }
   },
   "outputs": [
    {
     "data": {
      "text/html": [
       "<div>\n",
       "<style scoped>\n",
       "    .dataframe tbody tr th:only-of-type {\n",
       "        vertical-align: middle;\n",
       "    }\n",
       "\n",
       "    .dataframe tbody tr th {\n",
       "        vertical-align: top;\n",
       "    }\n",
       "\n",
       "    .dataframe thead th {\n",
       "        text-align: right;\n",
       "    }\n",
       "</style>\n",
       "<table border=\"1\" class=\"dataframe\">\n",
       "  <thead>\n",
       "    <tr style=\"text-align: right;\">\n",
       "      <th></th>\n",
       "      <th>names</th>\n",
       "      <th>gender</th>\n",
       "      <th>race/ethnicity</th>\n",
       "      <th>parental level of education</th>\n",
       "      <th>lunch</th>\n",
       "      <th>test preparation course</th>\n",
       "      <th>math score</th>\n",
       "      <th>reading score</th>\n",
       "      <th>writing score</th>\n",
       "    </tr>\n",
       "  </thead>\n",
       "  <tbody>\n",
       "    <tr>\n",
       "      <th>12</th>\n",
       "      <td>Rita Courtney</td>\n",
       "      <td>female</td>\n",
       "      <td>group B</td>\n",
       "      <td>some high school</td>\n",
       "      <td>standard</td>\n",
       "      <td>none</td>\n",
       "      <td>193.0</td>\n",
       "      <td>193.0</td>\n",
       "      <td>193.0</td>\n",
       "    </tr>\n",
       "    <tr>\n",
       "      <th>81</th>\n",
       "      <td>Elizabeth Quintero</td>\n",
       "      <td>female</td>\n",
       "      <td>group B</td>\n",
       "      <td>some college</td>\n",
       "      <td>standard</td>\n",
       "      <td>none</td>\n",
       "      <td>82.0</td>\n",
       "      <td>85.0</td>\n",
       "      <td>87.0</td>\n",
       "    </tr>\n",
       "    <tr>\n",
       "      <th>160</th>\n",
       "      <td>Michelle Gonzales</td>\n",
       "      <td>female</td>\n",
       "      <td>group B</td>\n",
       "      <td>some high school</td>\n",
       "      <td>standard</td>\n",
       "      <td>completed</td>\n",
       "      <td>60.0</td>\n",
       "      <td>70.0</td>\n",
       "      <td>74.0</td>\n",
       "    </tr>\n",
       "    <tr>\n",
       "      <th>170</th>\n",
       "      <td>Carla Mendoza</td>\n",
       "      <td>female</td>\n",
       "      <td>group D</td>\n",
       "      <td>associate's degree</td>\n",
       "      <td>free/reduced</td>\n",
       "      <td>none</td>\n",
       "      <td>43.0</td>\n",
       "      <td>60.0</td>\n",
       "      <td>58.0</td>\n",
       "    </tr>\n",
       "    <tr>\n",
       "      <th>176</th>\n",
       "      <td>Darlene Parker</td>\n",
       "      <td>female</td>\n",
       "      <td>group C</td>\n",
       "      <td>associate's degree</td>\n",
       "      <td>standard</td>\n",
       "      <td>none</td>\n",
       "      <td>54.0</td>\n",
       "      <td>61.0</td>\n",
       "      <td>58.0</td>\n",
       "    </tr>\n",
       "    <tr>\n",
       "      <th>...</th>\n",
       "      <td>...</td>\n",
       "      <td>...</td>\n",
       "      <td>...</td>\n",
       "      <td>...</td>\n",
       "      <td>...</td>\n",
       "      <td>...</td>\n",
       "      <td>...</td>\n",
       "      <td>...</td>\n",
       "      <td>...</td>\n",
       "    </tr>\n",
       "    <tr>\n",
       "      <th>1385</th>\n",
       "      <td>James Crawford</td>\n",
       "      <td>male</td>\n",
       "      <td>group D</td>\n",
       "      <td>master's degree</td>\n",
       "      <td>standard</td>\n",
       "      <td>none</td>\n",
       "      <td>193.0</td>\n",
       "      <td>147.0</td>\n",
       "      <td>131.0</td>\n",
       "    </tr>\n",
       "    <tr>\n",
       "      <th>1390</th>\n",
       "      <td>Gloria Bradford</td>\n",
       "      <td>female</td>\n",
       "      <td>group B</td>\n",
       "      <td>high school</td>\n",
       "      <td>standard</td>\n",
       "      <td>none</td>\n",
       "      <td>124.0</td>\n",
       "      <td>64.0</td>\n",
       "      <td>193.0</td>\n",
       "    </tr>\n",
       "    <tr>\n",
       "      <th>1393</th>\n",
       "      <td>Adam Romero</td>\n",
       "      <td>male</td>\n",
       "      <td>group C</td>\n",
       "      <td>high school</td>\n",
       "      <td>standard</td>\n",
       "      <td>completed</td>\n",
       "      <td>124.0</td>\n",
       "      <td>193.0</td>\n",
       "      <td>49.0</td>\n",
       "    </tr>\n",
       "    <tr>\n",
       "      <th>1395</th>\n",
       "      <td>Alexander Dillon</td>\n",
       "      <td>male</td>\n",
       "      <td>group D</td>\n",
       "      <td>associate's degree</td>\n",
       "      <td>standard</td>\n",
       "      <td>none</td>\n",
       "      <td>193.0</td>\n",
       "      <td>142.0</td>\n",
       "      <td>193.0</td>\n",
       "    </tr>\n",
       "    <tr>\n",
       "      <th>1398</th>\n",
       "      <td>Joseph Mccoy</td>\n",
       "      <td>male</td>\n",
       "      <td>group D</td>\n",
       "      <td>some college</td>\n",
       "      <td>free/reduced</td>\n",
       "      <td>none</td>\n",
       "      <td>193.0</td>\n",
       "      <td>196.0</td>\n",
       "      <td>193.0</td>\n",
       "    </tr>\n",
       "  </tbody>\n",
       "</table>\n",
       "<p>247 rows × 9 columns</p>\n",
       "</div>"
      ],
      "text/plain": [
       "                   names  gender race/ethnicity parental level of education  \\\n",
       "12         Rita Courtney  female        group B            some high school   \n",
       "81    Elizabeth Quintero  female        group B                some college   \n",
       "160    Michelle Gonzales  female        group B            some high school   \n",
       "170        Carla Mendoza  female        group D          associate's degree   \n",
       "176       Darlene Parker  female        group C          associate's degree   \n",
       "...                  ...     ...            ...                         ...   \n",
       "1385      James Crawford    male        group D             master's degree   \n",
       "1390     Gloria Bradford  female        group B                 high school   \n",
       "1393         Adam Romero    male        group C                 high school   \n",
       "1395    Alexander Dillon    male        group D          associate's degree   \n",
       "1398        Joseph Mccoy    male        group D                some college   \n",
       "\n",
       "             lunch test preparation course  math score  reading score  \\\n",
       "12        standard                    none       193.0          193.0   \n",
       "81        standard                    none        82.0           85.0   \n",
       "160       standard               completed        60.0           70.0   \n",
       "170   free/reduced                    none        43.0           60.0   \n",
       "176       standard                    none        54.0           61.0   \n",
       "...            ...                     ...         ...            ...   \n",
       "1385      standard                    none       193.0          147.0   \n",
       "1390      standard                    none       124.0           64.0   \n",
       "1393      standard               completed       124.0          193.0   \n",
       "1395      standard                    none       193.0          142.0   \n",
       "1398  free/reduced                    none       193.0          196.0   \n",
       "\n",
       "      writing score  \n",
       "12            193.0  \n",
       "81             87.0  \n",
       "160            74.0  \n",
       "170            58.0  \n",
       "176            58.0  \n",
       "...             ...  \n",
       "1385          131.0  \n",
       "1390          193.0  \n",
       "1393           49.0  \n",
       "1395          193.0  \n",
       "1398          193.0  \n",
       "\n",
       "[247 rows x 9 columns]"
      ]
     },
     "execution_count": 7,
     "metadata": {},
     "output_type": "execute_result"
    }
   ],
   "source": [
    "df_grades[df_grades.duplicated(subset=\"names\")]"
   ]
  },
  {
   "cell_type": "code",
   "execution_count": 9,
   "metadata": {
    "ExecuteTime": {
     "end_time": "2024-09-03T14:40:49.899852Z",
     "start_time": "2024-09-03T14:40:49.876442Z"
    }
   },
   "outputs": [],
   "source": [
    "def exploratory_data_analysis(dataframe):\n",
    "    df= dataframe\n",
    "    #1\n",
    "    print(\"1.- El dataframe tiene\", df.shape[0], \"filas y\", df.shape[1], \"columnas\")\n",
    "    print(\" \")\n",
    "    #2\n",
    "    print(\"2.- El dataframe tiene esta compuesto por las siguientes columnas\", df.columns.tolist())\n",
    "    print(\" \")\n",
    "    #3\n",
    "    print(\"3.- Ejemplos de filas del dataframe\")\n",
    "    print(\" \")\n",
    "    \n",
    "    print(\"Primeras 5 filas:\")\n",
    "    display(df.head(5))\n",
    "    \n",
    "    print(\"Últimas 5 filas:\")\n",
    "    display(df.tail(5))\n",
    "    \n",
    "    print(\"Muestreo aleatorio de 5 filas:\")\n",
    "    display(df.sample(5))\n",
    "    \n",
    "    print(\" \")\n",
    "    #4\n",
    "    print(\"4.- Descripción numérica del Dataframe:\")\n",
    "    df_numeric_columns=df.select_dtypes(include=['number'])\n",
    "    display(df_numeric_columns.describe())\n",
    "\n",
    "    print(\" \")\n",
    "    #5\n",
    "    print(\"5.- Cantidad de valores nulos por columna:\")\n",
    "    display(df.isna().sum())\n",
    "    \n",
    "    print(\" \")\n",
    "    #6\n",
    "    print(\"6.- Cantidad de valores unicos por columna:\")\n",
    "    display(df.nunique())\n",
    "\n",
    "    print(\" \")\n",
    "    #7\n",
    "    print(\"7.- Presenta un total de\", df.duplicated(subset=\"names\").sum(), \"filas con nombres duplicados.\")\n",
    "    \n",
    "    print(\" \")\n",
    "    #8\n",
    "    print(\"8.- Las filas con nombres duplicados son:\")\n",
    "    display(df.loc[df.duplicated(subset=\"names\")])\n",
    "\n",
    "    print(\" \")"
   ]
  },
  {
   "cell_type": "code",
   "execution_count": 12,
   "metadata": {
    "ExecuteTime": {
     "end_time": "2024-09-03T14:40:55.387170Z",
     "start_time": "2024-09-03T14:40:54.037011Z"
    },
    "colab": {
     "base_uri": "https://localhost:8080/",
     "height": 542
    },
    "executionInfo": {
     "elapsed": 719,
     "status": "ok",
     "timestamp": 1712257930157,
     "user": {
      "displayName": "Catherine Benavides",
      "userId": "17664698816196959676"
     },
     "user_tz": 180
    },
    "id": "6EJtDqYOhZX8",
    "outputId": "dd6fd56e-9f9d-4e09-8e75-602db57f97a4"
   },
   "outputs": [
    {
     "data": {
      "application/vnd.plotly.v1+json": {
       "config": {
        "plotlyServerURL": "https://plot.ly"
       },
       "data": [
        {
         "alignmentgroup": "True",
         "hovertemplate": "subject=math score<br>score=%{y}<extra></extra>",
         "legendgroup": "math score",
         "marker": {
          "color": "#636efa"
         },
         "name": "math score",
         "notched": false,
         "offsetgroup": "math score",
         "orientation": "v",
         "showlegend": true,
         "type": "box",
         "x0": " ",
         "xaxis": "x",
         "y": [
          37,
          124,
          156,
          80,
          131,
          73,
          81,
          94,
          71,
          75,
          124,
          188,
          193,
          34,
          193,
          63,
          94,
          65,
          95,
          52,
          62,
          74,
          142,
          124,
          62,
          73,
          46,
          82,
          124,
          63,
          64,
          80,
          124,
          131,
          null,
          93,
          69,
          46,
          86,
          59,
          84,
          64,
          73,
          83,
          131,
          75,
          69,
          68,
          193,
          57,
          66,
          61,
          40,
          50,
          48,
          36,
          78,
          196,
          57,
          122,
          196,
          69,
          124,
          40,
          92,
          188,
          35,
          63,
          193,
          73,
          63,
          52,
          131,
          73,
          63,
          124,
          71,
          45,
          85,
          80,
          40,
          82,
          188,
          77,
          91,
          null,
          196,
          60,
          63,
          40,
          174,
          57,
          58,
          147,
          188,
          97,
          81,
          68,
          59,
          96,
          87,
          57,
          193,
          193,
          142,
          94,
          97,
          124,
          65,
          82,
          72,
          62,
          44,
          49,
          196,
          82,
          75,
          193,
          59,
          75,
          72,
          68,
          193,
          124,
          66,
          196,
          null,
          67,
          93,
          69,
          142,
          63,
          46,
          66,
          193,
          49,
          62,
          182,
          48,
          null,
          71,
          193,
          147,
          193,
          54,
          80,
          55,
          193,
          90,
          94,
          81,
          34,
          193,
          53,
          124,
          61,
          75,
          74,
          62,
          70,
          60,
          59,
          193,
          62,
          53,
          80,
          69,
          69,
          69,
          49,
          43,
          83,
          65,
          73,
          68,
          64,
          54,
          65,
          193,
          49,
          58,
          66,
          65,
          65,
          193,
          70,
          79,
          50,
          193,
          188,
          64,
          124,
          68,
          32,
          68,
          58,
          19,
          193,
          69,
          72,
          53,
          64,
          61,
          78,
          53,
          45,
          44,
          196,
          83,
          65,
          88,
          88,
          91,
          84,
          51,
          196,
          196,
          null,
          38,
          193,
          47,
          66,
          61,
          60,
          71,
          45,
          77,
          53,
          193,
          193,
          57,
          124,
          193,
          131,
          193,
          72,
          76,
          45,
          193,
          99,
          51,
          64,
          52,
          80,
          51,
          193,
          193,
          196,
          50,
          64,
          74,
          196,
          71,
          57,
          69,
          77,
          193,
          75,
          196,
          43,
          80,
          193,
          null,
          122,
          59,
          85,
          55,
          44,
          42,
          58,
          61,
          50,
          64,
          88,
          73,
          95,
          124,
          174,
          67,
          97,
          61,
          62,
          79,
          54,
          66,
          193,
          174,
          193,
          174,
          78,
          193,
          85,
          84,
          76,
          44,
          122,
          81,
          54,
          58,
          124,
          81,
          35,
          72,
          71,
          61,
          66,
          71,
          71,
          89,
          73,
          81,
          46,
          22,
          124,
          48,
          124,
          44,
          79,
          91,
          76,
          124,
          54,
          77,
          62,
          67,
          131,
          196,
          86,
          58,
          53,
          57,
          182,
          69,
          76,
          78,
          69,
          124,
          62,
          37,
          196,
          88,
          90,
          57,
          193,
          68,
          65,
          63,
          124,
          52,
          48,
          65,
          54,
          50,
          124,
          193,
          122,
          40,
          29,
          26,
          70,
          196,
          75,
          53,
          64,
          60,
          98,
          93,
          59,
          46,
          null,
          76,
          79,
          28,
          55,
          61,
          142,
          196,
          193,
          193,
          35,
          193,
          94,
          193,
          46,
          100,
          67,
          49,
          193,
          50,
          79,
          142,
          71,
          null,
          83,
          55,
          193,
          48,
          76,
          77,
          79,
          193,
          62,
          56,
          124,
          68,
          84,
          124,
          80,
          62,
          124,
          60,
          64,
          29,
          52,
          53,
          131,
          67,
          82,
          56,
          79,
          142,
          73,
          66,
          52,
          52,
          73,
          66,
          84,
          82,
          193,
          74,
          193,
          76,
          81,
          79,
          124,
          68,
          128,
          63,
          142,
          124,
          null,
          50,
          196,
          196,
          72,
          85,
          196,
          83,
          84,
          65,
          null,
          85,
          70,
          58,
          86,
          64,
          65,
          124,
          61,
          193,
          49,
          53,
          97,
          196,
          75,
          72,
          124,
          74,
          59,
          68,
          78,
          53,
          57,
          72,
          99,
          null,
          79,
          91,
          83,
          null,
          72,
          142,
          188,
          null,
          61,
          73,
          59,
          100,
          61,
          77,
          71,
          49,
          62,
          193,
          86,
          75,
          null,
          58,
          47,
          null,
          131,
          193,
          63,
          69,
          null,
          70,
          68,
          61,
          71,
          122,
          124,
          142,
          81,
          100,
          84,
          77,
          53,
          71,
          73,
          193,
          65,
          124,
          193,
          49,
          52,
          65,
          59,
          80,
          193,
          62,
          57,
          46,
          58,
          67,
          73,
          72,
          40,
          78,
          63,
          61,
          79,
          77,
          70,
          53,
          156,
          151,
          76,
          45,
          40,
          193,
          82,
          124,
          193,
          78,
          75,
          70,
          55,
          39,
          188,
          null,
          70,
          30,
          75,
          63,
          82,
          74,
          54,
          124,
          71,
          196,
          142,
          73,
          77,
          77,
          87,
          87,
          74,
          67,
          43,
          49,
          42,
          49,
          null,
          124,
          193,
          53,
          64,
          64,
          196,
          61,
          79,
          null,
          69,
          54,
          65,
          77,
          58,
          49,
          73,
          124,
          54,
          142,
          54,
          64,
          null,
          59,
          76,
          75,
          85,
          131,
          97,
          193,
          188,
          53,
          52,
          142,
          77,
          79,
          57,
          87,
          66,
          193,
          193,
          63,
          65,
          64,
          124,
          68,
          55,
          72,
          86,
          142,
          35,
          97,
          124,
          75,
          52,
          74,
          70,
          39,
          61,
          193,
          44,
          193,
          32,
          193,
          77,
          49,
          87,
          193,
          66,
          68,
          196,
          193,
          65,
          62,
          81,
          196,
          70,
          124,
          null,
          74,
          94,
          142,
          193,
          76,
          59,
          156,
          68,
          124,
          193,
          193,
          73,
          null,
          193,
          124,
          100,
          131,
          8,
          65,
          40,
          48,
          89,
          77,
          193,
          65,
          69,
          68,
          49,
          62,
          50,
          56,
          46,
          124,
          38,
          53,
          142,
          193,
          60,
          91,
          90,
          73,
          70,
          47,
          65,
          81,
          55,
          93,
          142,
          193,
          124,
          142,
          65,
          131,
          62,
          48,
          196,
          68,
          66,
          55,
          42,
          54,
          74,
          37,
          66,
          88,
          69,
          166,
          61,
          193,
          39,
          87,
          142,
          64,
          44,
          131,
          59,
          80,
          33,
          71,
          76,
          53,
          78,
          55,
          70,
          65,
          193,
          86,
          47,
          54,
          41,
          193,
          78,
          83,
          54,
          90,
          59,
          65,
          null,
          67,
          193,
          null,
          89,
          59,
          73,
          74,
          86,
          55,
          61,
          57,
          58,
          42,
          45,
          null,
          63,
          61,
          81,
          92,
          193,
          67,
          94,
          56,
          62,
          70,
          142,
          70,
          76,
          64,
          47,
          66,
          86,
          40,
          66,
          68,
          51,
          45,
          88,
          90,
          52,
          49,
          53,
          171,
          193,
          71,
          50,
          58,
          42,
          67,
          39,
          85,
          62,
          78,
          73,
          68,
          89,
          40,
          82,
          69,
          null,
          77,
          69,
          79,
          53,
          43,
          58,
          76,
          40,
          88,
          69,
          49,
          85,
          69,
          72,
          57,
          58,
          62,
          62,
          142,
          142,
          75,
          88,
          81,
          193,
          null,
          193,
          67,
          142,
          67,
          166,
          74,
          188,
          74,
          95,
          71,
          193,
          85,
          193,
          124,
          131,
          188,
          142,
          196,
          56,
          82,
          124,
          85,
          60,
          63,
          51,
          50,
          81,
          64,
          87,
          46,
          58,
          62,
          76,
          60,
          193,
          50,
          124,
          193,
          142,
          77,
          124,
          64,
          null,
          61,
          60,
          193,
          67,
          64,
          193,
          196,
          90,
          59,
          53,
          48,
          193,
          35,
          60,
          82,
          58,
          60,
          66,
          null,
          85,
          124,
          49,
          77,
          67,
          69,
          131,
          50,
          62,
          83,
          81,
          92,
          70,
          72,
          92,
          51,
          156,
          87,
          71,
          59,
          193,
          124,
          88,
          61,
          193,
          82,
          193,
          71,
          75,
          43,
          142,
          51,
          62,
          75,
          63,
          174,
          71,
          67,
          71,
          61,
          56,
          98,
          82,
          75,
          59,
          193,
          71,
          44,
          77,
          65,
          196,
          57,
          60,
          27,
          58,
          70,
          38,
          42,
          100,
          193,
          89,
          35,
          74,
          77,
          62,
          79,
          124,
          46,
          74,
          196,
          59,
          66,
          124,
          47,
          142,
          77,
          78,
          52,
          null,
          70,
          193,
          58,
          193,
          68,
          69,
          87,
          52,
          72,
          85,
          196,
          41,
          61,
          67,
          54,
          75,
          80,
          63,
          52,
          62,
          58,
          62,
          65,
          74,
          182,
          142,
          142,
          79,
          49,
          68,
          63,
          52,
          59,
          55,
          66,
          38,
          193,
          193,
          74,
          91,
          64,
          142,
          74,
          142,
          81,
          79,
          142,
          90,
          142,
          124,
          null,
          54,
          78,
          46,
          193,
          88,
          62,
          193,
          80,
          124,
          142,
          80,
          71,
          64,
          75,
          60,
          68,
          88,
          55,
          50,
          124,
          97,
          42,
          null,
          188,
          49,
          69,
          40,
          122,
          42,
          196,
          58,
          24,
          48,
          124,
          67,
          59,
          193,
          59,
          96,
          45,
          88,
          72,
          166,
          61,
          81,
          59,
          73,
          193,
          79,
          68,
          193,
          47,
          124,
          64,
          49,
          124,
          54,
          71,
          null,
          59,
          89,
          37,
          59,
          null,
          57,
          47,
          77,
          62,
          77,
          51,
          131,
          69,
          74,
          60,
          76,
          51,
          32,
          124,
          193,
          73,
          49,
          76,
          193,
          64,
          62,
          63,
          156,
          50,
          44,
          66,
          67,
          142,
          142,
          61,
          75,
          147,
          69,
          76,
          65,
          53,
          87,
          53,
          null,
          66,
          196,
          49,
          67,
          55,
          30,
          73,
          62,
          79,
          63,
          52,
          193,
          58,
          124,
          142,
          193,
          78,
          81,
          142,
          193,
          74,
          68,
          82,
          73,
          35,
          142,
          59,
          74,
          62,
          49,
          84,
          67,
          81,
          33,
          142,
          59,
          87,
          77,
          58,
          69,
          null,
          65,
          92,
          87,
          69,
          null,
          73,
          61,
          55,
          67,
          193,
          69,
          74,
          64,
          56,
          36,
          41,
          142,
          124,
          49,
          59,
          34,
          142,
          84,
          76,
          142,
          61,
          193,
          193,
          62,
          87,
          67,
          54,
          59,
          68,
          67,
          91,
          142,
          80,
          96,
          68,
          193,
          156,
          30,
          124,
          null,
          74,
          71,
          35,
          81,
          53,
          49,
          147,
          40,
          80,
          76,
          142,
          76,
          29,
          196,
          63,
          57,
          58,
          null,
          72,
          196,
          55,
          53,
          null,
          80,
          41,
          55,
          51,
          85,
          81,
          52,
          18,
          193,
          73,
          48,
          56,
          142,
          124,
          63,
          58,
          32,
          59,
          193,
          142,
          193,
          63,
          142,
          63,
          80,
          60,
          64,
          98,
          59,
          65,
          193,
          87,
          66,
          52,
          193,
          28,
          174,
          73,
          87,
          79,
          60,
          81,
          74,
          196,
          69,
          47,
          47,
          79,
          82,
          92,
          57,
          41,
          49,
          88,
          79,
          59,
          71,
          193,
          81,
          65,
          82,
          65,
          40,
          73,
          156,
          56,
          69,
          193,
          67,
          91,
          67,
          188,
          124,
          87,
          124,
          65,
          124,
          58,
          55,
          48,
          88,
          53,
          85,
          193,
          62,
          65,
          82,
          62,
          63,
          84,
          193,
          131,
          77,
          50,
          69,
          0,
          188,
          193,
          65,
          79,
          69,
          193,
          72,
          100,
          65,
          47,
          99,
          51,
          71,
          124,
          82,
          91,
          55,
          75,
          66,
          95,
          72,
          70,
          57,
          84,
          193,
          61,
          45,
          65,
          27,
          88,
          65,
          63,
          78,
          193,
          65,
          90,
          100,
          67,
          74,
          76,
          193,
          66,
          59,
          62,
          41,
          124,
          29,
          69,
          124,
          23,
          193,
          66,
          54,
          193,
          68
         ],
         "y0": " ",
         "yaxis": "y"
        },
        {
         "alignmentgroup": "True",
         "hovertemplate": "subject=reading score<br>score=%{y}<extra></extra>",
         "legendgroup": "reading score",
         "marker": {
          "color": "#EF553B"
         },
         "name": "reading score",
         "notched": false,
         "offsetgroup": "reading score",
         "orientation": "v",
         "showlegend": true,
         "type": "box",
         "x0": " ",
         "xaxis": "x",
         "y": [
          46,
          142,
          196,
          78,
          166,
          66,
          75,
          86,
          61,
          68,
          196,
          131,
          193,
          48,
          171,
          61,
          73,
          78,
          142,
          76,
          65,
          74,
          null,
          142,
          57,
          69,
          42,
          82,
          193,
          61,
          73,
          75,
          null,
          97,
          null,
          100,
          76,
          61,
          81,
          72,
          83,
          64,
          76,
          86,
          124,
          88,
          74,
          72,
          142,
          61,
          64,
          61,
          59,
          67,
          62,
          29,
          79,
          142,
          67,
          124,
          null,
          58,
          142,
          55,
          87,
          193,
          28,
          67,
          128,
          74,
          64,
          59,
          142,
          79,
          73,
          196,
          60,
          59,
          92,
          76,
          196,
          85,
          193,
          94,
          85,
          193,
          142,
          62,
          48,
          48,
          193,
          54,
          54,
          193,
          188,
          82,
          82,
          65,
          71,
          90,
          84,
          75,
          193,
          142,
          193,
          88,
          93,
          142,
          81,
          93,
          57,
          74,
          54,
          193,
          null,
          84,
          90,
          193,
          41,
          73,
          68,
          78,
          193,
          null,
          74,
          124,
          193,
          62,
          90,
          63,
          124,
          74,
          64,
          68,
          124,
          null,
          73,
          142,
          56,
          193,
          70,
          124,
          124,
          142,
          72,
          83,
          59,
          null,
          87,
          99,
          73,
          42,
          null,
          43,
          64,
          68,
          85,
          81,
          72,
          78,
          70,
          51,
          188,
          72,
          50,
          85,
          66,
          78,
          77,
          45,
          60,
          93,
          61,
          64,
          83,
          66,
          61,
          77,
          171,
          57,
          67,
          78,
          70,
          79,
          142,
          68,
          81,
          67,
          193,
          142,
          54,
          124,
          60,
          51,
          51,
          57,
          38,
          193,
          77,
          79,
          58,
          188,
          51,
          72,
          62,
          56,
          51,
          193,
          83,
          76,
          78,
          95,
          89,
          87,
          66,
          196,
          193,
          193,
          49,
          193,
          53,
          57,
          73,
          68,
          71,
          63,
          86,
          58,
          142,
          124,
          51,
          151,
          193,
          171,
          193,
          64,
          71,
          48,
          193,
          93,
          72,
          60,
          61,
          73,
          54,
          128,
          142,
          124,
          48,
          73,
          74,
          95,
          77,
          74,
          70,
          90,
          196,
          74,
          124,
          51,
          68,
          null,
          142,
          166,
          72,
          81,
          76,
          63,
          62,
          59,
          47,
          66,
          64,
          74,
          78,
          193,
          196,
          142,
          86,
          100,
          58,
          64,
          81,
          63,
          71,
          142,
          124,
          null,
          124,
          91,
          196,
          75,
          84,
          94,
          61,
          193,
          84,
          49,
          63,
          193,
          82,
          174,
          81,
          49,
          42,
          77,
          76,
          66,
          88,
          83,
          81,
          34,
          39,
          124,
          52,
          147,
          64,
          82,
          81,
          80,
          193,
          59,
          78,
          72,
          64,
          188,
          196,
          81,
          70,
          52,
          58,
          124,
          73,
          70,
          87,
          64,
          142,
          66,
          57,
          193,
          89,
          75,
          56,
          124,
          70,
          75,
          69,
          193,
          57,
          43,
          54,
          54,
          53,
          193,
          142,
          193,
          59,
          41,
          31,
          75,
          124,
          74,
          39,
          124,
          57,
          87,
          84,
          54,
          54,
          193,
          64,
          88,
          23,
          71,
          57,
          142,
          124,
          64,
          124,
          53,
          124,
          85,
          124,
          58,
          100,
          80,
          196,
          124,
          47,
          84,
          124,
          81,
          124,
          82,
          64,
          null,
          58,
          73,
          77,
          79,
          null,
          78,
          68,
          193,
          86,
          77,
          49,
          75,
          70,
          174,
          66,
          62,
          40,
          65,
          61,
          124,
          61,
          95,
          79,
          76,
          196,
          68,
          74,
          66,
          67,
          86,
          65,
          73,
          75,
          124,
          77,
          null,
          71,
          72,
          89,
          124,
          71,
          193,
          78,
          193,
          null,
          193,
          56,
          null,
          193,
          65,
          92,
          142,
          78,
          95,
          77,
          null,
          86,
          70,
          63,
          80,
          82,
          81,
          193,
          55,
          null,
          51,
          51,
          97,
          null,
          72,
          73,
          196,
          79,
          67,
          68,
          77,
          58,
          78,
          57,
          100,
          193,
          89,
          73,
          72,
          193,
          79,
          156,
          196,
          142,
          62,
          74,
          54,
          96,
          66,
          79,
          67,
          53,
          61,
          156,
          92,
          81,
          null,
          62,
          59,
          142,
          null,
          64,
          75,
          67,
          193,
          75,
          63,
          56,
          66,
          95,
          156,
          156,
          97,
          100,
          77,
          90,
          44,
          83,
          68,
          null,
          82,
          193,
          171,
          49,
          59,
          75,
          60,
          64,
          142,
          49,
          43,
          43,
          73,
          54,
          66,
          72,
          43,
          83,
          65,
          72,
          74,
          82,
          84,
          54,
          196,
          42,
          62,
          53,
          58,
          null,
          85,
          64,
          196,
          72,
          66,
          64,
          55,
          42,
          142,
          49,
          89,
          26,
          84,
          64,
          82,
          81,
          59,
          147,
          84,
          156,
          124,
          84,
          88,
          88,
          84,
          74,
          73,
          64,
          62,
          52,
          193,
          65,
          142,
          124,
          193,
          54,
          53,
          131,
          193,
          86,
          92,
          156,
          71,
          52,
          86,
          91,
          61,
          63,
          76,
          193,
          64,
          188,
          53,
          58,
          196,
          72,
          74,
          69,
          84,
          193,
          92,
          142,
          193,
          70,
          55,
          142,
          76,
          72,
          77,
          85,
          69,
          193,
          124,
          73,
          85,
          124,
          193,
          67,
          58,
          66,
          76,
          193,
          55,
          87,
          124,
          68,
          49,
          70,
          82,
          52,
          74,
          196,
          50,
          156,
          151,
          193,
          90,
          193,
          84,
          193,
          65,
          77,
          182,
          182,
          67,
          67,
          66,
          142,
          63,
          193,
          182,
          75,
          90,
          193,
          196,
          78,
          70,
          188,
          68,
          193,
          131,
          193,
          66,
          142,
          196,
          142,
          100,
          131,
          24,
          64,
          65,
          66,
          84,
          82,
          64,
          73,
          77,
          72,
          51,
          69,
          50,
          68,
          56,
          null,
          142,
          55,
          147,
          182,
          51,
          95,
          90,
          56,
          72,
          49,
          65,
          77,
          46,
          100,
          196,
          188,
          193,
          193,
          70,
          124,
          61,
          45,
          193,
          59,
          69,
          46,
          55,
          65,
          77,
          56,
          63,
          78,
          77,
          196,
          71,
          64,
          64,
          100,
          124,
          63,
          41,
          193,
          78,
          79,
          142,
          87,
          87,
          58,
          81,
          73,
          70,
          69,
          131,
          73,
          49,
          52,
          51,
          193,
          81,
          80,
          64,
          90,
          58,
          81,
          142,
          79,
          64,
          124,
          84,
          63,
          71,
          90,
          83,
          56,
          58,
          78,
          52,
          193,
          37,
          193,
          63,
          70,
          91,
          100,
          142,
          73,
          87,
          52,
          66,
          65,
          122,
          74,
          83,
          74,
          54,
          74,
          85,
          52,
          74,
          74,
          31,
          73,
          84,
          95,
          57,
          53,
          52,
          142,
          156,
          74,
          48,
          55,
          52,
          57,
          39,
          90,
          61,
          74,
          78,
          70,
          100,
          42,
          67,
          80,
          142,
          85,
          84,
          86,
          62,
          45,
          55,
          85,
          42,
          77,
          70,
          50,
          91,
          60,
          80,
          50,
          61,
          67,
          63,
          142,
          142,
          77,
          99,
          91,
          124,
          142,
          142,
          78,
          193,
          69,
          147,
          71,
          193,
          79,
          81,
          74,
          193,
          84,
          193,
          124,
          166,
          193,
          142,
          null,
          54,
          62,
          null,
          84,
          64,
          72,
          52,
          64,
          75,
          193,
          85,
          43,
          68,
          55,
          72,
          68,
          null,
          42,
          124,
          196,
          64,
          89,
          188,
          50,
          null,
          68,
          59,
          142,
          57,
          73,
          193,
          193,
          85,
          73,
          45,
          56,
          193,
          28,
          70,
          90,
          67,
          75,
          59,
          193,
          95,
          193,
          52,
          69,
          76,
          79,
          131,
          60,
          56,
          85,
          71,
          100,
          56,
          79,
          100,
          63,
          156,
          73,
          70,
          52,
          193,
          142,
          99,
          64,
          193,
          93,
          193,
          69,
          82,
          53,
          193,
          49,
          55,
          81,
          55,
          196,
          83,
          72,
          83,
          56,
          61,
          86,
          84,
          88,
          62,
          64,
          75,
          45,
          68,
          76,
          142,
          48,
          60,
          34,
          50,
          64,
          43,
          66,
          92,
          142,
          76,
          44,
          72,
          62,
          64,
          82,
          156,
          41,
          64,
          124,
          70,
          77,
          193,
          37,
          142,
          68,
          77,
          48,
          null,
          71,
          156,
          57,
          142,
          54,
          72,
          94,
          53,
          80,
          89,
          133,
          39,
          71,
          89,
          48,
          81,
          90,
          63,
          58,
          55,
          60,
          67,
          77,
          88,
          193,
          193,
          151,
          73,
          196,
          68,
          80,
          70,
          42,
          47,
          60,
          60,
          196,
          42,
          76,
          86,
          64,
          193,
          63,
          196,
          74,
          82,
          null,
          78,
          193,
          193,
          142,
          58,
          82,
          43,
          196,
          92,
          67,
          196,
          86,
          124,
          193,
          63,
          79,
          85,
          86,
          72,
          60,
          75,
          61,
          60,
          null,
          166,
          61,
          193,
          124,
          193,
          75,
          196,
          142,
          39,
          null,
          75,
          38,
          51,
          193,
          84,
          62,
          142,
          62,
          96,
          47,
          85,
          67,
          171,
          67,
          80,
          53,
          76,
          null,
          85,
          75,
          142,
          62,
          196,
          79,
          58,
          193,
          60,
          71,
          174,
          58,
          87,
          45,
          85,
          193,
          58,
          43,
          67,
          68,
          67,
          58,
          147,
          77,
          71,
          63,
          78,
          60,
          34,
          193,
          188,
          78,
          57,
          62,
          142,
          76,
          64,
          78,
          156,
          53,
          51,
          62,
          84,
          193,
          156,
          60,
          58,
          128,
          84,
          76,
          73,
          72,
          90,
          66,
          142,
          83,
          193,
          65,
          74,
          72,
          24,
          92,
          62,
          60,
          57,
          65,
          193,
          76,
          193,
          142,
          49,
          90,
          86,
          193,
          193,
          89,
          76,
          97,
          70,
          124,
          122,
          66,
          86,
          68,
          193,
          83,
          86,
          88,
          41,
          147,
          65,
          95,
          97,
          51,
          66,
          null,
          66,
          100,
          74,
          54,
          193,
          67,
          60,
          59,
          81,
          193,
          90,
          81,
          60,
          65,
          53,
          52,
          193,
          193,
          58,
          69,
          42,
          196,
          87,
          83,
          171,
          72,
          142,
          null,
          67,
          89,
          75,
          64,
          63,
          67,
          84,
          74,
          188,
          80,
          100,
          64,
          124,
          142,
          26,
          193,
          193,
          75,
          76,
          61,
          78,
          37,
          193,
          193,
          182,
          76,
          71,
          188,
          70,
          142,
          196,
          71,
          68,
          70,
          null,
          66,
          null,
          65,
          71,
          193,
          92,
          55,
          69,
          56,
          76,
          92,
          59,
          32,
          193,
          79,
          54,
          58,
          196,
          null,
          67,
          49,
          39,
          73,
          156,
          156,
          193,
          60,
          null,
          73,
          90,
          44,
          56,
          100,
          71,
          69,
          49,
          91,
          76,
          55,
          124,
          182,
          193,
          75,
          84,
          67,
          72,
          78,
          79,
          142,
          60,
          58,
          46,
          77,
          80,
          79,
          69,
          45,
          58,
          95,
          78,
          70,
          62,
          174,
          81,
          81,
          78,
          69,
          46,
          80,
          188,
          72,
          58,
          122,
          72,
          96,
          75,
          193,
          49,
          100,
          193,
          74,
          142,
          59,
          41,
          58,
          93,
          61,
          66,
          142,
          67,
          84,
          82,
          70,
          61,
          80,
          174,
          142,
          62,
          64,
          65,
          17,
          193,
          196,
          67,
          86,
          86,
          193,
          67,
          100,
          58,
          57,
          87,
          51,
          74,
          null,
          82,
          96,
          65,
          82,
          66,
          89,
          72,
          55,
          56,
          89,
          196,
          48,
          52,
          59,
          34,
          73,
          82,
          66,
          81,
          124,
          72,
          87,
          97,
          74,
          75,
          67,
          147,
          72,
          64,
          76,
          46,
          64,
          29,
          75,
          193,
          44,
          142,
          74,
          61,
          196,
          80
         ],
         "y0": " ",
         "yaxis": "y"
        },
        {
         "alignmentgroup": "True",
         "hovertemplate": "subject=writing score<br>score=%{y}<extra></extra>",
         "legendgroup": "writing score",
         "marker": {
          "color": "#00cc96"
         },
         "name": "writing score",
         "notched": false,
         "offsetgroup": "writing score",
         "orientation": "v",
         "showlegend": true,
         "type": "box",
         "x0": " ",
         "xaxis": "x",
         "y": [
          46,
          142,
          193,
          81,
          166,
          63,
          76,
          87,
          69,
          64,
          193,
          193,
          193,
          41,
          131,
          61,
          71,
          82,
          147,
          70,
          58,
          72,
          193,
          124,
          62,
          68,
          46,
          74,
          193,
          60,
          68,
          77,
          null,
          124,
          142,
          100,
          74,
          55,
          80,
          70,
          75,
          67,
          78,
          88,
          124,
          85,
          74,
          65,
          124,
          54,
          62,
          62,
          54,
          63,
          60,
          27,
          76,
          142,
          72,
          193,
          193,
          57,
          124,
          53,
          78,
          142,
          27,
          70,
          188,
          61,
          67,
          65,
          193,
          79,
          71,
          196,
          61,
          64,
          85,
          65,
          196,
          87,
          193,
          95,
          85,
          122,
          196,
          60,
          47,
          50,
          182,
          56,
          52,
          124,
          142,
          88,
          82,
          61,
          65,
          92,
          86,
          73,
          196,
          124,
          193,
          78,
          91,
          124,
          81,
          93,
          58,
          70,
          53,
          142,
          null,
          78,
          88,
          193,
          42,
          74,
          67,
          77,
          null,
          193,
          78,
          142,
          null,
          60,
          83,
          61,
          196,
          74,
          66,
          64,
          193,
          142,
          70,
          193,
          51,
          142,
          70,
          193,
          196,
          124,
          59,
          83,
          54,
          null,
          85,
          100,
          72,
          151,
          124,
          43,
          193,
          63,
          82,
          71,
          65,
          78,
          74,
          43,
          188,
          74,
          60,
          85,
          61,
          76,
          77,
          45,
          58,
          95,
          71,
          57,
          78,
          59,
          58,
          74,
          193,
          46,
          62,
          78,
          74,
          81,
          193,
          72,
          82,
          73,
          128,
          124,
          50,
          124,
          59,
          44,
          57,
          54,
          32,
          142,
          73,
          74,
          57,
          193,
          52,
          69,
          53,
          54,
          48,
          124,
          90,
          75,
          83,
          94,
          92,
          91,
          62,
          64,
          124,
          193,
          45,
          193,
          58,
          52,
          63,
          60,
          74,
          59,
          86,
          55,
          131,
          142,
          54,
          193,
          193,
          196,
          193,
          63,
          73,
          46,
          156,
          90,
          79,
          58,
          66,
          72,
          41,
          122,
          142,
          193,
          42,
          70,
          72,
          131,
          77,
          76,
          67,
          85,
          null,
          66,
          142,
          54,
          72,
          193,
          196,
          166,
          68,
          85,
          76,
          62,
          60,
          58,
          56,
          64,
          null,
          75,
          72,
          193,
          196,
          196,
          83,
          100,
          56,
          66,
          71,
          67,
          76,
          142,
          193,
          null,
          124,
          96,
          188,
          68,
          80,
          87,
          52,
          142,
          82,
          47,
          65,
          124,
          84,
          142,
          79,
          52,
          41,
          73,
          83,
          65,
          82,
          76,
          79,
          36,
          33,
          null,
          45,
          193,
          58,
          80,
          79,
          73,
          142,
          62,
          73,
          70,
          61,
          196,
          196,
          75,
          68,
          49,
          64,
          124,
          73,
          68,
          91,
          68,
          142,
          68,
          56,
          193,
          86,
          69,
          57,
          142,
          66,
          70,
          74,
          128,
          56,
          45,
          57,
          45,
          58,
          193,
          156,
          193,
          51,
          47,
          38,
          78,
          193,
          69,
          37,
          124,
          51,
          90,
          90,
          51,
          58,
          142,
          66,
          94,
          19,
          69,
          56,
          193,
          null,
          193,
          174,
          46,
          196,
          82,
          124,
          57,
          100,
          81,
          193,
          131,
          54,
          91,
          193,
          80,
          142,
          84,
          70,
          156,
          52,
          68,
          73,
          78,
          142,
          79,
          70,
          193,
          84,
          74,
          193,
          69,
          75,
          193,
          70,
          68,
          44,
          69,
          68,
          193,
          68,
          89,
          72,
          65,
          196,
          66,
          69,
          73,
          72,
          82,
          69,
          69,
          77,
          142,
          73,
          124,
          72,
          77,
          86,
          142,
          75,
          null,
          80,
          142,
          156,
          124,
          54,
          193,
          193,
          68,
          93,
          193,
          73,
          92,
          74,
          142,
          98,
          70,
          73,
          75,
          77,
          81,
          124,
          52,
          193,
          51,
          51,
          96,
          null,
          62,
          74,
          196,
          75,
          61,
          67,
          77,
          44,
          67,
          62,
          100,
          142,
          89,
          80,
          78,
          64,
          77,
          124,
          196,
          142,
          61,
          72,
          67,
          86,
          61,
          80,
          67,
          53,
          55,
          null,
          87,
          71,
          null,
          59,
          50,
          142,
          124,
          null,
          81,
          69,
          147,
          74,
          54,
          55,
          60,
          193,
          196,
          null,
          96,
          93,
          71,
          91,
          42,
          83,
          66,
          193,
          81,
          124,
          147,
          41,
          56,
          77,
          58,
          66,
          124,
          52,
          47,
          41,
          68,
          63,
          62,
          71,
          39,
          80,
          61,
          70,
          72,
          89,
          81,
          48,
          193,
          38,
          60,
          55,
          54,
          null,
          86,
          124,
          196,
          70,
          73,
          72,
          47,
          38,
          131,
          49,
          88,
          22,
          80,
          66,
          80,
          83,
          50,
          131,
          87,
          null,
          null,
          85,
          87,
          85,
          87,
          70,
          67,
          70,
          61,
          51,
          142,
          61,
          193,
          null,
          193,
          48,
          57,
          193,
          147,
          87,
          89,
          null,
          65,
          52,
          80,
          88,
          52,
          56,
          80,
          193,
          68,
          156,
          47,
          51,
          193,
          80,
          73,
          68,
          89,
          193,
          86,
          142,
          142,
          70,
          57,
          193,
          77,
          69,
          80,
          73,
          63,
          124,
          124,
          78,
          76,
          196,
          193,
          73,
          52,
          66,
          74,
          142,
          60,
          82,
          193,
          65,
          46,
          69,
          76,
          46,
          72,
          38,
          51,
          null,
          33,
          142,
          84,
          193,
          85,
          193,
          60,
          80,
          null,
          42,
          65,
          58,
          64,
          null,
          58,
          131,
          142,
          83,
          91,
          193,
          97,
          80,
          66,
          193,
          64,
          null,
          193,
          193,
          66,
          156,
          124,
          193,
          100,
          193,
          23,
          62,
          64,
          65,
          82,
          91,
          null,
          75,
          69,
          64,
          43,
          69,
          47,
          74,
          57,
          124,
          193,
          48,
          147,
          193,
          56,
          94,
          91,
          57,
          76,
          50,
          63,
          79,
          44,
          95,
          193,
          193,
          193,
          193,
          71,
          131,
          57,
          41,
          193,
          62,
          68,
          43,
          54,
          65,
          76,
          47,
          64,
          75,
          78,
          196,
          73,
          193,
          57,
          95,
          131,
          66,
          38,
          124,
          76,
          79,
          182,
          82,
          85,
          65,
          86,
          73,
          65,
          76,
          124,
          70,
          49,
          51,
          48,
          null,
          80,
          73,
          65,
          82,
          59,
          73,
          193,
          84,
          142,
          null,
          77,
          75,
          68,
          88,
          86,
          51,
          62,
          79,
          54,
          193,
          37,
          42,
          62,
          76,
          89,
          97,
          124,
          68,
          92,
          55,
          68,
          60,
          171,
          71,
          88,
          75,
          53,
          73,
          91,
          43,
          81,
          74,
          36,
          70,
          75,
          93,
          50,
          52,
          42,
          124,
          156,
          64,
          53,
          53,
          51,
          53,
          34,
          92,
          58,
          72,
          76,
          66,
          100,
          38,
          61,
          71,
          193,
          87,
          85,
          92,
          56,
          50,
          48,
          82,
          38,
          77,
          63,
          52,
          89,
          54,
          83,
          54,
          66,
          69,
          56,
          188,
          193,
          83,
          100,
          87,
          156,
          196,
          188,
          79,
          124,
          75,
          171,
          78,
          193,
          82,
          84,
          68,
          196,
          78,
          142,
          193,
          166,
          156,
          142,
          156,
          52,
          62,
          142,
          82,
          74,
          70,
          44,
          66,
          78,
          193,
          93,
          44,
          61,
          55,
          71,
          72,
          null,
          48,
          174,
          193,
          193,
          98,
          142,
          43,
          193,
          66,
          54,
          null,
          59,
          71,
          124,
          196,
          84,
          72,
          40,
          58,
          193,
          27,
          70,
          94,
          72,
          74,
          52,
          null,
          100,
          42,
          54,
          68,
          75,
          81,
          193,
          59,
          53,
          90,
          73,
          100,
          51,
          82,
          100,
          61,
          124,
          72,
          76,
          46,
          null,
          193,
          95,
          62,
          193,
          93,
          196,
          68,
          79,
          53,
          null,
          51,
          49,
          84,
          63,
          196,
          78,
          74,
          77,
          56,
          60,
          90,
          82,
          85,
          64,
          174,
          70,
          45,
          69,
          76,
          193,
          51,
          60,
          36,
          45,
          70,
          43,
          69,
          97,
          193,
          74,
          43,
          72,
          62,
          64,
          82,
          64,
          43,
          60,
          193,
          65,
          70,
          193,
          35,
          193,
          77,
          80,
          49,
          124,
          74,
          124,
          53,
          null,
          53,
          77,
          95,
          49,
          75,
          95,
          36,
          34,
          78,
          82,
          52,
          74,
          89,
          60,
          58,
          54,
          57,
          67,
          74,
          90,
          193,
          124,
          34,
          67,
          196,
          61,
          80,
          62,
          41,
          44,
          57,
          50,
          193,
          142,
          73,
          84,
          70,
          null,
          57,
          196,
          71,
          73,
          null,
          81,
          193,
          124,
          196,
          61,
          79,
          42,
          142,
          95,
          62,
          193,
          83,
          193,
          188,
          63,
          71,
          85,
          79,
          74,
          53,
          76,
          54,
          60,
          null,
          196,
          58,
          142,
          142,
          196,
          78,
          124,
          128,
          34,
          142,
          77,
          27,
          46,
          142,
          86,
          69,
          193,
          61,
          99,
          49,
          76,
          65,
          128,
          66,
          76,
          52,
          78,
          156,
          86,
          81,
          193,
          66,
          193,
          77,
          55,
          193,
          63,
          80,
          null,
          47,
          79,
          38,
          80,
          193,
          57,
          41,
          64,
          75,
          68,
          54,
          142,
          77,
          80,
          59,
          75,
          58,
          38,
          196,
          131,
          74,
          52,
          66,
          null,
          74,
          55,
          79,
          193,
          55,
          55,
          64,
          81,
          64,
          193,
          55,
          62,
          142,
          82,
          74,
          68,
          64,
          88,
          73,
          188,
          83,
          49,
          55,
          77,
          79,
          15,
          84,
          63,
          65,
          56,
          61,
          124,
          78,
          193,
          124,
          42,
          93,
          87,
          193,
          193,
          84,
          67,
          96,
          75,
          193,
          124,
          67,
          89,
          68,
          124,
          78,
          83,
          90,
          43,
          193,
          66,
          86,
          94,
          52,
          60,
          124,
          62,
          99,
          76,
          55,
          193,
          59,
          57,
          59,
          79,
          null,
          88,
          76,
          74,
          63,
          43,
          51,
          null,
          193,
          60,
          65,
          39,
          40,
          81,
          79,
          166,
          70,
          128,
          124,
          61,
          94,
          70,
          67,
          64,
          69,
          84,
          76,
          193,
          72,
          100,
          66,
          124,
          188,
          22,
          193,
          124,
          82,
          70,
          54,
          78,
          40,
          142,
          193,
          151,
          64,
          67,
          147,
          69,
          null,
          182,
          69,
          73,
          67,
          null,
          72,
          64,
          62,
          67,
          142,
          88,
          51,
          65,
          53,
          71,
          91,
          62,
          28,
          193,
          84,
          53,
          64,
          124,
          null,
          67,
          42,
          33,
          69,
          null,
          193,
          193,
          57,
          null,
          68,
          82,
          47,
          52,
          99,
          70,
          67,
          193,
          81,
          68,
          49,
          124,
          124,
          193,
          80,
          76,
          67,
          68,
          81,
          80,
          124,
          63,
          67,
          42,
          75,
          77,
          84,
          68,
          40,
          60,
          92,
          77,
          73,
          50,
          124,
          84,
          77,
          74,
          70,
          50,
          82,
          193,
          65,
          53,
          131,
          67,
          91,
          72,
          124,
          null,
          100,
          193,
          77,
          193,
          66,
          48,
          54,
          93,
          62,
          71,
          196,
          64,
          84,
          80,
          72,
          54,
          80,
          193,
          193,
          64,
          59,
          74,
          10,
          193,
          142,
          62,
          81,
          81,
          193,
          64,
          100,
          49,
          44,
          81,
          54,
          68,
          193,
          88,
          92,
          62,
          90,
          59,
          92,
          74,
          56,
          54,
          90,
          193,
          46,
          49,
          53,
          32,
          78,
          78,
          67,
          82,
          193,
          74,
          75,
          99,
          70,
          79,
          67,
          131,
          70,
          75,
          80,
          43,
          193,
          30,
          71,
          49,
          36,
          193,
          81,
          62,
          193,
          76
         ],
         "y0": " ",
         "yaxis": "y"
        }
       ],
       "layout": {
        "autosize": true,
        "boxmode": "group",
        "legend": {
         "title": {
          "text": "subject"
         },
         "tracegroupgap": 0
        },
        "margin": {
         "t": 60
        },
        "template": {
         "data": {
          "bar": [
           {
            "error_x": {
             "color": "#2a3f5f"
            },
            "error_y": {
             "color": "#2a3f5f"
            },
            "marker": {
             "line": {
              "color": "#E5ECF6",
              "width": 0.5
             },
             "pattern": {
              "fillmode": "overlay",
              "size": 10,
              "solidity": 0.2
             }
            },
            "type": "bar"
           }
          ],
          "barpolar": [
           {
            "marker": {
             "line": {
              "color": "#E5ECF6",
              "width": 0.5
             },
             "pattern": {
              "fillmode": "overlay",
              "size": 10,
              "solidity": 0.2
             }
            },
            "type": "barpolar"
           }
          ],
          "carpet": [
           {
            "aaxis": {
             "endlinecolor": "#2a3f5f",
             "gridcolor": "white",
             "linecolor": "white",
             "minorgridcolor": "white",
             "startlinecolor": "#2a3f5f"
            },
            "baxis": {
             "endlinecolor": "#2a3f5f",
             "gridcolor": "white",
             "linecolor": "white",
             "minorgridcolor": "white",
             "startlinecolor": "#2a3f5f"
            },
            "type": "carpet"
           }
          ],
          "choropleth": [
           {
            "colorbar": {
             "outlinewidth": 0,
             "ticks": ""
            },
            "type": "choropleth"
           }
          ],
          "contour": [
           {
            "colorbar": {
             "outlinewidth": 0,
             "ticks": ""
            },
            "colorscale": [
             [
              0,
              "#0d0887"
             ],
             [
              0.1111111111111111,
              "#46039f"
             ],
             [
              0.2222222222222222,
              "#7201a8"
             ],
             [
              0.3333333333333333,
              "#9c179e"
             ],
             [
              0.4444444444444444,
              "#bd3786"
             ],
             [
              0.5555555555555556,
              "#d8576b"
             ],
             [
              0.6666666666666666,
              "#ed7953"
             ],
             [
              0.7777777777777778,
              "#fb9f3a"
             ],
             [
              0.8888888888888888,
              "#fdca26"
             ],
             [
              1,
              "#f0f921"
             ]
            ],
            "type": "contour"
           }
          ],
          "contourcarpet": [
           {
            "colorbar": {
             "outlinewidth": 0,
             "ticks": ""
            },
            "type": "contourcarpet"
           }
          ],
          "heatmap": [
           {
            "colorbar": {
             "outlinewidth": 0,
             "ticks": ""
            },
            "colorscale": [
             [
              0,
              "#0d0887"
             ],
             [
              0.1111111111111111,
              "#46039f"
             ],
             [
              0.2222222222222222,
              "#7201a8"
             ],
             [
              0.3333333333333333,
              "#9c179e"
             ],
             [
              0.4444444444444444,
              "#bd3786"
             ],
             [
              0.5555555555555556,
              "#d8576b"
             ],
             [
              0.6666666666666666,
              "#ed7953"
             ],
             [
              0.7777777777777778,
              "#fb9f3a"
             ],
             [
              0.8888888888888888,
              "#fdca26"
             ],
             [
              1,
              "#f0f921"
             ]
            ],
            "type": "heatmap"
           }
          ],
          "heatmapgl": [
           {
            "colorbar": {
             "outlinewidth": 0,
             "ticks": ""
            },
            "colorscale": [
             [
              0,
              "#0d0887"
             ],
             [
              0.1111111111111111,
              "#46039f"
             ],
             [
              0.2222222222222222,
              "#7201a8"
             ],
             [
              0.3333333333333333,
              "#9c179e"
             ],
             [
              0.4444444444444444,
              "#bd3786"
             ],
             [
              0.5555555555555556,
              "#d8576b"
             ],
             [
              0.6666666666666666,
              "#ed7953"
             ],
             [
              0.7777777777777778,
              "#fb9f3a"
             ],
             [
              0.8888888888888888,
              "#fdca26"
             ],
             [
              1,
              "#f0f921"
             ]
            ],
            "type": "heatmapgl"
           }
          ],
          "histogram": [
           {
            "marker": {
             "pattern": {
              "fillmode": "overlay",
              "size": 10,
              "solidity": 0.2
             }
            },
            "type": "histogram"
           }
          ],
          "histogram2d": [
           {
            "colorbar": {
             "outlinewidth": 0,
             "ticks": ""
            },
            "colorscale": [
             [
              0,
              "#0d0887"
             ],
             [
              0.1111111111111111,
              "#46039f"
             ],
             [
              0.2222222222222222,
              "#7201a8"
             ],
             [
              0.3333333333333333,
              "#9c179e"
             ],
             [
              0.4444444444444444,
              "#bd3786"
             ],
             [
              0.5555555555555556,
              "#d8576b"
             ],
             [
              0.6666666666666666,
              "#ed7953"
             ],
             [
              0.7777777777777778,
              "#fb9f3a"
             ],
             [
              0.8888888888888888,
              "#fdca26"
             ],
             [
              1,
              "#f0f921"
             ]
            ],
            "type": "histogram2d"
           }
          ],
          "histogram2dcontour": [
           {
            "colorbar": {
             "outlinewidth": 0,
             "ticks": ""
            },
            "colorscale": [
             [
              0,
              "#0d0887"
             ],
             [
              0.1111111111111111,
              "#46039f"
             ],
             [
              0.2222222222222222,
              "#7201a8"
             ],
             [
              0.3333333333333333,
              "#9c179e"
             ],
             [
              0.4444444444444444,
              "#bd3786"
             ],
             [
              0.5555555555555556,
              "#d8576b"
             ],
             [
              0.6666666666666666,
              "#ed7953"
             ],
             [
              0.7777777777777778,
              "#fb9f3a"
             ],
             [
              0.8888888888888888,
              "#fdca26"
             ],
             [
              1,
              "#f0f921"
             ]
            ],
            "type": "histogram2dcontour"
           }
          ],
          "mesh3d": [
           {
            "colorbar": {
             "outlinewidth": 0,
             "ticks": ""
            },
            "type": "mesh3d"
           }
          ],
          "parcoords": [
           {
            "line": {
             "colorbar": {
              "outlinewidth": 0,
              "ticks": ""
             }
            },
            "type": "parcoords"
           }
          ],
          "pie": [
           {
            "automargin": true,
            "type": "pie"
           }
          ],
          "scatter": [
           {
            "fillpattern": {
             "fillmode": "overlay",
             "size": 10,
             "solidity": 0.2
            },
            "type": "scatter"
           }
          ],
          "scatter3d": [
           {
            "line": {
             "colorbar": {
              "outlinewidth": 0,
              "ticks": ""
             }
            },
            "marker": {
             "colorbar": {
              "outlinewidth": 0,
              "ticks": ""
             }
            },
            "type": "scatter3d"
           }
          ],
          "scattercarpet": [
           {
            "marker": {
             "colorbar": {
              "outlinewidth": 0,
              "ticks": ""
             }
            },
            "type": "scattercarpet"
           }
          ],
          "scattergeo": [
           {
            "marker": {
             "colorbar": {
              "outlinewidth": 0,
              "ticks": ""
             }
            },
            "type": "scattergeo"
           }
          ],
          "scattergl": [
           {
            "marker": {
             "colorbar": {
              "outlinewidth": 0,
              "ticks": ""
             }
            },
            "type": "scattergl"
           }
          ],
          "scattermapbox": [
           {
            "marker": {
             "colorbar": {
              "outlinewidth": 0,
              "ticks": ""
             }
            },
            "type": "scattermapbox"
           }
          ],
          "scatterpolar": [
           {
            "marker": {
             "colorbar": {
              "outlinewidth": 0,
              "ticks": ""
             }
            },
            "type": "scatterpolar"
           }
          ],
          "scatterpolargl": [
           {
            "marker": {
             "colorbar": {
              "outlinewidth": 0,
              "ticks": ""
             }
            },
            "type": "scatterpolargl"
           }
          ],
          "scatterternary": [
           {
            "marker": {
             "colorbar": {
              "outlinewidth": 0,
              "ticks": ""
             }
            },
            "type": "scatterternary"
           }
          ],
          "surface": [
           {
            "colorbar": {
             "outlinewidth": 0,
             "ticks": ""
            },
            "colorscale": [
             [
              0,
              "#0d0887"
             ],
             [
              0.1111111111111111,
              "#46039f"
             ],
             [
              0.2222222222222222,
              "#7201a8"
             ],
             [
              0.3333333333333333,
              "#9c179e"
             ],
             [
              0.4444444444444444,
              "#bd3786"
             ],
             [
              0.5555555555555556,
              "#d8576b"
             ],
             [
              0.6666666666666666,
              "#ed7953"
             ],
             [
              0.7777777777777778,
              "#fb9f3a"
             ],
             [
              0.8888888888888888,
              "#fdca26"
             ],
             [
              1,
              "#f0f921"
             ]
            ],
            "type": "surface"
           }
          ],
          "table": [
           {
            "cells": {
             "fill": {
              "color": "#EBF0F8"
             },
             "line": {
              "color": "white"
             }
            },
            "header": {
             "fill": {
              "color": "#C8D4E3"
             },
             "line": {
              "color": "white"
             }
            },
            "type": "table"
           }
          ]
         },
         "layout": {
          "annotationdefaults": {
           "arrowcolor": "#2a3f5f",
           "arrowhead": 0,
           "arrowwidth": 1
          },
          "autotypenumbers": "strict",
          "coloraxis": {
           "colorbar": {
            "outlinewidth": 0,
            "ticks": ""
           }
          },
          "colorscale": {
           "diverging": [
            [
             0,
             "#8e0152"
            ],
            [
             0.1,
             "#c51b7d"
            ],
            [
             0.2,
             "#de77ae"
            ],
            [
             0.3,
             "#f1b6da"
            ],
            [
             0.4,
             "#fde0ef"
            ],
            [
             0.5,
             "#f7f7f7"
            ],
            [
             0.6,
             "#e6f5d0"
            ],
            [
             0.7,
             "#b8e186"
            ],
            [
             0.8,
             "#7fbc41"
            ],
            [
             0.9,
             "#4d9221"
            ],
            [
             1,
             "#276419"
            ]
           ],
           "sequential": [
            [
             0,
             "#0d0887"
            ],
            [
             0.1111111111111111,
             "#46039f"
            ],
            [
             0.2222222222222222,
             "#7201a8"
            ],
            [
             0.3333333333333333,
             "#9c179e"
            ],
            [
             0.4444444444444444,
             "#bd3786"
            ],
            [
             0.5555555555555556,
             "#d8576b"
            ],
            [
             0.6666666666666666,
             "#ed7953"
            ],
            [
             0.7777777777777778,
             "#fb9f3a"
            ],
            [
             0.8888888888888888,
             "#fdca26"
            ],
            [
             1,
             "#f0f921"
            ]
           ],
           "sequentialminus": [
            [
             0,
             "#0d0887"
            ],
            [
             0.1111111111111111,
             "#46039f"
            ],
            [
             0.2222222222222222,
             "#7201a8"
            ],
            [
             0.3333333333333333,
             "#9c179e"
            ],
            [
             0.4444444444444444,
             "#bd3786"
            ],
            [
             0.5555555555555556,
             "#d8576b"
            ],
            [
             0.6666666666666666,
             "#ed7953"
            ],
            [
             0.7777777777777778,
             "#fb9f3a"
            ],
            [
             0.8888888888888888,
             "#fdca26"
            ],
            [
             1,
             "#f0f921"
            ]
           ]
          },
          "colorway": [
           "#636efa",
           "#EF553B",
           "#00cc96",
           "#ab63fa",
           "#FFA15A",
           "#19d3f3",
           "#FF6692",
           "#B6E880",
           "#FF97FF",
           "#FECB52"
          ],
          "font": {
           "color": "#2a3f5f"
          },
          "geo": {
           "bgcolor": "white",
           "lakecolor": "white",
           "landcolor": "#E5ECF6",
           "showlakes": true,
           "showland": true,
           "subunitcolor": "white"
          },
          "hoverlabel": {
           "align": "left"
          },
          "hovermode": "closest",
          "mapbox": {
           "style": "light"
          },
          "paper_bgcolor": "white",
          "plot_bgcolor": "#E5ECF6",
          "polar": {
           "angularaxis": {
            "gridcolor": "white",
            "linecolor": "white",
            "ticks": ""
           },
           "bgcolor": "#E5ECF6",
           "radialaxis": {
            "gridcolor": "white",
            "linecolor": "white",
            "ticks": ""
           }
          },
          "scene": {
           "xaxis": {
            "backgroundcolor": "#E5ECF6",
            "gridcolor": "white",
            "gridwidth": 2,
            "linecolor": "white",
            "showbackground": true,
            "ticks": "",
            "zerolinecolor": "white"
           },
           "yaxis": {
            "backgroundcolor": "#E5ECF6",
            "gridcolor": "white",
            "gridwidth": 2,
            "linecolor": "white",
            "showbackground": true,
            "ticks": "",
            "zerolinecolor": "white"
           },
           "zaxis": {
            "backgroundcolor": "#E5ECF6",
            "gridcolor": "white",
            "gridwidth": 2,
            "linecolor": "white",
            "showbackground": true,
            "ticks": "",
            "zerolinecolor": "white"
           }
          },
          "shapedefaults": {
           "line": {
            "color": "#2a3f5f"
           }
          },
          "ternary": {
           "aaxis": {
            "gridcolor": "white",
            "linecolor": "white",
            "ticks": ""
           },
           "baxis": {
            "gridcolor": "white",
            "linecolor": "white",
            "ticks": ""
           },
           "bgcolor": "#E5ECF6",
           "caxis": {
            "gridcolor": "white",
            "linecolor": "white",
            "ticks": ""
           }
          },
          "title": {
           "x": 0.05
          },
          "xaxis": {
           "automargin": true,
           "gridcolor": "white",
           "linecolor": "white",
           "ticks": "",
           "title": {
            "standoff": 15
           },
           "zerolinecolor": "white",
           "zerolinewidth": 2
          },
          "yaxis": {
           "automargin": true,
           "gridcolor": "white",
           "linecolor": "white",
           "ticks": "",
           "title": {
            "standoff": 15
           },
           "zerolinecolor": "white",
           "zerolinewidth": 2
          }
         }
        },
        "xaxis": {
         "anchor": "y",
         "autorange": true,
         "domain": [
          0,
          1
         ],
         "range": [
          -0.5036407766990292,
          0.5036407766990292
         ],
         "type": "category"
        },
        "yaxis": {
         "anchor": "x",
         "autorange": true,
         "domain": [
          0,
          1
         ],
         "range": [
          -10.88888888888889,
          206.88888888888889
         ],
         "title": {
          "text": "score"
         },
         "type": "linear"
        }
       }
      },
      "image/png": "[encoded data removed]",
      "text/html": [
       "<div>                            <div id=\"ccaaa545-7306-4b1c-b896-32ef981c2f6f\" class=\"plotly-graph-div\" style=\"height:525px; width:100%;\"></div>            <script type=\"text/javascript\">                require([\"plotly\"], function(Plotly) {                    window.PLOTLYENV=window.PLOTLYENV || {};                                    if (document.getElementById(\"ccaaa545-7306-4b1c-b896-32ef981c2f6f\")) {                    Plotly.newPlot(                        \"ccaaa545-7306-4b1c-b896-32ef981c2f6f\",                        [{\"alignmentgroup\":\"True\",\"hovertemplate\":\"subject=math score\\u003cbr\\u003escore=%{y}\\u003cextra\\u003e\\u003c\\u002fextra\\u003e\",\"legendgroup\":\"math score\",\"marker\":{\"color\":\"#636efa\"},\"name\":\"math score\",\"notched\":false,\"offsetgroup\":\"math score\",\"orientation\":\"v\",\"showlegend\":true,\"x0\":\" \",\"xaxis\":\"x\",\"y\":[37.0,124.0,156.0,80.0,131.0,73.0,81.0,94.0,71.0,75.0,124.0,188.0,193.0,34.0,193.0,63.0,94.0,65.0,95.0,52.0,62.0,74.0,142.0,124.0,62.0,73.0,46.0,82.0,124.0,63.0,64.0,80.0,124.0,131.0,null,93.0,69.0,46.0,86.0,59.0,84.0,64.0,73.0,83.0,131.0,75.0,69.0,68.0,193.0,57.0,66.0,61.0,40.0,50.0,48.0,36.0,78.0,196.0,57.0,122.0,196.0,69.0,124.0,40.0,92.0,188.0,35.0,63.0,193.0,73.0,63.0,52.0,131.0,73.0,63.0,124.0,71.0,45.0,85.0,80.0,40.0,82.0,188.0,77.0,91.0,null,196.0,60.0,63.0,40.0,174.0,57.0,58.0,147.0,188.0,97.0,81.0,68.0,59.0,96.0,87.0,57.0,193.0,193.0,142.0,94.0,97.0,124.0,65.0,82.0,72.0,62.0,44.0,49.0,196.0,82.0,75.0,193.0,59.0,75.0,72.0,68.0,193.0,124.0,66.0,196.0,null,67.0,93.0,69.0,142.0,63.0,46.0,66.0,193.0,49.0,62.0,182.0,48.0,null,71.0,193.0,147.0,193.0,54.0,80.0,55.0,193.0,90.0,94.0,81.0,34.0,193.0,53.0,124.0,61.0,75.0,74.0,62.0,70.0,60.0,59.0,193.0,62.0,53.0,80.0,69.0,69.0,69.0,49.0,43.0,83.0,65.0,73.0,68.0,64.0,54.0,65.0,193.0,49.0,58.0,66.0,65.0,65.0,193.0,70.0,79.0,50.0,193.0,188.0,64.0,124.0,68.0,32.0,68.0,58.0,19.0,193.0,69.0,72.0,53.0,64.0,61.0,78.0,53.0,45.0,44.0,196.0,83.0,65.0,88.0,88.0,91.0,84.0,51.0,196.0,196.0,null,38.0,193.0,47.0,66.0,61.0,60.0,71.0,45.0,77.0,53.0,193.0,193.0,57.0,124.0,193.0,131.0,193.0,72.0,76.0,45.0,193.0,99.0,51.0,64.0,52.0,80.0,51.0,193.0,193.0,196.0,50.0,64.0,74.0,196.0,71.0,57.0,69.0,77.0,193.0,75.0,196.0,43.0,80.0,193.0,null,122.0,59.0,85.0,55.0,44.0,42.0,58.0,61.0,50.0,64.0,88.0,73.0,95.0,124.0,174.0,67.0,97.0,61.0,62.0,79.0,54.0,66.0,193.0,174.0,193.0,174.0,78.0,193.0,85.0,84.0,76.0,44.0,122.0,81.0,54.0,58.0,124.0,81.0,35.0,72.0,71.0,61.0,66.0,71.0,71.0,89.0,73.0,81.0,46.0,22.0,124.0,48.0,124.0,44.0,79.0,91.0,76.0,124.0,54.0,77.0,62.0,67.0,131.0,196.0,86.0,58.0,53.0,57.0,182.0,69.0,76.0,78.0,69.0,124.0,62.0,37.0,196.0,88.0,90.0,57.0,193.0,68.0,65.0,63.0,124.0,52.0,48.0,65.0,54.0,50.0,124.0,193.0,122.0,40.0,29.0,26.0,70.0,196.0,75.0,53.0,64.0,60.0,98.0,93.0,59.0,46.0,null,76.0,79.0,28.0,55.0,61.0,142.0,196.0,193.0,193.0,35.0,193.0,94.0,193.0,46.0,100.0,67.0,49.0,193.0,50.0,79.0,142.0,71.0,null,83.0,55.0,193.0,48.0,76.0,77.0,79.0,193.0,62.0,56.0,124.0,68.0,84.0,124.0,80.0,62.0,124.0,60.0,64.0,29.0,52.0,53.0,131.0,67.0,82.0,56.0,79.0,142.0,73.0,66.0,52.0,52.0,73.0,66.0,84.0,82.0,193.0,74.0,193.0,76.0,81.0,79.0,124.0,68.0,128.0,63.0,142.0,124.0,null,50.0,196.0,196.0,72.0,85.0,196.0,83.0,84.0,65.0,null,85.0,70.0,58.0,86.0,64.0,65.0,124.0,61.0,193.0,49.0,53.0,97.0,196.0,75.0,72.0,124.0,74.0,59.0,68.0,78.0,53.0,57.0,72.0,99.0,null,79.0,91.0,83.0,null,72.0,142.0,188.0,null,61.0,73.0,59.0,100.0,61.0,77.0,71.0,49.0,62.0,193.0,86.0,75.0,null,58.0,47.0,null,131.0,193.0,63.0,69.0,null,70.0,68.0,61.0,71.0,122.0,124.0,142.0,81.0,100.0,84.0,77.0,53.0,71.0,73.0,193.0,65.0,124.0,193.0,49.0,52.0,65.0,59.0,80.0,193.0,62.0,57.0,46.0,58.0,67.0,73.0,72.0,40.0,78.0,63.0,61.0,79.0,77.0,70.0,53.0,156.0,151.0,76.0,45.0,40.0,193.0,82.0,124.0,193.0,78.0,75.0,70.0,55.0,39.0,188.0,null,70.0,30.0,75.0,63.0,82.0,74.0,54.0,124.0,71.0,196.0,142.0,73.0,77.0,77.0,87.0,87.0,74.0,67.0,43.0,49.0,42.0,49.0,null,124.0,193.0,53.0,64.0,64.0,196.0,61.0,79.0,null,69.0,54.0,65.0,77.0,58.0,49.0,73.0,124.0,54.0,142.0,54.0,64.0,null,59.0,76.0,75.0,85.0,131.0,97.0,193.0,188.0,53.0,52.0,142.0,77.0,79.0,57.0,87.0,66.0,193.0,193.0,63.0,65.0,64.0,124.0,68.0,55.0,72.0,86.0,142.0,35.0,97.0,124.0,75.0,52.0,74.0,70.0,39.0,61.0,193.0,44.0,193.0,32.0,193.0,77.0,49.0,87.0,193.0,66.0,68.0,196.0,193.0,65.0,62.0,81.0,196.0,70.0,124.0,null,74.0,94.0,142.0,193.0,76.0,59.0,156.0,68.0,124.0,193.0,193.0,73.0,null,193.0,124.0,100.0,131.0,8.0,65.0,40.0,48.0,89.0,77.0,193.0,65.0,69.0,68.0,49.0,62.0,50.0,56.0,46.0,124.0,38.0,53.0,142.0,193.0,60.0,91.0,90.0,73.0,70.0,47.0,65.0,81.0,55.0,93.0,142.0,193.0,124.0,142.0,65.0,131.0,62.0,48.0,196.0,68.0,66.0,55.0,42.0,54.0,74.0,37.0,66.0,88.0,69.0,166.0,61.0,193.0,39.0,87.0,142.0,64.0,44.0,131.0,59.0,80.0,33.0,71.0,76.0,53.0,78.0,55.0,70.0,65.0,193.0,86.0,47.0,54.0,41.0,193.0,78.0,83.0,54.0,90.0,59.0,65.0,null,67.0,193.0,null,89.0,59.0,73.0,74.0,86.0,55.0,61.0,57.0,58.0,42.0,45.0,null,63.0,61.0,81.0,92.0,193.0,67.0,94.0,56.0,62.0,70.0,142.0,70.0,76.0,64.0,47.0,66.0,86.0,40.0,66.0,68.0,51.0,45.0,88.0,90.0,52.0,49.0,53.0,171.0,193.0,71.0,50.0,58.0,42.0,67.0,39.0,85.0,62.0,78.0,73.0,68.0,89.0,40.0,82.0,69.0,null,77.0,69.0,79.0,53.0,43.0,58.0,76.0,40.0,88.0,69.0,49.0,85.0,69.0,72.0,57.0,58.0,62.0,62.0,142.0,142.0,75.0,88.0,81.0,193.0,null,193.0,67.0,142.0,67.0,166.0,74.0,188.0,74.0,95.0,71.0,193.0,85.0,193.0,124.0,131.0,188.0,142.0,196.0,56.0,82.0,124.0,85.0,60.0,63.0,51.0,50.0,81.0,64.0,87.0,46.0,58.0,62.0,76.0,60.0,193.0,50.0,124.0,193.0,142.0,77.0,124.0,64.0,null,61.0,60.0,193.0,67.0,64.0,193.0,196.0,90.0,59.0,53.0,48.0,193.0,35.0,60.0,82.0,58.0,60.0,66.0,null,85.0,124.0,49.0,77.0,67.0,69.0,131.0,50.0,62.0,83.0,81.0,92.0,70.0,72.0,92.0,51.0,156.0,87.0,71.0,59.0,193.0,124.0,88.0,61.0,193.0,82.0,193.0,71.0,75.0,43.0,142.0,51.0,62.0,75.0,63.0,174.0,71.0,67.0,71.0,61.0,56.0,98.0,82.0,75.0,59.0,193.0,71.0,44.0,77.0,65.0,196.0,57.0,60.0,27.0,58.0,70.0,38.0,42.0,100.0,193.0,89.0,35.0,74.0,77.0,62.0,79.0,124.0,46.0,74.0,196.0,59.0,66.0,124.0,47.0,142.0,77.0,78.0,52.0,null,70.0,193.0,58.0,193.0,68.0,69.0,87.0,52.0,72.0,85.0,196.0,41.0,61.0,67.0,54.0,75.0,80.0,63.0,52.0,62.0,58.0,62.0,65.0,74.0,182.0,142.0,142.0,79.0,49.0,68.0,63.0,52.0,59.0,55.0,66.0,38.0,193.0,193.0,74.0,91.0,64.0,142.0,74.0,142.0,81.0,79.0,142.0,90.0,142.0,124.0,null,54.0,78.0,46.0,193.0,88.0,62.0,193.0,80.0,124.0,142.0,80.0,71.0,64.0,75.0,60.0,68.0,88.0,55.0,50.0,124.0,97.0,42.0,null,188.0,49.0,69.0,40.0,122.0,42.0,196.0,58.0,24.0,48.0,124.0,67.0,59.0,193.0,59.0,96.0,45.0,88.0,72.0,166.0,61.0,81.0,59.0,73.0,193.0,79.0,68.0,193.0,47.0,124.0,64.0,49.0,124.0,54.0,71.0,null,59.0,89.0,37.0,59.0,null,57.0,47.0,77.0,62.0,77.0,51.0,131.0,69.0,74.0,60.0,76.0,51.0,32.0,124.0,193.0,73.0,49.0,76.0,193.0,64.0,62.0,63.0,156.0,50.0,44.0,66.0,67.0,142.0,142.0,61.0,75.0,147.0,69.0,76.0,65.0,53.0,87.0,53.0,null,66.0,196.0,49.0,67.0,55.0,30.0,73.0,62.0,79.0,63.0,52.0,193.0,58.0,124.0,142.0,193.0,78.0,81.0,142.0,193.0,74.0,68.0,82.0,73.0,35.0,142.0,59.0,74.0,62.0,49.0,84.0,67.0,81.0,33.0,142.0,59.0,87.0,77.0,58.0,69.0,null,65.0,92.0,87.0,69.0,null,73.0,61.0,55.0,67.0,193.0,69.0,74.0,64.0,56.0,36.0,41.0,142.0,124.0,49.0,59.0,34.0,142.0,84.0,76.0,142.0,61.0,193.0,193.0,62.0,87.0,67.0,54.0,59.0,68.0,67.0,91.0,142.0,80.0,96.0,68.0,193.0,156.0,30.0,124.0,null,74.0,71.0,35.0,81.0,53.0,49.0,147.0,40.0,80.0,76.0,142.0,76.0,29.0,196.0,63.0,57.0,58.0,null,72.0,196.0,55.0,53.0,null,80.0,41.0,55.0,51.0,85.0,81.0,52.0,18.0,193.0,73.0,48.0,56.0,142.0,124.0,63.0,58.0,32.0,59.0,193.0,142.0,193.0,63.0,142.0,63.0,80.0,60.0,64.0,98.0,59.0,65.0,193.0,87.0,66.0,52.0,193.0,28.0,174.0,73.0,87.0,79.0,60.0,81.0,74.0,196.0,69.0,47.0,47.0,79.0,82.0,92.0,57.0,41.0,49.0,88.0,79.0,59.0,71.0,193.0,81.0,65.0,82.0,65.0,40.0,73.0,156.0,56.0,69.0,193.0,67.0,91.0,67.0,188.0,124.0,87.0,124.0,65.0,124.0,58.0,55.0,48.0,88.0,53.0,85.0,193.0,62.0,65.0,82.0,62.0,63.0,84.0,193.0,131.0,77.0,50.0,69.0,0.0,188.0,193.0,65.0,79.0,69.0,193.0,72.0,100.0,65.0,47.0,99.0,51.0,71.0,124.0,82.0,91.0,55.0,75.0,66.0,95.0,72.0,70.0,57.0,84.0,193.0,61.0,45.0,65.0,27.0,88.0,65.0,63.0,78.0,193.0,65.0,90.0,100.0,67.0,74.0,76.0,193.0,66.0,59.0,62.0,41.0,124.0,29.0,69.0,124.0,23.0,193.0,66.0,54.0,193.0,68.0],\"y0\":\" \",\"yaxis\":\"y\",\"type\":\"box\"},{\"alignmentgroup\":\"True\",\"hovertemplate\":\"subject=reading score\\u003cbr\\u003escore=%{y}\\u003cextra\\u003e\\u003c\\u002fextra\\u003e\",\"legendgroup\":\"reading score\",\"marker\":{\"color\":\"#EF553B\"},\"name\":\"reading score\",\"notched\":false,\"offsetgroup\":\"reading score\",\"orientation\":\"v\",\"showlegend\":true,\"x0\":\" \",\"xaxis\":\"x\",\"y\":[46.0,142.0,196.0,78.0,166.0,66.0,75.0,86.0,61.0,68.0,196.0,131.0,193.0,48.0,171.0,61.0,73.0,78.0,142.0,76.0,65.0,74.0,null,142.0,57.0,69.0,42.0,82.0,193.0,61.0,73.0,75.0,null,97.0,null,100.0,76.0,61.0,81.0,72.0,83.0,64.0,76.0,86.0,124.0,88.0,74.0,72.0,142.0,61.0,64.0,61.0,59.0,67.0,62.0,29.0,79.0,142.0,67.0,124.0,null,58.0,142.0,55.0,87.0,193.0,28.0,67.0,128.0,74.0,64.0,59.0,142.0,79.0,73.0,196.0,60.0,59.0,92.0,76.0,196.0,85.0,193.0,94.0,85.0,193.0,142.0,62.0,48.0,48.0,193.0,54.0,54.0,193.0,188.0,82.0,82.0,65.0,71.0,90.0,84.0,75.0,193.0,142.0,193.0,88.0,93.0,142.0,81.0,93.0,57.0,74.0,54.0,193.0,null,84.0,90.0,193.0,41.0,73.0,68.0,78.0,193.0,null,74.0,124.0,193.0,62.0,90.0,63.0,124.0,74.0,64.0,68.0,124.0,null,73.0,142.0,56.0,193.0,70.0,124.0,124.0,142.0,72.0,83.0,59.0,null,87.0,99.0,73.0,42.0,null,43.0,64.0,68.0,85.0,81.0,72.0,78.0,70.0,51.0,188.0,72.0,50.0,85.0,66.0,78.0,77.0,45.0,60.0,93.0,61.0,64.0,83.0,66.0,61.0,77.0,171.0,57.0,67.0,78.0,70.0,79.0,142.0,68.0,81.0,67.0,193.0,142.0,54.0,124.0,60.0,51.0,51.0,57.0,38.0,193.0,77.0,79.0,58.0,188.0,51.0,72.0,62.0,56.0,51.0,193.0,83.0,76.0,78.0,95.0,89.0,87.0,66.0,196.0,193.0,193.0,49.0,193.0,53.0,57.0,73.0,68.0,71.0,63.0,86.0,58.0,142.0,124.0,51.0,151.0,193.0,171.0,193.0,64.0,71.0,48.0,193.0,93.0,72.0,60.0,61.0,73.0,54.0,128.0,142.0,124.0,48.0,73.0,74.0,95.0,77.0,74.0,70.0,90.0,196.0,74.0,124.0,51.0,68.0,null,142.0,166.0,72.0,81.0,76.0,63.0,62.0,59.0,47.0,66.0,64.0,74.0,78.0,193.0,196.0,142.0,86.0,100.0,58.0,64.0,81.0,63.0,71.0,142.0,124.0,null,124.0,91.0,196.0,75.0,84.0,94.0,61.0,193.0,84.0,49.0,63.0,193.0,82.0,174.0,81.0,49.0,42.0,77.0,76.0,66.0,88.0,83.0,81.0,34.0,39.0,124.0,52.0,147.0,64.0,82.0,81.0,80.0,193.0,59.0,78.0,72.0,64.0,188.0,196.0,81.0,70.0,52.0,58.0,124.0,73.0,70.0,87.0,64.0,142.0,66.0,57.0,193.0,89.0,75.0,56.0,124.0,70.0,75.0,69.0,193.0,57.0,43.0,54.0,54.0,53.0,193.0,142.0,193.0,59.0,41.0,31.0,75.0,124.0,74.0,39.0,124.0,57.0,87.0,84.0,54.0,54.0,193.0,64.0,88.0,23.0,71.0,57.0,142.0,124.0,64.0,124.0,53.0,124.0,85.0,124.0,58.0,100.0,80.0,196.0,124.0,47.0,84.0,124.0,81.0,124.0,82.0,64.0,null,58.0,73.0,77.0,79.0,null,78.0,68.0,193.0,86.0,77.0,49.0,75.0,70.0,174.0,66.0,62.0,40.0,65.0,61.0,124.0,61.0,95.0,79.0,76.0,196.0,68.0,74.0,66.0,67.0,86.0,65.0,73.0,75.0,124.0,77.0,null,71.0,72.0,89.0,124.0,71.0,193.0,78.0,193.0,null,193.0,56.0,null,193.0,65.0,92.0,142.0,78.0,95.0,77.0,null,86.0,70.0,63.0,80.0,82.0,81.0,193.0,55.0,null,51.0,51.0,97.0,null,72.0,73.0,196.0,79.0,67.0,68.0,77.0,58.0,78.0,57.0,100.0,193.0,89.0,73.0,72.0,193.0,79.0,156.0,196.0,142.0,62.0,74.0,54.0,96.0,66.0,79.0,67.0,53.0,61.0,156.0,92.0,81.0,null,62.0,59.0,142.0,null,64.0,75.0,67.0,193.0,75.0,63.0,56.0,66.0,95.0,156.0,156.0,97.0,100.0,77.0,90.0,44.0,83.0,68.0,null,82.0,193.0,171.0,49.0,59.0,75.0,60.0,64.0,142.0,49.0,43.0,43.0,73.0,54.0,66.0,72.0,43.0,83.0,65.0,72.0,74.0,82.0,84.0,54.0,196.0,42.0,62.0,53.0,58.0,null,85.0,64.0,196.0,72.0,66.0,64.0,55.0,42.0,142.0,49.0,89.0,26.0,84.0,64.0,82.0,81.0,59.0,147.0,84.0,156.0,124.0,84.0,88.0,88.0,84.0,74.0,73.0,64.0,62.0,52.0,193.0,65.0,142.0,124.0,193.0,54.0,53.0,131.0,193.0,86.0,92.0,156.0,71.0,52.0,86.0,91.0,61.0,63.0,76.0,193.0,64.0,188.0,53.0,58.0,196.0,72.0,74.0,69.0,84.0,193.0,92.0,142.0,193.0,70.0,55.0,142.0,76.0,72.0,77.0,85.0,69.0,193.0,124.0,73.0,85.0,124.0,193.0,67.0,58.0,66.0,76.0,193.0,55.0,87.0,124.0,68.0,49.0,70.0,82.0,52.0,74.0,196.0,50.0,156.0,151.0,193.0,90.0,193.0,84.0,193.0,65.0,77.0,182.0,182.0,67.0,67.0,66.0,142.0,63.0,193.0,182.0,75.0,90.0,193.0,196.0,78.0,70.0,188.0,68.0,193.0,131.0,193.0,66.0,142.0,196.0,142.0,100.0,131.0,24.0,64.0,65.0,66.0,84.0,82.0,64.0,73.0,77.0,72.0,51.0,69.0,50.0,68.0,56.0,null,142.0,55.0,147.0,182.0,51.0,95.0,90.0,56.0,72.0,49.0,65.0,77.0,46.0,100.0,196.0,188.0,193.0,193.0,70.0,124.0,61.0,45.0,193.0,59.0,69.0,46.0,55.0,65.0,77.0,56.0,63.0,78.0,77.0,196.0,71.0,64.0,64.0,100.0,124.0,63.0,41.0,193.0,78.0,79.0,142.0,87.0,87.0,58.0,81.0,73.0,70.0,69.0,131.0,73.0,49.0,52.0,51.0,193.0,81.0,80.0,64.0,90.0,58.0,81.0,142.0,79.0,64.0,124.0,84.0,63.0,71.0,90.0,83.0,56.0,58.0,78.0,52.0,193.0,37.0,193.0,63.0,70.0,91.0,100.0,142.0,73.0,87.0,52.0,66.0,65.0,122.0,74.0,83.0,74.0,54.0,74.0,85.0,52.0,74.0,74.0,31.0,73.0,84.0,95.0,57.0,53.0,52.0,142.0,156.0,74.0,48.0,55.0,52.0,57.0,39.0,90.0,61.0,74.0,78.0,70.0,100.0,42.0,67.0,80.0,142.0,85.0,84.0,86.0,62.0,45.0,55.0,85.0,42.0,77.0,70.0,50.0,91.0,60.0,80.0,50.0,61.0,67.0,63.0,142.0,142.0,77.0,99.0,91.0,124.0,142.0,142.0,78.0,193.0,69.0,147.0,71.0,193.0,79.0,81.0,74.0,193.0,84.0,193.0,124.0,166.0,193.0,142.0,null,54.0,62.0,null,84.0,64.0,72.0,52.0,64.0,75.0,193.0,85.0,43.0,68.0,55.0,72.0,68.0,null,42.0,124.0,196.0,64.0,89.0,188.0,50.0,null,68.0,59.0,142.0,57.0,73.0,193.0,193.0,85.0,73.0,45.0,56.0,193.0,28.0,70.0,90.0,67.0,75.0,59.0,193.0,95.0,193.0,52.0,69.0,76.0,79.0,131.0,60.0,56.0,85.0,71.0,100.0,56.0,79.0,100.0,63.0,156.0,73.0,70.0,52.0,193.0,142.0,99.0,64.0,193.0,93.0,193.0,69.0,82.0,53.0,193.0,49.0,55.0,81.0,55.0,196.0,83.0,72.0,83.0,56.0,61.0,86.0,84.0,88.0,62.0,64.0,75.0,45.0,68.0,76.0,142.0,48.0,60.0,34.0,50.0,64.0,43.0,66.0,92.0,142.0,76.0,44.0,72.0,62.0,64.0,82.0,156.0,41.0,64.0,124.0,70.0,77.0,193.0,37.0,142.0,68.0,77.0,48.0,null,71.0,156.0,57.0,142.0,54.0,72.0,94.0,53.0,80.0,89.0,133.0,39.0,71.0,89.0,48.0,81.0,90.0,63.0,58.0,55.0,60.0,67.0,77.0,88.0,193.0,193.0,151.0,73.0,196.0,68.0,80.0,70.0,42.0,47.0,60.0,60.0,196.0,42.0,76.0,86.0,64.0,193.0,63.0,196.0,74.0,82.0,null,78.0,193.0,193.0,142.0,58.0,82.0,43.0,196.0,92.0,67.0,196.0,86.0,124.0,193.0,63.0,79.0,85.0,86.0,72.0,60.0,75.0,61.0,60.0,null,166.0,61.0,193.0,124.0,193.0,75.0,196.0,142.0,39.0,null,75.0,38.0,51.0,193.0,84.0,62.0,142.0,62.0,96.0,47.0,85.0,67.0,171.0,67.0,80.0,53.0,76.0,null,85.0,75.0,142.0,62.0,196.0,79.0,58.0,193.0,60.0,71.0,174.0,58.0,87.0,45.0,85.0,193.0,58.0,43.0,67.0,68.0,67.0,58.0,147.0,77.0,71.0,63.0,78.0,60.0,34.0,193.0,188.0,78.0,57.0,62.0,142.0,76.0,64.0,78.0,156.0,53.0,51.0,62.0,84.0,193.0,156.0,60.0,58.0,128.0,84.0,76.0,73.0,72.0,90.0,66.0,142.0,83.0,193.0,65.0,74.0,72.0,24.0,92.0,62.0,60.0,57.0,65.0,193.0,76.0,193.0,142.0,49.0,90.0,86.0,193.0,193.0,89.0,76.0,97.0,70.0,124.0,122.0,66.0,86.0,68.0,193.0,83.0,86.0,88.0,41.0,147.0,65.0,95.0,97.0,51.0,66.0,null,66.0,100.0,74.0,54.0,193.0,67.0,60.0,59.0,81.0,193.0,90.0,81.0,60.0,65.0,53.0,52.0,193.0,193.0,58.0,69.0,42.0,196.0,87.0,83.0,171.0,72.0,142.0,null,67.0,89.0,75.0,64.0,63.0,67.0,84.0,74.0,188.0,80.0,100.0,64.0,124.0,142.0,26.0,193.0,193.0,75.0,76.0,61.0,78.0,37.0,193.0,193.0,182.0,76.0,71.0,188.0,70.0,142.0,196.0,71.0,68.0,70.0,null,66.0,null,65.0,71.0,193.0,92.0,55.0,69.0,56.0,76.0,92.0,59.0,32.0,193.0,79.0,54.0,58.0,196.0,null,67.0,49.0,39.0,73.0,156.0,156.0,193.0,60.0,null,73.0,90.0,44.0,56.0,100.0,71.0,69.0,49.0,91.0,76.0,55.0,124.0,182.0,193.0,75.0,84.0,67.0,72.0,78.0,79.0,142.0,60.0,58.0,46.0,77.0,80.0,79.0,69.0,45.0,58.0,95.0,78.0,70.0,62.0,174.0,81.0,81.0,78.0,69.0,46.0,80.0,188.0,72.0,58.0,122.0,72.0,96.0,75.0,193.0,49.0,100.0,193.0,74.0,142.0,59.0,41.0,58.0,93.0,61.0,66.0,142.0,67.0,84.0,82.0,70.0,61.0,80.0,174.0,142.0,62.0,64.0,65.0,17.0,193.0,196.0,67.0,86.0,86.0,193.0,67.0,100.0,58.0,57.0,87.0,51.0,74.0,null,82.0,96.0,65.0,82.0,66.0,89.0,72.0,55.0,56.0,89.0,196.0,48.0,52.0,59.0,34.0,73.0,82.0,66.0,81.0,124.0,72.0,87.0,97.0,74.0,75.0,67.0,147.0,72.0,64.0,76.0,46.0,64.0,29.0,75.0,193.0,44.0,142.0,74.0,61.0,196.0,80.0],\"y0\":\" \",\"yaxis\":\"y\",\"type\":\"box\"},{\"alignmentgroup\":\"True\",\"hovertemplate\":\"subject=writing score\\u003cbr\\u003escore=%{y}\\u003cextra\\u003e\\u003c\\u002fextra\\u003e\",\"legendgroup\":\"writing score\",\"marker\":{\"color\":\"#00cc96\"},\"name\":\"writing score\",\"notched\":false,\"offsetgroup\":\"writing score\",\"orientation\":\"v\",\"showlegend\":true,\"x0\":\" \",\"xaxis\":\"x\",\"y\":[46.0,142.0,193.0,81.0,166.0,63.0,76.0,87.0,69.0,64.0,193.0,193.0,193.0,41.0,131.0,61.0,71.0,82.0,147.0,70.0,58.0,72.0,193.0,124.0,62.0,68.0,46.0,74.0,193.0,60.0,68.0,77.0,null,124.0,142.0,100.0,74.0,55.0,80.0,70.0,75.0,67.0,78.0,88.0,124.0,85.0,74.0,65.0,124.0,54.0,62.0,62.0,54.0,63.0,60.0,27.0,76.0,142.0,72.0,193.0,193.0,57.0,124.0,53.0,78.0,142.0,27.0,70.0,188.0,61.0,67.0,65.0,193.0,79.0,71.0,196.0,61.0,64.0,85.0,65.0,196.0,87.0,193.0,95.0,85.0,122.0,196.0,60.0,47.0,50.0,182.0,56.0,52.0,124.0,142.0,88.0,82.0,61.0,65.0,92.0,86.0,73.0,196.0,124.0,193.0,78.0,91.0,124.0,81.0,93.0,58.0,70.0,53.0,142.0,null,78.0,88.0,193.0,42.0,74.0,67.0,77.0,null,193.0,78.0,142.0,null,60.0,83.0,61.0,196.0,74.0,66.0,64.0,193.0,142.0,70.0,193.0,51.0,142.0,70.0,193.0,196.0,124.0,59.0,83.0,54.0,null,85.0,100.0,72.0,151.0,124.0,43.0,193.0,63.0,82.0,71.0,65.0,78.0,74.0,43.0,188.0,74.0,60.0,85.0,61.0,76.0,77.0,45.0,58.0,95.0,71.0,57.0,78.0,59.0,58.0,74.0,193.0,46.0,62.0,78.0,74.0,81.0,193.0,72.0,82.0,73.0,128.0,124.0,50.0,124.0,59.0,44.0,57.0,54.0,32.0,142.0,73.0,74.0,57.0,193.0,52.0,69.0,53.0,54.0,48.0,124.0,90.0,75.0,83.0,94.0,92.0,91.0,62.0,64.0,124.0,193.0,45.0,193.0,58.0,52.0,63.0,60.0,74.0,59.0,86.0,55.0,131.0,142.0,54.0,193.0,193.0,196.0,193.0,63.0,73.0,46.0,156.0,90.0,79.0,58.0,66.0,72.0,41.0,122.0,142.0,193.0,42.0,70.0,72.0,131.0,77.0,76.0,67.0,85.0,null,66.0,142.0,54.0,72.0,193.0,196.0,166.0,68.0,85.0,76.0,62.0,60.0,58.0,56.0,64.0,null,75.0,72.0,193.0,196.0,196.0,83.0,100.0,56.0,66.0,71.0,67.0,76.0,142.0,193.0,null,124.0,96.0,188.0,68.0,80.0,87.0,52.0,142.0,82.0,47.0,65.0,124.0,84.0,142.0,79.0,52.0,41.0,73.0,83.0,65.0,82.0,76.0,79.0,36.0,33.0,null,45.0,193.0,58.0,80.0,79.0,73.0,142.0,62.0,73.0,70.0,61.0,196.0,196.0,75.0,68.0,49.0,64.0,124.0,73.0,68.0,91.0,68.0,142.0,68.0,56.0,193.0,86.0,69.0,57.0,142.0,66.0,70.0,74.0,128.0,56.0,45.0,57.0,45.0,58.0,193.0,156.0,193.0,51.0,47.0,38.0,78.0,193.0,69.0,37.0,124.0,51.0,90.0,90.0,51.0,58.0,142.0,66.0,94.0,19.0,69.0,56.0,193.0,null,193.0,174.0,46.0,196.0,82.0,124.0,57.0,100.0,81.0,193.0,131.0,54.0,91.0,193.0,80.0,142.0,84.0,70.0,156.0,52.0,68.0,73.0,78.0,142.0,79.0,70.0,193.0,84.0,74.0,193.0,69.0,75.0,193.0,70.0,68.0,44.0,69.0,68.0,193.0,68.0,89.0,72.0,65.0,196.0,66.0,69.0,73.0,72.0,82.0,69.0,69.0,77.0,142.0,73.0,124.0,72.0,77.0,86.0,142.0,75.0,null,80.0,142.0,156.0,124.0,54.0,193.0,193.0,68.0,93.0,193.0,73.0,92.0,74.0,142.0,98.0,70.0,73.0,75.0,77.0,81.0,124.0,52.0,193.0,51.0,51.0,96.0,null,62.0,74.0,196.0,75.0,61.0,67.0,77.0,44.0,67.0,62.0,100.0,142.0,89.0,80.0,78.0,64.0,77.0,124.0,196.0,142.0,61.0,72.0,67.0,86.0,61.0,80.0,67.0,53.0,55.0,null,87.0,71.0,null,59.0,50.0,142.0,124.0,null,81.0,69.0,147.0,74.0,54.0,55.0,60.0,193.0,196.0,null,96.0,93.0,71.0,91.0,42.0,83.0,66.0,193.0,81.0,124.0,147.0,41.0,56.0,77.0,58.0,66.0,124.0,52.0,47.0,41.0,68.0,63.0,62.0,71.0,39.0,80.0,61.0,70.0,72.0,89.0,81.0,48.0,193.0,38.0,60.0,55.0,54.0,null,86.0,124.0,196.0,70.0,73.0,72.0,47.0,38.0,131.0,49.0,88.0,22.0,80.0,66.0,80.0,83.0,50.0,131.0,87.0,null,null,85.0,87.0,85.0,87.0,70.0,67.0,70.0,61.0,51.0,142.0,61.0,193.0,null,193.0,48.0,57.0,193.0,147.0,87.0,89.0,null,65.0,52.0,80.0,88.0,52.0,56.0,80.0,193.0,68.0,156.0,47.0,51.0,193.0,80.0,73.0,68.0,89.0,193.0,86.0,142.0,142.0,70.0,57.0,193.0,77.0,69.0,80.0,73.0,63.0,124.0,124.0,78.0,76.0,196.0,193.0,73.0,52.0,66.0,74.0,142.0,60.0,82.0,193.0,65.0,46.0,69.0,76.0,46.0,72.0,38.0,51.0,null,33.0,142.0,84.0,193.0,85.0,193.0,60.0,80.0,null,42.0,65.0,58.0,64.0,null,58.0,131.0,142.0,83.0,91.0,193.0,97.0,80.0,66.0,193.0,64.0,null,193.0,193.0,66.0,156.0,124.0,193.0,100.0,193.0,23.0,62.0,64.0,65.0,82.0,91.0,null,75.0,69.0,64.0,43.0,69.0,47.0,74.0,57.0,124.0,193.0,48.0,147.0,193.0,56.0,94.0,91.0,57.0,76.0,50.0,63.0,79.0,44.0,95.0,193.0,193.0,193.0,193.0,71.0,131.0,57.0,41.0,193.0,62.0,68.0,43.0,54.0,65.0,76.0,47.0,64.0,75.0,78.0,196.0,73.0,193.0,57.0,95.0,131.0,66.0,38.0,124.0,76.0,79.0,182.0,82.0,85.0,65.0,86.0,73.0,65.0,76.0,124.0,70.0,49.0,51.0,48.0,null,80.0,73.0,65.0,82.0,59.0,73.0,193.0,84.0,142.0,null,77.0,75.0,68.0,88.0,86.0,51.0,62.0,79.0,54.0,193.0,37.0,42.0,62.0,76.0,89.0,97.0,124.0,68.0,92.0,55.0,68.0,60.0,171.0,71.0,88.0,75.0,53.0,73.0,91.0,43.0,81.0,74.0,36.0,70.0,75.0,93.0,50.0,52.0,42.0,124.0,156.0,64.0,53.0,53.0,51.0,53.0,34.0,92.0,58.0,72.0,76.0,66.0,100.0,38.0,61.0,71.0,193.0,87.0,85.0,92.0,56.0,50.0,48.0,82.0,38.0,77.0,63.0,52.0,89.0,54.0,83.0,54.0,66.0,69.0,56.0,188.0,193.0,83.0,100.0,87.0,156.0,196.0,188.0,79.0,124.0,75.0,171.0,78.0,193.0,82.0,84.0,68.0,196.0,78.0,142.0,193.0,166.0,156.0,142.0,156.0,52.0,62.0,142.0,82.0,74.0,70.0,44.0,66.0,78.0,193.0,93.0,44.0,61.0,55.0,71.0,72.0,null,48.0,174.0,193.0,193.0,98.0,142.0,43.0,193.0,66.0,54.0,null,59.0,71.0,124.0,196.0,84.0,72.0,40.0,58.0,193.0,27.0,70.0,94.0,72.0,74.0,52.0,null,100.0,42.0,54.0,68.0,75.0,81.0,193.0,59.0,53.0,90.0,73.0,100.0,51.0,82.0,100.0,61.0,124.0,72.0,76.0,46.0,null,193.0,95.0,62.0,193.0,93.0,196.0,68.0,79.0,53.0,null,51.0,49.0,84.0,63.0,196.0,78.0,74.0,77.0,56.0,60.0,90.0,82.0,85.0,64.0,174.0,70.0,45.0,69.0,76.0,193.0,51.0,60.0,36.0,45.0,70.0,43.0,69.0,97.0,193.0,74.0,43.0,72.0,62.0,64.0,82.0,64.0,43.0,60.0,193.0,65.0,70.0,193.0,35.0,193.0,77.0,80.0,49.0,124.0,74.0,124.0,53.0,null,53.0,77.0,95.0,49.0,75.0,95.0,36.0,34.0,78.0,82.0,52.0,74.0,89.0,60.0,58.0,54.0,57.0,67.0,74.0,90.0,193.0,124.0,34.0,67.0,196.0,61.0,80.0,62.0,41.0,44.0,57.0,50.0,193.0,142.0,73.0,84.0,70.0,null,57.0,196.0,71.0,73.0,null,81.0,193.0,124.0,196.0,61.0,79.0,42.0,142.0,95.0,62.0,193.0,83.0,193.0,188.0,63.0,71.0,85.0,79.0,74.0,53.0,76.0,54.0,60.0,null,196.0,58.0,142.0,142.0,196.0,78.0,124.0,128.0,34.0,142.0,77.0,27.0,46.0,142.0,86.0,69.0,193.0,61.0,99.0,49.0,76.0,65.0,128.0,66.0,76.0,52.0,78.0,156.0,86.0,81.0,193.0,66.0,193.0,77.0,55.0,193.0,63.0,80.0,null,47.0,79.0,38.0,80.0,193.0,57.0,41.0,64.0,75.0,68.0,54.0,142.0,77.0,80.0,59.0,75.0,58.0,38.0,196.0,131.0,74.0,52.0,66.0,null,74.0,55.0,79.0,193.0,55.0,55.0,64.0,81.0,64.0,193.0,55.0,62.0,142.0,82.0,74.0,68.0,64.0,88.0,73.0,188.0,83.0,49.0,55.0,77.0,79.0,15.0,84.0,63.0,65.0,56.0,61.0,124.0,78.0,193.0,124.0,42.0,93.0,87.0,193.0,193.0,84.0,67.0,96.0,75.0,193.0,124.0,67.0,89.0,68.0,124.0,78.0,83.0,90.0,43.0,193.0,66.0,86.0,94.0,52.0,60.0,124.0,62.0,99.0,76.0,55.0,193.0,59.0,57.0,59.0,79.0,null,88.0,76.0,74.0,63.0,43.0,51.0,null,193.0,60.0,65.0,39.0,40.0,81.0,79.0,166.0,70.0,128.0,124.0,61.0,94.0,70.0,67.0,64.0,69.0,84.0,76.0,193.0,72.0,100.0,66.0,124.0,188.0,22.0,193.0,124.0,82.0,70.0,54.0,78.0,40.0,142.0,193.0,151.0,64.0,67.0,147.0,69.0,null,182.0,69.0,73.0,67.0,null,72.0,64.0,62.0,67.0,142.0,88.0,51.0,65.0,53.0,71.0,91.0,62.0,28.0,193.0,84.0,53.0,64.0,124.0,null,67.0,42.0,33.0,69.0,null,193.0,193.0,57.0,null,68.0,82.0,47.0,52.0,99.0,70.0,67.0,193.0,81.0,68.0,49.0,124.0,124.0,193.0,80.0,76.0,67.0,68.0,81.0,80.0,124.0,63.0,67.0,42.0,75.0,77.0,84.0,68.0,40.0,60.0,92.0,77.0,73.0,50.0,124.0,84.0,77.0,74.0,70.0,50.0,82.0,193.0,65.0,53.0,131.0,67.0,91.0,72.0,124.0,null,100.0,193.0,77.0,193.0,66.0,48.0,54.0,93.0,62.0,71.0,196.0,64.0,84.0,80.0,72.0,54.0,80.0,193.0,193.0,64.0,59.0,74.0,10.0,193.0,142.0,62.0,81.0,81.0,193.0,64.0,100.0,49.0,44.0,81.0,54.0,68.0,193.0,88.0,92.0,62.0,90.0,59.0,92.0,74.0,56.0,54.0,90.0,193.0,46.0,49.0,53.0,32.0,78.0,78.0,67.0,82.0,193.0,74.0,75.0,99.0,70.0,79.0,67.0,131.0,70.0,75.0,80.0,43.0,193.0,30.0,71.0,49.0,36.0,193.0,81.0,62.0,193.0,76.0],\"y0\":\" \",\"yaxis\":\"y\",\"type\":\"box\"}],                        {\"template\":{\"data\":{\"histogram2dcontour\":[{\"type\":\"histogram2dcontour\",\"colorbar\":{\"outlinewidth\":0,\"ticks\":\"\"},\"colorscale\":[[0.0,\"#0d0887\"],[0.1111111111111111,\"#46039f\"],[0.2222222222222222,\"#7201a8\"],[0.3333333333333333,\"#9c179e\"],[0.4444444444444444,\"#bd3786\"],[0.5555555555555556,\"#d8576b\"],[0.6666666666666666,\"#ed7953\"],[0.7777777777777778,\"#fb9f3a\"],[0.8888888888888888,\"#fdca26\"],[1.0,\"#f0f921\"]]}],\"choropleth\":[{\"type\":\"choropleth\",\"colorbar\":{\"outlinewidth\":0,\"ticks\":\"\"}}],\"histogram2d\":[{\"type\":\"histogram2d\",\"colorbar\":{\"outlinewidth\":0,\"ticks\":\"\"},\"colorscale\":[[0.0,\"#0d0887\"],[0.1111111111111111,\"#46039f\"],[0.2222222222222222,\"#7201a8\"],[0.3333333333333333,\"#9c179e\"],[0.4444444444444444,\"#bd3786\"],[0.5555555555555556,\"#d8576b\"],[0.6666666666666666,\"#ed7953\"],[0.7777777777777778,\"#fb9f3a\"],[0.8888888888888888,\"#fdca26\"],[1.0,\"#f0f921\"]]}],\"heatmap\":[{\"type\":\"heatmap\",\"colorbar\":{\"outlinewidth\":0,\"ticks\":\"\"},\"colorscale\":[[0.0,\"#0d0887\"],[0.1111111111111111,\"#46039f\"],[0.2222222222222222,\"#7201a8\"],[0.3333333333333333,\"#9c179e\"],[0.4444444444444444,\"#bd3786\"],[0.5555555555555556,\"#d8576b\"],[0.6666666666666666,\"#ed7953\"],[0.7777777777777778,\"#fb9f3a\"],[0.8888888888888888,\"#fdca26\"],[1.0,\"#f0f921\"]]}],\"heatmapgl\":[{\"type\":\"heatmapgl\",\"colorbar\":{\"outlinewidth\":0,\"ticks\":\"\"},\"colorscale\":[[0.0,\"#0d0887\"],[0.1111111111111111,\"#46039f\"],[0.2222222222222222,\"#7201a8\"],[0.3333333333333333,\"#9c179e\"],[0.4444444444444444,\"#bd3786\"],[0.5555555555555556,\"#d8576b\"],[0.6666666666666666,\"#ed7953\"],[0.7777777777777778,\"#fb9f3a\"],[0.8888888888888888,\"#fdca26\"],[1.0,\"#f0f921\"]]}],\"contourcarpet\":[{\"type\":\"contourcarpet\",\"colorbar\":{\"outlinewidth\":0,\"ticks\":\"\"}}],\"contour\":[{\"type\":\"contour\",\"colorbar\":{\"outlinewidth\":0,\"ticks\":\"\"},\"colorscale\":[[0.0,\"#0d0887\"],[0.1111111111111111,\"#46039f\"],[0.2222222222222222,\"#7201a8\"],[0.3333333333333333,\"#9c179e\"],[0.4444444444444444,\"#bd3786\"],[0.5555555555555556,\"#d8576b\"],[0.6666666666666666,\"#ed7953\"],[0.7777777777777778,\"#fb9f3a\"],[0.8888888888888888,\"#fdca26\"],[1.0,\"#f0f921\"]]}],\"surface\":[{\"type\":\"surface\",\"colorbar\":{\"outlinewidth\":0,\"ticks\":\"\"},\"colorscale\":[[0.0,\"#0d0887\"],[0.1111111111111111,\"#46039f\"],[0.2222222222222222,\"#7201a8\"],[0.3333333333333333,\"#9c179e\"],[0.4444444444444444,\"#bd3786\"],[0.5555555555555556,\"#d8576b\"],[0.6666666666666666,\"#ed7953\"],[0.7777777777777778,\"#fb9f3a\"],[0.8888888888888888,\"#fdca26\"],[1.0,\"#f0f921\"]]}],\"mesh3d\":[{\"type\":\"mesh3d\",\"colorbar\":{\"outlinewidth\":0,\"ticks\":\"\"}}],\"scatter\":[{\"fillpattern\":{\"fillmode\":\"overlay\",\"size\":10,\"solidity\":0.2},\"type\":\"scatter\"}],\"parcoords\":[{\"type\":\"parcoords\",\"line\":{\"colorbar\":{\"outlinewidth\":0,\"ticks\":\"\"}}}],\"scatterpolargl\":[{\"type\":\"scatterpolargl\",\"marker\":{\"colorbar\":{\"outlinewidth\":0,\"ticks\":\"\"}}}],\"bar\":[{\"error_x\":{\"color\":\"#2a3f5f\"},\"error_y\":{\"color\":\"#2a3f5f\"},\"marker\":{\"line\":{\"color\":\"#E5ECF6\",\"width\":0.5},\"pattern\":{\"fillmode\":\"overlay\",\"size\":10,\"solidity\":0.2}},\"type\":\"bar\"}],\"scattergeo\":[{\"type\":\"scattergeo\",\"marker\":{\"colorbar\":{\"outlinewidth\":0,\"ticks\":\"\"}}}],\"scatterpolar\":[{\"type\":\"scatterpolar\",\"marker\":{\"colorbar\":{\"outlinewidth\":0,\"ticks\":\"\"}}}],\"histogram\":[{\"marker\":{\"pattern\":{\"fillmode\":\"overlay\",\"size\":10,\"solidity\":0.2}},\"type\":\"histogram\"}],\"scattergl\":[{\"type\":\"scattergl\",\"marker\":{\"colorbar\":{\"outlinewidth\":0,\"ticks\":\"\"}}}],\"scatter3d\":[{\"type\":\"scatter3d\",\"line\":{\"colorbar\":{\"outlinewidth\":0,\"ticks\":\"\"}},\"marker\":{\"colorbar\":{\"outlinewidth\":0,\"ticks\":\"\"}}}],\"scattermapbox\":[{\"type\":\"scattermapbox\",\"marker\":{\"colorbar\":{\"outlinewidth\":0,\"ticks\":\"\"}}}],\"scatterternary\":[{\"type\":\"scatterternary\",\"marker\":{\"colorbar\":{\"outlinewidth\":0,\"ticks\":\"\"}}}],\"scattercarpet\":[{\"type\":\"scattercarpet\",\"marker\":{\"colorbar\":{\"outlinewidth\":0,\"ticks\":\"\"}}}],\"carpet\":[{\"aaxis\":{\"endlinecolor\":\"#2a3f5f\",\"gridcolor\":\"white\",\"linecolor\":\"white\",\"minorgridcolor\":\"white\",\"startlinecolor\":\"#2a3f5f\"},\"baxis\":{\"endlinecolor\":\"#2a3f5f\",\"gridcolor\":\"white\",\"linecolor\":\"white\",\"minorgridcolor\":\"white\",\"startlinecolor\":\"#2a3f5f\"},\"type\":\"carpet\"}],\"table\":[{\"cells\":{\"fill\":{\"color\":\"#EBF0F8\"},\"line\":{\"color\":\"white\"}},\"header\":{\"fill\":{\"color\":\"#C8D4E3\"},\"line\":{\"color\":\"white\"}},\"type\":\"table\"}],\"barpolar\":[{\"marker\":{\"line\":{\"color\":\"#E5ECF6\",\"width\":0.5},\"pattern\":{\"fillmode\":\"overlay\",\"size\":10,\"solidity\":0.2}},\"type\":\"barpolar\"}],\"pie\":[{\"automargin\":true,\"type\":\"pie\"}]},\"layout\":{\"autotypenumbers\":\"strict\",\"colorway\":[\"#636efa\",\"#EF553B\",\"#00cc96\",\"#ab63fa\",\"#FFA15A\",\"#19d3f3\",\"#FF6692\",\"#B6E880\",\"#FF97FF\",\"#FECB52\"],\"font\":{\"color\":\"#2a3f5f\"},\"hovermode\":\"closest\",\"hoverlabel\":{\"align\":\"left\"},\"paper_bgcolor\":\"white\",\"plot_bgcolor\":\"#E5ECF6\",\"polar\":{\"bgcolor\":\"#E5ECF6\",\"angularaxis\":{\"gridcolor\":\"white\",\"linecolor\":\"white\",\"ticks\":\"\"},\"radialaxis\":{\"gridcolor\":\"white\",\"linecolor\":\"white\",\"ticks\":\"\"}},\"ternary\":{\"bgcolor\":\"#E5ECF6\",\"aaxis\":{\"gridcolor\":\"white\",\"linecolor\":\"white\",\"ticks\":\"\"},\"baxis\":{\"gridcolor\":\"white\",\"linecolor\":\"white\",\"ticks\":\"\"},\"caxis\":{\"gridcolor\":\"white\",\"linecolor\":\"white\",\"ticks\":\"\"}},\"coloraxis\":{\"colorbar\":{\"outlinewidth\":0,\"ticks\":\"\"}},\"colorscale\":{\"sequential\":[[0.0,\"#0d0887\"],[0.1111111111111111,\"#46039f\"],[0.2222222222222222,\"#7201a8\"],[0.3333333333333333,\"#9c179e\"],[0.4444444444444444,\"#bd3786\"],[0.5555555555555556,\"#d8576b\"],[0.6666666666666666,\"#ed7953\"],[0.7777777777777778,\"#fb9f3a\"],[0.8888888888888888,\"#fdca26\"],[1.0,\"#f0f921\"]],\"sequentialminus\":[[0.0,\"#0d0887\"],[0.1111111111111111,\"#46039f\"],[0.2222222222222222,\"#7201a8\"],[0.3333333333333333,\"#9c179e\"],[0.4444444444444444,\"#bd3786\"],[0.5555555555555556,\"#d8576b\"],[0.6666666666666666,\"#ed7953\"],[0.7777777777777778,\"#fb9f3a\"],[0.8888888888888888,\"#fdca26\"],[1.0,\"#f0f921\"]],\"diverging\":[[0,\"#8e0152\"],[0.1,\"#c51b7d\"],[0.2,\"#de77ae\"],[0.3,\"#f1b6da\"],[0.4,\"#fde0ef\"],[0.5,\"#f7f7f7\"],[0.6,\"#e6f5d0\"],[0.7,\"#b8e186\"],[0.8,\"#7fbc41\"],[0.9,\"#4d9221\"],[1,\"#276419\"]]},\"xaxis\":{\"gridcolor\":\"white\",\"linecolor\":\"white\",\"ticks\":\"\",\"title\":{\"standoff\":15},\"zerolinecolor\":\"white\",\"automargin\":true,\"zerolinewidth\":2},\"yaxis\":{\"gridcolor\":\"white\",\"linecolor\":\"white\",\"ticks\":\"\",\"title\":{\"standoff\":15},\"zerolinecolor\":\"white\",\"automargin\":true,\"zerolinewidth\":2},\"scene\":{\"xaxis\":{\"backgroundcolor\":\"#E5ECF6\",\"gridcolor\":\"white\",\"linecolor\":\"white\",\"showbackground\":true,\"ticks\":\"\",\"zerolinecolor\":\"white\",\"gridwidth\":2},\"yaxis\":{\"backgroundcolor\":\"#E5ECF6\",\"gridcolor\":\"white\",\"linecolor\":\"white\",\"showbackground\":true,\"ticks\":\"\",\"zerolinecolor\":\"white\",\"gridwidth\":2},\"zaxis\":{\"backgroundcolor\":\"#E5ECF6\",\"gridcolor\":\"white\",\"linecolor\":\"white\",\"showbackground\":true,\"ticks\":\"\",\"zerolinecolor\":\"white\",\"gridwidth\":2}},\"shapedefaults\":{\"line\":{\"color\":\"#2a3f5f\"}},\"annotationdefaults\":{\"arrowcolor\":\"#2a3f5f\",\"arrowhead\":0,\"arrowwidth\":1},\"geo\":{\"bgcolor\":\"white\",\"landcolor\":\"#E5ECF6\",\"subunitcolor\":\"white\",\"showland\":true,\"showlakes\":true,\"lakecolor\":\"white\"},\"title\":{\"x\":0.05},\"mapbox\":{\"style\":\"light\"}}},\"xaxis\":{\"anchor\":\"y\",\"domain\":[0.0,1.0]},\"yaxis\":{\"anchor\":\"x\",\"domain\":[0.0,1.0],\"title\":{\"text\":\"score\"}},\"legend\":{\"title\":{\"text\":\"subject\"},\"tracegroupgap\":0},\"margin\":{\"t\":60},\"boxmode\":\"group\"},                        {\"responsive\": true}                    ).then(function(){\n",
       "                            \n",
       "var gd = document.getElementById('ccaaa545-7306-4b1c-b896-32ef981c2f6f');\n",
       "var x = new MutationObserver(function (mutations, observer) {{\n",
       "        var display = window.getComputedStyle(gd).display;\n",
       "        if (!display || display === 'none') {{\n",
       "            console.log([gd, 'removed!']);\n",
       "            Plotly.purge(gd);\n",
       "            observer.disconnect();\n",
       "        }}\n",
       "}});\n",
       "\n",
       "// Listen for the removal of the full notebook cells\n",
       "var notebookContainer = gd.closest('#notebook-container');\n",
       "if (notebookContainer) {{\n",
       "    x.observe(notebookContainer, {childList: true});\n",
       "}}\n",
       "\n",
       "// Listen for the clearing of the current output cell\n",
       "var outputEl = gd.closest('.output');\n",
       "if (outputEl) {{\n",
       "    x.observe(outputEl, {childList: true});\n",
       "}}\n",
       "\n",
       "                        })                };                });            </script>        </div>"
      ]
     },
     "metadata": {},
     "output_type": "display_data"
    }
   ],
   "source": [
    "# Código del amigo ChatGPT (listo para usar)\n",
    "fig = px.box(\n",
    "    df_grades.melt(\n",
    "        value_vars=[\"math score\", \"reading score\", \"writing score\"],\n",
    "        var_name=\"subject\",\n",
    "        value_name=\"score\",\n",
    "    ),\n",
    "    y=\"score\",\n",
    "    color=\"subject\",\n",
    ")\n",
    "fig.show()"
   ]
  },
  {
   "cell_type": "code",
   "execution_count": 11,
   "metadata": {
    "ExecuteTime": {
     "end_time": "2024-09-03T04:23:49.658909Z",
     "start_time": "2024-09-03T04:23:49.548130Z"
    }
   },
   "outputs": [
    {
     "name": "stdout",
     "output_type": "stream",
     "text": [
      "1.- El dataframe tiene 1400 filas y 9 columnas\n",
      " \n",
      "2.- El dataframe tiene esta compuesto por las siguientes columnas ['names', 'gender', 'race/ethnicity', 'parental level of education', 'lunch', 'test preparation course', 'math score', 'reading score', 'writing score']\n",
      " \n",
      "3.- Ejemplos de filas del dataframe\n",
      " \n",
      "Primeras 5 filas:\n"
     ]
    },
    {
     "data": {
      "text/html": [
       "<div>\n",
       "<style scoped>\n",
       "    .dataframe tbody tr th:only-of-type {\n",
       "        vertical-align: middle;\n",
       "    }\n",
       "\n",
       "    .dataframe tbody tr th {\n",
       "        vertical-align: top;\n",
       "    }\n",
       "\n",
       "    .dataframe thead th {\n",
       "        text-align: right;\n",
       "    }\n",
       "</style>\n",
       "<table border=\"1\" class=\"dataframe\">\n",
       "  <thead>\n",
       "    <tr style=\"text-align: right;\">\n",
       "      <th></th>\n",
       "      <th>names</th>\n",
       "      <th>gender</th>\n",
       "      <th>race/ethnicity</th>\n",
       "      <th>parental level of education</th>\n",
       "      <th>lunch</th>\n",
       "      <th>test preparation course</th>\n",
       "      <th>math score</th>\n",
       "      <th>reading score</th>\n",
       "      <th>writing score</th>\n",
       "    </tr>\n",
       "  </thead>\n",
       "  <tbody>\n",
       "    <tr>\n",
       "      <th>0</th>\n",
       "      <td>Rita Courtney</td>\n",
       "      <td>female</td>\n",
       "      <td>group B</td>\n",
       "      <td>some high school</td>\n",
       "      <td>standard</td>\n",
       "      <td>none</td>\n",
       "      <td>37.0</td>\n",
       "      <td>46.0</td>\n",
       "      <td>46.0</td>\n",
       "    </tr>\n",
       "    <tr>\n",
       "      <th>1</th>\n",
       "      <td>Madeline Fuller</td>\n",
       "      <td>female</td>\n",
       "      <td>group C</td>\n",
       "      <td>some high school</td>\n",
       "      <td>standard</td>\n",
       "      <td>none</td>\n",
       "      <td>124.0</td>\n",
       "      <td>142.0</td>\n",
       "      <td>142.0</td>\n",
       "    </tr>\n",
       "    <tr>\n",
       "      <th>2</th>\n",
       "      <td>Daniel Rester</td>\n",
       "      <td>male</td>\n",
       "      <td>group E</td>\n",
       "      <td>associate's degree</td>\n",
       "      <td>standard</td>\n",
       "      <td>none</td>\n",
       "      <td>156.0</td>\n",
       "      <td>196.0</td>\n",
       "      <td>193.0</td>\n",
       "    </tr>\n",
       "    <tr>\n",
       "      <th>3</th>\n",
       "      <td>Charles Linstrom</td>\n",
       "      <td>male</td>\n",
       "      <td>group A</td>\n",
       "      <td>bachelor's degree</td>\n",
       "      <td>standard</td>\n",
       "      <td>completed</td>\n",
       "      <td>80.0</td>\n",
       "      <td>78.0</td>\n",
       "      <td>81.0</td>\n",
       "    </tr>\n",
       "    <tr>\n",
       "      <th>4</th>\n",
       "      <td>Geraldine Hale</td>\n",
       "      <td>female</td>\n",
       "      <td>group A</td>\n",
       "      <td>associate's degree</td>\n",
       "      <td>standard</td>\n",
       "      <td>none</td>\n",
       "      <td>131.0</td>\n",
       "      <td>166.0</td>\n",
       "      <td>166.0</td>\n",
       "    </tr>\n",
       "  </tbody>\n",
       "</table>\n",
       "</div>"
      ],
      "text/plain": [
       "              names  gender race/ethnicity parental level of education  \\\n",
       "0     Rita Courtney  female        group B            some high school   \n",
       "1   Madeline Fuller  female        group C            some high school   \n",
       "2     Daniel Rester    male        group E          associate's degree   \n",
       "3  Charles Linstrom    male        group A           bachelor's degree   \n",
       "4    Geraldine Hale  female        group A          associate's degree   \n",
       "\n",
       "      lunch test preparation course  math score  reading score  writing score  \n",
       "0  standard                    none        37.0           46.0           46.0  \n",
       "1  standard                    none       124.0          142.0          142.0  \n",
       "2  standard                    none       156.0          196.0          193.0  \n",
       "3  standard               completed        80.0           78.0           81.0  \n",
       "4  standard                    none       131.0          166.0          166.0  "
      ]
     },
     "metadata": {},
     "output_type": "display_data"
    },
    {
     "name": "stdout",
     "output_type": "stream",
     "text": [
      "Últimas 5 filas:\n"
     ]
    },
    {
     "data": {
      "text/html": [
       "<div>\n",
       "<style scoped>\n",
       "    .dataframe tbody tr th:only-of-type {\n",
       "        vertical-align: middle;\n",
       "    }\n",
       "\n",
       "    .dataframe tbody tr th {\n",
       "        vertical-align: top;\n",
       "    }\n",
       "\n",
       "    .dataframe thead th {\n",
       "        text-align: right;\n",
       "    }\n",
       "</style>\n",
       "<table border=\"1\" class=\"dataframe\">\n",
       "  <thead>\n",
       "    <tr style=\"text-align: right;\">\n",
       "      <th></th>\n",
       "      <th>names</th>\n",
       "      <th>gender</th>\n",
       "      <th>race/ethnicity</th>\n",
       "      <th>parental level of education</th>\n",
       "      <th>lunch</th>\n",
       "      <th>test preparation course</th>\n",
       "      <th>math score</th>\n",
       "      <th>reading score</th>\n",
       "      <th>writing score</th>\n",
       "    </tr>\n",
       "  </thead>\n",
       "  <tbody>\n",
       "    <tr>\n",
       "      <th>1395</th>\n",
       "      <td>Alexander Dillon</td>\n",
       "      <td>male</td>\n",
       "      <td>group D</td>\n",
       "      <td>associate's degree</td>\n",
       "      <td>standard</td>\n",
       "      <td>none</td>\n",
       "      <td>193.0</td>\n",
       "      <td>142.0</td>\n",
       "      <td>193.0</td>\n",
       "    </tr>\n",
       "    <tr>\n",
       "      <th>1396</th>\n",
       "      <td>Marina Zeigler</td>\n",
       "      <td>female</td>\n",
       "      <td>group C</td>\n",
       "      <td>bachelor's degree</td>\n",
       "      <td>free/reduced</td>\n",
       "      <td>completed</td>\n",
       "      <td>66.0</td>\n",
       "      <td>74.0</td>\n",
       "      <td>81.0</td>\n",
       "    </tr>\n",
       "    <tr>\n",
       "      <th>1397</th>\n",
       "      <td>Laurie Carter</td>\n",
       "      <td>female</td>\n",
       "      <td>group B</td>\n",
       "      <td>some high school</td>\n",
       "      <td>standard</td>\n",
       "      <td>completed</td>\n",
       "      <td>54.0</td>\n",
       "      <td>61.0</td>\n",
       "      <td>62.0</td>\n",
       "    </tr>\n",
       "    <tr>\n",
       "      <th>1398</th>\n",
       "      <td>Joseph Mccoy</td>\n",
       "      <td>male</td>\n",
       "      <td>group D</td>\n",
       "      <td>some college</td>\n",
       "      <td>free/reduced</td>\n",
       "      <td>none</td>\n",
       "      <td>193.0</td>\n",
       "      <td>196.0</td>\n",
       "      <td>193.0</td>\n",
       "    </tr>\n",
       "    <tr>\n",
       "      <th>1399</th>\n",
       "      <td>Amanda Perez</td>\n",
       "      <td>female</td>\n",
       "      <td>group A</td>\n",
       "      <td>high school</td>\n",
       "      <td>standard</td>\n",
       "      <td>completed</td>\n",
       "      <td>68.0</td>\n",
       "      <td>80.0</td>\n",
       "      <td>76.0</td>\n",
       "    </tr>\n",
       "  </tbody>\n",
       "</table>\n",
       "</div>"
      ],
      "text/plain": [
       "                 names  gender race/ethnicity parental level of education  \\\n",
       "1395  Alexander Dillon    male        group D          associate's degree   \n",
       "1396    Marina Zeigler  female        group C           bachelor's degree   \n",
       "1397     Laurie Carter  female        group B            some high school   \n",
       "1398      Joseph Mccoy    male        group D                some college   \n",
       "1399      Amanda Perez  female        group A                 high school   \n",
       "\n",
       "             lunch test preparation course  math score  reading score  \\\n",
       "1395      standard                    none       193.0          142.0   \n",
       "1396  free/reduced               completed        66.0           74.0   \n",
       "1397      standard               completed        54.0           61.0   \n",
       "1398  free/reduced                    none       193.0          196.0   \n",
       "1399      standard               completed        68.0           80.0   \n",
       "\n",
       "      writing score  \n",
       "1395          193.0  \n",
       "1396           81.0  \n",
       "1397           62.0  \n",
       "1398          193.0  \n",
       "1399           76.0  "
      ]
     },
     "metadata": {},
     "output_type": "display_data"
    },
    {
     "name": "stdout",
     "output_type": "stream",
     "text": [
      "Muestreo aleatorio de 5 filas:\n"
     ]
    },
    {
     "data": {
      "text/html": [
       "<div>\n",
       "<style scoped>\n",
       "    .dataframe tbody tr th:only-of-type {\n",
       "        vertical-align: middle;\n",
       "    }\n",
       "\n",
       "    .dataframe tbody tr th {\n",
       "        vertical-align: top;\n",
       "    }\n",
       "\n",
       "    .dataframe thead th {\n",
       "        text-align: right;\n",
       "    }\n",
       "</style>\n",
       "<table border=\"1\" class=\"dataframe\">\n",
       "  <thead>\n",
       "    <tr style=\"text-align: right;\">\n",
       "      <th></th>\n",
       "      <th>names</th>\n",
       "      <th>gender</th>\n",
       "      <th>race/ethnicity</th>\n",
       "      <th>parental level of education</th>\n",
       "      <th>lunch</th>\n",
       "      <th>test preparation course</th>\n",
       "      <th>math score</th>\n",
       "      <th>reading score</th>\n",
       "      <th>writing score</th>\n",
       "    </tr>\n",
       "  </thead>\n",
       "  <tbody>\n",
       "    <tr>\n",
       "      <th>495</th>\n",
       "      <td>Marguerite Ramos</td>\n",
       "      <td>female</td>\n",
       "      <td>group C</td>\n",
       "      <td>bachelor's degree</td>\n",
       "      <td>standard</td>\n",
       "      <td>none</td>\n",
       "      <td>86.0</td>\n",
       "      <td>92.0</td>\n",
       "      <td>87.0</td>\n",
       "    </tr>\n",
       "    <tr>\n",
       "      <th>798</th>\n",
       "      <td>Sarah Flannery</td>\n",
       "      <td>female</td>\n",
       "      <td>group B</td>\n",
       "      <td>master's degree</td>\n",
       "      <td>standard</td>\n",
       "      <td>none</td>\n",
       "      <td>90.0</td>\n",
       "      <td>95.0</td>\n",
       "      <td>93.0</td>\n",
       "    </tr>\n",
       "    <tr>\n",
       "      <th>1082</th>\n",
       "      <td>Brian Langston</td>\n",
       "      <td>male</td>\n",
       "      <td>group C</td>\n",
       "      <td>high school</td>\n",
       "      <td>free/reduced</td>\n",
       "      <td>none</td>\n",
       "      <td>59.0</td>\n",
       "      <td>53.0</td>\n",
       "      <td>52.0</td>\n",
       "    </tr>\n",
       "    <tr>\n",
       "      <th>723</th>\n",
       "      <td>Steven Maness</td>\n",
       "      <td>male</td>\n",
       "      <td>group B</td>\n",
       "      <td>some college</td>\n",
       "      <td>free/reduced</td>\n",
       "      <td>completed</td>\n",
       "      <td>74.0</td>\n",
       "      <td>77.0</td>\n",
       "      <td>76.0</td>\n",
       "    </tr>\n",
       "    <tr>\n",
       "      <th>977</th>\n",
       "      <td>Louise Romero</td>\n",
       "      <td>female</td>\n",
       "      <td>group D</td>\n",
       "      <td>associate's degree</td>\n",
       "      <td>standard</td>\n",
       "      <td>none</td>\n",
       "      <td>59.0</td>\n",
       "      <td>70.0</td>\n",
       "      <td>65.0</td>\n",
       "    </tr>\n",
       "  </tbody>\n",
       "</table>\n",
       "</div>"
      ],
      "text/plain": [
       "                 names  gender race/ethnicity parental level of education  \\\n",
       "495   Marguerite Ramos  female        group C           bachelor's degree   \n",
       "798     Sarah Flannery  female        group B             master's degree   \n",
       "1082    Brian Langston    male        group C                 high school   \n",
       "723      Steven Maness    male        group B                some college   \n",
       "977      Louise Romero  female        group D          associate's degree   \n",
       "\n",
       "             lunch test preparation course  math score  reading score  \\\n",
       "495       standard                    none        86.0           92.0   \n",
       "798       standard                    none        90.0           95.0   \n",
       "1082  free/reduced                    none        59.0           53.0   \n",
       "723   free/reduced               completed        74.0           77.0   \n",
       "977       standard                    none        59.0           70.0   \n",
       "\n",
       "      writing score  \n",
       "495            87.0  \n",
       "798            93.0  \n",
       "1082           52.0  \n",
       "723            76.0  \n",
       "977            65.0  "
      ]
     },
     "metadata": {},
     "output_type": "display_data"
    },
    {
     "name": "stdout",
     "output_type": "stream",
     "text": [
      " \n",
      "4.- Descripción numérica del Dataframe:\n"
     ]
    },
    {
     "data": {
      "text/html": [
       "<div>\n",
       "<style scoped>\n",
       "    .dataframe tbody tr th:only-of-type {\n",
       "        vertical-align: middle;\n",
       "    }\n",
       "\n",
       "    .dataframe tbody tr th {\n",
       "        vertical-align: top;\n",
       "    }\n",
       "\n",
       "    .dataframe thead th {\n",
       "        text-align: right;\n",
       "    }\n",
       "</style>\n",
       "<table border=\"1\" class=\"dataframe\">\n",
       "  <thead>\n",
       "    <tr style=\"text-align: right;\">\n",
       "      <th></th>\n",
       "      <th>math score</th>\n",
       "      <th>reading score</th>\n",
       "      <th>writing score</th>\n",
       "    </tr>\n",
       "  </thead>\n",
       "  <tbody>\n",
       "    <tr>\n",
       "      <th>count</th>\n",
       "      <td>1360.000000</td>\n",
       "      <td>1360.000000</td>\n",
       "      <td>1353.000000</td>\n",
       "    </tr>\n",
       "    <tr>\n",
       "      <th>mean</th>\n",
       "      <td>89.538971</td>\n",
       "      <td>93.086029</td>\n",
       "      <td>91.852919</td>\n",
       "    </tr>\n",
       "    <tr>\n",
       "      <th>std</th>\n",
       "      <td>47.152422</td>\n",
       "      <td>46.385775</td>\n",
       "      <td>47.043570</td>\n",
       "    </tr>\n",
       "    <tr>\n",
       "      <th>min</th>\n",
       "      <td>0.000000</td>\n",
       "      <td>17.000000</td>\n",
       "      <td>10.000000</td>\n",
       "    </tr>\n",
       "    <tr>\n",
       "      <th>25%</th>\n",
       "      <td>59.000000</td>\n",
       "      <td>63.000000</td>\n",
       "      <td>62.000000</td>\n",
       "    </tr>\n",
       "    <tr>\n",
       "      <th>50%</th>\n",
       "      <td>72.000000</td>\n",
       "      <td>76.000000</td>\n",
       "      <td>75.000000</td>\n",
       "    </tr>\n",
       "    <tr>\n",
       "      <th>75%</th>\n",
       "      <td>97.250000</td>\n",
       "      <td>100.000000</td>\n",
       "      <td>100.000000</td>\n",
       "    </tr>\n",
       "    <tr>\n",
       "      <th>max</th>\n",
       "      <td>196.000000</td>\n",
       "      <td>196.000000</td>\n",
       "      <td>196.000000</td>\n",
       "    </tr>\n",
       "  </tbody>\n",
       "</table>\n",
       "</div>"
      ],
      "text/plain": [
       "        math score  reading score  writing score\n",
       "count  1360.000000    1360.000000    1353.000000\n",
       "mean     89.538971      93.086029      91.852919\n",
       "std      47.152422      46.385775      47.043570\n",
       "min       0.000000      17.000000      10.000000\n",
       "25%      59.000000      63.000000      62.000000\n",
       "50%      72.000000      76.000000      75.000000\n",
       "75%      97.250000     100.000000     100.000000\n",
       "max     196.000000     196.000000     196.000000"
      ]
     },
     "metadata": {},
     "output_type": "display_data"
    },
    {
     "name": "stdout",
     "output_type": "stream",
     "text": [
      " \n",
      "5.- Cantidad de valores nulos por columna:\n"
     ]
    },
    {
     "data": {
      "text/plain": [
       "names                           0\n",
       "gender                          0\n",
       "race/ethnicity                  0\n",
       "parental level of education     0\n",
       "lunch                           0\n",
       "test preparation course         0\n",
       "math score                     40\n",
       "reading score                  40\n",
       "writing score                  47\n",
       "dtype: int64"
      ]
     },
     "metadata": {},
     "output_type": "display_data"
    },
    {
     "name": "stdout",
     "output_type": "stream",
     "text": [
      " \n",
      "6.- Cantidad de valores unicos por columna:\n"
     ]
    },
    {
     "data": {
      "text/plain": [
       "names                          1153\n",
       "gender                            2\n",
       "race/ethnicity                    5\n",
       "parental level of education       6\n",
       "lunch                             2\n",
       "test preparation course           2\n",
       "math score                       96\n",
       "reading score                    88\n",
       "writing score                    92\n",
       "dtype: int64"
      ]
     },
     "metadata": {},
     "output_type": "display_data"
    },
    {
     "name": "stdout",
     "output_type": "stream",
     "text": [
      " \n",
      "7.- Presenta un total de 247 filas con nombres duplicados.\n",
      " \n",
      "8.- Las filas con nombres duplicados son:\n"
     ]
    },
    {
     "data": {
      "text/html": [
       "<div>\n",
       "<style scoped>\n",
       "    .dataframe tbody tr th:only-of-type {\n",
       "        vertical-align: middle;\n",
       "    }\n",
       "\n",
       "    .dataframe tbody tr th {\n",
       "        vertical-align: top;\n",
       "    }\n",
       "\n",
       "    .dataframe thead th {\n",
       "        text-align: right;\n",
       "    }\n",
       "</style>\n",
       "<table border=\"1\" class=\"dataframe\">\n",
       "  <thead>\n",
       "    <tr style=\"text-align: right;\">\n",
       "      <th></th>\n",
       "      <th>names</th>\n",
       "      <th>gender</th>\n",
       "      <th>race/ethnicity</th>\n",
       "      <th>parental level of education</th>\n",
       "      <th>lunch</th>\n",
       "      <th>test preparation course</th>\n",
       "      <th>math score</th>\n",
       "      <th>reading score</th>\n",
       "      <th>writing score</th>\n",
       "    </tr>\n",
       "  </thead>\n",
       "  <tbody>\n",
       "    <tr>\n",
       "      <th>12</th>\n",
       "      <td>Rita Courtney</td>\n",
       "      <td>female</td>\n",
       "      <td>group B</td>\n",
       "      <td>some high school</td>\n",
       "      <td>standard</td>\n",
       "      <td>none</td>\n",
       "      <td>193.0</td>\n",
       "      <td>193.0</td>\n",
       "      <td>193.0</td>\n",
       "    </tr>\n",
       "    <tr>\n",
       "      <th>81</th>\n",
       "      <td>Elizabeth Quintero</td>\n",
       "      <td>female</td>\n",
       "      <td>group B</td>\n",
       "      <td>some college</td>\n",
       "      <td>standard</td>\n",
       "      <td>none</td>\n",
       "      <td>82.0</td>\n",
       "      <td>85.0</td>\n",
       "      <td>87.0</td>\n",
       "    </tr>\n",
       "    <tr>\n",
       "      <th>160</th>\n",
       "      <td>Michelle Gonzales</td>\n",
       "      <td>female</td>\n",
       "      <td>group B</td>\n",
       "      <td>some high school</td>\n",
       "      <td>standard</td>\n",
       "      <td>completed</td>\n",
       "      <td>60.0</td>\n",
       "      <td>70.0</td>\n",
       "      <td>74.0</td>\n",
       "    </tr>\n",
       "    <tr>\n",
       "      <th>170</th>\n",
       "      <td>Carla Mendoza</td>\n",
       "      <td>female</td>\n",
       "      <td>group D</td>\n",
       "      <td>associate's degree</td>\n",
       "      <td>free/reduced</td>\n",
       "      <td>none</td>\n",
       "      <td>43.0</td>\n",
       "      <td>60.0</td>\n",
       "      <td>58.0</td>\n",
       "    </tr>\n",
       "    <tr>\n",
       "      <th>176</th>\n",
       "      <td>Darlene Parker</td>\n",
       "      <td>female</td>\n",
       "      <td>group C</td>\n",
       "      <td>associate's degree</td>\n",
       "      <td>standard</td>\n",
       "      <td>none</td>\n",
       "      <td>54.0</td>\n",
       "      <td>61.0</td>\n",
       "      <td>58.0</td>\n",
       "    </tr>\n",
       "    <tr>\n",
       "      <th>...</th>\n",
       "      <td>...</td>\n",
       "      <td>...</td>\n",
       "      <td>...</td>\n",
       "      <td>...</td>\n",
       "      <td>...</td>\n",
       "      <td>...</td>\n",
       "      <td>...</td>\n",
       "      <td>...</td>\n",
       "      <td>...</td>\n",
       "    </tr>\n",
       "    <tr>\n",
       "      <th>1385</th>\n",
       "      <td>James Crawford</td>\n",
       "      <td>male</td>\n",
       "      <td>group D</td>\n",
       "      <td>master's degree</td>\n",
       "      <td>standard</td>\n",
       "      <td>none</td>\n",
       "      <td>193.0</td>\n",
       "      <td>147.0</td>\n",
       "      <td>131.0</td>\n",
       "    </tr>\n",
       "    <tr>\n",
       "      <th>1390</th>\n",
       "      <td>Gloria Bradford</td>\n",
       "      <td>female</td>\n",
       "      <td>group B</td>\n",
       "      <td>high school</td>\n",
       "      <td>standard</td>\n",
       "      <td>none</td>\n",
       "      <td>124.0</td>\n",
       "      <td>64.0</td>\n",
       "      <td>193.0</td>\n",
       "    </tr>\n",
       "    <tr>\n",
       "      <th>1393</th>\n",
       "      <td>Adam Romero</td>\n",
       "      <td>male</td>\n",
       "      <td>group C</td>\n",
       "      <td>high school</td>\n",
       "      <td>standard</td>\n",
       "      <td>completed</td>\n",
       "      <td>124.0</td>\n",
       "      <td>193.0</td>\n",
       "      <td>49.0</td>\n",
       "    </tr>\n",
       "    <tr>\n",
       "      <th>1395</th>\n",
       "      <td>Alexander Dillon</td>\n",
       "      <td>male</td>\n",
       "      <td>group D</td>\n",
       "      <td>associate's degree</td>\n",
       "      <td>standard</td>\n",
       "      <td>none</td>\n",
       "      <td>193.0</td>\n",
       "      <td>142.0</td>\n",
       "      <td>193.0</td>\n",
       "    </tr>\n",
       "    <tr>\n",
       "      <th>1398</th>\n",
       "      <td>Joseph Mccoy</td>\n",
       "      <td>male</td>\n",
       "      <td>group D</td>\n",
       "      <td>some college</td>\n",
       "      <td>free/reduced</td>\n",
       "      <td>none</td>\n",
       "      <td>193.0</td>\n",
       "      <td>196.0</td>\n",
       "      <td>193.0</td>\n",
       "    </tr>\n",
       "  </tbody>\n",
       "</table>\n",
       "<p>247 rows × 9 columns</p>\n",
       "</div>"
      ],
      "text/plain": [
       "                   names  gender race/ethnicity parental level of education  \\\n",
       "12         Rita Courtney  female        group B            some high school   \n",
       "81    Elizabeth Quintero  female        group B                some college   \n",
       "160    Michelle Gonzales  female        group B            some high school   \n",
       "170        Carla Mendoza  female        group D          associate's degree   \n",
       "176       Darlene Parker  female        group C          associate's degree   \n",
       "...                  ...     ...            ...                         ...   \n",
       "1385      James Crawford    male        group D             master's degree   \n",
       "1390     Gloria Bradford  female        group B                 high school   \n",
       "1393         Adam Romero    male        group C                 high school   \n",
       "1395    Alexander Dillon    male        group D          associate's degree   \n",
       "1398        Joseph Mccoy    male        group D                some college   \n",
       "\n",
       "             lunch test preparation course  math score  reading score  \\\n",
       "12        standard                    none       193.0          193.0   \n",
       "81        standard                    none        82.0           85.0   \n",
       "160       standard               completed        60.0           70.0   \n",
       "170   free/reduced                    none        43.0           60.0   \n",
       "176       standard                    none        54.0           61.0   \n",
       "...            ...                     ...         ...            ...   \n",
       "1385      standard                    none       193.0          147.0   \n",
       "1390      standard                    none       124.0           64.0   \n",
       "1393      standard               completed       124.0          193.0   \n",
       "1395      standard                    none       193.0          142.0   \n",
       "1398  free/reduced                    none       193.0          196.0   \n",
       "\n",
       "      writing score  \n",
       "12            193.0  \n",
       "81             87.0  \n",
       "160            74.0  \n",
       "170            58.0  \n",
       "176            58.0  \n",
       "...             ...  \n",
       "1385          131.0  \n",
       "1390          193.0  \n",
       "1393           49.0  \n",
       "1395          193.0  \n",
       "1398          193.0  \n",
       "\n",
       "[247 rows x 9 columns]"
      ]
     },
     "metadata": {},
     "output_type": "display_data"
    },
    {
     "name": "stdout",
     "output_type": "stream",
     "text": [
      " \n"
     ]
    }
   ],
   "source": [
    "exploratory_data_analysis(df_grades)"
   ]
  },
  {
   "cell_type": "markdown",
   "metadata": {
    "cell_id": "d90dcb496db544bf8d9c24706b02c3e0",
    "deepnote_cell_height": 52.390625,
    "deepnote_cell_type": "markdown",
    "id": "nxRj-Hi2QUHQ"
   },
   "source": [
    "**Justificación:**"
   ]
  },
  {
   "cell_type": "markdown",
   "metadata": {
    "cell_id": "cc7ddd3c6db54b5eb767f017fc0b8166",
    "deepnote_cell_height": 70.796875,
    "deepnote_cell_type": "markdown",
    "id": "CR2ZEOcbQW9X"
   },
   "source": [
    "9. Al observar el Dataframe y sus variables, luego de cambiar el tipo de dato para las variables numéricas, se aprecia que existen 47 valores nulos en `writing score` y 40 valores nulos en `math score` y `reading score`. Por otro lado, existen 247 filas con estudiantes duplicados, las cuales se deben eliminar. Se observó además con un `df_grades.sort_value()` para apreciar que no fueran estudiantes con nombres iguales.\n",
    "\n",
    "10. Respecto al Boxplot, se observa que existen varios `outliers` en las tres materias que están sobre 100, valores de notas que no deberían existir, puesto que en la escala la nota máxima es 100."
   ]
  },
  {
   "cell_type": "markdown",
   "metadata": {
    "cell_id": "3d074815f0ca4aa2b209d22862a746dd",
    "deepnote_cell_height": 193.1875,
    "deepnote_cell_type": "markdown",
    "id": "YJfqPXFZjQiA"
   },
   "source": [
    "## 2 Limpieza de Datos [1.0 puntos]\n",
    "\n",
    "\n"
   ]
  },
  {
   "cell_type": "markdown",
   "metadata": {
    "id": "GM-alEw2FVE4"
   },
   "source": [
    "<p align=\"center\">\n",
    "  <img src=\"https://blogdatlas.files.wordpress.com/2020/07/datlas_mx_blog_limpieza_bds_data-scrubbing-service.gif\">\n",
    "</p>"
   ]
  },
  {
   "cell_type": "markdown",
   "metadata": {
    "cell_id": "e2e475d0a8a04307868f13b96780b1a3",
    "deepnote_cell_height": 268.1875,
    "deepnote_cell_type": "markdown",
    "id": "syO5lHKvv6Wt"
   },
   "source": [
    "En base a lo realizado anteriormente, realice una limpieza de los dataset. Asuma los supuestos señalados en la pregunta anterior para limpiar el `DataFrame` y **cree una función** que le permita limpiar los datos. Habiendo limpiado el `DataFrame`, compruebe nuevamente los datos con la función creada en la sección 1.1.\n",
    "\n",
    "**To-Do:**\n",
    "- [ ] Eliminar registros con valores nulos.\n",
    "- [ ] Eliminar valores fuera del rango válido.\n",
    "- [ ] Eliminar registros con nombres duplicados\n",
    "- [ ] Comprobar que no existen anomalías en los datos a traves de la función de la sección 1.1.\n",
    "\n",
    "**Hints**\n",
    "\n",
    "- Puede ser útil los métodos ```.drop_duplicates()``` y ```.dropna()``` como también utilizar queries con máscaras booleanas.\n",
    "- Cuidado con el orden en la limpieza de datos. ¿Que se debe eliminar primero, los nombres duplicados o los registros fuera del rango posible?\n"
   ]
  },
  {
   "cell_type": "markdown",
   "metadata": {},
   "source": [
    "> Utilice la función creada en el punto 1 para verificar sus resultados."
   ]
  },
  {
   "cell_type": "markdown",
   "metadata": {},
   "source": [
    "**Respuesta:**"
   ]
  },
  {
   "cell_type": "code",
   "execution_count": 13,
   "metadata": {
    "ExecuteTime": {
     "end_time": "2024-09-03T16:47:23.489043Z",
     "start_time": "2024-09-03T16:47:23.479398Z"
    }
   },
   "outputs": [],
   "source": [
    "# Escriba su código aquí\n",
    "def clean_data(dataframe):\n",
    "    df = dataframe\n",
    "    \n",
    "    #1. Eliminar registros con valores nulos\n",
    "    df = df.dropna()\n",
    "    \n",
    "    #3. Eliminar registros con nombres duplicados\n",
    "    df = df.loc[(df[\"math score\"]<=100) & (df[\"reading score\"]<=100) & (df[\"writing score\"]<=100)]\n",
    "    \n",
    "    #2. Eliminar valores fuera del rango válido\n",
    "    df = df.drop_duplicates(subset=[\"names\"]) #Holis, acá es necesario vovler a usar dropna()? si ya se usó antes. R: Ciertamente no, hehe\n",
    "    \n",
    "    df = df.reset_index().drop('index', axis=1) #Reseteamos los indices para que quede mas ordenado y no hayan saltos de indices\n",
    "    \n",
    "    return df"
   ]
  },
  {
   "cell_type": "code",
   "execution_count": 14,
   "metadata": {
    "ExecuteTime": {
     "end_time": "2024-09-03T16:47:26.300528Z",
     "start_time": "2024-09-03T16:47:26.230666Z"
    }
   },
   "outputs": [],
   "source": [
    "#Pruebe su código aquí\n",
    "df_grades = clean_data(df_grades)"
   ]
  },
  {
   "cell_type": "code",
   "execution_count": 15,
   "metadata": {},
   "outputs": [
    {
     "data": {
      "text/html": [
       "<div>\n",
       "<style scoped>\n",
       "    .dataframe tbody tr th:only-of-type {\n",
       "        vertical-align: middle;\n",
       "    }\n",
       "\n",
       "    .dataframe tbody tr th {\n",
       "        vertical-align: top;\n",
       "    }\n",
       "\n",
       "    .dataframe thead th {\n",
       "        text-align: right;\n",
       "    }\n",
       "</style>\n",
       "<table border=\"1\" class=\"dataframe\">\n",
       "  <thead>\n",
       "    <tr style=\"text-align: right;\">\n",
       "      <th></th>\n",
       "      <th>names</th>\n",
       "      <th>gender</th>\n",
       "      <th>race/ethnicity</th>\n",
       "      <th>parental level of education</th>\n",
       "      <th>lunch</th>\n",
       "      <th>test preparation course</th>\n",
       "      <th>math score</th>\n",
       "      <th>reading score</th>\n",
       "      <th>writing score</th>\n",
       "    </tr>\n",
       "  </thead>\n",
       "  <tbody>\n",
       "    <tr>\n",
       "      <th>0</th>\n",
       "      <td>Rita Courtney</td>\n",
       "      <td>female</td>\n",
       "      <td>group B</td>\n",
       "      <td>some high school</td>\n",
       "      <td>standard</td>\n",
       "      <td>none</td>\n",
       "      <td>37.0</td>\n",
       "      <td>46.0</td>\n",
       "      <td>46.0</td>\n",
       "    </tr>\n",
       "    <tr>\n",
       "      <th>1</th>\n",
       "      <td>Charles Linstrom</td>\n",
       "      <td>male</td>\n",
       "      <td>group A</td>\n",
       "      <td>bachelor's degree</td>\n",
       "      <td>standard</td>\n",
       "      <td>completed</td>\n",
       "      <td>80.0</td>\n",
       "      <td>78.0</td>\n",
       "      <td>81.0</td>\n",
       "    </tr>\n",
       "    <tr>\n",
       "      <th>2</th>\n",
       "      <td>Brian Young</td>\n",
       "      <td>male</td>\n",
       "      <td>group C</td>\n",
       "      <td>some high school</td>\n",
       "      <td>standard</td>\n",
       "      <td>none</td>\n",
       "      <td>73.0</td>\n",
       "      <td>66.0</td>\n",
       "      <td>63.0</td>\n",
       "    </tr>\n",
       "    <tr>\n",
       "      <th>3</th>\n",
       "      <td>Howard Jimenez</td>\n",
       "      <td>male</td>\n",
       "      <td>group E</td>\n",
       "      <td>some high school</td>\n",
       "      <td>standard</td>\n",
       "      <td>completed</td>\n",
       "      <td>81.0</td>\n",
       "      <td>75.0</td>\n",
       "      <td>76.0</td>\n",
       "    </tr>\n",
       "    <tr>\n",
       "      <th>4</th>\n",
       "      <td>Wayne Wilson</td>\n",
       "      <td>male</td>\n",
       "      <td>group B</td>\n",
       "      <td>some high school</td>\n",
       "      <td>standard</td>\n",
       "      <td>completed</td>\n",
       "      <td>94.0</td>\n",
       "      <td>86.0</td>\n",
       "      <td>87.0</td>\n",
       "    </tr>\n",
       "    <tr>\n",
       "      <th>...</th>\n",
       "      <td>...</td>\n",
       "      <td>...</td>\n",
       "      <td>...</td>\n",
       "      <td>...</td>\n",
       "      <td>...</td>\n",
       "      <td>...</td>\n",
       "      <td>...</td>\n",
       "      <td>...</td>\n",
       "      <td>...</td>\n",
       "    </tr>\n",
       "    <tr>\n",
       "      <th>995</th>\n",
       "      <td>Richard Young</td>\n",
       "      <td>male</td>\n",
       "      <td>group D</td>\n",
       "      <td>high school</td>\n",
       "      <td>standard</td>\n",
       "      <td>none</td>\n",
       "      <td>69.0</td>\n",
       "      <td>75.0</td>\n",
       "      <td>71.0</td>\n",
       "    </tr>\n",
       "    <tr>\n",
       "      <th>996</th>\n",
       "      <td>Wanda Russell</td>\n",
       "      <td>female</td>\n",
       "      <td>group B</td>\n",
       "      <td>high school</td>\n",
       "      <td>free/reduced</td>\n",
       "      <td>completed</td>\n",
       "      <td>23.0</td>\n",
       "      <td>44.0</td>\n",
       "      <td>36.0</td>\n",
       "    </tr>\n",
       "    <tr>\n",
       "      <th>997</th>\n",
       "      <td>Marina Zeigler</td>\n",
       "      <td>female</td>\n",
       "      <td>group C</td>\n",
       "      <td>bachelor's degree</td>\n",
       "      <td>free/reduced</td>\n",
       "      <td>completed</td>\n",
       "      <td>66.0</td>\n",
       "      <td>74.0</td>\n",
       "      <td>81.0</td>\n",
       "    </tr>\n",
       "    <tr>\n",
       "      <th>998</th>\n",
       "      <td>Laurie Carter</td>\n",
       "      <td>female</td>\n",
       "      <td>group B</td>\n",
       "      <td>some high school</td>\n",
       "      <td>standard</td>\n",
       "      <td>completed</td>\n",
       "      <td>54.0</td>\n",
       "      <td>61.0</td>\n",
       "      <td>62.0</td>\n",
       "    </tr>\n",
       "    <tr>\n",
       "      <th>999</th>\n",
       "      <td>Amanda Perez</td>\n",
       "      <td>female</td>\n",
       "      <td>group A</td>\n",
       "      <td>high school</td>\n",
       "      <td>standard</td>\n",
       "      <td>completed</td>\n",
       "      <td>68.0</td>\n",
       "      <td>80.0</td>\n",
       "      <td>76.0</td>\n",
       "    </tr>\n",
       "  </tbody>\n",
       "</table>\n",
       "<p>1000 rows × 9 columns</p>\n",
       "</div>"
      ],
      "text/plain": [
       "                names  gender race/ethnicity parental level of education  \\\n",
       "0       Rita Courtney  female        group B            some high school   \n",
       "1    Charles Linstrom    male        group A           bachelor's degree   \n",
       "2         Brian Young    male        group C            some high school   \n",
       "3      Howard Jimenez    male        group E            some high school   \n",
       "4        Wayne Wilson    male        group B            some high school   \n",
       "..                ...     ...            ...                         ...   \n",
       "995     Richard Young    male        group D                 high school   \n",
       "996     Wanda Russell  female        group B                 high school   \n",
       "997    Marina Zeigler  female        group C           bachelor's degree   \n",
       "998     Laurie Carter  female        group B            some high school   \n",
       "999      Amanda Perez  female        group A                 high school   \n",
       "\n",
       "            lunch test preparation course  math score  reading score  \\\n",
       "0        standard                    none        37.0           46.0   \n",
       "1        standard               completed        80.0           78.0   \n",
       "2        standard                    none        73.0           66.0   \n",
       "3        standard               completed        81.0           75.0   \n",
       "4        standard               completed        94.0           86.0   \n",
       "..            ...                     ...         ...            ...   \n",
       "995      standard                    none        69.0           75.0   \n",
       "996  free/reduced               completed        23.0           44.0   \n",
       "997  free/reduced               completed        66.0           74.0   \n",
       "998      standard               completed        54.0           61.0   \n",
       "999      standard               completed        68.0           80.0   \n",
       "\n",
       "     writing score  \n",
       "0             46.0  \n",
       "1             81.0  \n",
       "2             63.0  \n",
       "3             76.0  \n",
       "4             87.0  \n",
       "..             ...  \n",
       "995           71.0  \n",
       "996           36.0  \n",
       "997           81.0  \n",
       "998           62.0  \n",
       "999           76.0  \n",
       "\n",
       "[1000 rows x 9 columns]"
      ]
     },
     "execution_count": 15,
     "metadata": {},
     "output_type": "execute_result"
    }
   ],
   "source": [
    "df_grades"
   ]
  },
  {
   "cell_type": "code",
   "execution_count": 16,
   "metadata": {
    "ExecuteTime": {
     "end_time": "2024-09-03T14:43:59.329991Z",
     "start_time": "2024-09-03T14:43:59.240623Z"
    }
   },
   "outputs": [
    {
     "name": "stdout",
     "output_type": "stream",
     "text": [
      "1.- El dataframe tiene 1000 filas y 9 columnas\n",
      " \n",
      "2.- El dataframe tiene esta compuesto por las siguientes columnas ['names', 'gender', 'race/ethnicity', 'parental level of education', 'lunch', 'test preparation course', 'math score', 'reading score', 'writing score']\n",
      " \n",
      "3.- Ejemplos de filas del dataframe\n",
      " \n",
      "Primeras 5 filas:\n"
     ]
    },
    {
     "data": {
      "text/html": [
       "<div>\n",
       "<style scoped>\n",
       "    .dataframe tbody tr th:only-of-type {\n",
       "        vertical-align: middle;\n",
       "    }\n",
       "\n",
       "    .dataframe tbody tr th {\n",
       "        vertical-align: top;\n",
       "    }\n",
       "\n",
       "    .dataframe thead th {\n",
       "        text-align: right;\n",
       "    }\n",
       "</style>\n",
       "<table border=\"1\" class=\"dataframe\">\n",
       "  <thead>\n",
       "    <tr style=\"text-align: right;\">\n",
       "      <th></th>\n",
       "      <th>names</th>\n",
       "      <th>gender</th>\n",
       "      <th>race/ethnicity</th>\n",
       "      <th>parental level of education</th>\n",
       "      <th>lunch</th>\n",
       "      <th>test preparation course</th>\n",
       "      <th>math score</th>\n",
       "      <th>reading score</th>\n",
       "      <th>writing score</th>\n",
       "    </tr>\n",
       "  </thead>\n",
       "  <tbody>\n",
       "    <tr>\n",
       "      <th>0</th>\n",
       "      <td>Rita Courtney</td>\n",
       "      <td>female</td>\n",
       "      <td>group B</td>\n",
       "      <td>some high school</td>\n",
       "      <td>standard</td>\n",
       "      <td>none</td>\n",
       "      <td>37.0</td>\n",
       "      <td>46.0</td>\n",
       "      <td>46.0</td>\n",
       "    </tr>\n",
       "    <tr>\n",
       "      <th>1</th>\n",
       "      <td>Charles Linstrom</td>\n",
       "      <td>male</td>\n",
       "      <td>group A</td>\n",
       "      <td>bachelor's degree</td>\n",
       "      <td>standard</td>\n",
       "      <td>completed</td>\n",
       "      <td>80.0</td>\n",
       "      <td>78.0</td>\n",
       "      <td>81.0</td>\n",
       "    </tr>\n",
       "    <tr>\n",
       "      <th>2</th>\n",
       "      <td>Brian Young</td>\n",
       "      <td>male</td>\n",
       "      <td>group C</td>\n",
       "      <td>some high school</td>\n",
       "      <td>standard</td>\n",
       "      <td>none</td>\n",
       "      <td>73.0</td>\n",
       "      <td>66.0</td>\n",
       "      <td>63.0</td>\n",
       "    </tr>\n",
       "    <tr>\n",
       "      <th>3</th>\n",
       "      <td>Howard Jimenez</td>\n",
       "      <td>male</td>\n",
       "      <td>group E</td>\n",
       "      <td>some high school</td>\n",
       "      <td>standard</td>\n",
       "      <td>completed</td>\n",
       "      <td>81.0</td>\n",
       "      <td>75.0</td>\n",
       "      <td>76.0</td>\n",
       "    </tr>\n",
       "    <tr>\n",
       "      <th>4</th>\n",
       "      <td>Wayne Wilson</td>\n",
       "      <td>male</td>\n",
       "      <td>group B</td>\n",
       "      <td>some high school</td>\n",
       "      <td>standard</td>\n",
       "      <td>completed</td>\n",
       "      <td>94.0</td>\n",
       "      <td>86.0</td>\n",
       "      <td>87.0</td>\n",
       "    </tr>\n",
       "  </tbody>\n",
       "</table>\n",
       "</div>"
      ],
      "text/plain": [
       "              names  gender race/ethnicity parental level of education  \\\n",
       "0     Rita Courtney  female        group B            some high school   \n",
       "1  Charles Linstrom    male        group A           bachelor's degree   \n",
       "2       Brian Young    male        group C            some high school   \n",
       "3    Howard Jimenez    male        group E            some high school   \n",
       "4      Wayne Wilson    male        group B            some high school   \n",
       "\n",
       "      lunch test preparation course  math score  reading score  writing score  \n",
       "0  standard                    none        37.0           46.0           46.0  \n",
       "1  standard               completed        80.0           78.0           81.0  \n",
       "2  standard                    none        73.0           66.0           63.0  \n",
       "3  standard               completed        81.0           75.0           76.0  \n",
       "4  standard               completed        94.0           86.0           87.0  "
      ]
     },
     "metadata": {},
     "output_type": "display_data"
    },
    {
     "name": "stdout",
     "output_type": "stream",
     "text": [
      "Últimas 5 filas:\n"
     ]
    },
    {
     "data": {
      "text/html": [
       "<div>\n",
       "<style scoped>\n",
       "    .dataframe tbody tr th:only-of-type {\n",
       "        vertical-align: middle;\n",
       "    }\n",
       "\n",
       "    .dataframe tbody tr th {\n",
       "        vertical-align: top;\n",
       "    }\n",
       "\n",
       "    .dataframe thead th {\n",
       "        text-align: right;\n",
       "    }\n",
       "</style>\n",
       "<table border=\"1\" class=\"dataframe\">\n",
       "  <thead>\n",
       "    <tr style=\"text-align: right;\">\n",
       "      <th></th>\n",
       "      <th>names</th>\n",
       "      <th>gender</th>\n",
       "      <th>race/ethnicity</th>\n",
       "      <th>parental level of education</th>\n",
       "      <th>lunch</th>\n",
       "      <th>test preparation course</th>\n",
       "      <th>math score</th>\n",
       "      <th>reading score</th>\n",
       "      <th>writing score</th>\n",
       "    </tr>\n",
       "  </thead>\n",
       "  <tbody>\n",
       "    <tr>\n",
       "      <th>995</th>\n",
       "      <td>Richard Young</td>\n",
       "      <td>male</td>\n",
       "      <td>group D</td>\n",
       "      <td>high school</td>\n",
       "      <td>standard</td>\n",
       "      <td>none</td>\n",
       "      <td>69.0</td>\n",
       "      <td>75.0</td>\n",
       "      <td>71.0</td>\n",
       "    </tr>\n",
       "    <tr>\n",
       "      <th>996</th>\n",
       "      <td>Wanda Russell</td>\n",
       "      <td>female</td>\n",
       "      <td>group B</td>\n",
       "      <td>high school</td>\n",
       "      <td>free/reduced</td>\n",
       "      <td>completed</td>\n",
       "      <td>23.0</td>\n",
       "      <td>44.0</td>\n",
       "      <td>36.0</td>\n",
       "    </tr>\n",
       "    <tr>\n",
       "      <th>997</th>\n",
       "      <td>Marina Zeigler</td>\n",
       "      <td>female</td>\n",
       "      <td>group C</td>\n",
       "      <td>bachelor's degree</td>\n",
       "      <td>free/reduced</td>\n",
       "      <td>completed</td>\n",
       "      <td>66.0</td>\n",
       "      <td>74.0</td>\n",
       "      <td>81.0</td>\n",
       "    </tr>\n",
       "    <tr>\n",
       "      <th>998</th>\n",
       "      <td>Laurie Carter</td>\n",
       "      <td>female</td>\n",
       "      <td>group B</td>\n",
       "      <td>some high school</td>\n",
       "      <td>standard</td>\n",
       "      <td>completed</td>\n",
       "      <td>54.0</td>\n",
       "      <td>61.0</td>\n",
       "      <td>62.0</td>\n",
       "    </tr>\n",
       "    <tr>\n",
       "      <th>999</th>\n",
       "      <td>Amanda Perez</td>\n",
       "      <td>female</td>\n",
       "      <td>group A</td>\n",
       "      <td>high school</td>\n",
       "      <td>standard</td>\n",
       "      <td>completed</td>\n",
       "      <td>68.0</td>\n",
       "      <td>80.0</td>\n",
       "      <td>76.0</td>\n",
       "    </tr>\n",
       "  </tbody>\n",
       "</table>\n",
       "</div>"
      ],
      "text/plain": [
       "              names  gender race/ethnicity parental level of education  \\\n",
       "995   Richard Young    male        group D                 high school   \n",
       "996   Wanda Russell  female        group B                 high school   \n",
       "997  Marina Zeigler  female        group C           bachelor's degree   \n",
       "998   Laurie Carter  female        group B            some high school   \n",
       "999    Amanda Perez  female        group A                 high school   \n",
       "\n",
       "            lunch test preparation course  math score  reading score  \\\n",
       "995      standard                    none        69.0           75.0   \n",
       "996  free/reduced               completed        23.0           44.0   \n",
       "997  free/reduced               completed        66.0           74.0   \n",
       "998      standard               completed        54.0           61.0   \n",
       "999      standard               completed        68.0           80.0   \n",
       "\n",
       "     writing score  \n",
       "995           71.0  \n",
       "996           36.0  \n",
       "997           81.0  \n",
       "998           62.0  \n",
       "999           76.0  "
      ]
     },
     "metadata": {},
     "output_type": "display_data"
    },
    {
     "name": "stdout",
     "output_type": "stream",
     "text": [
      "Muestreo aleatorio de 5 filas:\n"
     ]
    },
    {
     "data": {
      "text/html": [
       "<div>\n",
       "<style scoped>\n",
       "    .dataframe tbody tr th:only-of-type {\n",
       "        vertical-align: middle;\n",
       "    }\n",
       "\n",
       "    .dataframe tbody tr th {\n",
       "        vertical-align: top;\n",
       "    }\n",
       "\n",
       "    .dataframe thead th {\n",
       "        text-align: right;\n",
       "    }\n",
       "</style>\n",
       "<table border=\"1\" class=\"dataframe\">\n",
       "  <thead>\n",
       "    <tr style=\"text-align: right;\">\n",
       "      <th></th>\n",
       "      <th>names</th>\n",
       "      <th>gender</th>\n",
       "      <th>race/ethnicity</th>\n",
       "      <th>parental level of education</th>\n",
       "      <th>lunch</th>\n",
       "      <th>test preparation course</th>\n",
       "      <th>math score</th>\n",
       "      <th>reading score</th>\n",
       "      <th>writing score</th>\n",
       "    </tr>\n",
       "  </thead>\n",
       "  <tbody>\n",
       "    <tr>\n",
       "      <th>301</th>\n",
       "      <td>Charles Suggs</td>\n",
       "      <td>male</td>\n",
       "      <td>group C</td>\n",
       "      <td>some college</td>\n",
       "      <td>free/reduced</td>\n",
       "      <td>none</td>\n",
       "      <td>74.0</td>\n",
       "      <td>77.0</td>\n",
       "      <td>73.0</td>\n",
       "    </tr>\n",
       "    <tr>\n",
       "      <th>952</th>\n",
       "      <td>Jose Rogers</td>\n",
       "      <td>male</td>\n",
       "      <td>group D</td>\n",
       "      <td>some college</td>\n",
       "      <td>free/reduced</td>\n",
       "      <td>none</td>\n",
       "      <td>77.0</td>\n",
       "      <td>62.0</td>\n",
       "      <td>64.0</td>\n",
       "    </tr>\n",
       "    <tr>\n",
       "      <th>797</th>\n",
       "      <td>Shirley Ybanez</td>\n",
       "      <td>female</td>\n",
       "      <td>group C</td>\n",
       "      <td>some high school</td>\n",
       "      <td>standard</td>\n",
       "      <td>completed</td>\n",
       "      <td>44.0</td>\n",
       "      <td>51.0</td>\n",
       "      <td>55.0</td>\n",
       "    </tr>\n",
       "    <tr>\n",
       "      <th>387</th>\n",
       "      <td>Dorothea Martin</td>\n",
       "      <td>female</td>\n",
       "      <td>group E</td>\n",
       "      <td>associate's degree</td>\n",
       "      <td>standard</td>\n",
       "      <td>completed</td>\n",
       "      <td>82.0</td>\n",
       "      <td>85.0</td>\n",
       "      <td>86.0</td>\n",
       "    </tr>\n",
       "    <tr>\n",
       "      <th>285</th>\n",
       "      <td>Terry Wingerd</td>\n",
       "      <td>female</td>\n",
       "      <td>group E</td>\n",
       "      <td>high school</td>\n",
       "      <td>free/reduced</td>\n",
       "      <td>none</td>\n",
       "      <td>64.0</td>\n",
       "      <td>62.0</td>\n",
       "      <td>68.0</td>\n",
       "    </tr>\n",
       "  </tbody>\n",
       "</table>\n",
       "</div>"
      ],
      "text/plain": [
       "               names  gender race/ethnicity parental level of education  \\\n",
       "301    Charles Suggs    male        group C                some college   \n",
       "952      Jose Rogers    male        group D                some college   \n",
       "797   Shirley Ybanez  female        group C            some high school   \n",
       "387  Dorothea Martin  female        group E          associate's degree   \n",
       "285    Terry Wingerd  female        group E                 high school   \n",
       "\n",
       "            lunch test preparation course  math score  reading score  \\\n",
       "301  free/reduced                    none        74.0           77.0   \n",
       "952  free/reduced                    none        77.0           62.0   \n",
       "797      standard               completed        44.0           51.0   \n",
       "387      standard               completed        82.0           85.0   \n",
       "285  free/reduced                    none        64.0           62.0   \n",
       "\n",
       "     writing score  \n",
       "301           73.0  \n",
       "952           64.0  \n",
       "797           55.0  \n",
       "387           86.0  \n",
       "285           68.0  "
      ]
     },
     "metadata": {},
     "output_type": "display_data"
    },
    {
     "name": "stdout",
     "output_type": "stream",
     "text": [
      " \n",
      "4.- Descripción numérica del Dataframe:\n"
     ]
    },
    {
     "data": {
      "text/html": [
       "<div>\n",
       "<style scoped>\n",
       "    .dataframe tbody tr th:only-of-type {\n",
       "        vertical-align: middle;\n",
       "    }\n",
       "\n",
       "    .dataframe tbody tr th {\n",
       "        vertical-align: top;\n",
       "    }\n",
       "\n",
       "    .dataframe thead th {\n",
       "        text-align: right;\n",
       "    }\n",
       "</style>\n",
       "<table border=\"1\" class=\"dataframe\">\n",
       "  <thead>\n",
       "    <tr style=\"text-align: right;\">\n",
       "      <th></th>\n",
       "      <th>math score</th>\n",
       "      <th>reading score</th>\n",
       "      <th>writing score</th>\n",
       "    </tr>\n",
       "  </thead>\n",
       "  <tbody>\n",
       "    <tr>\n",
       "      <th>count</th>\n",
       "      <td>1000.00000</td>\n",
       "      <td>1000.000000</td>\n",
       "      <td>1000.000000</td>\n",
       "    </tr>\n",
       "    <tr>\n",
       "      <th>mean</th>\n",
       "      <td>66.08900</td>\n",
       "      <td>69.169000</td>\n",
       "      <td>68.054000</td>\n",
       "    </tr>\n",
       "    <tr>\n",
       "      <th>std</th>\n",
       "      <td>15.16308</td>\n",
       "      <td>14.600192</td>\n",
       "      <td>15.195657</td>\n",
       "    </tr>\n",
       "    <tr>\n",
       "      <th>min</th>\n",
       "      <td>0.00000</td>\n",
       "      <td>17.000000</td>\n",
       "      <td>10.000000</td>\n",
       "    </tr>\n",
       "    <tr>\n",
       "      <th>25%</th>\n",
       "      <td>57.00000</td>\n",
       "      <td>59.000000</td>\n",
       "      <td>57.750000</td>\n",
       "    </tr>\n",
       "    <tr>\n",
       "      <th>50%</th>\n",
       "      <td>66.00000</td>\n",
       "      <td>70.000000</td>\n",
       "      <td>69.000000</td>\n",
       "    </tr>\n",
       "    <tr>\n",
       "      <th>75%</th>\n",
       "      <td>77.00000</td>\n",
       "      <td>79.000000</td>\n",
       "      <td>79.000000</td>\n",
       "    </tr>\n",
       "    <tr>\n",
       "      <th>max</th>\n",
       "      <td>100.00000</td>\n",
       "      <td>100.000000</td>\n",
       "      <td>100.000000</td>\n",
       "    </tr>\n",
       "  </tbody>\n",
       "</table>\n",
       "</div>"
      ],
      "text/plain": [
       "       math score  reading score  writing score\n",
       "count  1000.00000    1000.000000    1000.000000\n",
       "mean     66.08900      69.169000      68.054000\n",
       "std      15.16308      14.600192      15.195657\n",
       "min       0.00000      17.000000      10.000000\n",
       "25%      57.00000      59.000000      57.750000\n",
       "50%      66.00000      70.000000      69.000000\n",
       "75%      77.00000      79.000000      79.000000\n",
       "max     100.00000     100.000000     100.000000"
      ]
     },
     "metadata": {},
     "output_type": "display_data"
    },
    {
     "name": "stdout",
     "output_type": "stream",
     "text": [
      " \n",
      "5.- Cantidad de valores nulos por columna:\n"
     ]
    },
    {
     "data": {
      "text/plain": [
       "names                          0\n",
       "gender                         0\n",
       "race/ethnicity                 0\n",
       "parental level of education    0\n",
       "lunch                          0\n",
       "test preparation course        0\n",
       "math score                     0\n",
       "reading score                  0\n",
       "writing score                  0\n",
       "dtype: int64"
      ]
     },
     "metadata": {},
     "output_type": "display_data"
    },
    {
     "name": "stdout",
     "output_type": "stream",
     "text": [
      " \n",
      "6.- Cantidad de valores unicos por columna:\n"
     ]
    },
    {
     "data": {
      "text/plain": [
       "names                          1000\n",
       "gender                            2\n",
       "race/ethnicity                    5\n",
       "parental level of education       6\n",
       "lunch                             2\n",
       "test preparation course           2\n",
       "math score                       81\n",
       "reading score                    72\n",
       "writing score                    77\n",
       "dtype: int64"
      ]
     },
     "metadata": {},
     "output_type": "display_data"
    },
    {
     "name": "stdout",
     "output_type": "stream",
     "text": [
      " \n",
      "7.- Presenta un total de 0 filas con nombres duplicados.\n",
      " \n",
      "8.- Las filas con nombres duplicados son:\n"
     ]
    },
    {
     "data": {
      "text/html": [
       "<div>\n",
       "<style scoped>\n",
       "    .dataframe tbody tr th:only-of-type {\n",
       "        vertical-align: middle;\n",
       "    }\n",
       "\n",
       "    .dataframe tbody tr th {\n",
       "        vertical-align: top;\n",
       "    }\n",
       "\n",
       "    .dataframe thead th {\n",
       "        text-align: right;\n",
       "    }\n",
       "</style>\n",
       "<table border=\"1\" class=\"dataframe\">\n",
       "  <thead>\n",
       "    <tr style=\"text-align: right;\">\n",
       "      <th></th>\n",
       "      <th>names</th>\n",
       "      <th>gender</th>\n",
       "      <th>race/ethnicity</th>\n",
       "      <th>parental level of education</th>\n",
       "      <th>lunch</th>\n",
       "      <th>test preparation course</th>\n",
       "      <th>math score</th>\n",
       "      <th>reading score</th>\n",
       "      <th>writing score</th>\n",
       "    </tr>\n",
       "  </thead>\n",
       "  <tbody>\n",
       "  </tbody>\n",
       "</table>\n",
       "</div>"
      ],
      "text/plain": [
       "Empty DataFrame\n",
       "Columns: [names, gender, race/ethnicity, parental level of education, lunch, test preparation course, math score, reading score, writing score]\n",
       "Index: []"
      ]
     },
     "metadata": {},
     "output_type": "display_data"
    },
    {
     "name": "stdout",
     "output_type": "stream",
     "text": [
      " \n"
     ]
    }
   ],
   "source": [
    "exploratory_data_analysis(df_grades)"
   ]
  },
  {
   "cell_type": "code",
   "execution_count": 17,
   "metadata": {
    "ExecuteTime": {
     "end_time": "2024-09-03T15:19:33.331778Z",
     "start_time": "2024-09-03T15:19:33.138887Z"
    }
   },
   "outputs": [
    {
     "data": {
      "application/vnd.plotly.v1+json": {
       "config": {
        "plotlyServerURL": "https://plot.ly"
       },
       "data": [
        {
         "alignmentgroup": "True",
         "hovertemplate": "subject=math score<br>score=%{y}<extra></extra>",
         "legendgroup": "math score",
         "marker": {
          "color": "#636efa"
         },
         "name": "math score",
         "notched": false,
         "offsetgroup": "math score",
         "orientation": "v",
         "showlegend": true,
         "type": "box",
         "x0": " ",
         "xaxis": "x",
         "y": [
          37,
          80,
          73,
          81,
          94,
          71,
          75,
          34,
          63,
          94,
          65,
          52,
          62,
          74,
          62,
          73,
          46,
          82,
          63,
          64,
          80,
          93,
          69,
          46,
          86,
          59,
          84,
          64,
          73,
          83,
          75,
          69,
          68,
          57,
          66,
          61,
          40,
          50,
          48,
          36,
          78,
          57,
          69,
          40,
          92,
          35,
          63,
          73,
          63,
          52,
          73,
          63,
          71,
          45,
          85,
          80,
          82,
          77,
          91,
          60,
          63,
          40,
          57,
          58,
          97,
          81,
          68,
          59,
          96,
          87,
          57,
          94,
          97,
          65,
          82,
          72,
          62,
          44,
          82,
          75,
          59,
          75,
          72,
          68,
          66,
          67,
          93,
          69,
          63,
          46,
          66,
          62,
          48,
          71,
          54,
          80,
          55,
          90,
          94,
          81,
          53,
          61,
          75,
          74,
          62,
          70,
          60,
          59,
          62,
          53,
          80,
          69,
          69,
          69,
          49,
          43,
          83,
          65,
          73,
          68,
          64,
          54,
          65,
          49,
          58,
          66,
          65,
          65,
          70,
          79,
          50,
          64,
          68,
          32,
          68,
          58,
          19,
          69,
          72,
          53,
          61,
          78,
          53,
          45,
          44,
          83,
          65,
          88,
          88,
          91,
          84,
          51,
          38,
          47,
          66,
          61,
          60,
          71,
          45,
          77,
          53,
          57,
          72,
          76,
          45,
          99,
          51,
          64,
          52,
          80,
          51,
          50,
          64,
          74,
          71,
          57,
          69,
          77,
          75,
          43,
          80,
          59,
          85,
          55,
          44,
          42,
          58,
          61,
          50,
          88,
          73,
          67,
          97,
          61,
          62,
          79,
          54,
          66,
          78,
          85,
          84,
          76,
          44,
          81,
          54,
          58,
          81,
          72,
          71,
          61,
          66,
          71,
          71,
          89,
          73,
          81,
          46,
          22,
          48,
          44,
          79,
          91,
          76,
          54,
          77,
          62,
          67,
          86,
          58,
          53,
          57,
          69,
          76,
          78,
          69,
          62,
          37,
          88,
          90,
          57,
          68,
          65,
          63,
          52,
          48,
          65,
          54,
          50,
          40,
          29,
          26,
          70,
          75,
          53,
          60,
          98,
          93,
          59,
          46,
          76,
          79,
          28,
          55,
          61,
          35,
          94,
          46,
          100,
          67,
          50,
          79,
          71,
          83,
          55,
          48,
          76,
          77,
          79,
          62,
          56,
          68,
          84,
          80,
          62,
          60,
          64,
          29,
          52,
          53,
          67,
          82,
          56,
          79,
          73,
          66,
          52,
          52,
          73,
          66,
          84,
          82,
          74,
          76,
          81,
          79,
          68,
          63,
          50,
          72,
          85,
          83,
          84,
          65,
          85,
          70,
          58,
          86,
          64,
          65,
          61,
          49,
          53,
          97,
          75,
          72,
          74,
          59,
          68,
          78,
          53,
          57,
          72,
          99,
          79,
          91,
          83,
          72,
          61,
          73,
          59,
          100,
          61,
          77,
          71,
          49,
          62,
          86,
          75,
          58,
          47,
          63,
          69,
          70,
          68,
          61,
          71,
          81,
          100,
          84,
          77,
          53,
          71,
          73,
          65,
          49,
          52,
          65,
          59,
          80,
          62,
          57,
          46,
          58,
          67,
          73,
          72,
          40,
          78,
          63,
          61,
          79,
          77,
          70,
          53,
          76,
          45,
          40,
          82,
          78,
          75,
          70,
          55,
          39,
          70,
          30,
          75,
          63,
          82,
          74,
          54,
          71,
          73,
          77,
          77,
          87,
          87,
          74,
          67,
          43,
          49,
          49,
          53,
          64,
          61,
          79,
          69,
          54,
          65,
          77,
          58,
          49,
          73,
          54,
          54,
          64,
          59,
          76,
          75,
          85,
          97,
          53,
          52,
          77,
          79,
          57,
          87,
          66,
          63,
          65,
          68,
          55,
          72,
          86,
          35,
          97,
          75,
          52,
          74,
          70,
          39,
          61,
          44,
          77,
          87,
          66,
          68,
          65,
          62,
          81,
          70,
          74,
          94,
          76,
          59,
          68,
          73,
          100,
          8,
          65,
          40,
          48,
          89,
          77,
          65,
          69,
          68,
          49,
          62,
          50,
          56,
          46,
          53,
          60,
          91,
          90,
          73,
          70,
          47,
          65,
          81,
          55,
          93,
          65,
          62,
          48,
          68,
          66,
          55,
          42,
          54,
          74,
          37,
          66,
          88,
          69,
          61,
          39,
          87,
          64,
          44,
          59,
          80,
          71,
          76,
          53,
          78,
          55,
          70,
          65,
          86,
          47,
          54,
          41,
          78,
          83,
          54,
          90,
          59,
          65,
          67,
          89,
          59,
          73,
          74,
          86,
          55,
          61,
          57,
          58,
          45,
          63,
          61,
          81,
          92,
          67,
          94,
          56,
          62,
          70,
          70,
          76,
          64,
          47,
          66,
          86,
          40,
          66,
          68,
          51,
          45,
          88,
          90,
          52,
          49,
          53,
          71,
          50,
          58,
          42,
          67,
          39,
          85,
          62,
          78,
          73,
          68,
          89,
          40,
          82,
          69,
          77,
          69,
          79,
          53,
          43,
          58,
          76,
          88,
          69,
          49,
          85,
          69,
          72,
          57,
          58,
          62,
          62,
          75,
          88,
          81,
          67,
          67,
          74,
          74,
          95,
          71,
          85,
          56,
          82,
          85,
          60,
          63,
          51,
          50,
          81,
          87,
          46,
          58,
          62,
          76,
          60,
          50,
          77,
          64,
          61,
          60,
          67,
          64,
          90,
          59,
          53,
          48,
          60,
          82,
          58,
          60,
          66,
          85,
          49,
          77,
          67,
          69,
          50,
          62,
          83,
          81,
          92,
          70,
          72,
          92,
          51,
          87,
          71,
          59,
          88,
          61,
          82,
          71,
          75,
          43,
          51,
          62,
          75,
          63,
          71,
          67,
          71,
          61,
          56,
          98,
          82,
          75,
          59,
          71,
          44,
          77,
          65,
          57,
          60,
          27,
          58,
          70,
          38,
          42,
          100,
          89,
          35,
          74,
          77,
          62,
          79,
          46,
          74,
          59,
          66,
          47,
          77,
          78,
          52,
          70,
          58,
          68,
          69,
          87,
          52,
          72,
          85,
          41,
          61,
          67,
          54,
          75,
          80,
          63,
          52,
          62,
          58,
          62,
          65,
          74,
          79,
          68,
          63,
          52,
          59,
          55,
          66,
          38,
          74,
          91,
          64,
          74,
          81,
          79,
          90,
          54,
          78,
          46,
          88,
          62,
          80,
          80,
          71,
          64,
          75,
          60,
          68,
          88,
          55,
          50,
          42,
          69,
          42,
          58,
          24,
          48,
          67,
          59,
          59,
          96,
          45,
          88,
          72,
          61,
          81,
          59,
          73,
          79,
          68,
          47,
          64,
          49,
          54,
          71,
          59,
          89,
          37,
          59,
          57,
          47,
          77,
          62,
          77,
          51,
          69,
          74,
          60,
          76,
          51,
          32,
          73,
          49,
          76,
          64,
          62,
          63,
          50,
          44,
          66,
          67,
          61,
          75,
          69,
          76,
          65,
          53,
          87,
          53,
          66,
          49,
          67,
          55,
          30,
          73,
          62,
          79,
          63,
          52,
          58,
          78,
          81,
          74,
          68,
          82,
          73,
          59,
          74,
          62,
          84,
          67,
          81,
          33,
          59,
          87,
          77,
          58,
          69,
          65,
          92,
          87,
          69,
          73,
          61,
          55,
          67,
          69,
          74,
          64,
          56,
          36,
          41,
          49,
          59,
          34,
          84,
          76,
          61,
          62,
          87,
          67,
          54,
          59,
          68,
          67,
          91,
          80,
          96,
          68,
          74,
          71,
          35,
          81,
          53,
          80,
          76,
          76,
          63,
          57,
          58,
          72,
          55,
          53,
          80,
          41,
          55,
          51,
          85,
          81,
          52,
          18,
          73,
          48,
          56,
          63,
          58,
          32,
          59,
          63,
          63,
          80,
          60,
          64,
          98,
          59,
          65,
          87,
          66,
          52,
          73,
          87,
          79,
          60,
          81,
          74,
          69,
          47,
          47,
          79,
          82,
          92,
          57,
          41,
          49,
          88,
          79,
          59,
          71,
          81,
          65,
          82,
          65,
          40,
          73,
          56,
          69,
          67,
          91,
          67,
          87,
          65,
          58,
          55,
          48,
          88,
          53,
          85,
          62,
          65,
          82,
          62,
          63,
          84,
          77,
          50,
          69,
          0,
          65,
          79,
          69,
          72,
          100,
          65,
          47,
          99,
          51,
          71,
          82,
          91,
          55,
          75,
          66,
          95,
          72,
          70,
          57,
          84,
          61,
          45,
          65,
          27,
          88,
          65,
          63,
          78,
          65,
          90,
          100,
          67,
          74,
          76,
          66,
          59,
          62,
          41,
          29,
          69,
          23,
          66,
          54,
          68
         ],
         "y0": " ",
         "yaxis": "y"
        },
        {
         "alignmentgroup": "True",
         "hovertemplate": "subject=reading score<br>score=%{y}<extra></extra>",
         "legendgroup": "reading score",
         "marker": {
          "color": "#EF553B"
         },
         "name": "reading score",
         "notched": false,
         "offsetgroup": "reading score",
         "orientation": "v",
         "showlegend": true,
         "type": "box",
         "x0": " ",
         "xaxis": "x",
         "y": [
          46,
          78,
          66,
          75,
          86,
          61,
          68,
          48,
          61,
          73,
          78,
          76,
          65,
          74,
          57,
          69,
          42,
          82,
          61,
          73,
          75,
          100,
          76,
          61,
          81,
          72,
          83,
          64,
          76,
          86,
          88,
          74,
          72,
          61,
          64,
          61,
          59,
          67,
          62,
          29,
          79,
          67,
          58,
          55,
          87,
          28,
          67,
          74,
          64,
          59,
          79,
          73,
          60,
          59,
          92,
          76,
          85,
          94,
          85,
          62,
          48,
          48,
          54,
          54,
          82,
          82,
          65,
          71,
          90,
          84,
          75,
          88,
          93,
          81,
          93,
          57,
          74,
          54,
          84,
          90,
          41,
          73,
          68,
          78,
          74,
          62,
          90,
          63,
          74,
          64,
          68,
          73,
          56,
          70,
          72,
          83,
          59,
          87,
          99,
          73,
          43,
          68,
          85,
          81,
          72,
          78,
          70,
          51,
          72,
          50,
          85,
          66,
          78,
          77,
          45,
          60,
          93,
          61,
          64,
          83,
          66,
          61,
          77,
          57,
          67,
          78,
          70,
          79,
          68,
          81,
          67,
          54,
          60,
          51,
          51,
          57,
          38,
          77,
          79,
          58,
          51,
          72,
          62,
          56,
          51,
          83,
          76,
          78,
          95,
          89,
          87,
          66,
          49,
          53,
          57,
          73,
          68,
          71,
          63,
          86,
          58,
          51,
          64,
          71,
          48,
          93,
          72,
          60,
          61,
          73,
          54,
          48,
          73,
          74,
          77,
          74,
          70,
          90,
          74,
          51,
          68,
          72,
          81,
          76,
          63,
          62,
          59,
          47,
          66,
          74,
          78,
          86,
          100,
          58,
          64,
          81,
          63,
          71,
          91,
          75,
          84,
          94,
          61,
          84,
          49,
          63,
          82,
          81,
          49,
          42,
          77,
          76,
          66,
          88,
          83,
          81,
          34,
          39,
          52,
          64,
          82,
          81,
          80,
          59,
          78,
          72,
          64,
          81,
          70,
          52,
          58,
          73,
          70,
          87,
          64,
          66,
          57,
          89,
          75,
          56,
          70,
          75,
          69,
          57,
          43,
          54,
          54,
          53,
          59,
          41,
          31,
          75,
          74,
          39,
          57,
          87,
          84,
          54,
          54,
          64,
          88,
          23,
          71,
          57,
          53,
          85,
          58,
          100,
          80,
          47,
          84,
          81,
          82,
          64,
          58,
          73,
          77,
          79,
          78,
          68,
          86,
          77,
          75,
          70,
          66,
          62,
          40,
          65,
          61,
          61,
          95,
          79,
          76,
          68,
          74,
          66,
          67,
          86,
          65,
          73,
          75,
          77,
          71,
          72,
          89,
          71,
          78,
          56,
          65,
          92,
          78,
          95,
          77,
          86,
          70,
          63,
          80,
          82,
          81,
          55,
          51,
          51,
          97,
          72,
          73,
          79,
          67,
          68,
          77,
          58,
          78,
          57,
          100,
          89,
          73,
          72,
          79,
          62,
          74,
          54,
          96,
          66,
          79,
          67,
          53,
          61,
          92,
          81,
          62,
          59,
          75,
          67,
          75,
          63,
          56,
          66,
          97,
          100,
          77,
          90,
          44,
          83,
          68,
          82,
          49,
          59,
          75,
          60,
          64,
          49,
          43,
          43,
          73,
          54,
          66,
          72,
          43,
          83,
          65,
          72,
          74,
          82,
          84,
          54,
          62,
          53,
          58,
          85,
          72,
          66,
          64,
          55,
          42,
          89,
          26,
          84,
          64,
          82,
          81,
          59,
          84,
          84,
          88,
          88,
          84,
          74,
          73,
          64,
          62,
          52,
          65,
          54,
          53,
          86,
          92,
          71,
          52,
          86,
          91,
          61,
          63,
          76,
          64,
          53,
          58,
          72,
          74,
          69,
          84,
          92,
          70,
          55,
          76,
          72,
          77,
          85,
          69,
          73,
          85,
          67,
          58,
          66,
          76,
          55,
          87,
          68,
          49,
          70,
          82,
          52,
          74,
          50,
          90,
          84,
          65,
          77,
          67,
          67,
          66,
          63,
          75,
          90,
          78,
          70,
          68,
          66,
          100,
          24,
          64,
          65,
          66,
          84,
          82,
          73,
          77,
          72,
          51,
          69,
          50,
          68,
          56,
          55,
          51,
          95,
          90,
          56,
          72,
          49,
          65,
          77,
          46,
          100,
          70,
          61,
          45,
          59,
          69,
          46,
          55,
          65,
          77,
          56,
          63,
          78,
          77,
          71,
          64,
          100,
          63,
          41,
          78,
          79,
          87,
          87,
          58,
          81,
          73,
          70,
          69,
          73,
          49,
          52,
          51,
          81,
          80,
          64,
          90,
          58,
          81,
          79,
          84,
          63,
          71,
          90,
          83,
          56,
          58,
          78,
          52,
          37,
          63,
          70,
          91,
          100,
          73,
          87,
          52,
          66,
          65,
          74,
          83,
          74,
          54,
          74,
          85,
          52,
          74,
          74,
          31,
          73,
          84,
          95,
          57,
          53,
          52,
          74,
          48,
          55,
          52,
          57,
          39,
          90,
          61,
          74,
          78,
          70,
          100,
          42,
          67,
          80,
          85,
          84,
          86,
          62,
          45,
          55,
          85,
          77,
          70,
          50,
          91,
          60,
          80,
          50,
          61,
          67,
          63,
          77,
          99,
          91,
          78,
          69,
          71,
          79,
          81,
          74,
          84,
          54,
          62,
          84,
          64,
          72,
          52,
          64,
          75,
          85,
          43,
          68,
          55,
          72,
          68,
          42,
          89,
          50,
          68,
          59,
          57,
          73,
          85,
          73,
          45,
          56,
          70,
          90,
          67,
          75,
          59,
          95,
          52,
          69,
          76,
          79,
          60,
          56,
          85,
          71,
          100,
          56,
          79,
          100,
          63,
          73,
          70,
          52,
          99,
          64,
          93,
          69,
          82,
          53,
          49,
          55,
          81,
          55,
          83,
          72,
          83,
          56,
          61,
          86,
          84,
          88,
          62,
          75,
          45,
          68,
          76,
          48,
          60,
          34,
          50,
          64,
          43,
          66,
          92,
          76,
          44,
          72,
          62,
          64,
          82,
          41,
          64,
          70,
          77,
          37,
          68,
          77,
          48,
          71,
          57,
          54,
          72,
          94,
          53,
          80,
          89,
          39,
          71,
          89,
          48,
          81,
          90,
          63,
          58,
          55,
          60,
          67,
          77,
          88,
          73,
          68,
          80,
          70,
          42,
          47,
          60,
          60,
          76,
          86,
          64,
          63,
          74,
          82,
          78,
          58,
          82,
          43,
          92,
          67,
          86,
          63,
          79,
          85,
          86,
          72,
          60,
          75,
          61,
          60,
          61,
          75,
          39,
          75,
          38,
          51,
          84,
          62,
          62,
          96,
          47,
          85,
          67,
          67,
          80,
          53,
          76,
          85,
          75,
          62,
          79,
          58,
          60,
          71,
          58,
          87,
          45,
          85,
          58,
          43,
          67,
          68,
          67,
          58,
          77,
          71,
          63,
          78,
          60,
          34,
          78,
          57,
          62,
          76,
          64,
          78,
          53,
          51,
          62,
          84,
          60,
          58,
          84,
          76,
          73,
          72,
          90,
          66,
          83,
          65,
          74,
          72,
          24,
          92,
          62,
          60,
          57,
          65,
          76,
          90,
          86,
          89,
          76,
          97,
          70,
          66,
          86,
          68,
          83,
          86,
          88,
          41,
          65,
          95,
          97,
          51,
          66,
          66,
          100,
          74,
          54,
          67,
          60,
          59,
          81,
          90,
          81,
          60,
          65,
          53,
          52,
          58,
          69,
          42,
          87,
          83,
          72,
          67,
          89,
          75,
          64,
          63,
          67,
          84,
          74,
          80,
          100,
          64,
          75,
          76,
          61,
          78,
          37,
          76,
          71,
          70,
          71,
          68,
          70,
          66,
          65,
          71,
          92,
          55,
          69,
          56,
          76,
          92,
          59,
          32,
          79,
          54,
          58,
          67,
          49,
          39,
          73,
          60,
          73,
          90,
          44,
          56,
          100,
          71,
          69,
          91,
          76,
          55,
          75,
          84,
          67,
          72,
          78,
          79,
          60,
          58,
          46,
          77,
          80,
          79,
          69,
          45,
          58,
          95,
          78,
          70,
          62,
          81,
          81,
          78,
          69,
          46,
          80,
          72,
          58,
          72,
          96,
          75,
          100,
          74,
          59,
          41,
          58,
          93,
          61,
          66,
          67,
          84,
          82,
          70,
          61,
          80,
          62,
          64,
          65,
          17,
          67,
          86,
          86,
          67,
          100,
          58,
          57,
          87,
          51,
          74,
          82,
          96,
          65,
          82,
          66,
          89,
          72,
          55,
          56,
          89,
          48,
          52,
          59,
          34,
          73,
          82,
          66,
          81,
          72,
          87,
          97,
          74,
          75,
          67,
          72,
          64,
          76,
          46,
          29,
          75,
          44,
          74,
          61,
          80
         ],
         "y0": " ",
         "yaxis": "y"
        },
        {
         "alignmentgroup": "True",
         "hovertemplate": "subject=writing score<br>score=%{y}<extra></extra>",
         "legendgroup": "writing score",
         "marker": {
          "color": "#00cc96"
         },
         "name": "writing score",
         "notched": false,
         "offsetgroup": "writing score",
         "orientation": "v",
         "showlegend": true,
         "type": "box",
         "x0": " ",
         "xaxis": "x",
         "y": [
          46,
          81,
          63,
          76,
          87,
          69,
          64,
          41,
          61,
          71,
          82,
          70,
          58,
          72,
          62,
          68,
          46,
          74,
          60,
          68,
          77,
          100,
          74,
          55,
          80,
          70,
          75,
          67,
          78,
          88,
          85,
          74,
          65,
          54,
          62,
          62,
          54,
          63,
          60,
          27,
          76,
          72,
          57,
          53,
          78,
          27,
          70,
          61,
          67,
          65,
          79,
          71,
          61,
          64,
          85,
          65,
          87,
          95,
          85,
          60,
          47,
          50,
          56,
          52,
          88,
          82,
          61,
          65,
          92,
          86,
          73,
          78,
          91,
          81,
          93,
          58,
          70,
          53,
          78,
          88,
          42,
          74,
          67,
          77,
          78,
          60,
          83,
          61,
          74,
          66,
          64,
          70,
          51,
          70,
          59,
          83,
          54,
          85,
          100,
          72,
          43,
          63,
          82,
          71,
          65,
          78,
          74,
          43,
          74,
          60,
          85,
          61,
          76,
          77,
          45,
          58,
          95,
          71,
          57,
          78,
          59,
          58,
          74,
          46,
          62,
          78,
          74,
          81,
          72,
          82,
          73,
          50,
          59,
          44,
          57,
          54,
          32,
          73,
          74,
          57,
          52,
          69,
          53,
          54,
          48,
          90,
          75,
          83,
          94,
          92,
          91,
          62,
          45,
          58,
          52,
          63,
          60,
          74,
          59,
          86,
          55,
          54,
          63,
          73,
          46,
          90,
          79,
          58,
          66,
          72,
          41,
          42,
          70,
          72,
          77,
          76,
          67,
          85,
          66,
          54,
          72,
          68,
          85,
          76,
          62,
          60,
          58,
          56,
          64,
          75,
          72,
          83,
          100,
          56,
          66,
          71,
          67,
          76,
          96,
          68,
          80,
          87,
          52,
          82,
          47,
          65,
          84,
          79,
          52,
          41,
          73,
          83,
          65,
          82,
          76,
          79,
          36,
          33,
          45,
          58,
          80,
          79,
          73,
          62,
          73,
          70,
          61,
          75,
          68,
          49,
          64,
          73,
          68,
          91,
          68,
          68,
          56,
          86,
          69,
          57,
          66,
          70,
          74,
          56,
          45,
          57,
          45,
          58,
          51,
          47,
          38,
          78,
          69,
          37,
          51,
          90,
          90,
          51,
          58,
          66,
          94,
          19,
          69,
          56,
          46,
          82,
          57,
          100,
          81,
          54,
          91,
          80,
          84,
          70,
          52,
          68,
          73,
          78,
          79,
          70,
          84,
          74,
          69,
          75,
          70,
          68,
          44,
          69,
          68,
          68,
          89,
          72,
          65,
          66,
          69,
          73,
          72,
          82,
          69,
          69,
          77,
          73,
          72,
          77,
          86,
          75,
          80,
          54,
          68,
          93,
          73,
          92,
          74,
          98,
          70,
          73,
          75,
          77,
          81,
          52,
          51,
          51,
          96,
          62,
          74,
          75,
          61,
          67,
          77,
          44,
          67,
          62,
          100,
          89,
          80,
          78,
          77,
          61,
          72,
          67,
          86,
          61,
          80,
          67,
          53,
          55,
          87,
          71,
          59,
          50,
          81,
          69,
          74,
          54,
          55,
          60,
          96,
          93,
          71,
          91,
          42,
          83,
          66,
          81,
          41,
          56,
          77,
          58,
          66,
          52,
          47,
          41,
          68,
          63,
          62,
          71,
          39,
          80,
          61,
          70,
          72,
          89,
          81,
          48,
          60,
          55,
          54,
          86,
          70,
          73,
          72,
          47,
          38,
          88,
          22,
          80,
          66,
          80,
          83,
          50,
          87,
          85,
          87,
          85,
          87,
          70,
          67,
          70,
          61,
          51,
          61,
          48,
          57,
          87,
          89,
          65,
          52,
          80,
          88,
          52,
          56,
          80,
          68,
          47,
          51,
          80,
          73,
          68,
          89,
          86,
          70,
          57,
          77,
          69,
          80,
          73,
          63,
          78,
          76,
          73,
          52,
          66,
          74,
          60,
          82,
          65,
          46,
          69,
          76,
          46,
          72,
          51,
          84,
          85,
          60,
          80,
          65,
          58,
          64,
          58,
          83,
          91,
          80,
          66,
          64,
          66,
          100,
          23,
          62,
          64,
          65,
          82,
          91,
          75,
          69,
          64,
          43,
          69,
          47,
          74,
          57,
          48,
          56,
          94,
          91,
          57,
          76,
          50,
          63,
          79,
          44,
          95,
          71,
          57,
          41,
          62,
          68,
          43,
          54,
          65,
          76,
          47,
          64,
          75,
          78,
          73,
          57,
          95,
          66,
          38,
          76,
          79,
          82,
          85,
          65,
          86,
          73,
          65,
          76,
          70,
          49,
          51,
          48,
          80,
          73,
          65,
          82,
          59,
          73,
          84,
          77,
          75,
          68,
          88,
          86,
          51,
          62,
          79,
          54,
          37,
          62,
          76,
          89,
          97,
          68,
          92,
          55,
          68,
          60,
          71,
          88,
          75,
          53,
          73,
          91,
          43,
          81,
          74,
          36,
          70,
          75,
          93,
          50,
          52,
          42,
          64,
          53,
          53,
          51,
          53,
          34,
          92,
          58,
          72,
          76,
          66,
          100,
          38,
          61,
          71,
          87,
          85,
          92,
          56,
          50,
          48,
          82,
          77,
          63,
          52,
          89,
          54,
          83,
          54,
          66,
          69,
          56,
          83,
          100,
          87,
          79,
          75,
          78,
          82,
          84,
          68,
          78,
          52,
          62,
          82,
          74,
          70,
          44,
          66,
          78,
          93,
          44,
          61,
          55,
          71,
          72,
          48,
          98,
          43,
          66,
          54,
          59,
          71,
          84,
          72,
          40,
          58,
          70,
          94,
          72,
          74,
          52,
          100,
          54,
          68,
          75,
          81,
          59,
          53,
          90,
          73,
          100,
          51,
          82,
          100,
          61,
          72,
          76,
          46,
          95,
          62,
          93,
          68,
          79,
          53,
          51,
          49,
          84,
          63,
          78,
          74,
          77,
          56,
          60,
          90,
          82,
          85,
          64,
          70,
          45,
          69,
          76,
          51,
          60,
          36,
          45,
          70,
          43,
          69,
          97,
          74,
          43,
          72,
          62,
          64,
          82,
          43,
          60,
          65,
          70,
          35,
          77,
          80,
          49,
          74,
          53,
          53,
          77,
          95,
          49,
          75,
          95,
          34,
          78,
          82,
          52,
          74,
          89,
          60,
          58,
          54,
          57,
          67,
          74,
          90,
          67,
          61,
          80,
          62,
          41,
          44,
          57,
          50,
          73,
          84,
          70,
          57,
          71,
          73,
          81,
          61,
          79,
          42,
          95,
          62,
          83,
          63,
          71,
          85,
          79,
          74,
          53,
          76,
          54,
          60,
          58,
          78,
          34,
          77,
          27,
          46,
          86,
          69,
          61,
          99,
          49,
          76,
          65,
          66,
          76,
          52,
          78,
          86,
          81,
          66,
          77,
          55,
          63,
          80,
          47,
          79,
          38,
          80,
          57,
          41,
          64,
          75,
          68,
          54,
          77,
          80,
          59,
          75,
          58,
          38,
          74,
          52,
          66,
          74,
          55,
          79,
          55,
          55,
          64,
          81,
          55,
          62,
          82,
          74,
          68,
          64,
          88,
          73,
          83,
          55,
          77,
          79,
          15,
          84,
          63,
          65,
          56,
          61,
          78,
          93,
          87,
          84,
          67,
          96,
          75,
          67,
          89,
          68,
          78,
          83,
          90,
          43,
          66,
          86,
          94,
          52,
          60,
          62,
          99,
          76,
          55,
          59,
          57,
          59,
          79,
          88,
          76,
          74,
          63,
          43,
          51,
          60,
          65,
          39,
          81,
          79,
          70,
          61,
          94,
          70,
          67,
          64,
          69,
          84,
          76,
          72,
          100,
          66,
          82,
          70,
          54,
          78,
          40,
          64,
          67,
          69,
          69,
          73,
          67,
          72,
          62,
          67,
          88,
          51,
          65,
          53,
          71,
          91,
          62,
          28,
          84,
          53,
          64,
          67,
          42,
          33,
          69,
          57,
          68,
          82,
          47,
          52,
          99,
          70,
          67,
          81,
          68,
          49,
          80,
          76,
          67,
          68,
          81,
          80,
          63,
          67,
          42,
          75,
          77,
          84,
          68,
          40,
          60,
          92,
          77,
          73,
          50,
          84,
          77,
          74,
          70,
          50,
          82,
          65,
          53,
          67,
          91,
          72,
          100,
          77,
          66,
          48,
          54,
          93,
          62,
          71,
          64,
          84,
          80,
          72,
          54,
          80,
          64,
          59,
          74,
          10,
          62,
          81,
          81,
          64,
          100,
          49,
          44,
          81,
          54,
          68,
          88,
          92,
          62,
          90,
          59,
          92,
          74,
          56,
          54,
          90,
          46,
          49,
          53,
          32,
          78,
          78,
          67,
          82,
          74,
          75,
          99,
          70,
          79,
          67,
          70,
          75,
          80,
          43,
          30,
          71,
          36,
          81,
          62,
          76
         ],
         "y0": " ",
         "yaxis": "y"
        }
       ],
       "layout": {
        "autosize": true,
        "boxmode": "group",
        "legend": {
         "title": {
          "text": "subject"
         },
         "tracegroupgap": 0
        },
        "margin": {
         "t": 60
        },
        "template": {
         "data": {
          "bar": [
           {
            "error_x": {
             "color": "#2a3f5f"
            },
            "error_y": {
             "color": "#2a3f5f"
            },
            "marker": {
             "line": {
              "color": "#E5ECF6",
              "width": 0.5
             },
             "pattern": {
              "fillmode": "overlay",
              "size": 10,
              "solidity": 0.2
             }
            },
            "type": "bar"
           }
          ],
          "barpolar": [
           {
            "marker": {
             "line": {
              "color": "#E5ECF6",
              "width": 0.5
             },
             "pattern": {
              "fillmode": "overlay",
              "size": 10,
              "solidity": 0.2
             }
            },
            "type": "barpolar"
           }
          ],
          "carpet": [
           {
            "aaxis": {
             "endlinecolor": "#2a3f5f",
             "gridcolor": "white",
             "linecolor": "white",
             "minorgridcolor": "white",
             "startlinecolor": "#2a3f5f"
            },
            "baxis": {
             "endlinecolor": "#2a3f5f",
             "gridcolor": "white",
             "linecolor": "white",
             "minorgridcolor": "white",
             "startlinecolor": "#2a3f5f"
            },
            "type": "carpet"
           }
          ],
          "choropleth": [
           {
            "colorbar": {
             "outlinewidth": 0,
             "ticks": ""
            },
            "type": "choropleth"
           }
          ],
          "contour": [
           {
            "colorbar": {
             "outlinewidth": 0,
             "ticks": ""
            },
            "colorscale": [
             [
              0,
              "#0d0887"
             ],
             [
              0.1111111111111111,
              "#46039f"
             ],
             [
              0.2222222222222222,
              "#7201a8"
             ],
             [
              0.3333333333333333,
              "#9c179e"
             ],
             [
              0.4444444444444444,
              "#bd3786"
             ],
             [
              0.5555555555555556,
              "#d8576b"
             ],
             [
              0.6666666666666666,
              "#ed7953"
             ],
             [
              0.7777777777777778,
              "#fb9f3a"
             ],
             [
              0.8888888888888888,
              "#fdca26"
             ],
             [
              1,
              "#f0f921"
             ]
            ],
            "type": "contour"
           }
          ],
          "contourcarpet": [
           {
            "colorbar": {
             "outlinewidth": 0,
             "ticks": ""
            },
            "type": "contourcarpet"
           }
          ],
          "heatmap": [
           {
            "colorbar": {
             "outlinewidth": 0,
             "ticks": ""
            },
            "colorscale": [
             [
              0,
              "#0d0887"
             ],
             [
              0.1111111111111111,
              "#46039f"
             ],
             [
              0.2222222222222222,
              "#7201a8"
             ],
             [
              0.3333333333333333,
              "#9c179e"
             ],
             [
              0.4444444444444444,
              "#bd3786"
             ],
             [
              0.5555555555555556,
              "#d8576b"
             ],
             [
              0.6666666666666666,
              "#ed7953"
             ],
             [
              0.7777777777777778,
              "#fb9f3a"
             ],
             [
              0.8888888888888888,
              "#fdca26"
             ],
             [
              1,
              "#f0f921"
             ]
            ],
            "type": "heatmap"
           }
          ],
          "heatmapgl": [
           {
            "colorbar": {
             "outlinewidth": 0,
             "ticks": ""
            },
            "colorscale": [
             [
              0,
              "#0d0887"
             ],
             [
              0.1111111111111111,
              "#46039f"
             ],
             [
              0.2222222222222222,
              "#7201a8"
             ],
             [
              0.3333333333333333,
              "#9c179e"
             ],
             [
              0.4444444444444444,
              "#bd3786"
             ],
             [
              0.5555555555555556,
              "#d8576b"
             ],
             [
              0.6666666666666666,
              "#ed7953"
             ],
             [
              0.7777777777777778,
              "#fb9f3a"
             ],
             [
              0.8888888888888888,
              "#fdca26"
             ],
             [
              1,
              "#f0f921"
             ]
            ],
            "type": "heatmapgl"
           }
          ],
          "histogram": [
           {
            "marker": {
             "pattern": {
              "fillmode": "overlay",
              "size": 10,
              "solidity": 0.2
             }
            },
            "type": "histogram"
           }
          ],
          "histogram2d": [
           {
            "colorbar": {
             "outlinewidth": 0,
             "ticks": ""
            },
            "colorscale": [
             [
              0,
              "#0d0887"
             ],
             [
              0.1111111111111111,
              "#46039f"
             ],
             [
              0.2222222222222222,
              "#7201a8"
             ],
             [
              0.3333333333333333,
              "#9c179e"
             ],
             [
              0.4444444444444444,
              "#bd3786"
             ],
             [
              0.5555555555555556,
              "#d8576b"
             ],
             [
              0.6666666666666666,
              "#ed7953"
             ],
             [
              0.7777777777777778,
              "#fb9f3a"
             ],
             [
              0.8888888888888888,
              "#fdca26"
             ],
             [
              1,
              "#f0f921"
             ]
            ],
            "type": "histogram2d"
           }
          ],
          "histogram2dcontour": [
           {
            "colorbar": {
             "outlinewidth": 0,
             "ticks": ""
            },
            "colorscale": [
             [
              0,
              "#0d0887"
             ],
             [
              0.1111111111111111,
              "#46039f"
             ],
             [
              0.2222222222222222,
              "#7201a8"
             ],
             [
              0.3333333333333333,
              "#9c179e"
             ],
             [
              0.4444444444444444,
              "#bd3786"
             ],
             [
              0.5555555555555556,
              "#d8576b"
             ],
             [
              0.6666666666666666,
              "#ed7953"
             ],
             [
              0.7777777777777778,
              "#fb9f3a"
             ],
             [
              0.8888888888888888,
              "#fdca26"
             ],
             [
              1,
              "#f0f921"
             ]
            ],
            "type": "histogram2dcontour"
           }
          ],
          "mesh3d": [
           {
            "colorbar": {
             "outlinewidth": 0,
             "ticks": ""
            },
            "type": "mesh3d"
           }
          ],
          "parcoords": [
           {
            "line": {
             "colorbar": {
              "outlinewidth": 0,
              "ticks": ""
             }
            },
            "type": "parcoords"
           }
          ],
          "pie": [
           {
            "automargin": true,
            "type": "pie"
           }
          ],
          "scatter": [
           {
            "fillpattern": {
             "fillmode": "overlay",
             "size": 10,
             "solidity": 0.2
            },
            "type": "scatter"
           }
          ],
          "scatter3d": [
           {
            "line": {
             "colorbar": {
              "outlinewidth": 0,
              "ticks": ""
             }
            },
            "marker": {
             "colorbar": {
              "outlinewidth": 0,
              "ticks": ""
             }
            },
            "type": "scatter3d"
           }
          ],
          "scattercarpet": [
           {
            "marker": {
             "colorbar": {
              "outlinewidth": 0,
              "ticks": ""
             }
            },
            "type": "scattercarpet"
           }
          ],
          "scattergeo": [
           {
            "marker": {
             "colorbar": {
              "outlinewidth": 0,
              "ticks": ""
             }
            },
            "type": "scattergeo"
           }
          ],
          "scattergl": [
           {
            "marker": {
             "colorbar": {
              "outlinewidth": 0,
              "ticks": ""
             }
            },
            "type": "scattergl"
           }
          ],
          "scattermapbox": [
           {
            "marker": {
             "colorbar": {
              "outlinewidth": 0,
              "ticks": ""
             }
            },
            "type": "scattermapbox"
           }
          ],
          "scatterpolar": [
           {
            "marker": {
             "colorbar": {
              "outlinewidth": 0,
              "ticks": ""
             }
            },
            "type": "scatterpolar"
           }
          ],
          "scatterpolargl": [
           {
            "marker": {
             "colorbar": {
              "outlinewidth": 0,
              "ticks": ""
             }
            },
            "type": "scatterpolargl"
           }
          ],
          "scatterternary": [
           {
            "marker": {
             "colorbar": {
              "outlinewidth": 0,
              "ticks": ""
             }
            },
            "type": "scatterternary"
           }
          ],
          "surface": [
           {
            "colorbar": {
             "outlinewidth": 0,
             "ticks": ""
            },
            "colorscale": [
             [
              0,
              "#0d0887"
             ],
             [
              0.1111111111111111,
              "#46039f"
             ],
             [
              0.2222222222222222,
              "#7201a8"
             ],
             [
              0.3333333333333333,
              "#9c179e"
             ],
             [
              0.4444444444444444,
              "#bd3786"
             ],
             [
              0.5555555555555556,
              "#d8576b"
             ],
             [
              0.6666666666666666,
              "#ed7953"
             ],
             [
              0.7777777777777778,
              "#fb9f3a"
             ],
             [
              0.8888888888888888,
              "#fdca26"
             ],
             [
              1,
              "#f0f921"
             ]
            ],
            "type": "surface"
           }
          ],
          "table": [
           {
            "cells": {
             "fill": {
              "color": "#EBF0F8"
             },
             "line": {
              "color": "white"
             }
            },
            "header": {
             "fill": {
              "color": "#C8D4E3"
             },
             "line": {
              "color": "white"
             }
            },
            "type": "table"
           }
          ]
         },
         "layout": {
          "annotationdefaults": {
           "arrowcolor": "#2a3f5f",
           "arrowhead": 0,
           "arrowwidth": 1
          },
          "autotypenumbers": "strict",
          "coloraxis": {
           "colorbar": {
            "outlinewidth": 0,
            "ticks": ""
           }
          },
          "colorscale": {
           "diverging": [
            [
             0,
             "#8e0152"
            ],
            [
             0.1,
             "#c51b7d"
            ],
            [
             0.2,
             "#de77ae"
            ],
            [
             0.3,
             "#f1b6da"
            ],
            [
             0.4,
             "#fde0ef"
            ],
            [
             0.5,
             "#f7f7f7"
            ],
            [
             0.6,
             "#e6f5d0"
            ],
            [
             0.7,
             "#b8e186"
            ],
            [
             0.8,
             "#7fbc41"
            ],
            [
             0.9,
             "#4d9221"
            ],
            [
             1,
             "#276419"
            ]
           ],
           "sequential": [
            [
             0,
             "#0d0887"
            ],
            [
             0.1111111111111111,
             "#46039f"
            ],
            [
             0.2222222222222222,
             "#7201a8"
            ],
            [
             0.3333333333333333,
             "#9c179e"
            ],
            [
             0.4444444444444444,
             "#bd3786"
            ],
            [
             0.5555555555555556,
             "#d8576b"
            ],
            [
             0.6666666666666666,
             "#ed7953"
            ],
            [
             0.7777777777777778,
             "#fb9f3a"
            ],
            [
             0.8888888888888888,
             "#fdca26"
            ],
            [
             1,
             "#f0f921"
            ]
           ],
           "sequentialminus": [
            [
             0,
             "#0d0887"
            ],
            [
             0.1111111111111111,
             "#46039f"
            ],
            [
             0.2222222222222222,
             "#7201a8"
            ],
            [
             0.3333333333333333,
             "#9c179e"
            ],
            [
             0.4444444444444444,
             "#bd3786"
            ],
            [
             0.5555555555555556,
             "#d8576b"
            ],
            [
             0.6666666666666666,
             "#ed7953"
            ],
            [
             0.7777777777777778,
             "#fb9f3a"
            ],
            [
             0.8888888888888888,
             "#fdca26"
            ],
            [
             1,
             "#f0f921"
            ]
           ]
          },
          "colorway": [
           "#636efa",
           "#EF553B",
           "#00cc96",
           "#ab63fa",
           "#FFA15A",
           "#19d3f3",
           "#FF6692",
           "#B6E880",
           "#FF97FF",
           "#FECB52"
          ],
          "font": {
           "color": "#2a3f5f"
          },
          "geo": {
           "bgcolor": "white",
           "lakecolor": "white",
           "landcolor": "#E5ECF6",
           "showlakes": true,
           "showland": true,
           "subunitcolor": "white"
          },
          "hoverlabel": {
           "align": "left"
          },
          "hovermode": "closest",
          "mapbox": {
           "style": "light"
          },
          "paper_bgcolor": "white",
          "plot_bgcolor": "#E5ECF6",
          "polar": {
           "angularaxis": {
            "gridcolor": "white",
            "linecolor": "white",
            "ticks": ""
           },
           "bgcolor": "#E5ECF6",
           "radialaxis": {
            "gridcolor": "white",
            "linecolor": "white",
            "ticks": ""
           }
          },
          "scene": {
           "xaxis": {
            "backgroundcolor": "#E5ECF6",
            "gridcolor": "white",
            "gridwidth": 2,
            "linecolor": "white",
            "showbackground": true,
            "ticks": "",
            "zerolinecolor": "white"
           },
           "yaxis": {
            "backgroundcolor": "#E5ECF6",
            "gridcolor": "white",
            "gridwidth": 2,
            "linecolor": "white",
            "showbackground": true,
            "ticks": "",
            "zerolinecolor": "white"
           },
           "zaxis": {
            "backgroundcolor": "#E5ECF6",
            "gridcolor": "white",
            "gridwidth": 2,
            "linecolor": "white",
            "showbackground": true,
            "ticks": "",
            "zerolinecolor": "white"
           }
          },
          "shapedefaults": {
           "line": {
            "color": "#2a3f5f"
           }
          },
          "ternary": {
           "aaxis": {
            "gridcolor": "white",
            "linecolor": "white",
            "ticks": ""
           },
           "baxis": {
            "gridcolor": "white",
            "linecolor": "white",
            "ticks": ""
           },
           "bgcolor": "#E5ECF6",
           "caxis": {
            "gridcolor": "white",
            "linecolor": "white",
            "ticks": ""
           }
          },
          "title": {
           "x": 0.05
          },
          "xaxis": {
           "automargin": true,
           "gridcolor": "white",
           "linecolor": "white",
           "ticks": "",
           "title": {
            "standoff": 15
           },
           "zerolinecolor": "white",
           "zerolinewidth": 2
          },
          "yaxis": {
           "automargin": true,
           "gridcolor": "white",
           "linecolor": "white",
           "ticks": "",
           "title": {
            "standoff": 15
           },
           "zerolinecolor": "white",
           "zerolinewidth": 2
          }
         }
        },
        "xaxis": {
         "anchor": "y",
         "autorange": true,
         "domain": [
          0,
          1
         ],
         "range": [
          -0.5036407766990292,
          0.5036407766990292
         ],
         "type": "category"
        },
        "yaxis": {
         "anchor": "x",
         "autorange": true,
         "domain": [
          0,
          1
         ],
         "range": [
          -5.555555555555556,
          105.55555555555556
         ],
         "title": {
          "text": "score"
         },
         "type": "linear"
        }
       }
      },
      "image/png": "[encoded data removed]",
      "text/html": [
       "<div>                            <div id=\"db5f35ae-b228-4c97-88a1-74af15a124e3\" class=\"plotly-graph-div\" style=\"height:525px; width:100%;\"></div>            <script type=\"text/javascript\">                require([\"plotly\"], function(Plotly) {                    window.PLOTLYENV=window.PLOTLYENV || {};                                    if (document.getElementById(\"db5f35ae-b228-4c97-88a1-74af15a124e3\")) {                    Plotly.newPlot(                        \"db5f35ae-b228-4c97-88a1-74af15a124e3\",                        [{\"alignmentgroup\":\"True\",\"hovertemplate\":\"subject=math score\\u003cbr\\u003escore=%{y}\\u003cextra\\u003e\\u003c\\u002fextra\\u003e\",\"legendgroup\":\"math score\",\"marker\":{\"color\":\"#636efa\"},\"name\":\"math score\",\"notched\":false,\"offsetgroup\":\"math score\",\"orientation\":\"v\",\"showlegend\":true,\"x0\":\" \",\"xaxis\":\"x\",\"y\":[37.0,80.0,73.0,81.0,94.0,71.0,75.0,34.0,63.0,94.0,65.0,52.0,62.0,74.0,62.0,73.0,46.0,82.0,63.0,64.0,80.0,93.0,69.0,46.0,86.0,59.0,84.0,64.0,73.0,83.0,75.0,69.0,68.0,57.0,66.0,61.0,40.0,50.0,48.0,36.0,78.0,57.0,69.0,40.0,92.0,35.0,63.0,73.0,63.0,52.0,73.0,63.0,71.0,45.0,85.0,80.0,82.0,77.0,91.0,60.0,63.0,40.0,57.0,58.0,97.0,81.0,68.0,59.0,96.0,87.0,57.0,94.0,97.0,65.0,82.0,72.0,62.0,44.0,82.0,75.0,59.0,75.0,72.0,68.0,66.0,67.0,93.0,69.0,63.0,46.0,66.0,62.0,48.0,71.0,54.0,80.0,55.0,90.0,94.0,81.0,53.0,61.0,75.0,74.0,62.0,70.0,60.0,59.0,62.0,53.0,80.0,69.0,69.0,69.0,49.0,43.0,83.0,65.0,73.0,68.0,64.0,54.0,65.0,49.0,58.0,66.0,65.0,65.0,70.0,79.0,50.0,64.0,68.0,32.0,68.0,58.0,19.0,69.0,72.0,53.0,61.0,78.0,53.0,45.0,44.0,83.0,65.0,88.0,88.0,91.0,84.0,51.0,38.0,47.0,66.0,61.0,60.0,71.0,45.0,77.0,53.0,57.0,72.0,76.0,45.0,99.0,51.0,64.0,52.0,80.0,51.0,50.0,64.0,74.0,71.0,57.0,69.0,77.0,75.0,43.0,80.0,59.0,85.0,55.0,44.0,42.0,58.0,61.0,50.0,88.0,73.0,67.0,97.0,61.0,62.0,79.0,54.0,66.0,78.0,85.0,84.0,76.0,44.0,81.0,54.0,58.0,81.0,72.0,71.0,61.0,66.0,71.0,71.0,89.0,73.0,81.0,46.0,22.0,48.0,44.0,79.0,91.0,76.0,54.0,77.0,62.0,67.0,86.0,58.0,53.0,57.0,69.0,76.0,78.0,69.0,62.0,37.0,88.0,90.0,57.0,68.0,65.0,63.0,52.0,48.0,65.0,54.0,50.0,40.0,29.0,26.0,70.0,75.0,53.0,60.0,98.0,93.0,59.0,46.0,76.0,79.0,28.0,55.0,61.0,35.0,94.0,46.0,100.0,67.0,50.0,79.0,71.0,83.0,55.0,48.0,76.0,77.0,79.0,62.0,56.0,68.0,84.0,80.0,62.0,60.0,64.0,29.0,52.0,53.0,67.0,82.0,56.0,79.0,73.0,66.0,52.0,52.0,73.0,66.0,84.0,82.0,74.0,76.0,81.0,79.0,68.0,63.0,50.0,72.0,85.0,83.0,84.0,65.0,85.0,70.0,58.0,86.0,64.0,65.0,61.0,49.0,53.0,97.0,75.0,72.0,74.0,59.0,68.0,78.0,53.0,57.0,72.0,99.0,79.0,91.0,83.0,72.0,61.0,73.0,59.0,100.0,61.0,77.0,71.0,49.0,62.0,86.0,75.0,58.0,47.0,63.0,69.0,70.0,68.0,61.0,71.0,81.0,100.0,84.0,77.0,53.0,71.0,73.0,65.0,49.0,52.0,65.0,59.0,80.0,62.0,57.0,46.0,58.0,67.0,73.0,72.0,40.0,78.0,63.0,61.0,79.0,77.0,70.0,53.0,76.0,45.0,40.0,82.0,78.0,75.0,70.0,55.0,39.0,70.0,30.0,75.0,63.0,82.0,74.0,54.0,71.0,73.0,77.0,77.0,87.0,87.0,74.0,67.0,43.0,49.0,49.0,53.0,64.0,61.0,79.0,69.0,54.0,65.0,77.0,58.0,49.0,73.0,54.0,54.0,64.0,59.0,76.0,75.0,85.0,97.0,53.0,52.0,77.0,79.0,57.0,87.0,66.0,63.0,65.0,68.0,55.0,72.0,86.0,35.0,97.0,75.0,52.0,74.0,70.0,39.0,61.0,44.0,77.0,87.0,66.0,68.0,65.0,62.0,81.0,70.0,74.0,94.0,76.0,59.0,68.0,73.0,100.0,8.0,65.0,40.0,48.0,89.0,77.0,65.0,69.0,68.0,49.0,62.0,50.0,56.0,46.0,53.0,60.0,91.0,90.0,73.0,70.0,47.0,65.0,81.0,55.0,93.0,65.0,62.0,48.0,68.0,66.0,55.0,42.0,54.0,74.0,37.0,66.0,88.0,69.0,61.0,39.0,87.0,64.0,44.0,59.0,80.0,71.0,76.0,53.0,78.0,55.0,70.0,65.0,86.0,47.0,54.0,41.0,78.0,83.0,54.0,90.0,59.0,65.0,67.0,89.0,59.0,73.0,74.0,86.0,55.0,61.0,57.0,58.0,45.0,63.0,61.0,81.0,92.0,67.0,94.0,56.0,62.0,70.0,70.0,76.0,64.0,47.0,66.0,86.0,40.0,66.0,68.0,51.0,45.0,88.0,90.0,52.0,49.0,53.0,71.0,50.0,58.0,42.0,67.0,39.0,85.0,62.0,78.0,73.0,68.0,89.0,40.0,82.0,69.0,77.0,69.0,79.0,53.0,43.0,58.0,76.0,88.0,69.0,49.0,85.0,69.0,72.0,57.0,58.0,62.0,62.0,75.0,88.0,81.0,67.0,67.0,74.0,74.0,95.0,71.0,85.0,56.0,82.0,85.0,60.0,63.0,51.0,50.0,81.0,87.0,46.0,58.0,62.0,76.0,60.0,50.0,77.0,64.0,61.0,60.0,67.0,64.0,90.0,59.0,53.0,48.0,60.0,82.0,58.0,60.0,66.0,85.0,49.0,77.0,67.0,69.0,50.0,62.0,83.0,81.0,92.0,70.0,72.0,92.0,51.0,87.0,71.0,59.0,88.0,61.0,82.0,71.0,75.0,43.0,51.0,62.0,75.0,63.0,71.0,67.0,71.0,61.0,56.0,98.0,82.0,75.0,59.0,71.0,44.0,77.0,65.0,57.0,60.0,27.0,58.0,70.0,38.0,42.0,100.0,89.0,35.0,74.0,77.0,62.0,79.0,46.0,74.0,59.0,66.0,47.0,77.0,78.0,52.0,70.0,58.0,68.0,69.0,87.0,52.0,72.0,85.0,41.0,61.0,67.0,54.0,75.0,80.0,63.0,52.0,62.0,58.0,62.0,65.0,74.0,79.0,68.0,63.0,52.0,59.0,55.0,66.0,38.0,74.0,91.0,64.0,74.0,81.0,79.0,90.0,54.0,78.0,46.0,88.0,62.0,80.0,80.0,71.0,64.0,75.0,60.0,68.0,88.0,55.0,50.0,42.0,69.0,42.0,58.0,24.0,48.0,67.0,59.0,59.0,96.0,45.0,88.0,72.0,61.0,81.0,59.0,73.0,79.0,68.0,47.0,64.0,49.0,54.0,71.0,59.0,89.0,37.0,59.0,57.0,47.0,77.0,62.0,77.0,51.0,69.0,74.0,60.0,76.0,51.0,32.0,73.0,49.0,76.0,64.0,62.0,63.0,50.0,44.0,66.0,67.0,61.0,75.0,69.0,76.0,65.0,53.0,87.0,53.0,66.0,49.0,67.0,55.0,30.0,73.0,62.0,79.0,63.0,52.0,58.0,78.0,81.0,74.0,68.0,82.0,73.0,59.0,74.0,62.0,84.0,67.0,81.0,33.0,59.0,87.0,77.0,58.0,69.0,65.0,92.0,87.0,69.0,73.0,61.0,55.0,67.0,69.0,74.0,64.0,56.0,36.0,41.0,49.0,59.0,34.0,84.0,76.0,61.0,62.0,87.0,67.0,54.0,59.0,68.0,67.0,91.0,80.0,96.0,68.0,74.0,71.0,35.0,81.0,53.0,80.0,76.0,76.0,63.0,57.0,58.0,72.0,55.0,53.0,80.0,41.0,55.0,51.0,85.0,81.0,52.0,18.0,73.0,48.0,56.0,63.0,58.0,32.0,59.0,63.0,63.0,80.0,60.0,64.0,98.0,59.0,65.0,87.0,66.0,52.0,73.0,87.0,79.0,60.0,81.0,74.0,69.0,47.0,47.0,79.0,82.0,92.0,57.0,41.0,49.0,88.0,79.0,59.0,71.0,81.0,65.0,82.0,65.0,40.0,73.0,56.0,69.0,67.0,91.0,67.0,87.0,65.0,58.0,55.0,48.0,88.0,53.0,85.0,62.0,65.0,82.0,62.0,63.0,84.0,77.0,50.0,69.0,0.0,65.0,79.0,69.0,72.0,100.0,65.0,47.0,99.0,51.0,71.0,82.0,91.0,55.0,75.0,66.0,95.0,72.0,70.0,57.0,84.0,61.0,45.0,65.0,27.0,88.0,65.0,63.0,78.0,65.0,90.0,100.0,67.0,74.0,76.0,66.0,59.0,62.0,41.0,29.0,69.0,23.0,66.0,54.0,68.0],\"y0\":\" \",\"yaxis\":\"y\",\"type\":\"box\"},{\"alignmentgroup\":\"True\",\"hovertemplate\":\"subject=reading score\\u003cbr\\u003escore=%{y}\\u003cextra\\u003e\\u003c\\u002fextra\\u003e\",\"legendgroup\":\"reading score\",\"marker\":{\"color\":\"#EF553B\"},\"name\":\"reading score\",\"notched\":false,\"offsetgroup\":\"reading score\",\"orientation\":\"v\",\"showlegend\":true,\"x0\":\" \",\"xaxis\":\"x\",\"y\":[46.0,78.0,66.0,75.0,86.0,61.0,68.0,48.0,61.0,73.0,78.0,76.0,65.0,74.0,57.0,69.0,42.0,82.0,61.0,73.0,75.0,100.0,76.0,61.0,81.0,72.0,83.0,64.0,76.0,86.0,88.0,74.0,72.0,61.0,64.0,61.0,59.0,67.0,62.0,29.0,79.0,67.0,58.0,55.0,87.0,28.0,67.0,74.0,64.0,59.0,79.0,73.0,60.0,59.0,92.0,76.0,85.0,94.0,85.0,62.0,48.0,48.0,54.0,54.0,82.0,82.0,65.0,71.0,90.0,84.0,75.0,88.0,93.0,81.0,93.0,57.0,74.0,54.0,84.0,90.0,41.0,73.0,68.0,78.0,74.0,62.0,90.0,63.0,74.0,64.0,68.0,73.0,56.0,70.0,72.0,83.0,59.0,87.0,99.0,73.0,43.0,68.0,85.0,81.0,72.0,78.0,70.0,51.0,72.0,50.0,85.0,66.0,78.0,77.0,45.0,60.0,93.0,61.0,64.0,83.0,66.0,61.0,77.0,57.0,67.0,78.0,70.0,79.0,68.0,81.0,67.0,54.0,60.0,51.0,51.0,57.0,38.0,77.0,79.0,58.0,51.0,72.0,62.0,56.0,51.0,83.0,76.0,78.0,95.0,89.0,87.0,66.0,49.0,53.0,57.0,73.0,68.0,71.0,63.0,86.0,58.0,51.0,64.0,71.0,48.0,93.0,72.0,60.0,61.0,73.0,54.0,48.0,73.0,74.0,77.0,74.0,70.0,90.0,74.0,51.0,68.0,72.0,81.0,76.0,63.0,62.0,59.0,47.0,66.0,74.0,78.0,86.0,100.0,58.0,64.0,81.0,63.0,71.0,91.0,75.0,84.0,94.0,61.0,84.0,49.0,63.0,82.0,81.0,49.0,42.0,77.0,76.0,66.0,88.0,83.0,81.0,34.0,39.0,52.0,64.0,82.0,81.0,80.0,59.0,78.0,72.0,64.0,81.0,70.0,52.0,58.0,73.0,70.0,87.0,64.0,66.0,57.0,89.0,75.0,56.0,70.0,75.0,69.0,57.0,43.0,54.0,54.0,53.0,59.0,41.0,31.0,75.0,74.0,39.0,57.0,87.0,84.0,54.0,54.0,64.0,88.0,23.0,71.0,57.0,53.0,85.0,58.0,100.0,80.0,47.0,84.0,81.0,82.0,64.0,58.0,73.0,77.0,79.0,78.0,68.0,86.0,77.0,75.0,70.0,66.0,62.0,40.0,65.0,61.0,61.0,95.0,79.0,76.0,68.0,74.0,66.0,67.0,86.0,65.0,73.0,75.0,77.0,71.0,72.0,89.0,71.0,78.0,56.0,65.0,92.0,78.0,95.0,77.0,86.0,70.0,63.0,80.0,82.0,81.0,55.0,51.0,51.0,97.0,72.0,73.0,79.0,67.0,68.0,77.0,58.0,78.0,57.0,100.0,89.0,73.0,72.0,79.0,62.0,74.0,54.0,96.0,66.0,79.0,67.0,53.0,61.0,92.0,81.0,62.0,59.0,75.0,67.0,75.0,63.0,56.0,66.0,97.0,100.0,77.0,90.0,44.0,83.0,68.0,82.0,49.0,59.0,75.0,60.0,64.0,49.0,43.0,43.0,73.0,54.0,66.0,72.0,43.0,83.0,65.0,72.0,74.0,82.0,84.0,54.0,62.0,53.0,58.0,85.0,72.0,66.0,64.0,55.0,42.0,89.0,26.0,84.0,64.0,82.0,81.0,59.0,84.0,84.0,88.0,88.0,84.0,74.0,73.0,64.0,62.0,52.0,65.0,54.0,53.0,86.0,92.0,71.0,52.0,86.0,91.0,61.0,63.0,76.0,64.0,53.0,58.0,72.0,74.0,69.0,84.0,92.0,70.0,55.0,76.0,72.0,77.0,85.0,69.0,73.0,85.0,67.0,58.0,66.0,76.0,55.0,87.0,68.0,49.0,70.0,82.0,52.0,74.0,50.0,90.0,84.0,65.0,77.0,67.0,67.0,66.0,63.0,75.0,90.0,78.0,70.0,68.0,66.0,100.0,24.0,64.0,65.0,66.0,84.0,82.0,73.0,77.0,72.0,51.0,69.0,50.0,68.0,56.0,55.0,51.0,95.0,90.0,56.0,72.0,49.0,65.0,77.0,46.0,100.0,70.0,61.0,45.0,59.0,69.0,46.0,55.0,65.0,77.0,56.0,63.0,78.0,77.0,71.0,64.0,100.0,63.0,41.0,78.0,79.0,87.0,87.0,58.0,81.0,73.0,70.0,69.0,73.0,49.0,52.0,51.0,81.0,80.0,64.0,90.0,58.0,81.0,79.0,84.0,63.0,71.0,90.0,83.0,56.0,58.0,78.0,52.0,37.0,63.0,70.0,91.0,100.0,73.0,87.0,52.0,66.0,65.0,74.0,83.0,74.0,54.0,74.0,85.0,52.0,74.0,74.0,31.0,73.0,84.0,95.0,57.0,53.0,52.0,74.0,48.0,55.0,52.0,57.0,39.0,90.0,61.0,74.0,78.0,70.0,100.0,42.0,67.0,80.0,85.0,84.0,86.0,62.0,45.0,55.0,85.0,77.0,70.0,50.0,91.0,60.0,80.0,50.0,61.0,67.0,63.0,77.0,99.0,91.0,78.0,69.0,71.0,79.0,81.0,74.0,84.0,54.0,62.0,84.0,64.0,72.0,52.0,64.0,75.0,85.0,43.0,68.0,55.0,72.0,68.0,42.0,89.0,50.0,68.0,59.0,57.0,73.0,85.0,73.0,45.0,56.0,70.0,90.0,67.0,75.0,59.0,95.0,52.0,69.0,76.0,79.0,60.0,56.0,85.0,71.0,100.0,56.0,79.0,100.0,63.0,73.0,70.0,52.0,99.0,64.0,93.0,69.0,82.0,53.0,49.0,55.0,81.0,55.0,83.0,72.0,83.0,56.0,61.0,86.0,84.0,88.0,62.0,75.0,45.0,68.0,76.0,48.0,60.0,34.0,50.0,64.0,43.0,66.0,92.0,76.0,44.0,72.0,62.0,64.0,82.0,41.0,64.0,70.0,77.0,37.0,68.0,77.0,48.0,71.0,57.0,54.0,72.0,94.0,53.0,80.0,89.0,39.0,71.0,89.0,48.0,81.0,90.0,63.0,58.0,55.0,60.0,67.0,77.0,88.0,73.0,68.0,80.0,70.0,42.0,47.0,60.0,60.0,76.0,86.0,64.0,63.0,74.0,82.0,78.0,58.0,82.0,43.0,92.0,67.0,86.0,63.0,79.0,85.0,86.0,72.0,60.0,75.0,61.0,60.0,61.0,75.0,39.0,75.0,38.0,51.0,84.0,62.0,62.0,96.0,47.0,85.0,67.0,67.0,80.0,53.0,76.0,85.0,75.0,62.0,79.0,58.0,60.0,71.0,58.0,87.0,45.0,85.0,58.0,43.0,67.0,68.0,67.0,58.0,77.0,71.0,63.0,78.0,60.0,34.0,78.0,57.0,62.0,76.0,64.0,78.0,53.0,51.0,62.0,84.0,60.0,58.0,84.0,76.0,73.0,72.0,90.0,66.0,83.0,65.0,74.0,72.0,24.0,92.0,62.0,60.0,57.0,65.0,76.0,90.0,86.0,89.0,76.0,97.0,70.0,66.0,86.0,68.0,83.0,86.0,88.0,41.0,65.0,95.0,97.0,51.0,66.0,66.0,100.0,74.0,54.0,67.0,60.0,59.0,81.0,90.0,81.0,60.0,65.0,53.0,52.0,58.0,69.0,42.0,87.0,83.0,72.0,67.0,89.0,75.0,64.0,63.0,67.0,84.0,74.0,80.0,100.0,64.0,75.0,76.0,61.0,78.0,37.0,76.0,71.0,70.0,71.0,68.0,70.0,66.0,65.0,71.0,92.0,55.0,69.0,56.0,76.0,92.0,59.0,32.0,79.0,54.0,58.0,67.0,49.0,39.0,73.0,60.0,73.0,90.0,44.0,56.0,100.0,71.0,69.0,91.0,76.0,55.0,75.0,84.0,67.0,72.0,78.0,79.0,60.0,58.0,46.0,77.0,80.0,79.0,69.0,45.0,58.0,95.0,78.0,70.0,62.0,81.0,81.0,78.0,69.0,46.0,80.0,72.0,58.0,72.0,96.0,75.0,100.0,74.0,59.0,41.0,58.0,93.0,61.0,66.0,67.0,84.0,82.0,70.0,61.0,80.0,62.0,64.0,65.0,17.0,67.0,86.0,86.0,67.0,100.0,58.0,57.0,87.0,51.0,74.0,82.0,96.0,65.0,82.0,66.0,89.0,72.0,55.0,56.0,89.0,48.0,52.0,59.0,34.0,73.0,82.0,66.0,81.0,72.0,87.0,97.0,74.0,75.0,67.0,72.0,64.0,76.0,46.0,29.0,75.0,44.0,74.0,61.0,80.0],\"y0\":\" \",\"yaxis\":\"y\",\"type\":\"box\"},{\"alignmentgroup\":\"True\",\"hovertemplate\":\"subject=writing score\\u003cbr\\u003escore=%{y}\\u003cextra\\u003e\\u003c\\u002fextra\\u003e\",\"legendgroup\":\"writing score\",\"marker\":{\"color\":\"#00cc96\"},\"name\":\"writing score\",\"notched\":false,\"offsetgroup\":\"writing score\",\"orientation\":\"v\",\"showlegend\":true,\"x0\":\" \",\"xaxis\":\"x\",\"y\":[46.0,81.0,63.0,76.0,87.0,69.0,64.0,41.0,61.0,71.0,82.0,70.0,58.0,72.0,62.0,68.0,46.0,74.0,60.0,68.0,77.0,100.0,74.0,55.0,80.0,70.0,75.0,67.0,78.0,88.0,85.0,74.0,65.0,54.0,62.0,62.0,54.0,63.0,60.0,27.0,76.0,72.0,57.0,53.0,78.0,27.0,70.0,61.0,67.0,65.0,79.0,71.0,61.0,64.0,85.0,65.0,87.0,95.0,85.0,60.0,47.0,50.0,56.0,52.0,88.0,82.0,61.0,65.0,92.0,86.0,73.0,78.0,91.0,81.0,93.0,58.0,70.0,53.0,78.0,88.0,42.0,74.0,67.0,77.0,78.0,60.0,83.0,61.0,74.0,66.0,64.0,70.0,51.0,70.0,59.0,83.0,54.0,85.0,100.0,72.0,43.0,63.0,82.0,71.0,65.0,78.0,74.0,43.0,74.0,60.0,85.0,61.0,76.0,77.0,45.0,58.0,95.0,71.0,57.0,78.0,59.0,58.0,74.0,46.0,62.0,78.0,74.0,81.0,72.0,82.0,73.0,50.0,59.0,44.0,57.0,54.0,32.0,73.0,74.0,57.0,52.0,69.0,53.0,54.0,48.0,90.0,75.0,83.0,94.0,92.0,91.0,62.0,45.0,58.0,52.0,63.0,60.0,74.0,59.0,86.0,55.0,54.0,63.0,73.0,46.0,90.0,79.0,58.0,66.0,72.0,41.0,42.0,70.0,72.0,77.0,76.0,67.0,85.0,66.0,54.0,72.0,68.0,85.0,76.0,62.0,60.0,58.0,56.0,64.0,75.0,72.0,83.0,100.0,56.0,66.0,71.0,67.0,76.0,96.0,68.0,80.0,87.0,52.0,82.0,47.0,65.0,84.0,79.0,52.0,41.0,73.0,83.0,65.0,82.0,76.0,79.0,36.0,33.0,45.0,58.0,80.0,79.0,73.0,62.0,73.0,70.0,61.0,75.0,68.0,49.0,64.0,73.0,68.0,91.0,68.0,68.0,56.0,86.0,69.0,57.0,66.0,70.0,74.0,56.0,45.0,57.0,45.0,58.0,51.0,47.0,38.0,78.0,69.0,37.0,51.0,90.0,90.0,51.0,58.0,66.0,94.0,19.0,69.0,56.0,46.0,82.0,57.0,100.0,81.0,54.0,91.0,80.0,84.0,70.0,52.0,68.0,73.0,78.0,79.0,70.0,84.0,74.0,69.0,75.0,70.0,68.0,44.0,69.0,68.0,68.0,89.0,72.0,65.0,66.0,69.0,73.0,72.0,82.0,69.0,69.0,77.0,73.0,72.0,77.0,86.0,75.0,80.0,54.0,68.0,93.0,73.0,92.0,74.0,98.0,70.0,73.0,75.0,77.0,81.0,52.0,51.0,51.0,96.0,62.0,74.0,75.0,61.0,67.0,77.0,44.0,67.0,62.0,100.0,89.0,80.0,78.0,77.0,61.0,72.0,67.0,86.0,61.0,80.0,67.0,53.0,55.0,87.0,71.0,59.0,50.0,81.0,69.0,74.0,54.0,55.0,60.0,96.0,93.0,71.0,91.0,42.0,83.0,66.0,81.0,41.0,56.0,77.0,58.0,66.0,52.0,47.0,41.0,68.0,63.0,62.0,71.0,39.0,80.0,61.0,70.0,72.0,89.0,81.0,48.0,60.0,55.0,54.0,86.0,70.0,73.0,72.0,47.0,38.0,88.0,22.0,80.0,66.0,80.0,83.0,50.0,87.0,85.0,87.0,85.0,87.0,70.0,67.0,70.0,61.0,51.0,61.0,48.0,57.0,87.0,89.0,65.0,52.0,80.0,88.0,52.0,56.0,80.0,68.0,47.0,51.0,80.0,73.0,68.0,89.0,86.0,70.0,57.0,77.0,69.0,80.0,73.0,63.0,78.0,76.0,73.0,52.0,66.0,74.0,60.0,82.0,65.0,46.0,69.0,76.0,46.0,72.0,51.0,84.0,85.0,60.0,80.0,65.0,58.0,64.0,58.0,83.0,91.0,80.0,66.0,64.0,66.0,100.0,23.0,62.0,64.0,65.0,82.0,91.0,75.0,69.0,64.0,43.0,69.0,47.0,74.0,57.0,48.0,56.0,94.0,91.0,57.0,76.0,50.0,63.0,79.0,44.0,95.0,71.0,57.0,41.0,62.0,68.0,43.0,54.0,65.0,76.0,47.0,64.0,75.0,78.0,73.0,57.0,95.0,66.0,38.0,76.0,79.0,82.0,85.0,65.0,86.0,73.0,65.0,76.0,70.0,49.0,51.0,48.0,80.0,73.0,65.0,82.0,59.0,73.0,84.0,77.0,75.0,68.0,88.0,86.0,51.0,62.0,79.0,54.0,37.0,62.0,76.0,89.0,97.0,68.0,92.0,55.0,68.0,60.0,71.0,88.0,75.0,53.0,73.0,91.0,43.0,81.0,74.0,36.0,70.0,75.0,93.0,50.0,52.0,42.0,64.0,53.0,53.0,51.0,53.0,34.0,92.0,58.0,72.0,76.0,66.0,100.0,38.0,61.0,71.0,87.0,85.0,92.0,56.0,50.0,48.0,82.0,77.0,63.0,52.0,89.0,54.0,83.0,54.0,66.0,69.0,56.0,83.0,100.0,87.0,79.0,75.0,78.0,82.0,84.0,68.0,78.0,52.0,62.0,82.0,74.0,70.0,44.0,66.0,78.0,93.0,44.0,61.0,55.0,71.0,72.0,48.0,98.0,43.0,66.0,54.0,59.0,71.0,84.0,72.0,40.0,58.0,70.0,94.0,72.0,74.0,52.0,100.0,54.0,68.0,75.0,81.0,59.0,53.0,90.0,73.0,100.0,51.0,82.0,100.0,61.0,72.0,76.0,46.0,95.0,62.0,93.0,68.0,79.0,53.0,51.0,49.0,84.0,63.0,78.0,74.0,77.0,56.0,60.0,90.0,82.0,85.0,64.0,70.0,45.0,69.0,76.0,51.0,60.0,36.0,45.0,70.0,43.0,69.0,97.0,74.0,43.0,72.0,62.0,64.0,82.0,43.0,60.0,65.0,70.0,35.0,77.0,80.0,49.0,74.0,53.0,53.0,77.0,95.0,49.0,75.0,95.0,34.0,78.0,82.0,52.0,74.0,89.0,60.0,58.0,54.0,57.0,67.0,74.0,90.0,67.0,61.0,80.0,62.0,41.0,44.0,57.0,50.0,73.0,84.0,70.0,57.0,71.0,73.0,81.0,61.0,79.0,42.0,95.0,62.0,83.0,63.0,71.0,85.0,79.0,74.0,53.0,76.0,54.0,60.0,58.0,78.0,34.0,77.0,27.0,46.0,86.0,69.0,61.0,99.0,49.0,76.0,65.0,66.0,76.0,52.0,78.0,86.0,81.0,66.0,77.0,55.0,63.0,80.0,47.0,79.0,38.0,80.0,57.0,41.0,64.0,75.0,68.0,54.0,77.0,80.0,59.0,75.0,58.0,38.0,74.0,52.0,66.0,74.0,55.0,79.0,55.0,55.0,64.0,81.0,55.0,62.0,82.0,74.0,68.0,64.0,88.0,73.0,83.0,55.0,77.0,79.0,15.0,84.0,63.0,65.0,56.0,61.0,78.0,93.0,87.0,84.0,67.0,96.0,75.0,67.0,89.0,68.0,78.0,83.0,90.0,43.0,66.0,86.0,94.0,52.0,60.0,62.0,99.0,76.0,55.0,59.0,57.0,59.0,79.0,88.0,76.0,74.0,63.0,43.0,51.0,60.0,65.0,39.0,81.0,79.0,70.0,61.0,94.0,70.0,67.0,64.0,69.0,84.0,76.0,72.0,100.0,66.0,82.0,70.0,54.0,78.0,40.0,64.0,67.0,69.0,69.0,73.0,67.0,72.0,62.0,67.0,88.0,51.0,65.0,53.0,71.0,91.0,62.0,28.0,84.0,53.0,64.0,67.0,42.0,33.0,69.0,57.0,68.0,82.0,47.0,52.0,99.0,70.0,67.0,81.0,68.0,49.0,80.0,76.0,67.0,68.0,81.0,80.0,63.0,67.0,42.0,75.0,77.0,84.0,68.0,40.0,60.0,92.0,77.0,73.0,50.0,84.0,77.0,74.0,70.0,50.0,82.0,65.0,53.0,67.0,91.0,72.0,100.0,77.0,66.0,48.0,54.0,93.0,62.0,71.0,64.0,84.0,80.0,72.0,54.0,80.0,64.0,59.0,74.0,10.0,62.0,81.0,81.0,64.0,100.0,49.0,44.0,81.0,54.0,68.0,88.0,92.0,62.0,90.0,59.0,92.0,74.0,56.0,54.0,90.0,46.0,49.0,53.0,32.0,78.0,78.0,67.0,82.0,74.0,75.0,99.0,70.0,79.0,67.0,70.0,75.0,80.0,43.0,30.0,71.0,36.0,81.0,62.0,76.0],\"y0\":\" \",\"yaxis\":\"y\",\"type\":\"box\"}],                        {\"template\":{\"data\":{\"histogram2dcontour\":[{\"type\":\"histogram2dcontour\",\"colorbar\":{\"outlinewidth\":0,\"ticks\":\"\"},\"colorscale\":[[0.0,\"#0d0887\"],[0.1111111111111111,\"#46039f\"],[0.2222222222222222,\"#7201a8\"],[0.3333333333333333,\"#9c179e\"],[0.4444444444444444,\"#bd3786\"],[0.5555555555555556,\"#d8576b\"],[0.6666666666666666,\"#ed7953\"],[0.7777777777777778,\"#fb9f3a\"],[0.8888888888888888,\"#fdca26\"],[1.0,\"#f0f921\"]]}],\"choropleth\":[{\"type\":\"choropleth\",\"colorbar\":{\"outlinewidth\":0,\"ticks\":\"\"}}],\"histogram2d\":[{\"type\":\"histogram2d\",\"colorbar\":{\"outlinewidth\":0,\"ticks\":\"\"},\"colorscale\":[[0.0,\"#0d0887\"],[0.1111111111111111,\"#46039f\"],[0.2222222222222222,\"#7201a8\"],[0.3333333333333333,\"#9c179e\"],[0.4444444444444444,\"#bd3786\"],[0.5555555555555556,\"#d8576b\"],[0.6666666666666666,\"#ed7953\"],[0.7777777777777778,\"#fb9f3a\"],[0.8888888888888888,\"#fdca26\"],[1.0,\"#f0f921\"]]}],\"heatmap\":[{\"type\":\"heatmap\",\"colorbar\":{\"outlinewidth\":0,\"ticks\":\"\"},\"colorscale\":[[0.0,\"#0d0887\"],[0.1111111111111111,\"#46039f\"],[0.2222222222222222,\"#7201a8\"],[0.3333333333333333,\"#9c179e\"],[0.4444444444444444,\"#bd3786\"],[0.5555555555555556,\"#d8576b\"],[0.6666666666666666,\"#ed7953\"],[0.7777777777777778,\"#fb9f3a\"],[0.8888888888888888,\"#fdca26\"],[1.0,\"#f0f921\"]]}],\"heatmapgl\":[{\"type\":\"heatmapgl\",\"colorbar\":{\"outlinewidth\":0,\"ticks\":\"\"},\"colorscale\":[[0.0,\"#0d0887\"],[0.1111111111111111,\"#46039f\"],[0.2222222222222222,\"#7201a8\"],[0.3333333333333333,\"#9c179e\"],[0.4444444444444444,\"#bd3786\"],[0.5555555555555556,\"#d8576b\"],[0.6666666666666666,\"#ed7953\"],[0.7777777777777778,\"#fb9f3a\"],[0.8888888888888888,\"#fdca26\"],[1.0,\"#f0f921\"]]}],\"contourcarpet\":[{\"type\":\"contourcarpet\",\"colorbar\":{\"outlinewidth\":0,\"ticks\":\"\"}}],\"contour\":[{\"type\":\"contour\",\"colorbar\":{\"outlinewidth\":0,\"ticks\":\"\"},\"colorscale\":[[0.0,\"#0d0887\"],[0.1111111111111111,\"#46039f\"],[0.2222222222222222,\"#7201a8\"],[0.3333333333333333,\"#9c179e\"],[0.4444444444444444,\"#bd3786\"],[0.5555555555555556,\"#d8576b\"],[0.6666666666666666,\"#ed7953\"],[0.7777777777777778,\"#fb9f3a\"],[0.8888888888888888,\"#fdca26\"],[1.0,\"#f0f921\"]]}],\"surface\":[{\"type\":\"surface\",\"colorbar\":{\"outlinewidth\":0,\"ticks\":\"\"},\"colorscale\":[[0.0,\"#0d0887\"],[0.1111111111111111,\"#46039f\"],[0.2222222222222222,\"#7201a8\"],[0.3333333333333333,\"#9c179e\"],[0.4444444444444444,\"#bd3786\"],[0.5555555555555556,\"#d8576b\"],[0.6666666666666666,\"#ed7953\"],[0.7777777777777778,\"#fb9f3a\"],[0.8888888888888888,\"#fdca26\"],[1.0,\"#f0f921\"]]}],\"mesh3d\":[{\"type\":\"mesh3d\",\"colorbar\":{\"outlinewidth\":0,\"ticks\":\"\"}}],\"scatter\":[{\"fillpattern\":{\"fillmode\":\"overlay\",\"size\":10,\"solidity\":0.2},\"type\":\"scatter\"}],\"parcoords\":[{\"type\":\"parcoords\",\"line\":{\"colorbar\":{\"outlinewidth\":0,\"ticks\":\"\"}}}],\"scatterpolargl\":[{\"type\":\"scatterpolargl\",\"marker\":{\"colorbar\":{\"outlinewidth\":0,\"ticks\":\"\"}}}],\"bar\":[{\"error_x\":{\"color\":\"#2a3f5f\"},\"error_y\":{\"color\":\"#2a3f5f\"},\"marker\":{\"line\":{\"color\":\"#E5ECF6\",\"width\":0.5},\"pattern\":{\"fillmode\":\"overlay\",\"size\":10,\"solidity\":0.2}},\"type\":\"bar\"}],\"scattergeo\":[{\"type\":\"scattergeo\",\"marker\":{\"colorbar\":{\"outlinewidth\":0,\"ticks\":\"\"}}}],\"scatterpolar\":[{\"type\":\"scatterpolar\",\"marker\":{\"colorbar\":{\"outlinewidth\":0,\"ticks\":\"\"}}}],\"histogram\":[{\"marker\":{\"pattern\":{\"fillmode\":\"overlay\",\"size\":10,\"solidity\":0.2}},\"type\":\"histogram\"}],\"scattergl\":[{\"type\":\"scattergl\",\"marker\":{\"colorbar\":{\"outlinewidth\":0,\"ticks\":\"\"}}}],\"scatter3d\":[{\"type\":\"scatter3d\",\"line\":{\"colorbar\":{\"outlinewidth\":0,\"ticks\":\"\"}},\"marker\":{\"colorbar\":{\"outlinewidth\":0,\"ticks\":\"\"}}}],\"scattermapbox\":[{\"type\":\"scattermapbox\",\"marker\":{\"colorbar\":{\"outlinewidth\":0,\"ticks\":\"\"}}}],\"scatterternary\":[{\"type\":\"scatterternary\",\"marker\":{\"colorbar\":{\"outlinewidth\":0,\"ticks\":\"\"}}}],\"scattercarpet\":[{\"type\":\"scattercarpet\",\"marker\":{\"colorbar\":{\"outlinewidth\":0,\"ticks\":\"\"}}}],\"carpet\":[{\"aaxis\":{\"endlinecolor\":\"#2a3f5f\",\"gridcolor\":\"white\",\"linecolor\":\"white\",\"minorgridcolor\":\"white\",\"startlinecolor\":\"#2a3f5f\"},\"baxis\":{\"endlinecolor\":\"#2a3f5f\",\"gridcolor\":\"white\",\"linecolor\":\"white\",\"minorgridcolor\":\"white\",\"startlinecolor\":\"#2a3f5f\"},\"type\":\"carpet\"}],\"table\":[{\"cells\":{\"fill\":{\"color\":\"#EBF0F8\"},\"line\":{\"color\":\"white\"}},\"header\":{\"fill\":{\"color\":\"#C8D4E3\"},\"line\":{\"color\":\"white\"}},\"type\":\"table\"}],\"barpolar\":[{\"marker\":{\"line\":{\"color\":\"#E5ECF6\",\"width\":0.5},\"pattern\":{\"fillmode\":\"overlay\",\"size\":10,\"solidity\":0.2}},\"type\":\"barpolar\"}],\"pie\":[{\"automargin\":true,\"type\":\"pie\"}]},\"layout\":{\"autotypenumbers\":\"strict\",\"colorway\":[\"#636efa\",\"#EF553B\",\"#00cc96\",\"#ab63fa\",\"#FFA15A\",\"#19d3f3\",\"#FF6692\",\"#B6E880\",\"#FF97FF\",\"#FECB52\"],\"font\":{\"color\":\"#2a3f5f\"},\"hovermode\":\"closest\",\"hoverlabel\":{\"align\":\"left\"},\"paper_bgcolor\":\"white\",\"plot_bgcolor\":\"#E5ECF6\",\"polar\":{\"bgcolor\":\"#E5ECF6\",\"angularaxis\":{\"gridcolor\":\"white\",\"linecolor\":\"white\",\"ticks\":\"\"},\"radialaxis\":{\"gridcolor\":\"white\",\"linecolor\":\"white\",\"ticks\":\"\"}},\"ternary\":{\"bgcolor\":\"#E5ECF6\",\"aaxis\":{\"gridcolor\":\"white\",\"linecolor\":\"white\",\"ticks\":\"\"},\"baxis\":{\"gridcolor\":\"white\",\"linecolor\":\"white\",\"ticks\":\"\"},\"caxis\":{\"gridcolor\":\"white\",\"linecolor\":\"white\",\"ticks\":\"\"}},\"coloraxis\":{\"colorbar\":{\"outlinewidth\":0,\"ticks\":\"\"}},\"colorscale\":{\"sequential\":[[0.0,\"#0d0887\"],[0.1111111111111111,\"#46039f\"],[0.2222222222222222,\"#7201a8\"],[0.3333333333333333,\"#9c179e\"],[0.4444444444444444,\"#bd3786\"],[0.5555555555555556,\"#d8576b\"],[0.6666666666666666,\"#ed7953\"],[0.7777777777777778,\"#fb9f3a\"],[0.8888888888888888,\"#fdca26\"],[1.0,\"#f0f921\"]],\"sequentialminus\":[[0.0,\"#0d0887\"],[0.1111111111111111,\"#46039f\"],[0.2222222222222222,\"#7201a8\"],[0.3333333333333333,\"#9c179e\"],[0.4444444444444444,\"#bd3786\"],[0.5555555555555556,\"#d8576b\"],[0.6666666666666666,\"#ed7953\"],[0.7777777777777778,\"#fb9f3a\"],[0.8888888888888888,\"#fdca26\"],[1.0,\"#f0f921\"]],\"diverging\":[[0,\"#8e0152\"],[0.1,\"#c51b7d\"],[0.2,\"#de77ae\"],[0.3,\"#f1b6da\"],[0.4,\"#fde0ef\"],[0.5,\"#f7f7f7\"],[0.6,\"#e6f5d0\"],[0.7,\"#b8e186\"],[0.8,\"#7fbc41\"],[0.9,\"#4d9221\"],[1,\"#276419\"]]},\"xaxis\":{\"gridcolor\":\"white\",\"linecolor\":\"white\",\"ticks\":\"\",\"title\":{\"standoff\":15},\"zerolinecolor\":\"white\",\"automargin\":true,\"zerolinewidth\":2},\"yaxis\":{\"gridcolor\":\"white\",\"linecolor\":\"white\",\"ticks\":\"\",\"title\":{\"standoff\":15},\"zerolinecolor\":\"white\",\"automargin\":true,\"zerolinewidth\":2},\"scene\":{\"xaxis\":{\"backgroundcolor\":\"#E5ECF6\",\"gridcolor\":\"white\",\"linecolor\":\"white\",\"showbackground\":true,\"ticks\":\"\",\"zerolinecolor\":\"white\",\"gridwidth\":2},\"yaxis\":{\"backgroundcolor\":\"#E5ECF6\",\"gridcolor\":\"white\",\"linecolor\":\"white\",\"showbackground\":true,\"ticks\":\"\",\"zerolinecolor\":\"white\",\"gridwidth\":2},\"zaxis\":{\"backgroundcolor\":\"#E5ECF6\",\"gridcolor\":\"white\",\"linecolor\":\"white\",\"showbackground\":true,\"ticks\":\"\",\"zerolinecolor\":\"white\",\"gridwidth\":2}},\"shapedefaults\":{\"line\":{\"color\":\"#2a3f5f\"}},\"annotationdefaults\":{\"arrowcolor\":\"#2a3f5f\",\"arrowhead\":0,\"arrowwidth\":1},\"geo\":{\"bgcolor\":\"white\",\"landcolor\":\"#E5ECF6\",\"subunitcolor\":\"white\",\"showland\":true,\"showlakes\":true,\"lakecolor\":\"white\"},\"title\":{\"x\":0.05},\"mapbox\":{\"style\":\"light\"}}},\"xaxis\":{\"anchor\":\"y\",\"domain\":[0.0,1.0]},\"yaxis\":{\"anchor\":\"x\",\"domain\":[0.0,1.0],\"title\":{\"text\":\"score\"}},\"legend\":{\"title\":{\"text\":\"subject\"},\"tracegroupgap\":0},\"margin\":{\"t\":60},\"boxmode\":\"group\"},                        {\"responsive\": true}                    ).then(function(){\n",
       "                            \n",
       "var gd = document.getElementById('db5f35ae-b228-4c97-88a1-74af15a124e3');\n",
       "var x = new MutationObserver(function (mutations, observer) {{\n",
       "        var display = window.getComputedStyle(gd).display;\n",
       "        if (!display || display === 'none') {{\n",
       "            console.log([gd, 'removed!']);\n",
       "            Plotly.purge(gd);\n",
       "            observer.disconnect();\n",
       "        }}\n",
       "}});\n",
       "\n",
       "// Listen for the removal of the full notebook cells\n",
       "var notebookContainer = gd.closest('#notebook-container');\n",
       "if (notebookContainer) {{\n",
       "    x.observe(notebookContainer, {childList: true});\n",
       "}}\n",
       "\n",
       "// Listen for the clearing of the current output cell\n",
       "var outputEl = gd.closest('.output');\n",
       "if (outputEl) {{\n",
       "    x.observe(outputEl, {childList: true});\n",
       "}}\n",
       "\n",
       "                        })                };                });            </script>        </div>"
      ]
     },
     "metadata": {},
     "output_type": "display_data"
    }
   ],
   "source": [
    "# Código del amigo ChatGPT (listo para usar)\n",
    "fig = px.box(\n",
    "    df_grades.melt(\n",
    "        value_vars=[\"math score\", \"reading score\", \"writing score\"],\n",
    "        var_name=\"subject\",\n",
    "        value_name=\"score\",\n",
    "    ),\n",
    "    y=\"score\",\n",
    "    color=\"subject\",\n",
    ")\n",
    "fig.show()"
   ]
  },
  {
   "cell_type": "markdown",
   "metadata": {
    "cell_id": "eab4740074cb4a818035f3746a79b30b",
    "deepnote_cell_height": 52.390625,
    "deepnote_cell_type": "markdown",
    "id": "mPmHNen3jZCX"
   },
   "source": [
    "**Justificación:**\n",
    "Luego de la limpieza de los datos, se observa que no existen  valores duplicados ni nulos. Por otro lado, en el boxplot ya no se observan `outliers` mayores a 100. Con esto se puede concluir que se realizó una correcta limpieza de los datos no deseados."
   ]
  },
  {
   "cell_type": "markdown",
   "metadata": {
    "cell_id": "e8bae7dfbd70490eacb49443d1ad8613",
    "deepnote_cell_height": 193.1875,
    "deepnote_cell_type": "markdown",
    "id": "2tnenh4uOF6k"
   },
   "source": [
    "## 3. Trabajando con Datos [2.0 puntos]"
   ]
  },
  {
   "cell_type": "markdown",
   "metadata": {
    "id": "gLfu_m8pvNoO"
   },
   "source": [
    "<p align=\"center\">\n",
    "  <img src=\"https://media3.giphy.com/media/YQitE4YNQNahy/giphy-downsized-large.gif\">\n",
    "</p>"
   ]
  },
  {
   "cell_type": "markdown",
   "metadata": {
    "cell_id": "a9957742e7854bd0a23a3c5add2c96ca",
    "deepnote_cell_height": 62,
    "deepnote_cell_type": "markdown",
    "id": "Qecw0sKor_Au"
   },
   "source": [
    "### 3.1 Transformación de notas a \"Nota Chilena\" [0.3 Puntos]"
   ]
  },
  {
   "cell_type": "markdown",
   "metadata": {
    "cell_id": "659f33b2de334546954b0a3f5fce0529",
    "deepnote_cell_height": 257.125,
    "deepnote_cell_type": "markdown",
    "id": "BfmD-9yi4PnX"
   },
   "source": [
    "En una de las reuniones con Don Caguayo este les comenta su intención de pasar todas sus notas a la \"Escala Chilena\". Para esto les facilita la siguiente ecuación:\n",
    "\n",
    "$$Nota \\, Chilena= \\% \\, de \\, logro*0.06 + 1$$\n",
    "\n",
    "Utilizando la ecuación entregada, cree una función que le permita pasar a la escala Chilena las notas del dataframe y entregue las notas redondeadas al segundo decimal.\n",
    "\n",
    "**To-Do**\n",
    "\n",
    "- [ ] Tranforme los valores a la escala chilena."
   ]
  },
  {
   "cell_type": "markdown",
   "metadata": {
    "cell_id": "7a81246b83064d0fbca407c670e66e0f",
    "deepnote_cell_height": 52.390625,
    "deepnote_cell_type": "markdown",
    "id": "QVtIpJzIAwXp",
    "tags": []
   },
   "source": [
    "**Respuesta:**"
   ]
  },
  {
   "cell_type": "code",
   "execution_count": 18,
   "metadata": {
    "ExecuteTime": {
     "end_time": "2024-09-03T16:47:36.200206Z",
     "start_time": "2024-09-03T16:47:36.186199Z"
    },
    "cell_id": "cdc66a984fee4c99a59a65a3f62e5584",
    "deepnote_cell_type": "code",
    "deepnote_to_be_reexecuted": false,
    "execution_millis": 1,
    "execution_start": 1632493424541,
    "id": "GQ0gDEvd3T1m",
    "source_hash": "e84f9f19"
   },
   "outputs": [],
   "source": [
    "# Escriba su código aquí\n",
    "def nota_chilena(dataframe_in, columna):\n",
    "    df = dataframe_in\n",
    "    c = columna\n",
    "    df.loc[:, c] = (df.loc[:, c]*0.06+1).round(2)\n",
    "    return df"
   ]
  },
  {
   "cell_type": "code",
   "execution_count": 19,
   "metadata": {
    "ExecuteTime": {
     "end_time": "2024-09-03T16:47:38.984063Z",
     "start_time": "2024-09-03T16:47:38.943273Z"
    }
   },
   "outputs": [
    {
     "data": {
      "text/html": [
       "<div>\n",
       "<style scoped>\n",
       "    .dataframe tbody tr th:only-of-type {\n",
       "        vertical-align: middle;\n",
       "    }\n",
       "\n",
       "    .dataframe tbody tr th {\n",
       "        vertical-align: top;\n",
       "    }\n",
       "\n",
       "    .dataframe thead th {\n",
       "        text-align: right;\n",
       "    }\n",
       "</style>\n",
       "<table border=\"1\" class=\"dataframe\">\n",
       "  <thead>\n",
       "    <tr style=\"text-align: right;\">\n",
       "      <th></th>\n",
       "      <th>names</th>\n",
       "      <th>gender</th>\n",
       "      <th>race/ethnicity</th>\n",
       "      <th>parental level of education</th>\n",
       "      <th>lunch</th>\n",
       "      <th>test preparation course</th>\n",
       "      <th>math score</th>\n",
       "      <th>reading score</th>\n",
       "      <th>writing score</th>\n",
       "    </tr>\n",
       "  </thead>\n",
       "  <tbody>\n",
       "    <tr>\n",
       "      <th>0</th>\n",
       "      <td>Rita Courtney</td>\n",
       "      <td>female</td>\n",
       "      <td>group B</td>\n",
       "      <td>some high school</td>\n",
       "      <td>standard</td>\n",
       "      <td>none</td>\n",
       "      <td>3.22</td>\n",
       "      <td>3.76</td>\n",
       "      <td>3.76</td>\n",
       "    </tr>\n",
       "    <tr>\n",
       "      <th>1</th>\n",
       "      <td>Charles Linstrom</td>\n",
       "      <td>male</td>\n",
       "      <td>group A</td>\n",
       "      <td>bachelor's degree</td>\n",
       "      <td>standard</td>\n",
       "      <td>completed</td>\n",
       "      <td>5.80</td>\n",
       "      <td>5.68</td>\n",
       "      <td>5.86</td>\n",
       "    </tr>\n",
       "    <tr>\n",
       "      <th>2</th>\n",
       "      <td>Brian Young</td>\n",
       "      <td>male</td>\n",
       "      <td>group C</td>\n",
       "      <td>some high school</td>\n",
       "      <td>standard</td>\n",
       "      <td>none</td>\n",
       "      <td>5.38</td>\n",
       "      <td>4.96</td>\n",
       "      <td>4.78</td>\n",
       "    </tr>\n",
       "    <tr>\n",
       "      <th>3</th>\n",
       "      <td>Howard Jimenez</td>\n",
       "      <td>male</td>\n",
       "      <td>group E</td>\n",
       "      <td>some high school</td>\n",
       "      <td>standard</td>\n",
       "      <td>completed</td>\n",
       "      <td>5.86</td>\n",
       "      <td>5.50</td>\n",
       "      <td>5.56</td>\n",
       "    </tr>\n",
       "    <tr>\n",
       "      <th>4</th>\n",
       "      <td>Wayne Wilson</td>\n",
       "      <td>male</td>\n",
       "      <td>group B</td>\n",
       "      <td>some high school</td>\n",
       "      <td>standard</td>\n",
       "      <td>completed</td>\n",
       "      <td>6.64</td>\n",
       "      <td>6.16</td>\n",
       "      <td>6.22</td>\n",
       "    </tr>\n",
       "    <tr>\n",
       "      <th>...</th>\n",
       "      <td>...</td>\n",
       "      <td>...</td>\n",
       "      <td>...</td>\n",
       "      <td>...</td>\n",
       "      <td>...</td>\n",
       "      <td>...</td>\n",
       "      <td>...</td>\n",
       "      <td>...</td>\n",
       "      <td>...</td>\n",
       "    </tr>\n",
       "    <tr>\n",
       "      <th>995</th>\n",
       "      <td>Richard Young</td>\n",
       "      <td>male</td>\n",
       "      <td>group D</td>\n",
       "      <td>high school</td>\n",
       "      <td>standard</td>\n",
       "      <td>none</td>\n",
       "      <td>5.14</td>\n",
       "      <td>5.50</td>\n",
       "      <td>5.26</td>\n",
       "    </tr>\n",
       "    <tr>\n",
       "      <th>996</th>\n",
       "      <td>Wanda Russell</td>\n",
       "      <td>female</td>\n",
       "      <td>group B</td>\n",
       "      <td>high school</td>\n",
       "      <td>free/reduced</td>\n",
       "      <td>completed</td>\n",
       "      <td>2.38</td>\n",
       "      <td>3.64</td>\n",
       "      <td>3.16</td>\n",
       "    </tr>\n",
       "    <tr>\n",
       "      <th>997</th>\n",
       "      <td>Marina Zeigler</td>\n",
       "      <td>female</td>\n",
       "      <td>group C</td>\n",
       "      <td>bachelor's degree</td>\n",
       "      <td>free/reduced</td>\n",
       "      <td>completed</td>\n",
       "      <td>4.96</td>\n",
       "      <td>5.44</td>\n",
       "      <td>5.86</td>\n",
       "    </tr>\n",
       "    <tr>\n",
       "      <th>998</th>\n",
       "      <td>Laurie Carter</td>\n",
       "      <td>female</td>\n",
       "      <td>group B</td>\n",
       "      <td>some high school</td>\n",
       "      <td>standard</td>\n",
       "      <td>completed</td>\n",
       "      <td>4.24</td>\n",
       "      <td>4.66</td>\n",
       "      <td>4.72</td>\n",
       "    </tr>\n",
       "    <tr>\n",
       "      <th>999</th>\n",
       "      <td>Amanda Perez</td>\n",
       "      <td>female</td>\n",
       "      <td>group A</td>\n",
       "      <td>high school</td>\n",
       "      <td>standard</td>\n",
       "      <td>completed</td>\n",
       "      <td>5.08</td>\n",
       "      <td>5.80</td>\n",
       "      <td>5.56</td>\n",
       "    </tr>\n",
       "  </tbody>\n",
       "</table>\n",
       "<p>1000 rows × 9 columns</p>\n",
       "</div>"
      ],
      "text/plain": [
       "                names  gender race/ethnicity parental level of education  \\\n",
       "0       Rita Courtney  female        group B            some high school   \n",
       "1    Charles Linstrom    male        group A           bachelor's degree   \n",
       "2         Brian Young    male        group C            some high school   \n",
       "3      Howard Jimenez    male        group E            some high school   \n",
       "4        Wayne Wilson    male        group B            some high school   \n",
       "..                ...     ...            ...                         ...   \n",
       "995     Richard Young    male        group D                 high school   \n",
       "996     Wanda Russell  female        group B                 high school   \n",
       "997    Marina Zeigler  female        group C           bachelor's degree   \n",
       "998     Laurie Carter  female        group B            some high school   \n",
       "999      Amanda Perez  female        group A                 high school   \n",
       "\n",
       "            lunch test preparation course  math score  reading score  \\\n",
       "0        standard                    none        3.22           3.76   \n",
       "1        standard               completed        5.80           5.68   \n",
       "2        standard                    none        5.38           4.96   \n",
       "3        standard               completed        5.86           5.50   \n",
       "4        standard               completed        6.64           6.16   \n",
       "..            ...                     ...         ...            ...   \n",
       "995      standard                    none        5.14           5.50   \n",
       "996  free/reduced               completed        2.38           3.64   \n",
       "997  free/reduced               completed        4.96           5.44   \n",
       "998      standard               completed        4.24           4.66   \n",
       "999      standard               completed        5.08           5.80   \n",
       "\n",
       "     writing score  \n",
       "0             3.76  \n",
       "1             5.86  \n",
       "2             4.78  \n",
       "3             5.56  \n",
       "4             6.22  \n",
       "..             ...  \n",
       "995           5.26  \n",
       "996           3.16  \n",
       "997           5.86  \n",
       "998           4.72  \n",
       "999           5.56  \n",
       "\n",
       "[1000 rows x 9 columns]"
      ]
     },
     "execution_count": 19,
     "metadata": {},
     "output_type": "execute_result"
    }
   ],
   "source": [
    "#Muestre sus resultados aquí\n",
    "nota_chilena(df_grades,[\"math score\",\"reading score\",\"writing score\"])"
   ]
  },
  {
   "cell_type": "markdown",
   "metadata": {
    "cell_id": "2f4593d6c7f74bbaa53ff4e09705f58d",
    "deepnote_cell_height": 62,
    "deepnote_cell_type": "markdown",
    "id": "QGe-Hb2UTAE1"
   },
   "source": [
    "### 3.2 Obtención de promedio de alumnos [0.3 Puntos]"
   ]
  },
  {
   "cell_type": "markdown",
   "metadata": {
    "cell_id": "7cfad230b8d54077a882557ffbf7a0fa",
    "deepnote_cell_height": 228.796875,
    "deepnote_cell_type": "markdown",
    "id": "AEkWI5K-OZgt"
   },
   "source": [
    "Con todas las notas adjuntadas, la prestigiosa Universidad De la Cachaña necesita obtener el promedio general de cada uno de los alumnos. Para esto se le solicita que calcule el promedio con cada una de las asignaturas y el promedio se anexe como una nueva columna al final del `DataFrame` original. Cabe señalar que las notas deben ser redondeadas al segundo decimal.\n",
    "\n",
    "**To-Do:**\n",
    "- [X] Crear función que nos permite obtener el promedio de cada uno de los alumnos y anexar esta información en el `DataFrame` original.\n"
   ]
  },
  {
   "cell_type": "markdown",
   "metadata": {
    "cell_id": "f3ac369f88dd4fb49ff0a0eb7c8aa2f8",
    "deepnote_cell_height": 52.390625,
    "deepnote_cell_type": "markdown",
    "id": "voDrGGV1AwXq",
    "tags": []
   },
   "source": [
    "**Respuesta:**"
   ]
  },
  {
   "cell_type": "code",
   "execution_count": 20,
   "metadata": {
    "ExecuteTime": {
     "end_time": "2024-09-03T16:47:43.658914Z",
     "start_time": "2024-09-03T16:47:43.638285Z"
    }
   },
   "outputs": [],
   "source": [
    "#Escriba su código aquí\n",
    "def alumnos_promedio(dataframe_in):\n",
    "    df = dataframe_in\n",
    "    df[\"GPA\"] = df[[\"math score\", \"reading score\", \"writing score\"]].mean(axis=1).round(2)\n",
    "    return df"
   ]
  },
  {
   "cell_type": "code",
   "execution_count": 21,
   "metadata": {
    "ExecuteTime": {
     "end_time": "2024-09-03T16:47:45.434557Z",
     "start_time": "2024-09-03T16:47:45.390241Z"
    }
   },
   "outputs": [
    {
     "data": {
      "text/html": [
       "<div>\n",
       "<style scoped>\n",
       "    .dataframe tbody tr th:only-of-type {\n",
       "        vertical-align: middle;\n",
       "    }\n",
       "\n",
       "    .dataframe tbody tr th {\n",
       "        vertical-align: top;\n",
       "    }\n",
       "\n",
       "    .dataframe thead th {\n",
       "        text-align: right;\n",
       "    }\n",
       "</style>\n",
       "<table border=\"1\" class=\"dataframe\">\n",
       "  <thead>\n",
       "    <tr style=\"text-align: right;\">\n",
       "      <th></th>\n",
       "      <th>names</th>\n",
       "      <th>gender</th>\n",
       "      <th>race/ethnicity</th>\n",
       "      <th>parental level of education</th>\n",
       "      <th>lunch</th>\n",
       "      <th>test preparation course</th>\n",
       "      <th>math score</th>\n",
       "      <th>reading score</th>\n",
       "      <th>writing score</th>\n",
       "      <th>GPA</th>\n",
       "    </tr>\n",
       "  </thead>\n",
       "  <tbody>\n",
       "    <tr>\n",
       "      <th>0</th>\n",
       "      <td>Rita Courtney</td>\n",
       "      <td>female</td>\n",
       "      <td>group B</td>\n",
       "      <td>some high school</td>\n",
       "      <td>standard</td>\n",
       "      <td>none</td>\n",
       "      <td>3.22</td>\n",
       "      <td>3.76</td>\n",
       "      <td>3.76</td>\n",
       "      <td>3.58</td>\n",
       "    </tr>\n",
       "    <tr>\n",
       "      <th>1</th>\n",
       "      <td>Charles Linstrom</td>\n",
       "      <td>male</td>\n",
       "      <td>group A</td>\n",
       "      <td>bachelor's degree</td>\n",
       "      <td>standard</td>\n",
       "      <td>completed</td>\n",
       "      <td>5.80</td>\n",
       "      <td>5.68</td>\n",
       "      <td>5.86</td>\n",
       "      <td>5.78</td>\n",
       "    </tr>\n",
       "    <tr>\n",
       "      <th>2</th>\n",
       "      <td>Brian Young</td>\n",
       "      <td>male</td>\n",
       "      <td>group C</td>\n",
       "      <td>some high school</td>\n",
       "      <td>standard</td>\n",
       "      <td>none</td>\n",
       "      <td>5.38</td>\n",
       "      <td>4.96</td>\n",
       "      <td>4.78</td>\n",
       "      <td>5.04</td>\n",
       "    </tr>\n",
       "    <tr>\n",
       "      <th>3</th>\n",
       "      <td>Howard Jimenez</td>\n",
       "      <td>male</td>\n",
       "      <td>group E</td>\n",
       "      <td>some high school</td>\n",
       "      <td>standard</td>\n",
       "      <td>completed</td>\n",
       "      <td>5.86</td>\n",
       "      <td>5.50</td>\n",
       "      <td>5.56</td>\n",
       "      <td>5.64</td>\n",
       "    </tr>\n",
       "    <tr>\n",
       "      <th>4</th>\n",
       "      <td>Wayne Wilson</td>\n",
       "      <td>male</td>\n",
       "      <td>group B</td>\n",
       "      <td>some high school</td>\n",
       "      <td>standard</td>\n",
       "      <td>completed</td>\n",
       "      <td>6.64</td>\n",
       "      <td>6.16</td>\n",
       "      <td>6.22</td>\n",
       "      <td>6.34</td>\n",
       "    </tr>\n",
       "  </tbody>\n",
       "</table>\n",
       "</div>"
      ],
      "text/plain": [
       "              names  gender race/ethnicity parental level of education  \\\n",
       "0     Rita Courtney  female        group B            some high school   \n",
       "1  Charles Linstrom    male        group A           bachelor's degree   \n",
       "2       Brian Young    male        group C            some high school   \n",
       "3    Howard Jimenez    male        group E            some high school   \n",
       "4      Wayne Wilson    male        group B            some high school   \n",
       "\n",
       "      lunch test preparation course  math score  reading score  writing score  \\\n",
       "0  standard                    none        3.22           3.76           3.76   \n",
       "1  standard               completed        5.80           5.68           5.86   \n",
       "2  standard                    none        5.38           4.96           4.78   \n",
       "3  standard               completed        5.86           5.50           5.56   \n",
       "4  standard               completed        6.64           6.16           6.22   \n",
       "\n",
       "    GPA  \n",
       "0  3.58  \n",
       "1  5.78  \n",
       "2  5.04  \n",
       "3  5.64  \n",
       "4  6.34  "
      ]
     },
     "execution_count": 21,
     "metadata": {},
     "output_type": "execute_result"
    }
   ],
   "source": [
    "#Muestre sus resultados aquí\n",
    "df_grades = alumnos_promedio(df_grades)\n",
    "df_grades.head()"
   ]
  },
  {
   "cell_type": "markdown",
   "metadata": {
    "cell_id": "c21b246e4e69406bae62ef84a2622606",
    "deepnote_cell_height": 62,
    "deepnote_cell_type": "markdown",
    "id": "uA0ZXAWyBoLX"
   },
   "source": [
    "### 3.3 Reprobados y Destacados [0.9 Puntos, 0.3 cada DataFrame]"
   ]
  },
  {
   "cell_type": "markdown",
   "metadata": {
    "cell_id": "ace5ce3428164715950dec02f0238769",
    "deepnote_cell_height": 403.1875,
    "deepnote_cell_type": "markdown",
    "id": "k1FKahC3_g5_"
   },
   "source": [
    "Contentos con su desempeño, la Universidad les solicita que obtengan los alumnos quienes han reprobado el año y los que han tenido desempeño de destacado. Para esto se considerará que un alumno ha reprobado el año cuando el promedio de notas es inferior a 4.0 en la Escala Chilena, y se considerará destacado si posee notas superiores a 5.8 en todas las asignaturas (o sea notas superiores a 5.8 en `math score`, `reading score` y `writing score`).\n",
    "\n",
    "Cree una función que permita obtener tres Dataframes:\n",
    "- El primero deberá poseer solamente los alumnos que han reprobado en la prestigiosa universidad.\n",
    "- El segundo debe entregar un DataFrame similar al original, pero marcado con una \"R\" el promedio de notas de los alumnos reprobados.\n",
    "- El tercero será un Data Frame con los alumnos destacados ordenados de mayor a menor.\n",
    "\n",
    "**To-Do:**\n",
    "\n",
    "- [X] Obtener DataFrame con los alumnos que reprobaron el año.\n",
    "- [X] Obtener DataFrame similar al original, pero marcados con una \"R\" el atributo GPA de los alumnos reprobados.\n",
    "- [X] Obtener DataFrame con los alumnos destacados ordenados de mayor a menor."
   ]
  },
  {
   "cell_type": "markdown",
   "metadata": {
    "cell_id": "2405a5e38bad45d08d0b57c2d91e9b5e",
    "deepnote_cell_height": 52.390625,
    "deepnote_cell_type": "markdown",
    "id": "ExtqMtcEAwXs",
    "tags": []
   },
   "source": [
    "**Respuesta:**"
   ]
  },
  {
   "cell_type": "code",
   "execution_count": 22,
   "metadata": {
    "ExecuteTime": {
     "end_time": "2024-09-03T16:48:00.486031Z",
     "start_time": "2024-09-03T16:48:00.474550Z"
    }
   },
   "outputs": [],
   "source": [
    "#Escriba su código aquí\n",
    "def reprobados_destacados(dataframe_in):\n",
    "    df = dataframe_in\n",
    "    \n",
    "    #1. Dataframe sólo con alumnos que han reprobado\n",
    "    df1 = df.loc[df[\"GPA\"]<4]\n",
    "    df1 = df1.reset_index().drop('index', axis=1)\n",
    "    \n",
    "    #2. Dataframe similar al original pero con 'R' en promedio de notas de los reprobados\n",
    "    df2 = df.copy()\n",
    "    df2.loc[:,\"GPA\"] = df2.loc[:,\"GPA\"].apply(lambda x: 'R' if x < 4.0 else x)\n",
    "    \n",
    "    #3. Dataframe sólo con alumnos destacados y ordenados de mayor a menor\n",
    "    df3 = df.loc[(df[\"math score\"]>5.8) & (df[\"reading score\"]>5.8) & (df[\"writing score\"]>5.8)]\n",
    "    df3 = df3.sort_values(by=[\"GPA\"], ascending=False)\n",
    "    df3 = df3.reset_index().drop('index', axis=1)\n",
    "    \n",
    "    return df1, df2, df3"
   ]
  },
  {
   "cell_type": "code",
   "execution_count": 23,
   "metadata": {
    "ExecuteTime": {
     "end_time": "2024-09-03T16:48:04.515841Z",
     "start_time": "2024-09-03T16:48:04.499096Z"
    },
    "cell_id": "a3751ec6cfa249f6b51ff767666c754b",
    "colab": {
     "base_uri": "https://localhost:8080/",
     "height": 419
    },
    "deepnote_cell_type": "code",
    "deepnote_to_be_reexecuted": false,
    "executionInfo": {
     "elapsed": 611,
     "status": "ok",
     "timestamp": 1619205978676,
     "user": {
      "displayName": "IGNACIO ALEJANDRO MEZA",
      "photoUrl": "",
      "userId": "17011121633069169364"
     },
     "user_tz": 240
    },
    "execution_millis": 69,
    "execution_start": 1632493424642,
    "id": "LlxNXK11XBGn",
    "outputId": "a4572fe2-0758-4c0c-c9f3-cb444233134f",
    "source_hash": "73b6de2"
   },
   "outputs": [
    {
     "name": "stderr",
     "output_type": "stream",
     "text": [
      "C:\\Users\\batma\\AppData\\Local\\Temp\\ipykernel_11724\\3552893086.py:11: FutureWarning:\n",
      "\n",
      "Setting an item of incompatible dtype is deprecated and will raise in a future error of pandas. Value '['R' 5.78 5.04 5.64 6.34 5.02 5.14 'R' 4.7 5.76 5.5 4.96 4.7 5.4 4.62 5.2\n",
      " 'R' 5.76 4.68 5.1 5.64 6.86 5.38 4.24 5.94 5.02 5.84 4.9 5.54 6.14 5.96\n",
      " 5.34 5.1 4.44 4.84 4.68 4.06 4.6 4.4 'R' 5.66 4.92 4.68 'R' 6.14 'R' 5.0\n",
      " 5.16 4.88 4.52 5.62 5.14 4.84 4.36 6.24 5.42 6.08 6.32 6.22 4.64 4.16 'R'\n",
      " 4.34 4.28 6.34 5.9 4.88 4.9 6.56 6.14 5.1 6.2 6.62 5.54 6.36 4.74 5.12\n",
      " 4.02 5.88 6.06 'R' 5.44 5.14 5.46 5.36 4.78 6.32 4.86 5.22 4.52 4.96 5.1\n",
      " 4.1 5.22 4.7 5.92 4.36 6.24 6.86 5.52 'R' 4.84 5.84 5.52 4.98 5.52 5.08\n",
      " 4.06 5.16 4.26 6.0 4.92 5.46 5.46 'R' 4.22 6.42 4.94 4.88 5.58 4.78 4.46\n",
      " 5.32 4.04 4.74 5.44 5.18 5.5 5.2 5.84 4.8 4.36 4.74 'R' 4.52 4.38 'R'\n",
      " 5.38 5.5 4.36 4.28 5.38 4.36 4.1 'R' 6.12 5.32 5.98 6.54 6.44 6.24 4.58\n",
      " 'R' 4.16 4.5 4.94 4.76 5.32 4.34 5.98 4.32 4.24 4.98 5.4 'R' 6.64 5.04\n",
      " 4.64 4.58 5.5 'R' 'R' 5.14 5.4 5.5 5.14 5.12 6.04 5.3 'R' 5.4 4.98 6.02\n",
      " 5.14 4.38 4.28 4.5 4.28 4.6 5.74 5.46 5.72 6.94 4.5 4.84 5.62 4.68 5.26\n",
      " 6.3 5.56 5.96 6.14 4.14 5.94 4.0 4.72 5.94 5.64 4.44 'R' 5.32 5.6 5.04\n",
      " 6.18 5.64 5.82 'R' 'R' 'R' 4.32 5.82 6.02 5.58 4.5 5.56 5.08 4.84 5.84\n",
      " 4.92 4.08 4.58 5.3 5.28 6.12 5.02 4.92 4.0 6.26 5.68 4.4 5.08 5.2 5.12\n",
      " 4.3 'R' 4.52 4.06 4.22 4.0 'R' 'R' 5.46 5.36 'R' 4.36 6.5 6.34 4.28 4.16\n",
      " 5.12 6.22 'R' 4.9 4.48 'R' 6.22 4.22 7.0 5.56 4.02 6.08 5.64 5.98 4.78\n",
      " 4.16 5.34 5.54 5.72 5.38 4.88 5.76 5.7 5.48 5.14 4.92 4.88 'R' 4.72 4.64\n",
      " 4.92 6.32 5.14 5.4 5.14 5.18 4.82 4.82 5.82 5.0 5.52 5.68 5.48 5.38 5.6\n",
      " 6.08 5.28 5.42 4.2 5.1 6.4 5.68 6.42 5.32 6.38 5.2 4.88 5.82 5.46 5.54\n",
      " 4.36 4.02 4.1 6.8 5.18 5.38 5.56 4.74 5.06 5.64 4.1 5.04 4.82 6.98 6.14\n",
      " 5.88 5.66 5.56 4.68 5.38 4.6 6.64 4.76 5.72 5.1 4.1 4.56 6.3 5.54 4.58\n",
      " 4.12 5.38 5.1 5.38 4.7 4.44 4.94 6.48 6.86 5.64 6.16 'R' 5.74 5.14 5.56\n",
      " 'R' 4.34 5.34 4.54 5.2 4.26 'R' 'R' 4.98 4.68 5.02 5.3 'R' 5.82 4.78 5.06\n",
      " 5.5 5.96 5.7 4.1 4.96 4.06 4.04 6.06 5.4 5.28 5.12 4.14 'R' 5.94 'R' 5.78\n",
      " 4.86 5.88 5.76 4.26 5.84 5.84 6.04 6.0 6.16 5.62 5.28 5.02 4.32 4.04 4.5\n",
      " 4.1 4.48 5.68 6.2 5.1 4.16 5.62 6.12 4.42 4.36 5.58 4.72 4.08 4.46 5.22\n",
      " 5.46 5.24 6.16 6.5 4.86 4.28 5.6 5.4 5.28 5.9 4.96 5.28 5.52 5.16 4.3\n",
      " 5.08 5.72 4.0 6.32 5.16 'R' 5.26 5.56 'R' 5.14 'R' 6.02 6.12 4.82 5.5\n",
      " 4.94 4.74 5.22 4.82 5.64 6.5 5.68 4.9 5.0 5.1 7.0 'R' 4.82 4.38 4.58 6.1\n",
      " 6.0 5.26 5.3 5.08 'R' 5.0 'R' 4.96 4.18 4.12 4.34 6.6 6.42 4.72 5.36 'R'\n",
      " 4.86 5.74 'R' 6.76 5.12 4.6 'R' 4.78 5.06 'R' 4.02 4.68 5.54 'R' 4.86\n",
      " 5.82 5.48 5.1 4.2 6.64 4.86 'R' 5.26 5.76 5.8 5.96 4.52 5.9 5.02 5.1 5.2\n",
      " 5.58 'R' 4.14 'R' 5.78 5.72 4.66 6.24 4.52 5.38 5.6 6.0 4.94 5.24 6.04\n",
      " 6.1 4.24 4.62 5.28 4.28 'R' 4.76 5.14 6.22 6.78 5.16 6.46 4.26 4.92 4.9\n",
      " 5.3 5.94 5.26 4.08 5.26 6.24 'R' 5.42 5.32 'R' 4.76 5.94 6.56 4.18 4.08\n",
      " 'R' 5.18 4.02 4.32 'R' 4.54 'R' 6.34 4.62 5.48 5.54 5.08 6.78 'R' 5.2 5.4\n",
      " 5.98 5.76 6.14 4.42 'R' 4.22 5.86 5.84 5.04 4.02 6.3 4.66 5.7 4.22 4.7\n",
      " 4.96 4.62 5.7 6.74 6.18 5.48 5.22 5.46 5.7 6.2 5.26 5.94 4.24 5.12 6.02\n",
      " 4.96 5.1 'R' 4.6 5.68 6.3 'R' 4.74 4.44 5.38 5.0 'R' 6.28 4.14 4.9 4.46\n",
      " 4.66 5.16 6.18 5.08 'R' 4.24 5.0 6.32 4.94 5.18 4.54 6.6 4.1 5.28 5.36\n",
      " 5.58 4.38 4.42 6.16 5.5 6.84 4.54 5.66 6.84 4.5 5.64 5.34 4.14 6.64 4.74\n",
      " 6.36 5.16 5.72 'R' 4.02 4.32 5.8 4.62 5.64 5.26 5.62 4.46 4.54 6.48 5.96\n",
      " 5.96 4.7 5.32 'R' 5.28 5.34 4.12 4.6 'R' 4.06 5.08 'R' 4.54 6.78 5.78 'R'\n",
      " 5.36 5.02 4.8 5.86 'R' 4.96 4.88 5.26 'R' 5.44 5.7 'R' 5.3 4.36 4.5 5.36\n",
      " 6.52 4.08 5.54 6.38 'R' 5.2 5.76 4.08 5.6 6.18 4.72 4.36 4.42 4.5 4.92\n",
      " 5.32 6.04 5.38 4.94 5.46 4.68 'R' 'R' 4.66 'R' 5.46 6.22 4.96 4.88 5.52\n",
      " 5.68 5.98 4.46 5.78 'R' 6.5 4.82 5.98 5.12 5.42 5.68 5.8 5.12 4.62 5.78\n",
      " 4.4 4.4 4.22 5.44 'R' 5.2 'R' 'R' 5.74 4.8 4.64 6.82 'R' 5.98 5.08 4.88\n",
      " 5.74 4.28 5.54 6.0 5.48 4.5 5.4 4.24 4.54 5.44 4.28 6.1 'R' 5.48 4.44 'R'\n",
      " 5.16 5.1 5.24 4.26 5.46 5.5 4.64 5.58 4.38 'R' 5.5 4.16 5.08 5.28 4.62\n",
      " 5.4 4.16 4.0 4.84 5.64 4.52 4.9 5.7 5.52 5.12 4.78 6.3 4.84 5.64 4.38\n",
      " 5.36 5.12 'R' 5.98 4.74 5.08 4.52 4.56 5.24 6.22 6.08 5.94 5.22 6.5 5.36\n",
      " 4.84 5.98 4.96 5.9 5.72 6.18 'R' 4.8 6.36 6.36 4.22 4.9 4.86 6.82 5.74\n",
      " 4.56 4.98 4.56 4.46 5.54 5.94 5.62 4.96 4.68 'R' 'R' 4.34 4.86 'R' 6.04\n",
      " 5.76 5.06 4.8 6.4 5.24 4.7 4.72 5.08 5.7 5.82 5.64 6.92 4.96 5.62 5.34\n",
      " 4.0 5.74 'R' 5.4 5.28 5.3 5.06 4.96 4.9 5.2 4.64 4.82 6.2 'R' 4.78 4.2\n",
      " 5.64 6.28 4.46 'R' 5.72 4.1 4.56 4.94 'R' 'R' 5.02 4.6 5.08 6.04 4.02\n",
      " 4.44 6.94 5.0 5.02 6.18 5.2 4.12 5.56 5.94 5.26 5.0 5.8 5.66 4.84 4.44\n",
      " 'R' 5.62 5.78 6.1 4.88 'R' 4.34 6.5 5.68 5.04 4.66 5.92 5.46 5.68 5.08\n",
      " 'R' 5.7 4.86 4.6 5.12 6.56 5.28 6.74 5.32 4.66 'R' 4.2 6.48 4.52 5.44\n",
      " 4.86 5.66 5.88 5.08 4.56 5.88 5.06 4.46 5.16 'R' 4.88 5.92 5.72 5.06 7.0\n",
      " 4.44 'R' 6.34 4.12 5.26 6.04 6.58 4.64 5.94 4.82 6.52 5.36 4.62 4.34 6.26\n",
      " 4.1 'R' 4.54 'R' 5.78 5.5 4.92 5.82 5.22 6.04 6.92 5.22 5.56 5.2 5.16\n",
      " 4.96 5.36 'R' 'R' 5.3 'R' 5.42 4.54 5.48]' has dtype incompatible with float64, please explicitly cast to a compatible dtype first.\n",
      "\n"
     ]
    }
   ],
   "source": [
    "# Muestre sus resultados aquí\n",
    "dataframe1, dataframe2, dataframe3 = reprobados_destacados(df_grades)\n",
    "\n",
    "#acá me aparece un warningggg molestoso >:("
   ]
  },
  {
   "cell_type": "code",
   "execution_count": 24,
   "metadata": {
    "ExecuteTime": {
     "end_time": "2024-09-03T16:48:08.061115Z",
     "start_time": "2024-09-03T16:48:08.035551Z"
    }
   },
   "outputs": [
    {
     "data": {
      "text/html": [
       "<div>\n",
       "<style scoped>\n",
       "    .dataframe tbody tr th:only-of-type {\n",
       "        vertical-align: middle;\n",
       "    }\n",
       "\n",
       "    .dataframe tbody tr th {\n",
       "        vertical-align: top;\n",
       "    }\n",
       "\n",
       "    .dataframe thead th {\n",
       "        text-align: right;\n",
       "    }\n",
       "</style>\n",
       "<table border=\"1\" class=\"dataframe\">\n",
       "  <thead>\n",
       "    <tr style=\"text-align: right;\">\n",
       "      <th></th>\n",
       "      <th>names</th>\n",
       "      <th>gender</th>\n",
       "      <th>race/ethnicity</th>\n",
       "      <th>parental level of education</th>\n",
       "      <th>lunch</th>\n",
       "      <th>test preparation course</th>\n",
       "      <th>math score</th>\n",
       "      <th>reading score</th>\n",
       "      <th>writing score</th>\n",
       "      <th>GPA</th>\n",
       "    </tr>\n",
       "  </thead>\n",
       "  <tbody>\n",
       "    <tr>\n",
       "      <th>0</th>\n",
       "      <td>Rita Courtney</td>\n",
       "      <td>female</td>\n",
       "      <td>group B</td>\n",
       "      <td>some high school</td>\n",
       "      <td>standard</td>\n",
       "      <td>none</td>\n",
       "      <td>3.22</td>\n",
       "      <td>3.76</td>\n",
       "      <td>3.76</td>\n",
       "      <td>3.58</td>\n",
       "    </tr>\n",
       "    <tr>\n",
       "      <th>1</th>\n",
       "      <td>Mikki Amaya</td>\n",
       "      <td>female</td>\n",
       "      <td>group A</td>\n",
       "      <td>high school</td>\n",
       "      <td>free/reduced</td>\n",
       "      <td>completed</td>\n",
       "      <td>3.04</td>\n",
       "      <td>3.88</td>\n",
       "      <td>3.46</td>\n",
       "      <td>3.46</td>\n",
       "    </tr>\n",
       "    <tr>\n",
       "      <th>2</th>\n",
       "      <td>Samuel Dougal</td>\n",
       "      <td>male</td>\n",
       "      <td>group C</td>\n",
       "      <td>master's degree</td>\n",
       "      <td>free/reduced</td>\n",
       "      <td>completed</td>\n",
       "      <td>3.76</td>\n",
       "      <td>3.52</td>\n",
       "      <td>3.76</td>\n",
       "      <td>3.68</td>\n",
       "    </tr>\n",
       "    <tr>\n",
       "      <th>3</th>\n",
       "      <td>Rodger Talavera</td>\n",
       "      <td>male</td>\n",
       "      <td>group B</td>\n",
       "      <td>high school</td>\n",
       "      <td>free/reduced</td>\n",
       "      <td>none</td>\n",
       "      <td>3.16</td>\n",
       "      <td>2.74</td>\n",
       "      <td>2.62</td>\n",
       "      <td>2.84</td>\n",
       "    </tr>\n",
       "    <tr>\n",
       "      <th>4</th>\n",
       "      <td>Morris Johnson</td>\n",
       "      <td>male</td>\n",
       "      <td>group A</td>\n",
       "      <td>associate's degree</td>\n",
       "      <td>free/reduced</td>\n",
       "      <td>completed</td>\n",
       "      <td>3.40</td>\n",
       "      <td>4.30</td>\n",
       "      <td>4.18</td>\n",
       "      <td>3.96</td>\n",
       "    </tr>\n",
       "    <tr>\n",
       "      <th>...</th>\n",
       "      <td>...</td>\n",
       "      <td>...</td>\n",
       "      <td>...</td>\n",
       "      <td>...</td>\n",
       "      <td>...</td>\n",
       "      <td>...</td>\n",
       "      <td>...</td>\n",
       "      <td>...</td>\n",
       "      <td>...</td>\n",
       "      <td>...</td>\n",
       "    </tr>\n",
       "    <tr>\n",
       "      <th>98</th>\n",
       "      <td>Charles Harian</td>\n",
       "      <td>male</td>\n",
       "      <td>group C</td>\n",
       "      <td>some high school</td>\n",
       "      <td>free/reduced</td>\n",
       "      <td>completed</td>\n",
       "      <td>3.70</td>\n",
       "      <td>4.12</td>\n",
       "      <td>3.94</td>\n",
       "      <td>3.92</td>\n",
       "    </tr>\n",
       "    <tr>\n",
       "      <th>99</th>\n",
       "      <td>Wendy Gunnell</td>\n",
       "      <td>female</td>\n",
       "      <td>group D</td>\n",
       "      <td>some high school</td>\n",
       "      <td>free/reduced</td>\n",
       "      <td>none</td>\n",
       "      <td>2.62</td>\n",
       "      <td>3.04</td>\n",
       "      <td>2.92</td>\n",
       "      <td>2.86</td>\n",
       "    </tr>\n",
       "    <tr>\n",
       "      <th>100</th>\n",
       "      <td>Diana Costa</td>\n",
       "      <td>female</td>\n",
       "      <td>group C</td>\n",
       "      <td>high school</td>\n",
       "      <td>free/reduced</td>\n",
       "      <td>none</td>\n",
       "      <td>3.46</td>\n",
       "      <td>3.76</td>\n",
       "      <td>3.58</td>\n",
       "      <td>3.60</td>\n",
       "    </tr>\n",
       "    <tr>\n",
       "      <th>101</th>\n",
       "      <td>Amy Sieving</td>\n",
       "      <td>female</td>\n",
       "      <td>group C</td>\n",
       "      <td>high school</td>\n",
       "      <td>standard</td>\n",
       "      <td>none</td>\n",
       "      <td>2.74</td>\n",
       "      <td>2.74</td>\n",
       "      <td>2.80</td>\n",
       "      <td>2.76</td>\n",
       "    </tr>\n",
       "    <tr>\n",
       "      <th>102</th>\n",
       "      <td>Wanda Russell</td>\n",
       "      <td>female</td>\n",
       "      <td>group B</td>\n",
       "      <td>high school</td>\n",
       "      <td>free/reduced</td>\n",
       "      <td>completed</td>\n",
       "      <td>2.38</td>\n",
       "      <td>3.64</td>\n",
       "      <td>3.16</td>\n",
       "      <td>3.06</td>\n",
       "    </tr>\n",
       "  </tbody>\n",
       "</table>\n",
       "<p>103 rows × 10 columns</p>\n",
       "</div>"
      ],
      "text/plain": [
       "               names  gender race/ethnicity parental level of education  \\\n",
       "0      Rita Courtney  female        group B            some high school   \n",
       "1        Mikki Amaya  female        group A                 high school   \n",
       "2      Samuel Dougal    male        group C             master's degree   \n",
       "3    Rodger Talavera    male        group B                 high school   \n",
       "4     Morris Johnson    male        group A          associate's degree   \n",
       "..               ...     ...            ...                         ...   \n",
       "98    Charles Harian    male        group C            some high school   \n",
       "99     Wendy Gunnell  female        group D            some high school   \n",
       "100      Diana Costa  female        group C                 high school   \n",
       "101      Amy Sieving  female        group C                 high school   \n",
       "102    Wanda Russell  female        group B                 high school   \n",
       "\n",
       "            lunch test preparation course  math score  reading score  \\\n",
       "0        standard                    none        3.22           3.76   \n",
       "1    free/reduced               completed        3.04           3.88   \n",
       "2    free/reduced               completed        3.76           3.52   \n",
       "3    free/reduced                    none        3.16           2.74   \n",
       "4    free/reduced               completed        3.40           4.30   \n",
       "..            ...                     ...         ...            ...   \n",
       "98   free/reduced               completed        3.70           4.12   \n",
       "99   free/reduced                    none        2.62           3.04   \n",
       "100  free/reduced                    none        3.46           3.76   \n",
       "101      standard                    none        2.74           2.74   \n",
       "102  free/reduced               completed        2.38           3.64   \n",
       "\n",
       "     writing score   GPA  \n",
       "0             3.76  3.58  \n",
       "1             3.46  3.46  \n",
       "2             3.76  3.68  \n",
       "3             2.62  2.84  \n",
       "4             4.18  3.96  \n",
       "..             ...   ...  \n",
       "98            3.94  3.92  \n",
       "99            2.92  2.86  \n",
       "100           3.58  3.60  \n",
       "101           2.80  2.76  \n",
       "102           3.16  3.06  \n",
       "\n",
       "[103 rows x 10 columns]"
      ]
     },
     "execution_count": 24,
     "metadata": {},
     "output_type": "execute_result"
    }
   ],
   "source": [
    "dataframe1"
   ]
  },
  {
   "cell_type": "code",
   "execution_count": 25,
   "metadata": {
    "ExecuteTime": {
     "end_time": "2024-09-03T16:48:13.232491Z",
     "start_time": "2024-09-03T16:48:13.193885Z"
    }
   },
   "outputs": [
    {
     "data": {
      "text/html": [
       "<div>\n",
       "<style scoped>\n",
       "    .dataframe tbody tr th:only-of-type {\n",
       "        vertical-align: middle;\n",
       "    }\n",
       "\n",
       "    .dataframe tbody tr th {\n",
       "        vertical-align: top;\n",
       "    }\n",
       "\n",
       "    .dataframe thead th {\n",
       "        text-align: right;\n",
       "    }\n",
       "</style>\n",
       "<table border=\"1\" class=\"dataframe\">\n",
       "  <thead>\n",
       "    <tr style=\"text-align: right;\">\n",
       "      <th></th>\n",
       "      <th>names</th>\n",
       "      <th>gender</th>\n",
       "      <th>race/ethnicity</th>\n",
       "      <th>parental level of education</th>\n",
       "      <th>lunch</th>\n",
       "      <th>test preparation course</th>\n",
       "      <th>math score</th>\n",
       "      <th>reading score</th>\n",
       "      <th>writing score</th>\n",
       "      <th>GPA</th>\n",
       "    </tr>\n",
       "  </thead>\n",
       "  <tbody>\n",
       "    <tr>\n",
       "      <th>0</th>\n",
       "      <td>Rita Courtney</td>\n",
       "      <td>female</td>\n",
       "      <td>group B</td>\n",
       "      <td>some high school</td>\n",
       "      <td>standard</td>\n",
       "      <td>none</td>\n",
       "      <td>3.22</td>\n",
       "      <td>3.76</td>\n",
       "      <td>3.76</td>\n",
       "      <td>R</td>\n",
       "    </tr>\n",
       "    <tr>\n",
       "      <th>1</th>\n",
       "      <td>Charles Linstrom</td>\n",
       "      <td>male</td>\n",
       "      <td>group A</td>\n",
       "      <td>bachelor's degree</td>\n",
       "      <td>standard</td>\n",
       "      <td>completed</td>\n",
       "      <td>5.80</td>\n",
       "      <td>5.68</td>\n",
       "      <td>5.86</td>\n",
       "      <td>5.78</td>\n",
       "    </tr>\n",
       "    <tr>\n",
       "      <th>2</th>\n",
       "      <td>Brian Young</td>\n",
       "      <td>male</td>\n",
       "      <td>group C</td>\n",
       "      <td>some high school</td>\n",
       "      <td>standard</td>\n",
       "      <td>none</td>\n",
       "      <td>5.38</td>\n",
       "      <td>4.96</td>\n",
       "      <td>4.78</td>\n",
       "      <td>5.04</td>\n",
       "    </tr>\n",
       "    <tr>\n",
       "      <th>3</th>\n",
       "      <td>Howard Jimenez</td>\n",
       "      <td>male</td>\n",
       "      <td>group E</td>\n",
       "      <td>some high school</td>\n",
       "      <td>standard</td>\n",
       "      <td>completed</td>\n",
       "      <td>5.86</td>\n",
       "      <td>5.50</td>\n",
       "      <td>5.56</td>\n",
       "      <td>5.64</td>\n",
       "    </tr>\n",
       "    <tr>\n",
       "      <th>4</th>\n",
       "      <td>Wayne Wilson</td>\n",
       "      <td>male</td>\n",
       "      <td>group B</td>\n",
       "      <td>some high school</td>\n",
       "      <td>standard</td>\n",
       "      <td>completed</td>\n",
       "      <td>6.64</td>\n",
       "      <td>6.16</td>\n",
       "      <td>6.22</td>\n",
       "      <td>6.34</td>\n",
       "    </tr>\n",
       "    <tr>\n",
       "      <th>...</th>\n",
       "      <td>...</td>\n",
       "      <td>...</td>\n",
       "      <td>...</td>\n",
       "      <td>...</td>\n",
       "      <td>...</td>\n",
       "      <td>...</td>\n",
       "      <td>...</td>\n",
       "      <td>...</td>\n",
       "      <td>...</td>\n",
       "      <td>...</td>\n",
       "    </tr>\n",
       "    <tr>\n",
       "      <th>995</th>\n",
       "      <td>Richard Young</td>\n",
       "      <td>male</td>\n",
       "      <td>group D</td>\n",
       "      <td>high school</td>\n",
       "      <td>standard</td>\n",
       "      <td>none</td>\n",
       "      <td>5.14</td>\n",
       "      <td>5.50</td>\n",
       "      <td>5.26</td>\n",
       "      <td>5.3</td>\n",
       "    </tr>\n",
       "    <tr>\n",
       "      <th>996</th>\n",
       "      <td>Wanda Russell</td>\n",
       "      <td>female</td>\n",
       "      <td>group B</td>\n",
       "      <td>high school</td>\n",
       "      <td>free/reduced</td>\n",
       "      <td>completed</td>\n",
       "      <td>2.38</td>\n",
       "      <td>3.64</td>\n",
       "      <td>3.16</td>\n",
       "      <td>R</td>\n",
       "    </tr>\n",
       "    <tr>\n",
       "      <th>997</th>\n",
       "      <td>Marina Zeigler</td>\n",
       "      <td>female</td>\n",
       "      <td>group C</td>\n",
       "      <td>bachelor's degree</td>\n",
       "      <td>free/reduced</td>\n",
       "      <td>completed</td>\n",
       "      <td>4.96</td>\n",
       "      <td>5.44</td>\n",
       "      <td>5.86</td>\n",
       "      <td>5.42</td>\n",
       "    </tr>\n",
       "    <tr>\n",
       "      <th>998</th>\n",
       "      <td>Laurie Carter</td>\n",
       "      <td>female</td>\n",
       "      <td>group B</td>\n",
       "      <td>some high school</td>\n",
       "      <td>standard</td>\n",
       "      <td>completed</td>\n",
       "      <td>4.24</td>\n",
       "      <td>4.66</td>\n",
       "      <td>4.72</td>\n",
       "      <td>4.54</td>\n",
       "    </tr>\n",
       "    <tr>\n",
       "      <th>999</th>\n",
       "      <td>Amanda Perez</td>\n",
       "      <td>female</td>\n",
       "      <td>group A</td>\n",
       "      <td>high school</td>\n",
       "      <td>standard</td>\n",
       "      <td>completed</td>\n",
       "      <td>5.08</td>\n",
       "      <td>5.80</td>\n",
       "      <td>5.56</td>\n",
       "      <td>5.48</td>\n",
       "    </tr>\n",
       "  </tbody>\n",
       "</table>\n",
       "<p>1000 rows × 10 columns</p>\n",
       "</div>"
      ],
      "text/plain": [
       "                names  gender race/ethnicity parental level of education  \\\n",
       "0       Rita Courtney  female        group B            some high school   \n",
       "1    Charles Linstrom    male        group A           bachelor's degree   \n",
       "2         Brian Young    male        group C            some high school   \n",
       "3      Howard Jimenez    male        group E            some high school   \n",
       "4        Wayne Wilson    male        group B            some high school   \n",
       "..                ...     ...            ...                         ...   \n",
       "995     Richard Young    male        group D                 high school   \n",
       "996     Wanda Russell  female        group B                 high school   \n",
       "997    Marina Zeigler  female        group C           bachelor's degree   \n",
       "998     Laurie Carter  female        group B            some high school   \n",
       "999      Amanda Perez  female        group A                 high school   \n",
       "\n",
       "            lunch test preparation course  math score  reading score  \\\n",
       "0        standard                    none        3.22           3.76   \n",
       "1        standard               completed        5.80           5.68   \n",
       "2        standard                    none        5.38           4.96   \n",
       "3        standard               completed        5.86           5.50   \n",
       "4        standard               completed        6.64           6.16   \n",
       "..            ...                     ...         ...            ...   \n",
       "995      standard                    none        5.14           5.50   \n",
       "996  free/reduced               completed        2.38           3.64   \n",
       "997  free/reduced               completed        4.96           5.44   \n",
       "998      standard               completed        4.24           4.66   \n",
       "999      standard               completed        5.08           5.80   \n",
       "\n",
       "     writing score   GPA  \n",
       "0             3.76     R  \n",
       "1             5.86  5.78  \n",
       "2             4.78  5.04  \n",
       "3             5.56  5.64  \n",
       "4             6.22  6.34  \n",
       "..             ...   ...  \n",
       "995           5.26   5.3  \n",
       "996           3.16     R  \n",
       "997           5.86  5.42  \n",
       "998           4.72  4.54  \n",
       "999           5.56  5.48  \n",
       "\n",
       "[1000 rows x 10 columns]"
      ]
     },
     "execution_count": 25,
     "metadata": {},
     "output_type": "execute_result"
    }
   ],
   "source": [
    "dataframe2"
   ]
  },
  {
   "cell_type": "code",
   "execution_count": 26,
   "metadata": {
    "ExecuteTime": {
     "end_time": "2024-09-03T16:48:19.367097Z",
     "start_time": "2024-09-03T16:48:19.315722Z"
    }
   },
   "outputs": [
    {
     "data": {
      "text/html": [
       "<div>\n",
       "<style scoped>\n",
       "    .dataframe tbody tr th:only-of-type {\n",
       "        vertical-align: middle;\n",
       "    }\n",
       "\n",
       "    .dataframe tbody tr th {\n",
       "        vertical-align: top;\n",
       "    }\n",
       "\n",
       "    .dataframe thead th {\n",
       "        text-align: right;\n",
       "    }\n",
       "</style>\n",
       "<table border=\"1\" class=\"dataframe\">\n",
       "  <thead>\n",
       "    <tr style=\"text-align: right;\">\n",
       "      <th></th>\n",
       "      <th>names</th>\n",
       "      <th>gender</th>\n",
       "      <th>race/ethnicity</th>\n",
       "      <th>parental level of education</th>\n",
       "      <th>lunch</th>\n",
       "      <th>test preparation course</th>\n",
       "      <th>math score</th>\n",
       "      <th>reading score</th>\n",
       "      <th>writing score</th>\n",
       "      <th>GPA</th>\n",
       "    </tr>\n",
       "  </thead>\n",
       "  <tbody>\n",
       "    <tr>\n",
       "      <th>0</th>\n",
       "      <td>Sandra Pompey</td>\n",
       "      <td>female</td>\n",
       "      <td>group E</td>\n",
       "      <td>associate's degree</td>\n",
       "      <td>standard</td>\n",
       "      <td>none</td>\n",
       "      <td>7.00</td>\n",
       "      <td>7.00</td>\n",
       "      <td>7.00</td>\n",
       "      <td>7.00</td>\n",
       "    </tr>\n",
       "    <tr>\n",
       "      <th>1</th>\n",
       "      <td>Elizabeth Beasley</td>\n",
       "      <td>female</td>\n",
       "      <td>group E</td>\n",
       "      <td>bachelor's degree</td>\n",
       "      <td>standard</td>\n",
       "      <td>none</td>\n",
       "      <td>7.00</td>\n",
       "      <td>7.00</td>\n",
       "      <td>7.00</td>\n",
       "      <td>7.00</td>\n",
       "    </tr>\n",
       "    <tr>\n",
       "      <th>2</th>\n",
       "      <td>Richard Pryor</td>\n",
       "      <td>male</td>\n",
       "      <td>group E</td>\n",
       "      <td>bachelor's degree</td>\n",
       "      <td>standard</td>\n",
       "      <td>completed</td>\n",
       "      <td>7.00</td>\n",
       "      <td>7.00</td>\n",
       "      <td>7.00</td>\n",
       "      <td>7.00</td>\n",
       "    </tr>\n",
       "    <tr>\n",
       "      <th>3</th>\n",
       "      <td>Emma Gray</td>\n",
       "      <td>female</td>\n",
       "      <td>group E</td>\n",
       "      <td>bachelor's degree</td>\n",
       "      <td>standard</td>\n",
       "      <td>completed</td>\n",
       "      <td>6.94</td>\n",
       "      <td>7.00</td>\n",
       "      <td>7.00</td>\n",
       "      <td>6.98</td>\n",
       "    </tr>\n",
       "    <tr>\n",
       "      <th>4</th>\n",
       "      <td>Angela Cressey</td>\n",
       "      <td>female</td>\n",
       "      <td>group D</td>\n",
       "      <td>some college</td>\n",
       "      <td>standard</td>\n",
       "      <td>none</td>\n",
       "      <td>6.88</td>\n",
       "      <td>7.00</td>\n",
       "      <td>6.94</td>\n",
       "      <td>6.94</td>\n",
       "    </tr>\n",
       "    <tr>\n",
       "      <th>...</th>\n",
       "      <td>...</td>\n",
       "      <td>...</td>\n",
       "      <td>...</td>\n",
       "      <td>...</td>\n",
       "      <td>...</td>\n",
       "      <td>...</td>\n",
       "      <td>...</td>\n",
       "      <td>...</td>\n",
       "      <td>...</td>\n",
       "      <td>...</td>\n",
       "    </tr>\n",
       "    <tr>\n",
       "      <th>105</th>\n",
       "      <td>Rolando Widmer</td>\n",
       "      <td>male</td>\n",
       "      <td>group C</td>\n",
       "      <td>high school</td>\n",
       "      <td>standard</td>\n",
       "      <td>completed</td>\n",
       "      <td>5.92</td>\n",
       "      <td>6.04</td>\n",
       "      <td>5.92</td>\n",
       "      <td>5.96</td>\n",
       "    </tr>\n",
       "    <tr>\n",
       "      <th>106</th>\n",
       "      <td>Lucille Stanphill</td>\n",
       "      <td>female</td>\n",
       "      <td>group C</td>\n",
       "      <td>high school</td>\n",
       "      <td>standard</td>\n",
       "      <td>none</td>\n",
       "      <td>5.86</td>\n",
       "      <td>6.04</td>\n",
       "      <td>5.92</td>\n",
       "      <td>5.94</td>\n",
       "    </tr>\n",
       "    <tr>\n",
       "      <th>107</th>\n",
       "      <td>Steven Kelly</td>\n",
       "      <td>male</td>\n",
       "      <td>group D</td>\n",
       "      <td>some college</td>\n",
       "      <td>standard</td>\n",
       "      <td>none</td>\n",
       "      <td>5.86</td>\n",
       "      <td>5.92</td>\n",
       "      <td>6.04</td>\n",
       "      <td>5.94</td>\n",
       "    </tr>\n",
       "    <tr>\n",
       "      <th>108</th>\n",
       "      <td>Peter Perez</td>\n",
       "      <td>male</td>\n",
       "      <td>group D</td>\n",
       "      <td>master's degree</td>\n",
       "      <td>standard</td>\n",
       "      <td>none</td>\n",
       "      <td>5.86</td>\n",
       "      <td>5.86</td>\n",
       "      <td>6.04</td>\n",
       "      <td>5.92</td>\n",
       "    </tr>\n",
       "    <tr>\n",
       "      <th>109</th>\n",
       "      <td>Harry Berry</td>\n",
       "      <td>male</td>\n",
       "      <td>group B</td>\n",
       "      <td>associate's degree</td>\n",
       "      <td>standard</td>\n",
       "      <td>completed</td>\n",
       "      <td>5.86</td>\n",
       "      <td>5.92</td>\n",
       "      <td>5.92</td>\n",
       "      <td>5.90</td>\n",
       "    </tr>\n",
       "  </tbody>\n",
       "</table>\n",
       "<p>110 rows × 10 columns</p>\n",
       "</div>"
      ],
      "text/plain": [
       "                 names  gender race/ethnicity parental level of education  \\\n",
       "0        Sandra Pompey  female        group E          associate's degree   \n",
       "1    Elizabeth Beasley  female        group E           bachelor's degree   \n",
       "2        Richard Pryor    male        group E           bachelor's degree   \n",
       "3            Emma Gray  female        group E           bachelor's degree   \n",
       "4       Angela Cressey  female        group D                some college   \n",
       "..                 ...     ...            ...                         ...   \n",
       "105     Rolando Widmer    male        group C                 high school   \n",
       "106  Lucille Stanphill  female        group C                 high school   \n",
       "107       Steven Kelly    male        group D                some college   \n",
       "108        Peter Perez    male        group D             master's degree   \n",
       "109        Harry Berry    male        group B          associate's degree   \n",
       "\n",
       "        lunch test preparation course  math score  reading score  \\\n",
       "0    standard                    none        7.00           7.00   \n",
       "1    standard                    none        7.00           7.00   \n",
       "2    standard               completed        7.00           7.00   \n",
       "3    standard               completed        6.94           7.00   \n",
       "4    standard                    none        6.88           7.00   \n",
       "..        ...                     ...         ...            ...   \n",
       "105  standard               completed        5.92           6.04   \n",
       "106  standard                    none        5.86           6.04   \n",
       "107  standard                    none        5.86           5.92   \n",
       "108  standard                    none        5.86           5.86   \n",
       "109  standard               completed        5.86           5.92   \n",
       "\n",
       "     writing score   GPA  \n",
       "0             7.00  7.00  \n",
       "1             7.00  7.00  \n",
       "2             7.00  7.00  \n",
       "3             7.00  6.98  \n",
       "4             6.94  6.94  \n",
       "..             ...   ...  \n",
       "105           5.92  5.96  \n",
       "106           5.92  5.94  \n",
       "107           6.04  5.94  \n",
       "108           6.04  5.92  \n",
       "109           5.92  5.90  \n",
       "\n",
       "[110 rows x 10 columns]"
      ]
     },
     "execution_count": 26,
     "metadata": {},
     "output_type": "execute_result"
    }
   ],
   "source": [
    "dataframe3"
   ]
  },
  {
   "cell_type": "markdown",
   "metadata": {
    "cell_id": "1089864478cb44d3a15b23ab71702fa0",
    "deepnote_cell_height": 62,
    "deepnote_cell_type": "markdown",
    "id": "JlRSbOUxAwXv",
    "tags": []
   },
   "source": [
    "### 3.4 Quintiles de Rendimiento [0.5 Puntos]"
   ]
  },
  {
   "cell_type": "markdown",
   "metadata": {
    "cell_id": "706390cf4d5e47968980262ec7948e48",
    "deepnote_cell_height": 214.796875,
    "deepnote_cell_type": "markdown",
    "id": "hpjVqkuSAwXv",
    "tags": []
   },
   "source": [
    "El rector, intrigado por saber si existe una relación entre el nivel educacional de los padres y las notas de sus hijos les plantea estudiar dicha relación. Para esto, les solicita que desde el `DataFrame` que posee a todos los alumnos (`DataFrame` obtenido tras la limpieza), generen una nueva columna que clasifique en quintiles de rendimiento para sus alumnos: `['Bajísimo', 'Bajo', 'Medio', 'Alto', 'Muy alto']`. (investigar `qcut()`)\n",
    "\n",
    "Hecho esto, grafique a través de un scatter plot el nivel educacional de los padres v/s el promedio de los alumnos, utilice los cuantiles generados anteriormente para mostrar en que cuantil se encuentra cada uno de los datos.\n",
    "\n",
    "Realizado el grafico, responda la siguiente pregunta: **¿Es posible visualizar alguna tendencia en el gráfico?.**\n",
    "\n"
   ]
  },
  {
   "cell_type": "markdown",
   "metadata": {
    "cell_id": "460b9d3cb8a84b699b79a9a81bfcddaa",
    "deepnote_cell_height": 52.390625,
    "deepnote_cell_type": "markdown",
    "id": "Rd7E0c-vAwXv",
    "tags": []
   },
   "source": [
    "**Respuesta:**"
   ]
  },
  {
   "cell_type": "code",
   "execution_count": 27,
   "metadata": {
    "ExecuteTime": {
     "end_time": "2024-09-03T16:48:28.635916Z",
     "start_time": "2024-09-03T16:48:28.612124Z"
    }
   },
   "outputs": [
    {
     "data": {
      "text/html": [
       "<div>\n",
       "<style scoped>\n",
       "    .dataframe tbody tr th:only-of-type {\n",
       "        vertical-align: middle;\n",
       "    }\n",
       "\n",
       "    .dataframe tbody tr th {\n",
       "        vertical-align: top;\n",
       "    }\n",
       "\n",
       "    .dataframe thead th {\n",
       "        text-align: right;\n",
       "    }\n",
       "</style>\n",
       "<table border=\"1\" class=\"dataframe\">\n",
       "  <thead>\n",
       "    <tr style=\"text-align: right;\">\n",
       "      <th></th>\n",
       "      <th>names</th>\n",
       "      <th>gender</th>\n",
       "      <th>race/ethnicity</th>\n",
       "      <th>parental level of education</th>\n",
       "      <th>lunch</th>\n",
       "      <th>test preparation course</th>\n",
       "      <th>math score</th>\n",
       "      <th>reading score</th>\n",
       "      <th>writing score</th>\n",
       "      <th>GPA</th>\n",
       "      <th>GPA cuantiles</th>\n",
       "    </tr>\n",
       "  </thead>\n",
       "  <tbody>\n",
       "    <tr>\n",
       "      <th>0</th>\n",
       "      <td>Rita Courtney</td>\n",
       "      <td>female</td>\n",
       "      <td>group B</td>\n",
       "      <td>some high school</td>\n",
       "      <td>standard</td>\n",
       "      <td>none</td>\n",
       "      <td>3.22</td>\n",
       "      <td>3.76</td>\n",
       "      <td>3.76</td>\n",
       "      <td>3.58</td>\n",
       "      <td>Bajísimo</td>\n",
       "    </tr>\n",
       "    <tr>\n",
       "      <th>1</th>\n",
       "      <td>Charles Linstrom</td>\n",
       "      <td>male</td>\n",
       "      <td>group A</td>\n",
       "      <td>bachelor's degree</td>\n",
       "      <td>standard</td>\n",
       "      <td>completed</td>\n",
       "      <td>5.80</td>\n",
       "      <td>5.68</td>\n",
       "      <td>5.86</td>\n",
       "      <td>5.78</td>\n",
       "      <td>Alto</td>\n",
       "    </tr>\n",
       "    <tr>\n",
       "      <th>2</th>\n",
       "      <td>Brian Young</td>\n",
       "      <td>male</td>\n",
       "      <td>group C</td>\n",
       "      <td>some high school</td>\n",
       "      <td>standard</td>\n",
       "      <td>none</td>\n",
       "      <td>5.38</td>\n",
       "      <td>4.96</td>\n",
       "      <td>4.78</td>\n",
       "      <td>5.04</td>\n",
       "      <td>Medio</td>\n",
       "    </tr>\n",
       "    <tr>\n",
       "      <th>3</th>\n",
       "      <td>Howard Jimenez</td>\n",
       "      <td>male</td>\n",
       "      <td>group E</td>\n",
       "      <td>some high school</td>\n",
       "      <td>standard</td>\n",
       "      <td>completed</td>\n",
       "      <td>5.86</td>\n",
       "      <td>5.50</td>\n",
       "      <td>5.56</td>\n",
       "      <td>5.64</td>\n",
       "      <td>Alto</td>\n",
       "    </tr>\n",
       "    <tr>\n",
       "      <th>4</th>\n",
       "      <td>Wayne Wilson</td>\n",
       "      <td>male</td>\n",
       "      <td>group B</td>\n",
       "      <td>some high school</td>\n",
       "      <td>standard</td>\n",
       "      <td>completed</td>\n",
       "      <td>6.64</td>\n",
       "      <td>6.16</td>\n",
       "      <td>6.22</td>\n",
       "      <td>6.34</td>\n",
       "      <td>Muy alto</td>\n",
       "    </tr>\n",
       "    <tr>\n",
       "      <th>...</th>\n",
       "      <td>...</td>\n",
       "      <td>...</td>\n",
       "      <td>...</td>\n",
       "      <td>...</td>\n",
       "      <td>...</td>\n",
       "      <td>...</td>\n",
       "      <td>...</td>\n",
       "      <td>...</td>\n",
       "      <td>...</td>\n",
       "      <td>...</td>\n",
       "      <td>...</td>\n",
       "    </tr>\n",
       "    <tr>\n",
       "      <th>995</th>\n",
       "      <td>Richard Young</td>\n",
       "      <td>male</td>\n",
       "      <td>group D</td>\n",
       "      <td>high school</td>\n",
       "      <td>standard</td>\n",
       "      <td>none</td>\n",
       "      <td>5.14</td>\n",
       "      <td>5.50</td>\n",
       "      <td>5.26</td>\n",
       "      <td>5.30</td>\n",
       "      <td>Medio</td>\n",
       "    </tr>\n",
       "    <tr>\n",
       "      <th>996</th>\n",
       "      <td>Wanda Russell</td>\n",
       "      <td>female</td>\n",
       "      <td>group B</td>\n",
       "      <td>high school</td>\n",
       "      <td>free/reduced</td>\n",
       "      <td>completed</td>\n",
       "      <td>2.38</td>\n",
       "      <td>3.64</td>\n",
       "      <td>3.16</td>\n",
       "      <td>3.06</td>\n",
       "      <td>Bajísimo</td>\n",
       "    </tr>\n",
       "    <tr>\n",
       "      <th>997</th>\n",
       "      <td>Marina Zeigler</td>\n",
       "      <td>female</td>\n",
       "      <td>group C</td>\n",
       "      <td>bachelor's degree</td>\n",
       "      <td>free/reduced</td>\n",
       "      <td>completed</td>\n",
       "      <td>4.96</td>\n",
       "      <td>5.44</td>\n",
       "      <td>5.86</td>\n",
       "      <td>5.42</td>\n",
       "      <td>Alto</td>\n",
       "    </tr>\n",
       "    <tr>\n",
       "      <th>998</th>\n",
       "      <td>Laurie Carter</td>\n",
       "      <td>female</td>\n",
       "      <td>group B</td>\n",
       "      <td>some high school</td>\n",
       "      <td>standard</td>\n",
       "      <td>completed</td>\n",
       "      <td>4.24</td>\n",
       "      <td>4.66</td>\n",
       "      <td>4.72</td>\n",
       "      <td>4.54</td>\n",
       "      <td>Bajo</td>\n",
       "    </tr>\n",
       "    <tr>\n",
       "      <th>999</th>\n",
       "      <td>Amanda Perez</td>\n",
       "      <td>female</td>\n",
       "      <td>group A</td>\n",
       "      <td>high school</td>\n",
       "      <td>standard</td>\n",
       "      <td>completed</td>\n",
       "      <td>5.08</td>\n",
       "      <td>5.80</td>\n",
       "      <td>5.56</td>\n",
       "      <td>5.48</td>\n",
       "      <td>Alto</td>\n",
       "    </tr>\n",
       "  </tbody>\n",
       "</table>\n",
       "<p>1000 rows × 11 columns</p>\n",
       "</div>"
      ],
      "text/plain": [
       "                names  gender race/ethnicity parental level of education  \\\n",
       "0       Rita Courtney  female        group B            some high school   \n",
       "1    Charles Linstrom    male        group A           bachelor's degree   \n",
       "2         Brian Young    male        group C            some high school   \n",
       "3      Howard Jimenez    male        group E            some high school   \n",
       "4        Wayne Wilson    male        group B            some high school   \n",
       "..                ...     ...            ...                         ...   \n",
       "995     Richard Young    male        group D                 high school   \n",
       "996     Wanda Russell  female        group B                 high school   \n",
       "997    Marina Zeigler  female        group C           bachelor's degree   \n",
       "998     Laurie Carter  female        group B            some high school   \n",
       "999      Amanda Perez  female        group A                 high school   \n",
       "\n",
       "            lunch test preparation course  math score  reading score  \\\n",
       "0        standard                    none        3.22           3.76   \n",
       "1        standard               completed        5.80           5.68   \n",
       "2        standard                    none        5.38           4.96   \n",
       "3        standard               completed        5.86           5.50   \n",
       "4        standard               completed        6.64           6.16   \n",
       "..            ...                     ...         ...            ...   \n",
       "995      standard                    none        5.14           5.50   \n",
       "996  free/reduced               completed        2.38           3.64   \n",
       "997  free/reduced               completed        4.96           5.44   \n",
       "998      standard               completed        4.24           4.66   \n",
       "999      standard               completed        5.08           5.80   \n",
       "\n",
       "     writing score   GPA GPA cuantiles  \n",
       "0             3.76  3.58      Bajísimo  \n",
       "1             5.86  5.78          Alto  \n",
       "2             4.78  5.04         Medio  \n",
       "3             5.56  5.64          Alto  \n",
       "4             6.22  6.34      Muy alto  \n",
       "..             ...   ...           ...  \n",
       "995           5.26  5.30         Medio  \n",
       "996           3.16  3.06      Bajísimo  \n",
       "997           5.86  5.42          Alto  \n",
       "998           4.72  4.54          Bajo  \n",
       "999           5.56  5.48          Alto  \n",
       "\n",
       "[1000 rows x 11 columns]"
      ]
     },
     "execution_count": 27,
     "metadata": {},
     "output_type": "execute_result"
    }
   ],
   "source": [
    "# Escriba su código para quintiles aquí\n",
    "df_grades[\"GPA cuantiles\"] = pd.qcut(df_grades[\"GPA\"],5,labels=['Bajísimo', 'Bajo', 'Medio', 'Alto', 'Muy alto'])\n",
    "df_grades\n",
    "\n",
    "#\"\"\"\n",
    "#NOTA: La variable del dataframe que contenga los quintiles debe llamarse\n",
    "#'GPA cuantiles' para que el gráfico funcione.\n",
    "#\"\"\""
   ]
  },
  {
   "cell_type": "code",
   "execution_count": 28,
   "metadata": {
    "ExecuteTime": {
     "end_time": "2024-09-03T16:48:43.376670Z",
     "start_time": "2024-09-03T16:48:43.215540Z"
    }
   },
   "outputs": [
    {
     "data": {
      "application/vnd.plotly.v1+json": {
       "config": {
        "plotlyServerURL": "https://plot.ly"
       },
       "data": [
        {
         "customdata": [
          [
           "female"
          ],
          [
           "female"
          ],
          [
           "male"
          ],
          [
           "male"
          ],
          [
           "female"
          ],
          [
           "male"
          ],
          [
           "female"
          ],
          [
           "female"
          ],
          [
           "female"
          ],
          [
           "male"
          ],
          [
           "male"
          ],
          [
           "female"
          ],
          [
           "female"
          ],
          [
           "female"
          ],
          [
           "male"
          ],
          [
           "female"
          ],
          [
           "female"
          ],
          [
           "female"
          ],
          [
           "male"
          ],
          [
           "female"
          ],
          [
           "male"
          ],
          [
           "male"
          ],
          [
           "female"
          ],
          [
           "male"
          ],
          [
           "female"
          ],
          [
           "female"
          ],
          [
           "male"
          ],
          [
           "male"
          ],
          [
           "male"
          ],
          [
           "male"
          ],
          [
           "male"
          ],
          [
           "female"
          ],
          [
           "male"
          ],
          [
           "female"
          ],
          [
           "female"
          ],
          [
           "male"
          ],
          [
           "female"
          ],
          [
           "female"
          ],
          [
           "female"
          ],
          [
           "male"
          ],
          [
           "female"
          ],
          [
           "male"
          ],
          [
           "male"
          ],
          [
           "female"
          ],
          [
           "male"
          ],
          [
           "male"
          ],
          [
           "male"
          ],
          [
           "female"
          ],
          [
           "female"
          ],
          [
           "male"
          ],
          [
           "male"
          ],
          [
           "male"
          ],
          [
           "female"
          ],
          [
           "female"
          ],
          [
           "male"
          ],
          [
           "male"
          ],
          [
           "male"
          ],
          [
           "male"
          ],
          [
           "female"
          ],
          [
           "female"
          ],
          [
           "male"
          ],
          [
           "male"
          ],
          [
           "male"
          ],
          [
           "male"
          ],
          [
           "male"
          ],
          [
           "male"
          ],
          [
           "male"
          ],
          [
           "male"
          ],
          [
           "male"
          ],
          [
           "male"
          ],
          [
           "female"
          ],
          [
           "male"
          ],
          [
           "male"
          ],
          [
           "male"
          ],
          [
           "male"
          ],
          [
           "male"
          ],
          [
           "male"
          ],
          [
           "male"
          ],
          [
           "male"
          ],
          [
           "male"
          ],
          [
           "male"
          ],
          [
           "male"
          ],
          [
           "female"
          ],
          [
           "male"
          ],
          [
           "male"
          ],
          [
           "female"
          ],
          [
           "male"
          ],
          [
           "male"
          ],
          [
           "male"
          ],
          [
           "female"
          ],
          [
           "male"
          ],
          [
           "male"
          ],
          [
           "female"
          ],
          [
           "male"
          ],
          [
           "male"
          ],
          [
           "female"
          ],
          [
           "male"
          ],
          [
           "female"
          ],
          [
           "female"
          ],
          [
           "male"
          ],
          [
           "male"
          ],
          [
           "male"
          ],
          [
           "female"
          ],
          [
           "female"
          ],
          [
           "female"
          ],
          [
           "female"
          ],
          [
           "female"
          ],
          [
           "female"
          ],
          [
           "male"
          ],
          [
           "male"
          ],
          [
           "male"
          ],
          [
           "female"
          ],
          [
           "male"
          ],
          [
           "male"
          ],
          [
           "male"
          ],
          [
           "female"
          ],
          [
           "male"
          ],
          [
           "male"
          ],
          [
           "female"
          ],
          [
           "male"
          ],
          [
           "male"
          ],
          [
           "female"
          ],
          [
           "male"
          ],
          [
           "male"
          ],
          [
           "female"
          ],
          [
           "female"
          ],
          [
           "female"
          ],
          [
           "male"
          ],
          [
           "male"
          ],
          [
           "male"
          ],
          [
           "male"
          ],
          [
           "male"
          ],
          [
           "female"
          ],
          [
           "female"
          ],
          [
           "female"
          ],
          [
           "male"
          ],
          [
           "female"
          ],
          [
           "male"
          ],
          [
           "female"
          ],
          [
           "male"
          ],
          [
           "male"
          ],
          [
           "male"
          ],
          [
           "female"
          ],
          [
           "female"
          ],
          [
           "male"
          ],
          [
           "male"
          ],
          [
           "female"
          ],
          [
           "male"
          ],
          [
           "male"
          ],
          [
           "male"
          ],
          [
           "male"
          ],
          [
           "female"
          ],
          [
           "female"
          ],
          [
           "female"
          ],
          [
           "female"
          ],
          [
           "male"
          ],
          [
           "male"
          ],
          [
           "female"
          ],
          [
           "female"
          ],
          [
           "male"
          ],
          [
           "female"
          ],
          [
           "male"
          ],
          [
           "female"
          ],
          [
           "female"
          ],
          [
           "female"
          ],
          [
           "male"
          ],
          [
           "female"
          ],
          [
           "male"
          ],
          [
           "female"
          ],
          [
           "female"
          ],
          [
           "male"
          ],
          [
           "female"
          ],
          [
           "male"
          ],
          [
           "female"
          ],
          [
           "male"
          ],
          [
           "female"
          ],
          [
           "male"
          ],
          [
           "female"
          ],
          [
           "female"
          ],
          [
           "male"
          ],
          [
           "female"
          ],
          [
           "male"
          ],
          [
           "male"
          ],
          [
           "male"
          ],
          [
           "male"
          ],
          [
           "male"
          ],
          [
           "female"
          ],
          [
           "female"
          ],
          [
           "male"
          ],
          [
           "male"
          ],
          [
           "male"
          ],
          [
           "female"
          ],
          [
           "male"
          ],
          [
           "female"
          ],
          [
           "female"
          ],
          [
           "male"
          ],
          [
           "male"
          ],
          [
           "male"
          ],
          [
           "female"
          ],
          [
           "male"
          ],
          [
           "female"
          ],
          [
           "male"
          ],
          [
           "female"
          ],
          [
           "male"
          ],
          [
           "male"
          ]
         ],
         "hovertemplate": "GPA cuantiles=Bajísimo<br>GPA=%{x}<br>parental level of education=%{y}<br>gender=%{customdata[0]}<extra></extra>",
         "legendgroup": "Bajísimo",
         "marker": {
          "color": "tomato",
          "symbol": "circle"
         },
         "mode": "markers",
         "name": "Bajísimo",
         "orientation": "h",
         "showlegend": true,
         "type": "scatter",
         "x": [
          1.54,
          2.1,
          2.38,
          2.4,
          2.56,
          2.56,
          2.76,
          2.78,
          2.78,
          2.8,
          2.84,
          2.86,
          2.88,
          2.9,
          2.94,
          3.06,
          3.08,
          3.08,
          3.24,
          3.26,
          3.28,
          3.3,
          3.3,
          3.32,
          3.34,
          3.34,
          3.36,
          3.38,
          3.38,
          3.38,
          3.4,
          3.4,
          3.44,
          3.44,
          3.46,
          3.46,
          3.48,
          3.52,
          3.54,
          3.58,
          3.58,
          3.6,
          3.6,
          3.6,
          3.6,
          3.62,
          3.62,
          3.64,
          3.64,
          3.66,
          3.68,
          3.68,
          3.68,
          3.68,
          3.7,
          3.7,
          3.72,
          3.72,
          3.74,
          3.76,
          3.76,
          3.76,
          3.78,
          3.78,
          3.78,
          3.78,
          3.78,
          3.8,
          3.8,
          3.8,
          3.8,
          3.82,
          3.84,
          3.84,
          3.86,
          3.86,
          3.88,
          3.88,
          3.88,
          3.88,
          3.9,
          3.9,
          3.9,
          3.9,
          3.9,
          3.9,
          3.92,
          3.92,
          3.92,
          3.92,
          3.94,
          3.94,
          3.94,
          3.94,
          3.94,
          3.94,
          3.96,
          3.96,
          3.96,
          3.96,
          3.98,
          3.98,
          3.98,
          4,
          4,
          4,
          4,
          4,
          4,
          4.02,
          4.02,
          4.02,
          4.02,
          4.02,
          4.02,
          4.02,
          4.02,
          4.04,
          4.04,
          4.04,
          4.06,
          4.06,
          4.06,
          4.06,
          4.06,
          4.08,
          4.08,
          4.08,
          4.08,
          4.08,
          4.08,
          4.1,
          4.1,
          4.1,
          4.1,
          4.1,
          4.1,
          4.1,
          4.1,
          4.1,
          4.1,
          4.12,
          4.12,
          4.12,
          4.12,
          4.12,
          4.14,
          4.14,
          4.14,
          4.14,
          4.14,
          4.16,
          4.16,
          4.16,
          4.16,
          4.16,
          4.16,
          4.16,
          4.18,
          4.18,
          4.2,
          4.2,
          4.2,
          4.2,
          4.22,
          4.22,
          4.22,
          4.22,
          4.22,
          4.22,
          4.22,
          4.24,
          4.24,
          4.24,
          4.24,
          4.24,
          4.24,
          4.26,
          4.26,
          4.26,
          4.26,
          4.26,
          4.28,
          4.28,
          4.28,
          4.28,
          4.28,
          4.28,
          4.28,
          4.28,
          4.28,
          4.3,
          4.3,
          4.32,
          4.32,
          4.32,
          4.32,
          4.32,
          4.34,
          4.34,
          4.34,
          4.34,
          4.34,
          4.34,
          4.34
         ],
         "xaxis": "x",
         "y": [
          "some high school",
          "high school",
          "high school",
          "some college",
          "some high school",
          "some high school",
          "high school",
          "some high school",
          "some college",
          "some college",
          "high school",
          "some high school",
          "some college",
          "associate's degree",
          "high school",
          "high school",
          "some high school",
          "some college",
          "some high school",
          "some high school",
          "some college",
          "high school",
          "high school",
          "high school",
          "bachelor's degree",
          "high school",
          "some high school",
          "associate's degree",
          "bachelor's degree",
          "some high school",
          "some college",
          "bachelor's degree",
          "some college",
          "some college",
          "high school",
          "associate's degree",
          "some high school",
          "high school",
          "some high school",
          "some college",
          "some high school",
          "some high school",
          "associate's degree",
          "high school",
          "some high school",
          "some college",
          "associate's degree",
          "high school",
          "some high school",
          "associate's degree",
          "master's degree",
          "high school",
          "some high school",
          "high school",
          "high school",
          "associate's degree",
          "associate's degree",
          "high school",
          "high school",
          "associate's degree",
          "associate's degree",
          "associate's degree",
          "some high school",
          "some college",
          "some college",
          "high school",
          "high school",
          "bachelor's degree",
          "high school",
          "bachelor's degree",
          "associate's degree",
          "high school",
          "some high school",
          "some college",
          "high school",
          "associate's degree",
          "associate's degree",
          "high school",
          "some high school",
          "high school",
          "some high school",
          "bachelor's degree",
          "high school",
          "some high school",
          "bachelor's degree",
          "some high school",
          "some high school",
          "some high school",
          "some high school",
          "associate's degree",
          "high school",
          "high school",
          "high school",
          "some high school",
          "high school",
          "some high school",
          "associate's degree",
          "bachelor's degree",
          "high school",
          "associate's degree",
          "high school",
          "some college",
          "some high school",
          "associate's degree",
          "some high school",
          "high school",
          "some high school",
          "associate's degree",
          "bachelor's degree",
          "some college",
          "associate's degree",
          "some college",
          "some college",
          "some college",
          "some high school",
          "bachelor's degree",
          "high school",
          "some college",
          "master's degree",
          "some college",
          "some college",
          "master's degree",
          "some college",
          "some college",
          "some college",
          "some college",
          "some high school",
          "master's degree",
          "associate's degree",
          "high school",
          "high school",
          "some high school",
          "some high school",
          "associate's degree",
          "some high school",
          "high school",
          "master's degree",
          "high school",
          "associate's degree",
          "associate's degree",
          "associate's degree",
          "associate's degree",
          "some high school",
          "associate's degree",
          "some college",
          "high school",
          "high school",
          "some college",
          "high school",
          "some college",
          "some high school",
          "high school",
          "high school",
          "high school",
          "associate's degree",
          "high school",
          "high school",
          "some high school",
          "associate's degree",
          "associate's degree",
          "associate's degree",
          "some high school",
          "some high school",
          "associate's degree",
          "associate's degree",
          "high school",
          "master's degree",
          "high school",
          "associate's degree",
          "associate's degree",
          "bachelor's degree",
          "some high school",
          "high school",
          "associate's degree",
          "high school",
          "some college",
          "some high school",
          "some college",
          "high school",
          "some high school",
          "high school",
          "master's degree",
          "high school",
          "high school",
          "bachelor's degree",
          "some college",
          "associate's degree",
          "high school",
          "some college",
          "high school",
          "associate's degree",
          "high school",
          "some college",
          "some high school",
          "bachelor's degree",
          "high school",
          "bachelor's degree",
          "associate's degree",
          "associate's degree",
          "associate's degree",
          "high school",
          "high school",
          "some college",
          "bachelor's degree",
          "associate's degree"
         ],
         "yaxis": "y"
        },
        {
         "customdata": [
          [
           "male"
          ],
          [
           "male"
          ],
          [
           "male"
          ],
          [
           "female"
          ],
          [
           "male"
          ],
          [
           "male"
          ],
          [
           "female"
          ],
          [
           "female"
          ],
          [
           "female"
          ],
          [
           "female"
          ],
          [
           "female"
          ],
          [
           "female"
          ],
          [
           "female"
          ],
          [
           "male"
          ],
          [
           "female"
          ],
          [
           "male"
          ],
          [
           "female"
          ],
          [
           "male"
          ],
          [
           "female"
          ],
          [
           "male"
          ],
          [
           "male"
          ],
          [
           "male"
          ],
          [
           "female"
          ],
          [
           "male"
          ],
          [
           "male"
          ],
          [
           "male"
          ],
          [
           "male"
          ],
          [
           "female"
          ],
          [
           "male"
          ],
          [
           "male"
          ],
          [
           "male"
          ],
          [
           "female"
          ],
          [
           "male"
          ],
          [
           "male"
          ],
          [
           "male"
          ],
          [
           "female"
          ],
          [
           "female"
          ],
          [
           "female"
          ],
          [
           "male"
          ],
          [
           "female"
          ],
          [
           "male"
          ],
          [
           "male"
          ],
          [
           "female"
          ],
          [
           "male"
          ],
          [
           "male"
          ],
          [
           "female"
          ],
          [
           "female"
          ],
          [
           "male"
          ],
          [
           "female"
          ],
          [
           "male"
          ],
          [
           "male"
          ],
          [
           "female"
          ],
          [
           "female"
          ],
          [
           "male"
          ],
          [
           "female"
          ],
          [
           "female"
          ],
          [
           "female"
          ],
          [
           "male"
          ],
          [
           "male"
          ],
          [
           "male"
          ],
          [
           "male"
          ],
          [
           "male"
          ],
          [
           "male"
          ],
          [
           "female"
          ],
          [
           "female"
          ],
          [
           "male"
          ],
          [
           "female"
          ],
          [
           "male"
          ],
          [
           "male"
          ],
          [
           "female"
          ],
          [
           "male"
          ],
          [
           "male"
          ],
          [
           "male"
          ],
          [
           "female"
          ],
          [
           "female"
          ],
          [
           "female"
          ],
          [
           "female"
          ],
          [
           "female"
          ],
          [
           "female"
          ],
          [
           "female"
          ],
          [
           "female"
          ],
          [
           "male"
          ],
          [
           "male"
          ],
          [
           "female"
          ],
          [
           "male"
          ],
          [
           "female"
          ],
          [
           "female"
          ],
          [
           "male"
          ],
          [
           "male"
          ],
          [
           "male"
          ],
          [
           "female"
          ],
          [
           "male"
          ],
          [
           "male"
          ],
          [
           "male"
          ],
          [
           "male"
          ],
          [
           "male"
          ],
          [
           "female"
          ],
          [
           "male"
          ],
          [
           "female"
          ],
          [
           "male"
          ],
          [
           "female"
          ],
          [
           "male"
          ],
          [
           "male"
          ],
          [
           "male"
          ],
          [
           "male"
          ],
          [
           "female"
          ],
          [
           "male"
          ],
          [
           "female"
          ],
          [
           "male"
          ],
          [
           "male"
          ],
          [
           "male"
          ],
          [
           "female"
          ],
          [
           "female"
          ],
          [
           "female"
          ],
          [
           "male"
          ],
          [
           "female"
          ],
          [
           "male"
          ],
          [
           "male"
          ],
          [
           "female"
          ],
          [
           "female"
          ],
          [
           "male"
          ],
          [
           "male"
          ],
          [
           "female"
          ],
          [
           "male"
          ],
          [
           "male"
          ],
          [
           "female"
          ],
          [
           "female"
          ],
          [
           "male"
          ],
          [
           "male"
          ],
          [
           "female"
          ],
          [
           "female"
          ],
          [
           "female"
          ],
          [
           "male"
          ],
          [
           "female"
          ],
          [
           "female"
          ],
          [
           "male"
          ],
          [
           "female"
          ],
          [
           "male"
          ],
          [
           "female"
          ],
          [
           "female"
          ],
          [
           "male"
          ],
          [
           "male"
          ],
          [
           "male"
          ],
          [
           "female"
          ],
          [
           "male"
          ],
          [
           "female"
          ],
          [
           "female"
          ],
          [
           "male"
          ],
          [
           "female"
          ],
          [
           "male"
          ],
          [
           "male"
          ],
          [
           "female"
          ],
          [
           "female"
          ],
          [
           "female"
          ],
          [
           "male"
          ],
          [
           "female"
          ],
          [
           "female"
          ],
          [
           "male"
          ],
          [
           "male"
          ],
          [
           "female"
          ],
          [
           "male"
          ],
          [
           "female"
          ],
          [
           "female"
          ],
          [
           "male"
          ],
          [
           "male"
          ],
          [
           "female"
          ],
          [
           "female"
          ],
          [
           "male"
          ],
          [
           "female"
          ],
          [
           "male"
          ],
          [
           "female"
          ],
          [
           "male"
          ],
          [
           "male"
          ],
          [
           "male"
          ],
          [
           "male"
          ],
          [
           "male"
          ],
          [
           "male"
          ],
          [
           "female"
          ],
          [
           "female"
          ],
          [
           "male"
          ],
          [
           "male"
          ],
          [
           "female"
          ],
          [
           "female"
          ],
          [
           "female"
          ],
          [
           "male"
          ],
          [
           "male"
          ],
          [
           "female"
          ],
          [
           "female"
          ],
          [
           "female"
          ],
          [
           "female"
          ],
          [
           "female"
          ],
          [
           "male"
          ],
          [
           "male"
          ],
          [
           "female"
          ],
          [
           "female"
          ],
          [
           "male"
          ],
          [
           "male"
          ],
          [
           "female"
          ],
          [
           "female"
          ],
          [
           "male"
          ],
          [
           "female"
          ],
          [
           "female"
          ],
          [
           "male"
          ]
         ],
         "hovertemplate": "GPA cuantiles=Bajo<br>GPA=%{x}<br>parental level of education=%{y}<br>gender=%{customdata[0]}<extra></extra>",
         "legendgroup": "Bajo",
         "marker": {
          "color": "orange",
          "symbol": "circle"
         },
         "mode": "markers",
         "name": "Bajo",
         "orientation": "h",
         "showlegend": true,
         "type": "scatter",
         "x": [
          4.36,
          4.36,
          4.36,
          4.36,
          4.36,
          4.36,
          4.36,
          4.36,
          4.36,
          4.36,
          4.38,
          4.38,
          4.38,
          4.38,
          4.38,
          4.38,
          4.4,
          4.4,
          4.4,
          4.4,
          4.42,
          4.42,
          4.42,
          4.42,
          4.44,
          4.44,
          4.44,
          4.44,
          4.44,
          4.44,
          4.44,
          4.44,
          4.46,
          4.46,
          4.46,
          4.46,
          4.46,
          4.46,
          4.46,
          4.46,
          4.48,
          4.48,
          4.5,
          4.5,
          4.5,
          4.5,
          4.5,
          4.5,
          4.5,
          4.5,
          4.5,
          4.52,
          4.52,
          4.52,
          4.52,
          4.52,
          4.52,
          4.52,
          4.52,
          4.52,
          4.54,
          4.54,
          4.54,
          4.54,
          4.54,
          4.54,
          4.54,
          4.54,
          4.54,
          4.56,
          4.56,
          4.56,
          4.56,
          4.56,
          4.56,
          4.58,
          4.58,
          4.58,
          4.58,
          4.58,
          4.6,
          4.6,
          4.6,
          4.6,
          4.6,
          4.6,
          4.6,
          4.6,
          4.62,
          4.62,
          4.62,
          4.62,
          4.62,
          4.62,
          4.62,
          4.62,
          4.64,
          4.64,
          4.64,
          4.64,
          4.64,
          4.64,
          4.64,
          4.66,
          4.66,
          4.66,
          4.66,
          4.66,
          4.66,
          4.68,
          4.68,
          4.68,
          4.68,
          4.68,
          4.68,
          4.68,
          4.68,
          4.68,
          4.7,
          4.7,
          4.7,
          4.7,
          4.7,
          4.7,
          4.7,
          4.72,
          4.72,
          4.72,
          4.72,
          4.72,
          4.72,
          4.74,
          4.74,
          4.74,
          4.74,
          4.74,
          4.74,
          4.74,
          4.74,
          4.76,
          4.76,
          4.76,
          4.76,
          4.78,
          4.78,
          4.78,
          4.78,
          4.78,
          4.78,
          4.78,
          4.8,
          4.8,
          4.8,
          4.8,
          4.8,
          4.82,
          4.82,
          4.82,
          4.82,
          4.82,
          4.82,
          4.82,
          4.82,
          4.82,
          4.84,
          4.84,
          4.84,
          4.84,
          4.84,
          4.84,
          4.84,
          4.84,
          4.84,
          4.86,
          4.86,
          4.86,
          4.86,
          4.86,
          4.86,
          4.86,
          4.86,
          4.86,
          4.86,
          4.88,
          4.88,
          4.88,
          4.88,
          4.88,
          4.88,
          4.88,
          4.88,
          4.88,
          4.88,
          4.88,
          4.9,
          4.9,
          4.9,
          4.9,
          4.9,
          4.9,
          4.9,
          4.9,
          4.9
         ],
         "xaxis": "x",
         "y": [
          "associate's degree",
          "high school",
          "associate's degree",
          "some college",
          "high school",
          "bachelor's degree",
          "some college",
          "associate's degree",
          "some high school",
          "bachelor's degree",
          "some college",
          "bachelor's degree",
          "bachelor's degree",
          "some college",
          "some high school",
          "associate's degree",
          "some high school",
          "associate's degree",
          "high school",
          "associate's degree",
          "high school",
          "high school",
          "some college",
          "associate's degree",
          "high school",
          "high school",
          "some college",
          "high school",
          "some college",
          "associate's degree",
          "some high school",
          "master's degree",
          "some high school",
          "some high school",
          "some high school",
          "associate's degree",
          "associate's degree",
          "associate's degree",
          "some high school",
          "some high school",
          "some high school",
          "some high school",
          "bachelor's degree",
          "some college",
          "some high school",
          "some college",
          "some high school",
          "associate's degree",
          "high school",
          "some college",
          "some college",
          "some college",
          "associate's degree",
          "high school",
          "some college",
          "associate's degree",
          "some high school",
          "associate's degree",
          "high school",
          "some high school",
          "associate's degree",
          "some college",
          "some high school",
          "master's degree",
          "some high school",
          "some high school",
          "some college",
          "high school",
          "some college",
          "some college",
          "some college",
          "some college",
          "associate's degree",
          "some college",
          "master's degree",
          "high school",
          "some high school",
          "high school",
          "bachelor's degree",
          "high school",
          "high school",
          "high school",
          "some high school",
          "some high school",
          "some college",
          "some college",
          "high school",
          "some college",
          "high school",
          "some college",
          "bachelor's degree",
          "some high school",
          "associate's degree",
          "high school",
          "bachelor's degree",
          "some college",
          "master's degree",
          "bachelor's degree",
          "associate's degree",
          "some college",
          "some high school",
          "some college",
          "some college",
          "master's degree",
          "some college",
          "some college",
          "some high school",
          "some college",
          "bachelor's degree",
          "some high school",
          "associate's degree",
          "associate's degree",
          "master's degree",
          "associate's degree",
          "some college",
          "some college",
          "some college",
          "bachelor's degree",
          "master's degree",
          "some college",
          "some high school",
          "associate's degree",
          "some college",
          "associate's degree",
          "high school",
          "some high school",
          "associate's degree",
          "some college",
          "bachelor's degree",
          "bachelor's degree",
          "high school",
          "some college",
          "some college",
          "some college",
          "high school",
          "high school",
          "some high school",
          "some college",
          "high school",
          "some college",
          "high school",
          "bachelor's degree",
          "high school",
          "some college",
          "some college",
          "high school",
          "master's degree",
          "associate's degree",
          "some college",
          "associate's degree",
          "some college",
          "high school",
          "associate's degree",
          "master's degree",
          "some high school",
          "some college",
          "some high school",
          "associate's degree",
          "high school",
          "associate's degree",
          "some college",
          "high school",
          "associate's degree",
          "some college",
          "associate's degree",
          "some high school",
          "associate's degree",
          "some college",
          "high school",
          "high school",
          "some college",
          "some high school",
          "bachelor's degree",
          "associate's degree",
          "associate's degree",
          "some high school",
          "bachelor's degree",
          "master's degree",
          "associate's degree",
          "some high school",
          "bachelor's degree",
          "master's degree",
          "high school",
          "high school",
          "associate's degree",
          "some high school",
          "associate's degree",
          "bachelor's degree",
          "some college",
          "some college",
          "associate's degree",
          "high school",
          "master's degree",
          "associate's degree",
          "some college",
          "bachelor's degree",
          "high school",
          "high school",
          "associate's degree",
          "high school",
          "some college",
          "some college",
          "some college"
         ],
         "yaxis": "y"
        },
        {
         "customdata": [
          [
           "female"
          ],
          [
           "female"
          ],
          [
           "male"
          ],
          [
           "male"
          ],
          [
           "male"
          ],
          [
           "male"
          ],
          [
           "male"
          ],
          [
           "female"
          ],
          [
           "female"
          ],
          [
           "female"
          ],
          [
           "male"
          ],
          [
           "female"
          ],
          [
           "female"
          ],
          [
           "male"
          ],
          [
           "male"
          ],
          [
           "female"
          ],
          [
           "male"
          ],
          [
           "male"
          ],
          [
           "male"
          ],
          [
           "male"
          ],
          [
           "female"
          ],
          [
           "male"
          ],
          [
           "male"
          ],
          [
           "female"
          ],
          [
           "female"
          ],
          [
           "female"
          ],
          [
           "female"
          ],
          [
           "female"
          ],
          [
           "male"
          ],
          [
           "female"
          ],
          [
           "female"
          ],
          [
           "female"
          ],
          [
           "male"
          ],
          [
           "male"
          ],
          [
           "female"
          ],
          [
           "male"
          ],
          [
           "male"
          ],
          [
           "female"
          ],
          [
           "female"
          ],
          [
           "female"
          ],
          [
           "female"
          ],
          [
           "female"
          ],
          [
           "female"
          ],
          [
           "female"
          ],
          [
           "male"
          ],
          [
           "female"
          ],
          [
           "male"
          ],
          [
           "female"
          ],
          [
           "female"
          ],
          [
           "female"
          ],
          [
           "male"
          ],
          [
           "male"
          ],
          [
           "male"
          ],
          [
           "female"
          ],
          [
           "male"
          ],
          [
           "male"
          ],
          [
           "male"
          ],
          [
           "female"
          ],
          [
           "female"
          ],
          [
           "male"
          ],
          [
           "female"
          ],
          [
           "female"
          ],
          [
           "male"
          ],
          [
           "female"
          ],
          [
           "male"
          ],
          [
           "male"
          ],
          [
           "female"
          ],
          [
           "female"
          ],
          [
           "female"
          ],
          [
           "female"
          ],
          [
           "female"
          ],
          [
           "male"
          ],
          [
           "male"
          ],
          [
           "male"
          ],
          [
           "female"
          ],
          [
           "male"
          ],
          [
           "female"
          ],
          [
           "male"
          ],
          [
           "female"
          ],
          [
           "male"
          ],
          [
           "male"
          ],
          [
           "female"
          ],
          [
           "male"
          ],
          [
           "male"
          ],
          [
           "male"
          ],
          [
           "male"
          ],
          [
           "female"
          ],
          [
           "female"
          ],
          [
           "female"
          ],
          [
           "male"
          ],
          [
           "male"
          ],
          [
           "male"
          ],
          [
           "male"
          ],
          [
           "male"
          ],
          [
           "male"
          ],
          [
           "female"
          ],
          [
           "male"
          ],
          [
           "male"
          ],
          [
           "male"
          ],
          [
           "female"
          ],
          [
           "female"
          ],
          [
           "female"
          ],
          [
           "female"
          ],
          [
           "male"
          ],
          [
           "female"
          ],
          [
           "male"
          ],
          [
           "male"
          ],
          [
           "female"
          ],
          [
           "female"
          ],
          [
           "female"
          ],
          [
           "female"
          ],
          [
           "male"
          ],
          [
           "male"
          ],
          [
           "male"
          ],
          [
           "female"
          ],
          [
           "male"
          ],
          [
           "female"
          ],
          [
           "female"
          ],
          [
           "male"
          ],
          [
           "male"
          ],
          [
           "female"
          ],
          [
           "female"
          ],
          [
           "female"
          ],
          [
           "female"
          ],
          [
           "male"
          ],
          [
           "female"
          ],
          [
           "male"
          ],
          [
           "male"
          ],
          [
           "male"
          ],
          [
           "female"
          ],
          [
           "female"
          ],
          [
           "male"
          ],
          [
           "male"
          ],
          [
           "male"
          ],
          [
           "male"
          ],
          [
           "male"
          ],
          [
           "female"
          ],
          [
           "female"
          ],
          [
           "male"
          ],
          [
           "male"
          ],
          [
           "female"
          ],
          [
           "male"
          ],
          [
           "female"
          ],
          [
           "female"
          ],
          [
           "male"
          ],
          [
           "female"
          ],
          [
           "female"
          ],
          [
           "female"
          ],
          [
           "female"
          ],
          [
           "female"
          ],
          [
           "male"
          ],
          [
           "male"
          ],
          [
           "female"
          ],
          [
           "male"
          ],
          [
           "male"
          ],
          [
           "female"
          ],
          [
           "male"
          ],
          [
           "female"
          ],
          [
           "female"
          ],
          [
           "male"
          ],
          [
           "female"
          ],
          [
           "male"
          ],
          [
           "male"
          ],
          [
           "male"
          ],
          [
           "female"
          ],
          [
           "female"
          ],
          [
           "male"
          ],
          [
           "female"
          ],
          [
           "female"
          ],
          [
           "male"
          ],
          [
           "female"
          ],
          [
           "female"
          ],
          [
           "male"
          ],
          [
           "female"
          ],
          [
           "male"
          ],
          [
           "male"
          ],
          [
           "female"
          ],
          [
           "female"
          ],
          [
           "female"
          ],
          [
           "male"
          ],
          [
           "male"
          ],
          [
           "male"
          ],
          [
           "male"
          ],
          [
           "female"
          ],
          [
           "male"
          ],
          [
           "male"
          ],
          [
           "male"
          ],
          [
           "female"
          ],
          [
           "female"
          ],
          [
           "male"
          ],
          [
           "female"
          ],
          [
           "male"
          ],
          [
           "female"
          ],
          [
           "male"
          ],
          [
           "female"
          ],
          [
           "female"
          ],
          [
           "female"
          ],
          [
           "female"
          ]
         ],
         "hovertemplate": "GPA cuantiles=Medio<br>GPA=%{x}<br>parental level of education=%{y}<br>gender=%{customdata[0]}<extra></extra>",
         "legendgroup": "Medio",
         "marker": {
          "color": "yellow",
          "symbol": "circle"
         },
         "mode": "markers",
         "name": "Medio",
         "orientation": "h",
         "showlegend": true,
         "type": "scatter",
         "x": [
          4.92,
          4.92,
          4.92,
          4.92,
          4.92,
          4.92,
          4.92,
          4.92,
          4.92,
          4.94,
          4.94,
          4.94,
          4.94,
          4.94,
          4.94,
          4.94,
          4.94,
          4.96,
          4.96,
          4.96,
          4.96,
          4.96,
          4.96,
          4.96,
          4.96,
          4.96,
          4.96,
          4.96,
          4.96,
          4.96,
          4.96,
          4.98,
          4.98,
          4.98,
          4.98,
          4.98,
          5,
          5,
          5,
          5,
          5,
          5,
          5,
          5,
          5.02,
          5.02,
          5.02,
          5.02,
          5.02,
          5.02,
          5.02,
          5.02,
          5.02,
          5.04,
          5.04,
          5.04,
          5.04,
          5.04,
          5.04,
          5.06,
          5.06,
          5.06,
          5.06,
          5.06,
          5.06,
          5.06,
          5.08,
          5.08,
          5.08,
          5.08,
          5.08,
          5.08,
          5.08,
          5.08,
          5.08,
          5.08,
          5.08,
          5.08,
          5.08,
          5.08,
          5.08,
          5.1,
          5.1,
          5.1,
          5.1,
          5.1,
          5.1,
          5.1,
          5.1,
          5.1,
          5.1,
          5.1,
          5.1,
          5.1,
          5.12,
          5.12,
          5.12,
          5.12,
          5.12,
          5.12,
          5.12,
          5.12,
          5.12,
          5.12,
          5.12,
          5.12,
          5.14,
          5.14,
          5.14,
          5.14,
          5.14,
          5.14,
          5.14,
          5.14,
          5.14,
          5.14,
          5.14,
          5.14,
          5.16,
          5.16,
          5.16,
          5.16,
          5.16,
          5.16,
          5.16,
          5.16,
          5.16,
          5.16,
          5.18,
          5.18,
          5.18,
          5.18,
          5.18,
          5.2,
          5.2,
          5.2,
          5.2,
          5.2,
          5.2,
          5.2,
          5.2,
          5.2,
          5.2,
          5.2,
          5.2,
          5.22,
          5.22,
          5.22,
          5.22,
          5.22,
          5.22,
          5.22,
          5.22,
          5.24,
          5.24,
          5.24,
          5.24,
          5.24,
          5.26,
          5.26,
          5.26,
          5.26,
          5.26,
          5.26,
          5.26,
          5.26,
          5.26,
          5.26,
          5.26,
          5.28,
          5.28,
          5.28,
          5.28,
          5.28,
          5.28,
          5.28,
          5.28,
          5.28,
          5.28,
          5.28,
          5.28,
          5.3,
          5.3,
          5.3,
          5.3,
          5.3,
          5.3,
          5.3,
          5.3,
          5.32,
          5.32,
          5.32,
          5.32,
          5.32,
          5.32,
          5.32,
          5.32,
          5.32
         ],
         "xaxis": "x",
         "y": [
          "some college",
          "some high school",
          "some high school",
          "bachelor's degree",
          "some high school",
          "bachelor's degree",
          "some college",
          "some college",
          "high school",
          "high school",
          "some high school",
          "some college",
          "high school",
          "associate's degree",
          "associate's degree",
          "high school",
          "some college",
          "high school",
          "high school",
          "some high school",
          "associate's degree",
          "some high school",
          "high school",
          "associate's degree",
          "associate's degree",
          "master's degree",
          "some high school",
          "high school",
          "some high school",
          "bachelor's degree",
          "high school",
          "associate's degree",
          "bachelor's degree",
          "some high school",
          "high school",
          "associate's degree",
          "bachelor's degree",
          "associate's degree",
          "high school",
          "some college",
          "associate's degree",
          "some college",
          "some high school",
          "high school",
          "some college",
          "high school",
          "some college",
          "bachelor's degree",
          "high school",
          "some high school",
          "some high school",
          "some college",
          "some college",
          "associate's degree",
          "some high school",
          "associate's degree",
          "high school",
          "bachelor's degree",
          "bachelor's degree",
          "bachelor's degree",
          "bachelor's degree",
          "high school",
          "high school",
          "some high school",
          "some college",
          "bachelor's degree",
          "some college",
          "some college",
          "some high school",
          "some high school",
          "some college",
          "high school",
          "some high school",
          "bachelor's degree",
          "associate's degree",
          "high school",
          "associate's degree",
          "high school",
          "associate's degree",
          "bachelor's degree",
          "high school",
          "high school",
          "associate's degree",
          "high school",
          "some college",
          "some college",
          "associate's degree",
          "some college",
          "some college",
          "master's degree",
          "some high school",
          "master's degree",
          "high school",
          "some high school",
          "bachelor's degree",
          "associate's degree",
          "associate's degree",
          "associate's degree",
          "high school",
          "associate's degree",
          "some college",
          "high school",
          "some high school",
          "associate's degree",
          "some college",
          "some college",
          "high school",
          "master's degree",
          "bachelor's degree",
          "some college",
          "associate's degree",
          "bachelor's degree",
          "some high school",
          "associate's degree",
          "associate's degree",
          "associate's degree",
          "bachelor's degree",
          "some high school",
          "some college",
          "associate's degree",
          "high school",
          "associate's degree",
          "high school",
          "some college",
          "some high school",
          "bachelor's degree",
          "some college",
          "some high school",
          "high school",
          "associate's degree",
          "associate's degree",
          "some high school",
          "high school",
          "bachelor's degree",
          "master's degree",
          "some college",
          "some college",
          "some high school",
          "some college",
          "high school",
          "master's degree",
          "some high school",
          "high school",
          "high school",
          "high school",
          "associate's degree",
          "bachelor's degree",
          "some college",
          "some high school",
          "bachelor's degree",
          "some college",
          "high school",
          "bachelor's degree",
          "high school",
          "high school",
          "master's degree",
          "bachelor's degree",
          "some college",
          "high school",
          "bachelor's degree",
          "high school",
          "some college",
          "associate's degree",
          "high school",
          "some college",
          "some college",
          "high school",
          "some college",
          "bachelor's degree",
          "associate's degree",
          "associate's degree",
          "bachelor's degree",
          "associate's degree",
          "associate's degree",
          "associate's degree",
          "some high school",
          "some high school",
          "associate's degree",
          "bachelor's degree",
          "associate's degree",
          "associate's degree",
          "high school",
          "high school",
          "master's degree",
          "associate's degree",
          "high school",
          "some high school",
          "some high school",
          "some college",
          "some college",
          "some high school",
          "some college",
          "associate's degree",
          "bachelor's degree",
          "associate's degree",
          "associate's degree",
          "some high school",
          "associate's degree"
         ],
         "yaxis": "y"
        },
        {
         "customdata": [
          [
           "female"
          ],
          [
           "female"
          ],
          [
           "female"
          ],
          [
           "male"
          ],
          [
           "female"
          ],
          [
           "female"
          ],
          [
           "female"
          ],
          [
           "female"
          ],
          [
           "female"
          ],
          [
           "female"
          ],
          [
           "female"
          ],
          [
           "male"
          ],
          [
           "female"
          ],
          [
           "female"
          ],
          [
           "female"
          ],
          [
           "male"
          ],
          [
           "female"
          ],
          [
           "male"
          ],
          [
           "female"
          ],
          [
           "male"
          ],
          [
           "male"
          ],
          [
           "female"
          ],
          [
           "male"
          ],
          [
           "female"
          ],
          [
           "female"
          ],
          [
           "male"
          ],
          [
           "female"
          ],
          [
           "male"
          ],
          [
           "female"
          ],
          [
           "male"
          ],
          [
           "female"
          ],
          [
           "male"
          ],
          [
           "male"
          ],
          [
           "female"
          ],
          [
           "male"
          ],
          [
           "female"
          ],
          [
           "male"
          ],
          [
           "male"
          ],
          [
           "male"
          ],
          [
           "female"
          ],
          [
           "female"
          ],
          [
           "male"
          ],
          [
           "female"
          ],
          [
           "male"
          ],
          [
           "female"
          ],
          [
           "female"
          ],
          [
           "male"
          ],
          [
           "female"
          ],
          [
           "male"
          ],
          [
           "female"
          ],
          [
           "female"
          ],
          [
           "female"
          ],
          [
           "female"
          ],
          [
           "male"
          ],
          [
           "male"
          ],
          [
           "female"
          ],
          [
           "male"
          ],
          [
           "female"
          ],
          [
           "female"
          ],
          [
           "female"
          ],
          [
           "female"
          ],
          [
           "female"
          ],
          [
           "female"
          ],
          [
           "female"
          ],
          [
           "female"
          ],
          [
           "male"
          ],
          [
           "female"
          ],
          [
           "male"
          ],
          [
           "female"
          ],
          [
           "male"
          ],
          [
           "male"
          ],
          [
           "female"
          ],
          [
           "female"
          ],
          [
           "female"
          ],
          [
           "female"
          ],
          [
           "male"
          ],
          [
           "male"
          ],
          [
           "female"
          ],
          [
           "male"
          ],
          [
           "female"
          ],
          [
           "male"
          ],
          [
           "male"
          ],
          [
           "male"
          ],
          [
           "male"
          ],
          [
           "female"
          ],
          [
           "female"
          ],
          [
           "female"
          ],
          [
           "female"
          ],
          [
           "female"
          ],
          [
           "female"
          ],
          [
           "female"
          ],
          [
           "male"
          ],
          [
           "female"
          ],
          [
           "female"
          ],
          [
           "male"
          ],
          [
           "female"
          ],
          [
           "female"
          ],
          [
           "female"
          ],
          [
           "female"
          ],
          [
           "female"
          ],
          [
           "male"
          ],
          [
           "male"
          ],
          [
           "male"
          ],
          [
           "female"
          ],
          [
           "female"
          ],
          [
           "female"
          ],
          [
           "female"
          ],
          [
           "male"
          ],
          [
           "male"
          ],
          [
           "female"
          ],
          [
           "male"
          ],
          [
           "female"
          ],
          [
           "female"
          ],
          [
           "female"
          ],
          [
           "male"
          ],
          [
           "male"
          ],
          [
           "male"
          ],
          [
           "female"
          ],
          [
           "male"
          ],
          [
           "female"
          ],
          [
           "male"
          ],
          [
           "female"
          ],
          [
           "female"
          ],
          [
           "female"
          ],
          [
           "female"
          ],
          [
           "male"
          ],
          [
           "female"
          ],
          [
           "female"
          ],
          [
           "female"
          ],
          [
           "female"
          ],
          [
           "male"
          ],
          [
           "male"
          ],
          [
           "male"
          ],
          [
           "female"
          ],
          [
           "male"
          ],
          [
           "male"
          ],
          [
           "female"
          ],
          [
           "male"
          ],
          [
           "male"
          ],
          [
           "female"
          ],
          [
           "female"
          ],
          [
           "female"
          ],
          [
           "female"
          ],
          [
           "male"
          ],
          [
           "female"
          ],
          [
           "male"
          ],
          [
           "male"
          ],
          [
           "male"
          ],
          [
           "male"
          ],
          [
           "male"
          ],
          [
           "female"
          ],
          [
           "female"
          ],
          [
           "male"
          ],
          [
           "male"
          ],
          [
           "female"
          ],
          [
           "male"
          ],
          [
           "female"
          ],
          [
           "female"
          ],
          [
           "male"
          ],
          [
           "female"
          ],
          [
           "female"
          ],
          [
           "female"
          ],
          [
           "female"
          ],
          [
           "female"
          ],
          [
           "female"
          ],
          [
           "female"
          ],
          [
           "female"
          ],
          [
           "male"
          ],
          [
           "male"
          ],
          [
           "female"
          ],
          [
           "male"
          ],
          [
           "female"
          ],
          [
           "female"
          ],
          [
           "female"
          ],
          [
           "male"
          ],
          [
           "male"
          ],
          [
           "male"
          ],
          [
           "male"
          ],
          [
           "female"
          ],
          [
           "female"
          ],
          [
           "female"
          ],
          [
           "female"
          ],
          [
           "female"
          ],
          [
           "male"
          ],
          [
           "female"
          ],
          [
           "male"
          ],
          [
           "male"
          ],
          [
           "male"
          ],
          [
           "female"
          ],
          [
           "male"
          ],
          [
           "male"
          ],
          [
           "female"
          ],
          [
           "male"
          ],
          [
           "female"
          ],
          [
           "female"
          ],
          [
           "male"
          ]
         ],
         "hovertemplate": "GPA cuantiles=Alto<br>GPA=%{x}<br>parental level of education=%{y}<br>gender=%{customdata[0]}<extra></extra>",
         "legendgroup": "Alto",
         "marker": {
          "color": "greenyellow",
          "symbol": "circle"
         },
         "mode": "markers",
         "name": "Alto",
         "orientation": "h",
         "showlegend": true,
         "type": "scatter",
         "x": [
          5.34,
          5.34,
          5.34,
          5.34,
          5.34,
          5.34,
          5.36,
          5.36,
          5.36,
          5.36,
          5.36,
          5.36,
          5.36,
          5.36,
          5.36,
          5.36,
          5.38,
          5.38,
          5.38,
          5.38,
          5.38,
          5.38,
          5.38,
          5.38,
          5.38,
          5.38,
          5.38,
          5.38,
          5.4,
          5.4,
          5.4,
          5.4,
          5.4,
          5.4,
          5.4,
          5.4,
          5.4,
          5.4,
          5.4,
          5.42,
          5.42,
          5.42,
          5.42,
          5.42,
          5.44,
          5.44,
          5.44,
          5.44,
          5.44,
          5.44,
          5.46,
          5.46,
          5.46,
          5.46,
          5.46,
          5.46,
          5.46,
          5.46,
          5.46,
          5.46,
          5.46,
          5.46,
          5.48,
          5.48,
          5.48,
          5.48,
          5.48,
          5.48,
          5.48,
          5.48,
          5.5,
          5.5,
          5.5,
          5.5,
          5.5,
          5.5,
          5.5,
          5.5,
          5.5,
          5.5,
          5.5,
          5.52,
          5.52,
          5.52,
          5.52,
          5.52,
          5.52,
          5.52,
          5.54,
          5.54,
          5.54,
          5.54,
          5.54,
          5.54,
          5.54,
          5.54,
          5.54,
          5.54,
          5.56,
          5.56,
          5.56,
          5.56,
          5.56,
          5.56,
          5.56,
          5.56,
          5.56,
          5.58,
          5.58,
          5.58,
          5.58,
          5.58,
          5.58,
          5.6,
          5.6,
          5.6,
          5.6,
          5.6,
          5.62,
          5.62,
          5.62,
          5.62,
          5.62,
          5.62,
          5.62,
          5.62,
          5.64,
          5.64,
          5.64,
          5.64,
          5.64,
          5.64,
          5.64,
          5.64,
          5.64,
          5.64,
          5.64,
          5.64,
          5.64,
          5.64,
          5.66,
          5.66,
          5.66,
          5.66,
          5.66,
          5.68,
          5.68,
          5.68,
          5.68,
          5.68,
          5.68,
          5.68,
          5.68,
          5.68,
          5.68,
          5.7,
          5.7,
          5.7,
          5.7,
          5.7,
          5.7,
          5.7,
          5.7,
          5.7,
          5.72,
          5.72,
          5.72,
          5.72,
          5.72,
          5.72,
          5.72,
          5.72,
          5.72,
          5.74,
          5.74,
          5.74,
          5.74,
          5.74,
          5.74,
          5.74,
          5.76,
          5.76,
          5.76,
          5.76,
          5.76,
          5.76,
          5.76,
          5.76,
          5.78,
          5.78,
          5.78,
          5.78,
          5.78,
          5.78,
          5.78,
          5.78
         ],
         "xaxis": "x",
         "y": [
          "some college",
          "some college",
          "some college",
          "high school",
          "associate's degree",
          "associate's degree",
          "bachelor's degree",
          "high school",
          "some college",
          "some college",
          "some high school",
          "some high school",
          "associate's degree",
          "high school",
          "high school",
          "master's degree",
          "some high school",
          "high school",
          "bachelor's degree",
          "master's degree",
          "some high school",
          "high school",
          "some college",
          "high school",
          "high school",
          "bachelor's degree",
          "bachelor's degree",
          "some college",
          "some high school",
          "some high school",
          "some high school",
          "some college",
          "master's degree",
          "associate's degree",
          "some high school",
          "some high school",
          "associate's degree",
          "some college",
          "associate's degree",
          "bachelor's degree",
          "bachelor's degree",
          "high school",
          "some college",
          "high school",
          "some college",
          "some high school",
          "bachelor's degree",
          "some college",
          "bachelor's degree",
          "some high school",
          "some college",
          "associate's degree",
          "some college",
          "some college",
          "associate's degree",
          "some college",
          "some high school",
          "some college",
          "some college",
          "high school",
          "some college",
          "some college",
          "some high school",
          "bachelor's degree",
          "high school",
          "associate's degree",
          "high school",
          "some college",
          "high school",
          "associate's degree",
          "bachelor's degree",
          "master's degree",
          "associate's degree",
          "some high school",
          "bachelor's degree",
          "bachelor's degree",
          "associate's degree",
          "some high school",
          "bachelor's degree",
          "associate's degree",
          "associate's degree",
          "associate's degree",
          "some college",
          "high school",
          "associate's degree",
          "high school",
          "high school",
          "some college",
          "some college",
          "associate's degree",
          "some college",
          "high school",
          "high school",
          "some college",
          "some college",
          "associate's degree",
          "master's degree",
          "bachelor's degree",
          "some high school",
          "some high school",
          "bachelor's degree",
          "some college",
          "associate's degree",
          "some college",
          "some high school",
          "associate's degree",
          "high school",
          "some college",
          "some high school",
          "associate's degree",
          "some high school",
          "some college",
          "high school",
          "bachelor's degree",
          "associate's degree",
          "some college",
          "some high school",
          "high school",
          "master's degree",
          "some high school",
          "some college",
          "some high school",
          "some high school",
          "some college",
          "some high school",
          "master's degree",
          "some high school",
          "associate's degree",
          "some college",
          "associate's degree",
          "associate's degree",
          "some high school",
          "associate's degree",
          "associate's degree",
          "master's degree",
          "some college",
          "associate's degree",
          "associate's degree",
          "associate's degree",
          "bachelor's degree",
          "high school",
          "associate's degree",
          "bachelor's degree",
          "associate's degree",
          "some college",
          "associate's degree",
          "master's degree",
          "associate's degree",
          "bachelor's degree",
          "high school",
          "some college",
          "associate's degree",
          "associate's degree",
          "some high school",
          "some college",
          "high school",
          "some college",
          "associate's degree",
          "high school",
          "some high school",
          "some college",
          "master's degree",
          "some college",
          "high school",
          "some college",
          "bachelor's degree",
          "some high school",
          "some college",
          "some college",
          "high school",
          "some college",
          "bachelor's degree",
          "some high school",
          "some college",
          "associate's degree",
          "high school",
          "some high school",
          "some high school",
          "associate's degree",
          "associate's degree",
          "associate's degree",
          "associate's degree",
          "master's degree",
          "high school",
          "some high school",
          "master's degree",
          "some college",
          "some high school",
          "associate's degree",
          "some college",
          "bachelor's degree",
          "bachelor's degree",
          "bachelor's degree",
          "bachelor's degree",
          "high school",
          "associate's degree"
         ],
         "yaxis": "y"
        },
        {
         "customdata": [
          [
           "female"
          ],
          [
           "male"
          ],
          [
           "female"
          ],
          [
           "female"
          ],
          [
           "male"
          ],
          [
           "male"
          ],
          [
           "male"
          ],
          [
           "male"
          ],
          [
           "male"
          ],
          [
           "male"
          ],
          [
           "female"
          ],
          [
           "male"
          ],
          [
           "female"
          ],
          [
           "male"
          ],
          [
           "female"
          ],
          [
           "male"
          ],
          [
           "male"
          ],
          [
           "female"
          ],
          [
           "female"
          ],
          [
           "male"
          ],
          [
           "female"
          ],
          [
           "female"
          ],
          [
           "male"
          ],
          [
           "male"
          ],
          [
           "male"
          ],
          [
           "male"
          ],
          [
           "male"
          ],
          [
           "male"
          ],
          [
           "male"
          ],
          [
           "male"
          ],
          [
           "female"
          ],
          [
           "male"
          ],
          [
           "female"
          ],
          [
           "male"
          ],
          [
           "female"
          ],
          [
           "male"
          ],
          [
           "female"
          ],
          [
           "female"
          ],
          [
           "female"
          ],
          [
           "male"
          ],
          [
           "male"
          ],
          [
           "female"
          ],
          [
           "female"
          ],
          [
           "male"
          ],
          [
           "female"
          ],
          [
           "male"
          ],
          [
           "female"
          ],
          [
           "male"
          ],
          [
           "female"
          ],
          [
           "female"
          ],
          [
           "male"
          ],
          [
           "female"
          ],
          [
           "male"
          ],
          [
           "female"
          ],
          [
           "female"
          ],
          [
           "female"
          ],
          [
           "male"
          ],
          [
           "female"
          ],
          [
           "male"
          ],
          [
           "male"
          ],
          [
           "male"
          ],
          [
           "female"
          ],
          [
           "female"
          ],
          [
           "female"
          ],
          [
           "male"
          ],
          [
           "female"
          ],
          [
           "male"
          ],
          [
           "female"
          ],
          [
           "female"
          ],
          [
           "female"
          ],
          [
           "female"
          ],
          [
           "male"
          ],
          [
           "male"
          ],
          [
           "male"
          ],
          [
           "female"
          ],
          [
           "female"
          ],
          [
           "female"
          ],
          [
           "female"
          ],
          [
           "female"
          ],
          [
           "female"
          ],
          [
           "female"
          ],
          [
           "female"
          ],
          [
           "male"
          ],
          [
           "male"
          ],
          [
           "male"
          ],
          [
           "male"
          ],
          [
           "female"
          ],
          [
           "female"
          ],
          [
           "male"
          ],
          [
           "female"
          ],
          [
           "female"
          ],
          [
           "female"
          ],
          [
           "female"
          ],
          [
           "female"
          ],
          [
           "male"
          ],
          [
           "male"
          ],
          [
           "male"
          ],
          [
           "female"
          ],
          [
           "male"
          ],
          [
           "female"
          ],
          [
           "female"
          ],
          [
           "female"
          ],
          [
           "male"
          ],
          [
           "male"
          ],
          [
           "female"
          ],
          [
           "male"
          ],
          [
           "female"
          ],
          [
           "male"
          ],
          [
           "female"
          ],
          [
           "male"
          ],
          [
           "male"
          ],
          [
           "female"
          ],
          [
           "female"
          ],
          [
           "female"
          ],
          [
           "male"
          ],
          [
           "female"
          ],
          [
           "female"
          ],
          [
           "female"
          ],
          [
           "male"
          ],
          [
           "female"
          ],
          [
           "male"
          ],
          [
           "male"
          ],
          [
           "male"
          ],
          [
           "female"
          ],
          [
           "female"
          ],
          [
           "male"
          ],
          [
           "female"
          ],
          [
           "female"
          ],
          [
           "female"
          ],
          [
           "female"
          ],
          [
           "female"
          ],
          [
           "female"
          ],
          [
           "female"
          ],
          [
           "male"
          ],
          [
           "male"
          ],
          [
           "male"
          ],
          [
           "male"
          ],
          [
           "male"
          ],
          [
           "male"
          ],
          [
           "female"
          ],
          [
           "female"
          ],
          [
           "female"
          ],
          [
           "female"
          ],
          [
           "female"
          ],
          [
           "female"
          ],
          [
           "female"
          ],
          [
           "female"
          ],
          [
           "female"
          ],
          [
           "female"
          ],
          [
           "female"
          ],
          [
           "female"
          ],
          [
           "male"
          ],
          [
           "female"
          ],
          [
           "female"
          ],
          [
           "male"
          ],
          [
           "female"
          ],
          [
           "male"
          ],
          [
           "female"
          ],
          [
           "female"
          ],
          [
           "male"
          ],
          [
           "female"
          ],
          [
           "male"
          ],
          [
           "female"
          ],
          [
           "female"
          ],
          [
           "female"
          ],
          [
           "female"
          ],
          [
           "male"
          ],
          [
           "male"
          ],
          [
           "male"
          ],
          [
           "female"
          ],
          [
           "female"
          ],
          [
           "male"
          ],
          [
           "male"
          ],
          [
           "female"
          ],
          [
           "female"
          ],
          [
           "male"
          ],
          [
           "female"
          ],
          [
           "female"
          ],
          [
           "female"
          ],
          [
           "female"
          ],
          [
           "female"
          ],
          [
           "female"
          ],
          [
           "female"
          ],
          [
           "female"
          ],
          [
           "female"
          ],
          [
           "female"
          ],
          [
           "female"
          ],
          [
           "female"
          ],
          [
           "male"
          ],
          [
           "female"
          ],
          [
           "female"
          ],
          [
           "male"
          ],
          [
           "female"
          ],
          [
           "female"
          ],
          [
           "female"
          ],
          [
           "female"
          ],
          [
           "female"
          ],
          [
           "male"
          ]
         ],
         "hovertemplate": "GPA cuantiles=Muy alto<br>GPA=%{x}<br>parental level of education=%{y}<br>gender=%{customdata[0]}<extra></extra>",
         "legendgroup": "Muy alto",
         "marker": {
          "color": "green",
          "symbol": "circle"
         },
         "mode": "markers",
         "name": "Muy alto",
         "orientation": "h",
         "showlegend": true,
         "type": "scatter",
         "x": [
          5.8,
          5.8,
          5.8,
          5.8,
          5.82,
          5.82,
          5.82,
          5.82,
          5.82,
          5.82,
          5.82,
          5.82,
          5.84,
          5.84,
          5.84,
          5.84,
          5.84,
          5.84,
          5.84,
          5.86,
          5.86,
          5.88,
          5.88,
          5.88,
          5.88,
          5.88,
          5.9,
          5.9,
          5.9,
          5.9,
          5.92,
          5.92,
          5.92,
          5.94,
          5.94,
          5.94,
          5.94,
          5.94,
          5.94,
          5.94,
          5.94,
          5.94,
          5.94,
          5.94,
          5.96,
          5.96,
          5.96,
          5.96,
          5.96,
          5.96,
          5.98,
          5.98,
          5.98,
          5.98,
          5.98,
          5.98,
          5.98,
          5.98,
          5.98,
          6,
          6,
          6,
          6,
          6,
          6.02,
          6.02,
          6.02,
          6.02,
          6.04,
          6.04,
          6.04,
          6.04,
          6.04,
          6.04,
          6.04,
          6.04,
          6.06,
          6.06,
          6.08,
          6.08,
          6.08,
          6.08,
          6.1,
          6.1,
          6.1,
          6.1,
          6.12,
          6.12,
          6.12,
          6.12,
          6.14,
          6.14,
          6.14,
          6.14,
          6.14,
          6.14,
          6.16,
          6.16,
          6.16,
          6.16,
          6.18,
          6.18,
          6.18,
          6.18,
          6.18,
          6.18,
          6.2,
          6.2,
          6.2,
          6.2,
          6.22,
          6.22,
          6.22,
          6.22,
          6.22,
          6.22,
          6.24,
          6.24,
          6.24,
          6.24,
          6.24,
          6.26,
          6.26,
          6.28,
          6.28,
          6.3,
          6.3,
          6.3,
          6.3,
          6.3,
          6.32,
          6.32,
          6.32,
          6.32,
          6.32,
          6.34,
          6.34,
          6.34,
          6.34,
          6.34,
          6.36,
          6.36,
          6.36,
          6.36,
          6.38,
          6.38,
          6.4,
          6.4,
          6.42,
          6.42,
          6.42,
          6.44,
          6.46,
          6.48,
          6.48,
          6.48,
          6.5,
          6.5,
          6.5,
          6.5,
          6.5,
          6.5,
          6.52,
          6.52,
          6.54,
          6.56,
          6.56,
          6.56,
          6.58,
          6.6,
          6.6,
          6.62,
          6.64,
          6.64,
          6.64,
          6.64,
          6.74,
          6.74,
          6.76,
          6.78,
          6.78,
          6.78,
          6.8,
          6.82,
          6.82,
          6.84,
          6.84,
          6.86,
          6.86,
          6.86,
          6.92,
          6.92,
          6.94,
          6.94,
          6.98,
          7,
          7,
          7
         ],
         "xaxis": "x",
         "y": [
          "high school",
          "some college",
          "some college",
          "high school",
          "high school",
          "some high school",
          "associate's degree",
          "associate's degree",
          "some college",
          "some high school",
          "some high school",
          "associate's degree",
          "bachelor's degree",
          "high school",
          "some high school",
          "some high school",
          "some college",
          "some high school",
          "bachelor's degree",
          "associate's degree",
          "high school",
          "some high school",
          "associate's degree",
          "associate's degree",
          "associate's degree",
          "high school",
          "associate's degree",
          "some high school",
          "some college",
          "associate's degree",
          "some college",
          "master's degree",
          "bachelor's degree",
          "some high school",
          "high school",
          "some college",
          "some college",
          "some college",
          "associate's degree",
          "high school",
          "some high school",
          "some college",
          "some college",
          "some high school",
          "some high school",
          "high school",
          "high school",
          "some high school",
          "some college",
          "high school",
          "bachelor's degree",
          "some college",
          "some college",
          "bachelor's degree",
          "bachelor's degree",
          "associate's degree",
          "associate's degree",
          "high school",
          "bachelor's degree",
          "some high school",
          "some high school",
          "high school",
          "some high school",
          "master's degree",
          "some college",
          "associate's degree",
          "bachelor's degree",
          "master's degree",
          "some high school",
          "some high school",
          "bachelor's degree",
          "associate's degree",
          "some college",
          "some college",
          "some high school",
          "associate's degree",
          "associate's degree",
          "associate's degree",
          "some college",
          "some college",
          "some college",
          "master's degree",
          "master's degree",
          "high school",
          "associate's degree",
          "bachelor's degree",
          "some high school",
          "some college",
          "associate's degree",
          "some college",
          "some college",
          "associate's degree",
          "associate's degree",
          "bachelor's degree",
          "some college",
          "some high school",
          "master's degree",
          "some college",
          "bachelor's degree",
          "associate's degree",
          "master's degree",
          "some college",
          "high school",
          "master's degree",
          "bachelor's degree",
          "some high school",
          "some high school",
          "master's degree",
          "bachelor's degree",
          "some high school",
          "master's degree",
          "associate's degree",
          "bachelor's degree",
          "associate's degree",
          "associate's degree",
          "high school",
          "some college",
          "some college",
          "associate's degree",
          "associate's degree",
          "associate's degree",
          "high school",
          "master's degree",
          "master's degree",
          "associate's degree",
          "bachelor's degree",
          "associate's degree",
          "bachelor's degree",
          "some college",
          "master's degree",
          "associate's degree",
          "bachelor's degree",
          "some college",
          "some college",
          "some college",
          "associate's degree",
          "some high school",
          "some college",
          "some college",
          "some high school",
          "associate's degree",
          "associate's degree",
          "master's degree",
          "high school",
          "associate's degree",
          "some college",
          "some high school",
          "some college",
          "associate's degree",
          "associate's degree",
          "bachelor's degree",
          "associate's degree",
          "associate's degree",
          "some college",
          "some college",
          "some high school",
          "bachelor's degree",
          "some college",
          "associate's degree",
          "associate's degree",
          "some college",
          "associate's degree",
          "associate's degree",
          "associate's degree",
          "some college",
          "master's degree",
          "bachelor's degree",
          "some college",
          "bachelor's degree",
          "associate's degree",
          "master's degree",
          "associate's degree",
          "associate's degree",
          "master's degree",
          "high school",
          "some college",
          "high school",
          "master's degree",
          "associate's degree",
          "bachelor's degree",
          "some college",
          "some high school",
          "bachelor's degree",
          "associate's degree",
          "bachelor's degree",
          "bachelor's degree",
          "master's degree",
          "bachelor's degree",
          "associate's degree",
          "master's degree",
          "bachelor's degree",
          "some college",
          "some college",
          "some high school",
          "bachelor's degree",
          "bachelor's degree",
          "associate's degree",
          "bachelor's degree"
         ],
         "yaxis": "y"
        }
       ],
       "layout": {
        "autosize": true,
        "legend": {
         "title": {
          "text": "GPA cuantiles"
         },
         "tracegroupgap": 0
        },
        "template": {
         "data": {
          "bar": [
           {
            "error_x": {
             "color": "#2a3f5f"
            },
            "error_y": {
             "color": "#2a3f5f"
            },
            "marker": {
             "line": {
              "color": "#E5ECF6",
              "width": 0.5
             },
             "pattern": {
              "fillmode": "overlay",
              "size": 10,
              "solidity": 0.2
             }
            },
            "type": "bar"
           }
          ],
          "barpolar": [
           {
            "marker": {
             "line": {
              "color": "#E5ECF6",
              "width": 0.5
             },
             "pattern": {
              "fillmode": "overlay",
              "size": 10,
              "solidity": 0.2
             }
            },
            "type": "barpolar"
           }
          ],
          "carpet": [
           {
            "aaxis": {
             "endlinecolor": "#2a3f5f",
             "gridcolor": "white",
             "linecolor": "white",
             "minorgridcolor": "white",
             "startlinecolor": "#2a3f5f"
            },
            "baxis": {
             "endlinecolor": "#2a3f5f",
             "gridcolor": "white",
             "linecolor": "white",
             "minorgridcolor": "white",
             "startlinecolor": "#2a3f5f"
            },
            "type": "carpet"
           }
          ],
          "choropleth": [
           {
            "colorbar": {
             "outlinewidth": 0,
             "ticks": ""
            },
            "type": "choropleth"
           }
          ],
          "contour": [
           {
            "colorbar": {
             "outlinewidth": 0,
             "ticks": ""
            },
            "colorscale": [
             [
              0,
              "#0d0887"
             ],
             [
              0.1111111111111111,
              "#46039f"
             ],
             [
              0.2222222222222222,
              "#7201a8"
             ],
             [
              0.3333333333333333,
              "#9c179e"
             ],
             [
              0.4444444444444444,
              "#bd3786"
             ],
             [
              0.5555555555555556,
              "#d8576b"
             ],
             [
              0.6666666666666666,
              "#ed7953"
             ],
             [
              0.7777777777777778,
              "#fb9f3a"
             ],
             [
              0.8888888888888888,
              "#fdca26"
             ],
             [
              1,
              "#f0f921"
             ]
            ],
            "type": "contour"
           }
          ],
          "contourcarpet": [
           {
            "colorbar": {
             "outlinewidth": 0,
             "ticks": ""
            },
            "type": "contourcarpet"
           }
          ],
          "heatmap": [
           {
            "colorbar": {
             "outlinewidth": 0,
             "ticks": ""
            },
            "colorscale": [
             [
              0,
              "#0d0887"
             ],
             [
              0.1111111111111111,
              "#46039f"
             ],
             [
              0.2222222222222222,
              "#7201a8"
             ],
             [
              0.3333333333333333,
              "#9c179e"
             ],
             [
              0.4444444444444444,
              "#bd3786"
             ],
             [
              0.5555555555555556,
              "#d8576b"
             ],
             [
              0.6666666666666666,
              "#ed7953"
             ],
             [
              0.7777777777777778,
              "#fb9f3a"
             ],
             [
              0.8888888888888888,
              "#fdca26"
             ],
             [
              1,
              "#f0f921"
             ]
            ],
            "type": "heatmap"
           }
          ],
          "heatmapgl": [
           {
            "colorbar": {
             "outlinewidth": 0,
             "ticks": ""
            },
            "colorscale": [
             [
              0,
              "#0d0887"
             ],
             [
              0.1111111111111111,
              "#46039f"
             ],
             [
              0.2222222222222222,
              "#7201a8"
             ],
             [
              0.3333333333333333,
              "#9c179e"
             ],
             [
              0.4444444444444444,
              "#bd3786"
             ],
             [
              0.5555555555555556,
              "#d8576b"
             ],
             [
              0.6666666666666666,
              "#ed7953"
             ],
             [
              0.7777777777777778,
              "#fb9f3a"
             ],
             [
              0.8888888888888888,
              "#fdca26"
             ],
             [
              1,
              "#f0f921"
             ]
            ],
            "type": "heatmapgl"
           }
          ],
          "histogram": [
           {
            "marker": {
             "pattern": {
              "fillmode": "overlay",
              "size": 10,
              "solidity": 0.2
             }
            },
            "type": "histogram"
           }
          ],
          "histogram2d": [
           {
            "colorbar": {
             "outlinewidth": 0,
             "ticks": ""
            },
            "colorscale": [
             [
              0,
              "#0d0887"
             ],
             [
              0.1111111111111111,
              "#46039f"
             ],
             [
              0.2222222222222222,
              "#7201a8"
             ],
             [
              0.3333333333333333,
              "#9c179e"
             ],
             [
              0.4444444444444444,
              "#bd3786"
             ],
             [
              0.5555555555555556,
              "#d8576b"
             ],
             [
              0.6666666666666666,
              "#ed7953"
             ],
             [
              0.7777777777777778,
              "#fb9f3a"
             ],
             [
              0.8888888888888888,
              "#fdca26"
             ],
             [
              1,
              "#f0f921"
             ]
            ],
            "type": "histogram2d"
           }
          ],
          "histogram2dcontour": [
           {
            "colorbar": {
             "outlinewidth": 0,
             "ticks": ""
            },
            "colorscale": [
             [
              0,
              "#0d0887"
             ],
             [
              0.1111111111111111,
              "#46039f"
             ],
             [
              0.2222222222222222,
              "#7201a8"
             ],
             [
              0.3333333333333333,
              "#9c179e"
             ],
             [
              0.4444444444444444,
              "#bd3786"
             ],
             [
              0.5555555555555556,
              "#d8576b"
             ],
             [
              0.6666666666666666,
              "#ed7953"
             ],
             [
              0.7777777777777778,
              "#fb9f3a"
             ],
             [
              0.8888888888888888,
              "#fdca26"
             ],
             [
              1,
              "#f0f921"
             ]
            ],
            "type": "histogram2dcontour"
           }
          ],
          "mesh3d": [
           {
            "colorbar": {
             "outlinewidth": 0,
             "ticks": ""
            },
            "type": "mesh3d"
           }
          ],
          "parcoords": [
           {
            "line": {
             "colorbar": {
              "outlinewidth": 0,
              "ticks": ""
             }
            },
            "type": "parcoords"
           }
          ],
          "pie": [
           {
            "automargin": true,
            "type": "pie"
           }
          ],
          "scatter": [
           {
            "fillpattern": {
             "fillmode": "overlay",
             "size": 10,
             "solidity": 0.2
            },
            "type": "scatter"
           }
          ],
          "scatter3d": [
           {
            "line": {
             "colorbar": {
              "outlinewidth": 0,
              "ticks": ""
             }
            },
            "marker": {
             "colorbar": {
              "outlinewidth": 0,
              "ticks": ""
             }
            },
            "type": "scatter3d"
           }
          ],
          "scattercarpet": [
           {
            "marker": {
             "colorbar": {
              "outlinewidth": 0,
              "ticks": ""
             }
            },
            "type": "scattercarpet"
           }
          ],
          "scattergeo": [
           {
            "marker": {
             "colorbar": {
              "outlinewidth": 0,
              "ticks": ""
             }
            },
            "type": "scattergeo"
           }
          ],
          "scattergl": [
           {
            "marker": {
             "colorbar": {
              "outlinewidth": 0,
              "ticks": ""
             }
            },
            "type": "scattergl"
           }
          ],
          "scattermapbox": [
           {
            "marker": {
             "colorbar": {
              "outlinewidth": 0,
              "ticks": ""
             }
            },
            "type": "scattermapbox"
           }
          ],
          "scatterpolar": [
           {
            "marker": {
             "colorbar": {
              "outlinewidth": 0,
              "ticks": ""
             }
            },
            "type": "scatterpolar"
           }
          ],
          "scatterpolargl": [
           {
            "marker": {
             "colorbar": {
              "outlinewidth": 0,
              "ticks": ""
             }
            },
            "type": "scatterpolargl"
           }
          ],
          "scatterternary": [
           {
            "marker": {
             "colorbar": {
              "outlinewidth": 0,
              "ticks": ""
             }
            },
            "type": "scatterternary"
           }
          ],
          "surface": [
           {
            "colorbar": {
             "outlinewidth": 0,
             "ticks": ""
            },
            "colorscale": [
             [
              0,
              "#0d0887"
             ],
             [
              0.1111111111111111,
              "#46039f"
             ],
             [
              0.2222222222222222,
              "#7201a8"
             ],
             [
              0.3333333333333333,
              "#9c179e"
             ],
             [
              0.4444444444444444,
              "#bd3786"
             ],
             [
              0.5555555555555556,
              "#d8576b"
             ],
             [
              0.6666666666666666,
              "#ed7953"
             ],
             [
              0.7777777777777778,
              "#fb9f3a"
             ],
             [
              0.8888888888888888,
              "#fdca26"
             ],
             [
              1,
              "#f0f921"
             ]
            ],
            "type": "surface"
           }
          ],
          "table": [
           {
            "cells": {
             "fill": {
              "color": "#EBF0F8"
             },
             "line": {
              "color": "white"
             }
            },
            "header": {
             "fill": {
              "color": "#C8D4E3"
             },
             "line": {
              "color": "white"
             }
            },
            "type": "table"
           }
          ]
         },
         "layout": {
          "annotationdefaults": {
           "arrowcolor": "#2a3f5f",
           "arrowhead": 0,
           "arrowwidth": 1
          },
          "autotypenumbers": "strict",
          "coloraxis": {
           "colorbar": {
            "outlinewidth": 0,
            "ticks": ""
           }
          },
          "colorscale": {
           "diverging": [
            [
             0,
             "#8e0152"
            ],
            [
             0.1,
             "#c51b7d"
            ],
            [
             0.2,
             "#de77ae"
            ],
            [
             0.3,
             "#f1b6da"
            ],
            [
             0.4,
             "#fde0ef"
            ],
            [
             0.5,
             "#f7f7f7"
            ],
            [
             0.6,
             "#e6f5d0"
            ],
            [
             0.7,
             "#b8e186"
            ],
            [
             0.8,
             "#7fbc41"
            ],
            [
             0.9,
             "#4d9221"
            ],
            [
             1,
             "#276419"
            ]
           ],
           "sequential": [
            [
             0,
             "#0d0887"
            ],
            [
             0.1111111111111111,
             "#46039f"
            ],
            [
             0.2222222222222222,
             "#7201a8"
            ],
            [
             0.3333333333333333,
             "#9c179e"
            ],
            [
             0.4444444444444444,
             "#bd3786"
            ],
            [
             0.5555555555555556,
             "#d8576b"
            ],
            [
             0.6666666666666666,
             "#ed7953"
            ],
            [
             0.7777777777777778,
             "#fb9f3a"
            ],
            [
             0.8888888888888888,
             "#fdca26"
            ],
            [
             1,
             "#f0f921"
            ]
           ],
           "sequentialminus": [
            [
             0,
             "#0d0887"
            ],
            [
             0.1111111111111111,
             "#46039f"
            ],
            [
             0.2222222222222222,
             "#7201a8"
            ],
            [
             0.3333333333333333,
             "#9c179e"
            ],
            [
             0.4444444444444444,
             "#bd3786"
            ],
            [
             0.5555555555555556,
             "#d8576b"
            ],
            [
             0.6666666666666666,
             "#ed7953"
            ],
            [
             0.7777777777777778,
             "#fb9f3a"
            ],
            [
             0.8888888888888888,
             "#fdca26"
            ],
            [
             1,
             "#f0f921"
            ]
           ]
          },
          "colorway": [
           "#636efa",
           "#EF553B",
           "#00cc96",
           "#ab63fa",
           "#FFA15A",
           "#19d3f3",
           "#FF6692",
           "#B6E880",
           "#FF97FF",
           "#FECB52"
          ],
          "font": {
           "color": "#2a3f5f"
          },
          "geo": {
           "bgcolor": "white",
           "lakecolor": "white",
           "landcolor": "#E5ECF6",
           "showlakes": true,
           "showland": true,
           "subunitcolor": "white"
          },
          "hoverlabel": {
           "align": "left"
          },
          "hovermode": "closest",
          "mapbox": {
           "style": "light"
          },
          "paper_bgcolor": "white",
          "plot_bgcolor": "#E5ECF6",
          "polar": {
           "angularaxis": {
            "gridcolor": "white",
            "linecolor": "white",
            "ticks": ""
           },
           "bgcolor": "#E5ECF6",
           "radialaxis": {
            "gridcolor": "white",
            "linecolor": "white",
            "ticks": ""
           }
          },
          "scene": {
           "xaxis": {
            "backgroundcolor": "#E5ECF6",
            "gridcolor": "white",
            "gridwidth": 2,
            "linecolor": "white",
            "showbackground": true,
            "ticks": "",
            "zerolinecolor": "white"
           },
           "yaxis": {
            "backgroundcolor": "#E5ECF6",
            "gridcolor": "white",
            "gridwidth": 2,
            "linecolor": "white",
            "showbackground": true,
            "ticks": "",
            "zerolinecolor": "white"
           },
           "zaxis": {
            "backgroundcolor": "#E5ECF6",
            "gridcolor": "white",
            "gridwidth": 2,
            "linecolor": "white",
            "showbackground": true,
            "ticks": "",
            "zerolinecolor": "white"
           }
          },
          "shapedefaults": {
           "line": {
            "color": "#2a3f5f"
           }
          },
          "ternary": {
           "aaxis": {
            "gridcolor": "white",
            "linecolor": "white",
            "ticks": ""
           },
           "baxis": {
            "gridcolor": "white",
            "linecolor": "white",
            "ticks": ""
           },
           "bgcolor": "#E5ECF6",
           "caxis": {
            "gridcolor": "white",
            "linecolor": "white",
            "ticks": ""
           }
          },
          "title": {
           "x": 0.05
          },
          "xaxis": {
           "automargin": true,
           "gridcolor": "white",
           "linecolor": "white",
           "ticks": "",
           "title": {
            "standoff": 15
           },
           "zerolinecolor": "white",
           "zerolinewidth": 2
          },
          "yaxis": {
           "automargin": true,
           "gridcolor": "white",
           "linecolor": "white",
           "ticks": "",
           "title": {
            "standoff": 15
           },
           "zerolinecolor": "white",
           "zerolinewidth": 2
          }
         }
        },
        "title": {
         "text": "GPA por Nivel de educación de los padres"
        },
        "xaxis": {
         "anchor": "y",
         "autorange": true,
         "domain": [
          0,
          1
         ],
         "range": [
          1.2046964586846542,
          7.335303541315346
         ],
         "title": {
          "text": "GPA"
         },
         "type": "linear"
        },
        "yaxis": {
         "anchor": "x",
         "autorange": true,
         "domain": [
          0,
          1
         ],
         "range": [
          -0.41262135922330095,
          5.412621359223301
         ],
         "title": {
          "text": "parental level of education"
         },
         "type": "category"
        }
       }
      },
      "image/png": "[encoded data removed]",
      "text/html": [
       "<div>                            <div id=\"cc90f2db-3a33-4396-8bc0-17438ced77bf\" class=\"plotly-graph-div\" style=\"height:525px; width:100%;\"></div>            <script type=\"text/javascript\">                require([\"plotly\"], function(Plotly) {                    window.PLOTLYENV=window.PLOTLYENV || {};                                    if (document.getElementById(\"cc90f2db-3a33-4396-8bc0-17438ced77bf\")) {                    Plotly.newPlot(                        \"cc90f2db-3a33-4396-8bc0-17438ced77bf\",                        [{\"customdata\":[[\"female\"],[\"female\"],[\"male\"],[\"male\"],[\"female\"],[\"male\"],[\"female\"],[\"female\"],[\"female\"],[\"male\"],[\"male\"],[\"female\"],[\"female\"],[\"female\"],[\"male\"],[\"female\"],[\"female\"],[\"female\"],[\"male\"],[\"female\"],[\"male\"],[\"male\"],[\"female\"],[\"male\"],[\"female\"],[\"female\"],[\"male\"],[\"male\"],[\"male\"],[\"male\"],[\"male\"],[\"female\"],[\"male\"],[\"female\"],[\"female\"],[\"male\"],[\"female\"],[\"female\"],[\"female\"],[\"male\"],[\"female\"],[\"male\"],[\"male\"],[\"female\"],[\"male\"],[\"male\"],[\"male\"],[\"female\"],[\"female\"],[\"male\"],[\"male\"],[\"male\"],[\"female\"],[\"female\"],[\"male\"],[\"male\"],[\"male\"],[\"male\"],[\"female\"],[\"female\"],[\"male\"],[\"male\"],[\"male\"],[\"male\"],[\"male\"],[\"male\"],[\"male\"],[\"male\"],[\"male\"],[\"male\"],[\"female\"],[\"male\"],[\"male\"],[\"male\"],[\"male\"],[\"male\"],[\"male\"],[\"male\"],[\"male\"],[\"male\"],[\"male\"],[\"male\"],[\"female\"],[\"male\"],[\"male\"],[\"female\"],[\"male\"],[\"male\"],[\"male\"],[\"female\"],[\"male\"],[\"male\"],[\"female\"],[\"male\"],[\"male\"],[\"female\"],[\"male\"],[\"female\"],[\"female\"],[\"male\"],[\"male\"],[\"male\"],[\"female\"],[\"female\"],[\"female\"],[\"female\"],[\"female\"],[\"female\"],[\"male\"],[\"male\"],[\"male\"],[\"female\"],[\"male\"],[\"male\"],[\"male\"],[\"female\"],[\"male\"],[\"male\"],[\"female\"],[\"male\"],[\"male\"],[\"female\"],[\"male\"],[\"male\"],[\"female\"],[\"female\"],[\"female\"],[\"male\"],[\"male\"],[\"male\"],[\"male\"],[\"male\"],[\"female\"],[\"female\"],[\"female\"],[\"male\"],[\"female\"],[\"male\"],[\"female\"],[\"male\"],[\"male\"],[\"male\"],[\"female\"],[\"female\"],[\"male\"],[\"male\"],[\"female\"],[\"male\"],[\"male\"],[\"male\"],[\"male\"],[\"female\"],[\"female\"],[\"female\"],[\"female\"],[\"male\"],[\"male\"],[\"female\"],[\"female\"],[\"male\"],[\"female\"],[\"male\"],[\"female\"],[\"female\"],[\"female\"],[\"male\"],[\"female\"],[\"male\"],[\"female\"],[\"female\"],[\"male\"],[\"female\"],[\"male\"],[\"female\"],[\"male\"],[\"female\"],[\"male\"],[\"female\"],[\"female\"],[\"male\"],[\"female\"],[\"male\"],[\"male\"],[\"male\"],[\"male\"],[\"male\"],[\"female\"],[\"female\"],[\"male\"],[\"male\"],[\"male\"],[\"female\"],[\"male\"],[\"female\"],[\"female\"],[\"male\"],[\"male\"],[\"male\"],[\"female\"],[\"male\"],[\"female\"],[\"male\"],[\"female\"],[\"male\"],[\"male\"]],\"hovertemplate\":\"GPA cuantiles=Baj\\u00edsimo\\u003cbr\\u003eGPA=%{x}\\u003cbr\\u003eparental level of education=%{y}\\u003cbr\\u003egender=%{customdata[0]}\\u003cextra\\u003e\\u003c\\u002fextra\\u003e\",\"legendgroup\":\"Baj\\u00edsimo\",\"marker\":{\"color\":\"tomato\",\"symbol\":\"circle\"},\"mode\":\"markers\",\"name\":\"Baj\\u00edsimo\",\"orientation\":\"h\",\"showlegend\":true,\"x\":[1.54,2.1,2.38,2.4,2.56,2.56,2.76,2.78,2.78,2.8,2.84,2.86,2.88,2.9,2.94,3.06,3.08,3.08,3.24,3.26,3.28,3.3,3.3,3.32,3.34,3.34,3.36,3.38,3.38,3.38,3.4,3.4,3.44,3.44,3.46,3.46,3.48,3.52,3.54,3.58,3.58,3.6,3.6,3.6,3.6,3.62,3.62,3.64,3.64,3.66,3.68,3.68,3.68,3.68,3.7,3.7,3.72,3.72,3.74,3.76,3.76,3.76,3.78,3.78,3.78,3.78,3.78,3.8,3.8,3.8,3.8,3.82,3.84,3.84,3.86,3.86,3.88,3.88,3.88,3.88,3.9,3.9,3.9,3.9,3.9,3.9,3.92,3.92,3.92,3.92,3.94,3.94,3.94,3.94,3.94,3.94,3.96,3.96,3.96,3.96,3.98,3.98,3.98,4.0,4.0,4.0,4.0,4.0,4.0,4.02,4.02,4.02,4.02,4.02,4.02,4.02,4.02,4.04,4.04,4.04,4.06,4.06,4.06,4.06,4.06,4.08,4.08,4.08,4.08,4.08,4.08,4.1,4.1,4.1,4.1,4.1,4.1,4.1,4.1,4.1,4.1,4.12,4.12,4.12,4.12,4.12,4.14,4.14,4.14,4.14,4.14,4.16,4.16,4.16,4.16,4.16,4.16,4.16,4.18,4.18,4.2,4.2,4.2,4.2,4.22,4.22,4.22,4.22,4.22,4.22,4.22,4.24,4.24,4.24,4.24,4.24,4.24,4.26,4.26,4.26,4.26,4.26,4.28,4.28,4.28,4.28,4.28,4.28,4.28,4.28,4.28,4.3,4.3,4.32,4.32,4.32,4.32,4.32,4.34,4.34,4.34,4.34,4.34,4.34,4.34],\"xaxis\":\"x\",\"y\":[\"some high school\",\"high school\",\"high school\",\"some college\",\"some high school\",\"some high school\",\"high school\",\"some high school\",\"some college\",\"some college\",\"high school\",\"some high school\",\"some college\",\"associate's degree\",\"high school\",\"high school\",\"some high school\",\"some college\",\"some high school\",\"some high school\",\"some college\",\"high school\",\"high school\",\"high school\",\"bachelor's degree\",\"high school\",\"some high school\",\"associate's degree\",\"bachelor's degree\",\"some high school\",\"some college\",\"bachelor's degree\",\"some college\",\"some college\",\"high school\",\"associate's degree\",\"some high school\",\"high school\",\"some high school\",\"some college\",\"some high school\",\"some high school\",\"associate's degree\",\"high school\",\"some high school\",\"some college\",\"associate's degree\",\"high school\",\"some high school\",\"associate's degree\",\"master's degree\",\"high school\",\"some high school\",\"high school\",\"high school\",\"associate's degree\",\"associate's degree\",\"high school\",\"high school\",\"associate's degree\",\"associate's degree\",\"associate's degree\",\"some high school\",\"some college\",\"some college\",\"high school\",\"high school\",\"bachelor's degree\",\"high school\",\"bachelor's degree\",\"associate's degree\",\"high school\",\"some high school\",\"some college\",\"high school\",\"associate's degree\",\"associate's degree\",\"high school\",\"some high school\",\"high school\",\"some high school\",\"bachelor's degree\",\"high school\",\"some high school\",\"bachelor's degree\",\"some high school\",\"some high school\",\"some high school\",\"some high school\",\"associate's degree\",\"high school\",\"high school\",\"high school\",\"some high school\",\"high school\",\"some high school\",\"associate's degree\",\"bachelor's degree\",\"high school\",\"associate's degree\",\"high school\",\"some college\",\"some high school\",\"associate's degree\",\"some high school\",\"high school\",\"some high school\",\"associate's degree\",\"bachelor's degree\",\"some college\",\"associate's degree\",\"some college\",\"some college\",\"some college\",\"some high school\",\"bachelor's degree\",\"high school\",\"some college\",\"master's degree\",\"some college\",\"some college\",\"master's degree\",\"some college\",\"some college\",\"some college\",\"some college\",\"some high school\",\"master's degree\",\"associate's degree\",\"high school\",\"high school\",\"some high school\",\"some high school\",\"associate's degree\",\"some high school\",\"high school\",\"master's degree\",\"high school\",\"associate's degree\",\"associate's degree\",\"associate's degree\",\"associate's degree\",\"some high school\",\"associate's degree\",\"some college\",\"high school\",\"high school\",\"some college\",\"high school\",\"some college\",\"some high school\",\"high school\",\"high school\",\"high school\",\"associate's degree\",\"high school\",\"high school\",\"some high school\",\"associate's degree\",\"associate's degree\",\"associate's degree\",\"some high school\",\"some high school\",\"associate's degree\",\"associate's degree\",\"high school\",\"master's degree\",\"high school\",\"associate's degree\",\"associate's degree\",\"bachelor's degree\",\"some high school\",\"high school\",\"associate's degree\",\"high school\",\"some college\",\"some high school\",\"some college\",\"high school\",\"some high school\",\"high school\",\"master's degree\",\"high school\",\"high school\",\"bachelor's degree\",\"some college\",\"associate's degree\",\"high school\",\"some college\",\"high school\",\"associate's degree\",\"high school\",\"some college\",\"some high school\",\"bachelor's degree\",\"high school\",\"bachelor's degree\",\"associate's degree\",\"associate's degree\",\"associate's degree\",\"high school\",\"high school\",\"some college\",\"bachelor's degree\",\"associate's degree\"],\"yaxis\":\"y\",\"type\":\"scatter\"},{\"customdata\":[[\"male\"],[\"male\"],[\"male\"],[\"female\"],[\"male\"],[\"male\"],[\"female\"],[\"female\"],[\"female\"],[\"female\"],[\"female\"],[\"female\"],[\"female\"],[\"male\"],[\"female\"],[\"male\"],[\"female\"],[\"male\"],[\"female\"],[\"male\"],[\"male\"],[\"male\"],[\"female\"],[\"male\"],[\"male\"],[\"male\"],[\"male\"],[\"female\"],[\"male\"],[\"male\"],[\"male\"],[\"female\"],[\"male\"],[\"male\"],[\"male\"],[\"female\"],[\"female\"],[\"female\"],[\"male\"],[\"female\"],[\"male\"],[\"male\"],[\"female\"],[\"male\"],[\"male\"],[\"female\"],[\"female\"],[\"male\"],[\"female\"],[\"male\"],[\"male\"],[\"female\"],[\"female\"],[\"male\"],[\"female\"],[\"female\"],[\"female\"],[\"male\"],[\"male\"],[\"male\"],[\"male\"],[\"male\"],[\"male\"],[\"female\"],[\"female\"],[\"male\"],[\"female\"],[\"male\"],[\"male\"],[\"female\"],[\"male\"],[\"male\"],[\"male\"],[\"female\"],[\"female\"],[\"female\"],[\"female\"],[\"female\"],[\"female\"],[\"female\"],[\"female\"],[\"male\"],[\"male\"],[\"female\"],[\"male\"],[\"female\"],[\"female\"],[\"male\"],[\"male\"],[\"male\"],[\"female\"],[\"male\"],[\"male\"],[\"male\"],[\"male\"],[\"male\"],[\"female\"],[\"male\"],[\"female\"],[\"male\"],[\"female\"],[\"male\"],[\"male\"],[\"male\"],[\"male\"],[\"female\"],[\"male\"],[\"female\"],[\"male\"],[\"male\"],[\"male\"],[\"female\"],[\"female\"],[\"female\"],[\"male\"],[\"female\"],[\"male\"],[\"male\"],[\"female\"],[\"female\"],[\"male\"],[\"male\"],[\"female\"],[\"male\"],[\"male\"],[\"female\"],[\"female\"],[\"male\"],[\"male\"],[\"female\"],[\"female\"],[\"female\"],[\"male\"],[\"female\"],[\"female\"],[\"male\"],[\"female\"],[\"male\"],[\"female\"],[\"female\"],[\"male\"],[\"male\"],[\"male\"],[\"female\"],[\"male\"],[\"female\"],[\"female\"],[\"male\"],[\"female\"],[\"male\"],[\"male\"],[\"female\"],[\"female\"],[\"female\"],[\"male\"],[\"female\"],[\"female\"],[\"male\"],[\"male\"],[\"female\"],[\"male\"],[\"female\"],[\"female\"],[\"male\"],[\"male\"],[\"female\"],[\"female\"],[\"male\"],[\"female\"],[\"male\"],[\"female\"],[\"male\"],[\"male\"],[\"male\"],[\"male\"],[\"male\"],[\"male\"],[\"female\"],[\"female\"],[\"male\"],[\"male\"],[\"female\"],[\"female\"],[\"female\"],[\"male\"],[\"male\"],[\"female\"],[\"female\"],[\"female\"],[\"female\"],[\"female\"],[\"male\"],[\"male\"],[\"female\"],[\"female\"],[\"male\"],[\"male\"],[\"female\"],[\"female\"],[\"male\"],[\"female\"],[\"female\"],[\"male\"]],\"hovertemplate\":\"GPA cuantiles=Bajo\\u003cbr\\u003eGPA=%{x}\\u003cbr\\u003eparental level of education=%{y}\\u003cbr\\u003egender=%{customdata[0]}\\u003cextra\\u003e\\u003c\\u002fextra\\u003e\",\"legendgroup\":\"Bajo\",\"marker\":{\"color\":\"orange\",\"symbol\":\"circle\"},\"mode\":\"markers\",\"name\":\"Bajo\",\"orientation\":\"h\",\"showlegend\":true,\"x\":[4.36,4.36,4.36,4.36,4.36,4.36,4.36,4.36,4.36,4.36,4.38,4.38,4.38,4.38,4.38,4.38,4.4,4.4,4.4,4.4,4.42,4.42,4.42,4.42,4.44,4.44,4.44,4.44,4.44,4.44,4.44,4.44,4.46,4.46,4.46,4.46,4.46,4.46,4.46,4.46,4.48,4.48,4.5,4.5,4.5,4.5,4.5,4.5,4.5,4.5,4.5,4.52,4.52,4.52,4.52,4.52,4.52,4.52,4.52,4.52,4.54,4.54,4.54,4.54,4.54,4.54,4.54,4.54,4.54,4.56,4.56,4.56,4.56,4.56,4.56,4.58,4.58,4.58,4.58,4.58,4.6,4.6,4.6,4.6,4.6,4.6,4.6,4.6,4.62,4.62,4.62,4.62,4.62,4.62,4.62,4.62,4.64,4.64,4.64,4.64,4.64,4.64,4.64,4.66,4.66,4.66,4.66,4.66,4.66,4.68,4.68,4.68,4.68,4.68,4.68,4.68,4.68,4.68,4.7,4.7,4.7,4.7,4.7,4.7,4.7,4.72,4.72,4.72,4.72,4.72,4.72,4.74,4.74,4.74,4.74,4.74,4.74,4.74,4.74,4.76,4.76,4.76,4.76,4.78,4.78,4.78,4.78,4.78,4.78,4.78,4.8,4.8,4.8,4.8,4.8,4.82,4.82,4.82,4.82,4.82,4.82,4.82,4.82,4.82,4.84,4.84,4.84,4.84,4.84,4.84,4.84,4.84,4.84,4.86,4.86,4.86,4.86,4.86,4.86,4.86,4.86,4.86,4.86,4.88,4.88,4.88,4.88,4.88,4.88,4.88,4.88,4.88,4.88,4.88,4.9,4.9,4.9,4.9,4.9,4.9,4.9,4.9,4.9],\"xaxis\":\"x\",\"y\":[\"associate's degree\",\"high school\",\"associate's degree\",\"some college\",\"high school\",\"bachelor's degree\",\"some college\",\"associate's degree\",\"some high school\",\"bachelor's degree\",\"some college\",\"bachelor's degree\",\"bachelor's degree\",\"some college\",\"some high school\",\"associate's degree\",\"some high school\",\"associate's degree\",\"high school\",\"associate's degree\",\"high school\",\"high school\",\"some college\",\"associate's degree\",\"high school\",\"high school\",\"some college\",\"high school\",\"some college\",\"associate's degree\",\"some high school\",\"master's degree\",\"some high school\",\"some high school\",\"some high school\",\"associate's degree\",\"associate's degree\",\"associate's degree\",\"some high school\",\"some high school\",\"some high school\",\"some high school\",\"bachelor's degree\",\"some college\",\"some high school\",\"some college\",\"some high school\",\"associate's degree\",\"high school\",\"some college\",\"some college\",\"some college\",\"associate's degree\",\"high school\",\"some college\",\"associate's degree\",\"some high school\",\"associate's degree\",\"high school\",\"some high school\",\"associate's degree\",\"some college\",\"some high school\",\"master's degree\",\"some high school\",\"some high school\",\"some college\",\"high school\",\"some college\",\"some college\",\"some college\",\"some college\",\"associate's degree\",\"some college\",\"master's degree\",\"high school\",\"some high school\",\"high school\",\"bachelor's degree\",\"high school\",\"high school\",\"high school\",\"some high school\",\"some high school\",\"some college\",\"some college\",\"high school\",\"some college\",\"high school\",\"some college\",\"bachelor's degree\",\"some high school\",\"associate's degree\",\"high school\",\"bachelor's degree\",\"some college\",\"master's degree\",\"bachelor's degree\",\"associate's degree\",\"some college\",\"some high school\",\"some college\",\"some college\",\"master's degree\",\"some college\",\"some college\",\"some high school\",\"some college\",\"bachelor's degree\",\"some high school\",\"associate's degree\",\"associate's degree\",\"master's degree\",\"associate's degree\",\"some college\",\"some college\",\"some college\",\"bachelor's degree\",\"master's degree\",\"some college\",\"some high school\",\"associate's degree\",\"some college\",\"associate's degree\",\"high school\",\"some high school\",\"associate's degree\",\"some college\",\"bachelor's degree\",\"bachelor's degree\",\"high school\",\"some college\",\"some college\",\"some college\",\"high school\",\"high school\",\"some high school\",\"some college\",\"high school\",\"some college\",\"high school\",\"bachelor's degree\",\"high school\",\"some college\",\"some college\",\"high school\",\"master's degree\",\"associate's degree\",\"some college\",\"associate's degree\",\"some college\",\"high school\",\"associate's degree\",\"master's degree\",\"some high school\",\"some college\",\"some high school\",\"associate's degree\",\"high school\",\"associate's degree\",\"some college\",\"high school\",\"associate's degree\",\"some college\",\"associate's degree\",\"some high school\",\"associate's degree\",\"some college\",\"high school\",\"high school\",\"some college\",\"some high school\",\"bachelor's degree\",\"associate's degree\",\"associate's degree\",\"some high school\",\"bachelor's degree\",\"master's degree\",\"associate's degree\",\"some high school\",\"bachelor's degree\",\"master's degree\",\"high school\",\"high school\",\"associate's degree\",\"some high school\",\"associate's degree\",\"bachelor's degree\",\"some college\",\"some college\",\"associate's degree\",\"high school\",\"master's degree\",\"associate's degree\",\"some college\",\"bachelor's degree\",\"high school\",\"high school\",\"associate's degree\",\"high school\",\"some college\",\"some college\",\"some college\"],\"yaxis\":\"y\",\"type\":\"scatter\"},{\"customdata\":[[\"female\"],[\"female\"],[\"male\"],[\"male\"],[\"male\"],[\"male\"],[\"male\"],[\"female\"],[\"female\"],[\"female\"],[\"male\"],[\"female\"],[\"female\"],[\"male\"],[\"male\"],[\"female\"],[\"male\"],[\"male\"],[\"male\"],[\"male\"],[\"female\"],[\"male\"],[\"male\"],[\"female\"],[\"female\"],[\"female\"],[\"female\"],[\"female\"],[\"male\"],[\"female\"],[\"female\"],[\"female\"],[\"male\"],[\"male\"],[\"female\"],[\"male\"],[\"male\"],[\"female\"],[\"female\"],[\"female\"],[\"female\"],[\"female\"],[\"female\"],[\"female\"],[\"male\"],[\"female\"],[\"male\"],[\"female\"],[\"female\"],[\"female\"],[\"male\"],[\"male\"],[\"male\"],[\"female\"],[\"male\"],[\"male\"],[\"male\"],[\"female\"],[\"female\"],[\"male\"],[\"female\"],[\"female\"],[\"male\"],[\"female\"],[\"male\"],[\"male\"],[\"female\"],[\"female\"],[\"female\"],[\"female\"],[\"female\"],[\"male\"],[\"male\"],[\"male\"],[\"female\"],[\"male\"],[\"female\"],[\"male\"],[\"female\"],[\"male\"],[\"male\"],[\"female\"],[\"male\"],[\"male\"],[\"male\"],[\"male\"],[\"female\"],[\"female\"],[\"female\"],[\"male\"],[\"male\"],[\"male\"],[\"male\"],[\"male\"],[\"male\"],[\"female\"],[\"male\"],[\"male\"],[\"male\"],[\"female\"],[\"female\"],[\"female\"],[\"female\"],[\"male\"],[\"female\"],[\"male\"],[\"male\"],[\"female\"],[\"female\"],[\"female\"],[\"female\"],[\"male\"],[\"male\"],[\"male\"],[\"female\"],[\"male\"],[\"female\"],[\"female\"],[\"male\"],[\"male\"],[\"female\"],[\"female\"],[\"female\"],[\"female\"],[\"male\"],[\"female\"],[\"male\"],[\"male\"],[\"male\"],[\"female\"],[\"female\"],[\"male\"],[\"male\"],[\"male\"],[\"male\"],[\"male\"],[\"female\"],[\"female\"],[\"male\"],[\"male\"],[\"female\"],[\"male\"],[\"female\"],[\"female\"],[\"male\"],[\"female\"],[\"female\"],[\"female\"],[\"female\"],[\"female\"],[\"male\"],[\"male\"],[\"female\"],[\"male\"],[\"male\"],[\"female\"],[\"male\"],[\"female\"],[\"female\"],[\"male\"],[\"female\"],[\"male\"],[\"male\"],[\"male\"],[\"female\"],[\"female\"],[\"male\"],[\"female\"],[\"female\"],[\"male\"],[\"female\"],[\"female\"],[\"male\"],[\"female\"],[\"male\"],[\"male\"],[\"female\"],[\"female\"],[\"female\"],[\"male\"],[\"male\"],[\"male\"],[\"male\"],[\"female\"],[\"male\"],[\"male\"],[\"male\"],[\"female\"],[\"female\"],[\"male\"],[\"female\"],[\"male\"],[\"female\"],[\"male\"],[\"female\"],[\"female\"],[\"female\"],[\"female\"]],\"hovertemplate\":\"GPA cuantiles=Medio\\u003cbr\\u003eGPA=%{x}\\u003cbr\\u003eparental level of education=%{y}\\u003cbr\\u003egender=%{customdata[0]}\\u003cextra\\u003e\\u003c\\u002fextra\\u003e\",\"legendgroup\":\"Medio\",\"marker\":{\"color\":\"yellow\",\"symbol\":\"circle\"},\"mode\":\"markers\",\"name\":\"Medio\",\"orientation\":\"h\",\"showlegend\":true,\"x\":[4.92,4.92,4.92,4.92,4.92,4.92,4.92,4.92,4.92,4.94,4.94,4.94,4.94,4.94,4.94,4.94,4.94,4.96,4.96,4.96,4.96,4.96,4.96,4.96,4.96,4.96,4.96,4.96,4.96,4.96,4.96,4.98,4.98,4.98,4.98,4.98,5.0,5.0,5.0,5.0,5.0,5.0,5.0,5.0,5.02,5.02,5.02,5.02,5.02,5.02,5.02,5.02,5.02,5.04,5.04,5.04,5.04,5.04,5.04,5.06,5.06,5.06,5.06,5.06,5.06,5.06,5.08,5.08,5.08,5.08,5.08,5.08,5.08,5.08,5.08,5.08,5.08,5.08,5.08,5.08,5.08,5.1,5.1,5.1,5.1,5.1,5.1,5.1,5.1,5.1,5.1,5.1,5.1,5.1,5.12,5.12,5.12,5.12,5.12,5.12,5.12,5.12,5.12,5.12,5.12,5.12,5.14,5.14,5.14,5.14,5.14,5.14,5.14,5.14,5.14,5.14,5.14,5.14,5.16,5.16,5.16,5.16,5.16,5.16,5.16,5.16,5.16,5.16,5.18,5.18,5.18,5.18,5.18,5.2,5.2,5.2,5.2,5.2,5.2,5.2,5.2,5.2,5.2,5.2,5.2,5.22,5.22,5.22,5.22,5.22,5.22,5.22,5.22,5.24,5.24,5.24,5.24,5.24,5.26,5.26,5.26,5.26,5.26,5.26,5.26,5.26,5.26,5.26,5.26,5.28,5.28,5.28,5.28,5.28,5.28,5.28,5.28,5.28,5.28,5.28,5.28,5.3,5.3,5.3,5.3,5.3,5.3,5.3,5.3,5.32,5.32,5.32,5.32,5.32,5.32,5.32,5.32,5.32],\"xaxis\":\"x\",\"y\":[\"some college\",\"some high school\",\"some high school\",\"bachelor's degree\",\"some high school\",\"bachelor's degree\",\"some college\",\"some college\",\"high school\",\"high school\",\"some high school\",\"some college\",\"high school\",\"associate's degree\",\"associate's degree\",\"high school\",\"some college\",\"high school\",\"high school\",\"some high school\",\"associate's degree\",\"some high school\",\"high school\",\"associate's degree\",\"associate's degree\",\"master's degree\",\"some high school\",\"high school\",\"some high school\",\"bachelor's degree\",\"high school\",\"associate's degree\",\"bachelor's degree\",\"some high school\",\"high school\",\"associate's degree\",\"bachelor's degree\",\"associate's degree\",\"high school\",\"some college\",\"associate's degree\",\"some college\",\"some high school\",\"high school\",\"some college\",\"high school\",\"some college\",\"bachelor's degree\",\"high school\",\"some high school\",\"some high school\",\"some college\",\"some college\",\"associate's degree\",\"some high school\",\"associate's degree\",\"high school\",\"bachelor's degree\",\"bachelor's degree\",\"bachelor's degree\",\"bachelor's degree\",\"high school\",\"high school\",\"some high school\",\"some college\",\"bachelor's degree\",\"some college\",\"some college\",\"some high school\",\"some high school\",\"some college\",\"high school\",\"some high school\",\"bachelor's degree\",\"associate's degree\",\"high school\",\"associate's degree\",\"high school\",\"associate's degree\",\"bachelor's degree\",\"high school\",\"high school\",\"associate's degree\",\"high school\",\"some college\",\"some college\",\"associate's degree\",\"some college\",\"some college\",\"master's degree\",\"some high school\",\"master's degree\",\"high school\",\"some high school\",\"bachelor's degree\",\"associate's degree\",\"associate's degree\",\"associate's degree\",\"high school\",\"associate's degree\",\"some college\",\"high school\",\"some high school\",\"associate's degree\",\"some college\",\"some college\",\"high school\",\"master's degree\",\"bachelor's degree\",\"some college\",\"associate's degree\",\"bachelor's degree\",\"some high school\",\"associate's degree\",\"associate's degree\",\"associate's degree\",\"bachelor's degree\",\"some high school\",\"some college\",\"associate's degree\",\"high school\",\"associate's degree\",\"high school\",\"some college\",\"some high school\",\"bachelor's degree\",\"some college\",\"some high school\",\"high school\",\"associate's degree\",\"associate's degree\",\"some high school\",\"high school\",\"bachelor's degree\",\"master's degree\",\"some college\",\"some college\",\"some high school\",\"some college\",\"high school\",\"master's degree\",\"some high school\",\"high school\",\"high school\",\"high school\",\"associate's degree\",\"bachelor's degree\",\"some college\",\"some high school\",\"bachelor's degree\",\"some college\",\"high school\",\"bachelor's degree\",\"high school\",\"high school\",\"master's degree\",\"bachelor's degree\",\"some college\",\"high school\",\"bachelor's degree\",\"high school\",\"some college\",\"associate's degree\",\"high school\",\"some college\",\"some college\",\"high school\",\"some college\",\"bachelor's degree\",\"associate's degree\",\"associate's degree\",\"bachelor's degree\",\"associate's degree\",\"associate's degree\",\"associate's degree\",\"some high school\",\"some high school\",\"associate's degree\",\"bachelor's degree\",\"associate's degree\",\"associate's degree\",\"high school\",\"high school\",\"master's degree\",\"associate's degree\",\"high school\",\"some high school\",\"some high school\",\"some college\",\"some college\",\"some high school\",\"some college\",\"associate's degree\",\"bachelor's degree\",\"associate's degree\",\"associate's degree\",\"some high school\",\"associate's degree\"],\"yaxis\":\"y\",\"type\":\"scatter\"},{\"customdata\":[[\"female\"],[\"female\"],[\"female\"],[\"male\"],[\"female\"],[\"female\"],[\"female\"],[\"female\"],[\"female\"],[\"female\"],[\"female\"],[\"male\"],[\"female\"],[\"female\"],[\"female\"],[\"male\"],[\"female\"],[\"male\"],[\"female\"],[\"male\"],[\"male\"],[\"female\"],[\"male\"],[\"female\"],[\"female\"],[\"male\"],[\"female\"],[\"male\"],[\"female\"],[\"male\"],[\"female\"],[\"male\"],[\"male\"],[\"female\"],[\"male\"],[\"female\"],[\"male\"],[\"male\"],[\"male\"],[\"female\"],[\"female\"],[\"male\"],[\"female\"],[\"male\"],[\"female\"],[\"female\"],[\"male\"],[\"female\"],[\"male\"],[\"female\"],[\"female\"],[\"female\"],[\"female\"],[\"male\"],[\"male\"],[\"female\"],[\"male\"],[\"female\"],[\"female\"],[\"female\"],[\"female\"],[\"female\"],[\"female\"],[\"female\"],[\"female\"],[\"male\"],[\"female\"],[\"male\"],[\"female\"],[\"male\"],[\"male\"],[\"female\"],[\"female\"],[\"female\"],[\"female\"],[\"male\"],[\"male\"],[\"female\"],[\"male\"],[\"female\"],[\"male\"],[\"male\"],[\"male\"],[\"male\"],[\"female\"],[\"female\"],[\"female\"],[\"female\"],[\"female\"],[\"female\"],[\"female\"],[\"male\"],[\"female\"],[\"female\"],[\"male\"],[\"female\"],[\"female\"],[\"female\"],[\"female\"],[\"female\"],[\"male\"],[\"male\"],[\"male\"],[\"female\"],[\"female\"],[\"female\"],[\"female\"],[\"male\"],[\"male\"],[\"female\"],[\"male\"],[\"female\"],[\"female\"],[\"female\"],[\"male\"],[\"male\"],[\"male\"],[\"female\"],[\"male\"],[\"female\"],[\"male\"],[\"female\"],[\"female\"],[\"female\"],[\"female\"],[\"male\"],[\"female\"],[\"female\"],[\"female\"],[\"female\"],[\"male\"],[\"male\"],[\"male\"],[\"female\"],[\"male\"],[\"male\"],[\"female\"],[\"male\"],[\"male\"],[\"female\"],[\"female\"],[\"female\"],[\"female\"],[\"male\"],[\"female\"],[\"male\"],[\"male\"],[\"male\"],[\"male\"],[\"male\"],[\"female\"],[\"female\"],[\"male\"],[\"male\"],[\"female\"],[\"male\"],[\"female\"],[\"female\"],[\"male\"],[\"female\"],[\"female\"],[\"female\"],[\"female\"],[\"female\"],[\"female\"],[\"female\"],[\"female\"],[\"male\"],[\"male\"],[\"female\"],[\"male\"],[\"female\"],[\"female\"],[\"female\"],[\"male\"],[\"male\"],[\"male\"],[\"male\"],[\"female\"],[\"female\"],[\"female\"],[\"female\"],[\"female\"],[\"male\"],[\"female\"],[\"male\"],[\"male\"],[\"male\"],[\"female\"],[\"male\"],[\"male\"],[\"female\"],[\"male\"],[\"female\"],[\"female\"],[\"male\"]],\"hovertemplate\":\"GPA cuantiles=Alto\\u003cbr\\u003eGPA=%{x}\\u003cbr\\u003eparental level of education=%{y}\\u003cbr\\u003egender=%{customdata[0]}\\u003cextra\\u003e\\u003c\\u002fextra\\u003e\",\"legendgroup\":\"Alto\",\"marker\":{\"color\":\"greenyellow\",\"symbol\":\"circle\"},\"mode\":\"markers\",\"name\":\"Alto\",\"orientation\":\"h\",\"showlegend\":true,\"x\":[5.34,5.34,5.34,5.34,5.34,5.34,5.36,5.36,5.36,5.36,5.36,5.36,5.36,5.36,5.36,5.36,5.38,5.38,5.38,5.38,5.38,5.38,5.38,5.38,5.38,5.38,5.38,5.38,5.4,5.4,5.4,5.4,5.4,5.4,5.4,5.4,5.4,5.4,5.4,5.42,5.42,5.42,5.42,5.42,5.44,5.44,5.44,5.44,5.44,5.44,5.46,5.46,5.46,5.46,5.46,5.46,5.46,5.46,5.46,5.46,5.46,5.46,5.48,5.48,5.48,5.48,5.48,5.48,5.48,5.48,5.5,5.5,5.5,5.5,5.5,5.5,5.5,5.5,5.5,5.5,5.5,5.52,5.52,5.52,5.52,5.52,5.52,5.52,5.54,5.54,5.54,5.54,5.54,5.54,5.54,5.54,5.54,5.54,5.56,5.56,5.56,5.56,5.56,5.56,5.56,5.56,5.56,5.58,5.58,5.58,5.58,5.58,5.58,5.6,5.6,5.6,5.6,5.6,5.62,5.62,5.62,5.62,5.62,5.62,5.62,5.62,5.64,5.64,5.64,5.64,5.64,5.64,5.64,5.64,5.64,5.64,5.64,5.64,5.64,5.64,5.66,5.66,5.66,5.66,5.66,5.68,5.68,5.68,5.68,5.68,5.68,5.68,5.68,5.68,5.68,5.7,5.7,5.7,5.7,5.7,5.7,5.7,5.7,5.7,5.72,5.72,5.72,5.72,5.72,5.72,5.72,5.72,5.72,5.74,5.74,5.74,5.74,5.74,5.74,5.74,5.76,5.76,5.76,5.76,5.76,5.76,5.76,5.76,5.78,5.78,5.78,5.78,5.78,5.78,5.78,5.78],\"xaxis\":\"x\",\"y\":[\"some college\",\"some college\",\"some college\",\"high school\",\"associate's degree\",\"associate's degree\",\"bachelor's degree\",\"high school\",\"some college\",\"some college\",\"some high school\",\"some high school\",\"associate's degree\",\"high school\",\"high school\",\"master's degree\",\"some high school\",\"high school\",\"bachelor's degree\",\"master's degree\",\"some high school\",\"high school\",\"some college\",\"high school\",\"high school\",\"bachelor's degree\",\"bachelor's degree\",\"some college\",\"some high school\",\"some high school\",\"some high school\",\"some college\",\"master's degree\",\"associate's degree\",\"some high school\",\"some high school\",\"associate's degree\",\"some college\",\"associate's degree\",\"bachelor's degree\",\"bachelor's degree\",\"high school\",\"some college\",\"high school\",\"some college\",\"some high school\",\"bachelor's degree\",\"some college\",\"bachelor's degree\",\"some high school\",\"some college\",\"associate's degree\",\"some college\",\"some college\",\"associate's degree\",\"some college\",\"some high school\",\"some college\",\"some college\",\"high school\",\"some college\",\"some college\",\"some high school\",\"bachelor's degree\",\"high school\",\"associate's degree\",\"high school\",\"some college\",\"high school\",\"associate's degree\",\"bachelor's degree\",\"master's degree\",\"associate's degree\",\"some high school\",\"bachelor's degree\",\"bachelor's degree\",\"associate's degree\",\"some high school\",\"bachelor's degree\",\"associate's degree\",\"associate's degree\",\"associate's degree\",\"some college\",\"high school\",\"associate's degree\",\"high school\",\"high school\",\"some college\",\"some college\",\"associate's degree\",\"some college\",\"high school\",\"high school\",\"some college\",\"some college\",\"associate's degree\",\"master's degree\",\"bachelor's degree\",\"some high school\",\"some high school\",\"bachelor's degree\",\"some college\",\"associate's degree\",\"some college\",\"some high school\",\"associate's degree\",\"high school\",\"some college\",\"some high school\",\"associate's degree\",\"some high school\",\"some college\",\"high school\",\"bachelor's degree\",\"associate's degree\",\"some college\",\"some high school\",\"high school\",\"master's degree\",\"some high school\",\"some college\",\"some high school\",\"some high school\",\"some college\",\"some high school\",\"master's degree\",\"some high school\",\"associate's degree\",\"some college\",\"associate's degree\",\"associate's degree\",\"some high school\",\"associate's degree\",\"associate's degree\",\"master's degree\",\"some college\",\"associate's degree\",\"associate's degree\",\"associate's degree\",\"bachelor's degree\",\"high school\",\"associate's degree\",\"bachelor's degree\",\"associate's degree\",\"some college\",\"associate's degree\",\"master's degree\",\"associate's degree\",\"bachelor's degree\",\"high school\",\"some college\",\"associate's degree\",\"associate's degree\",\"some high school\",\"some college\",\"high school\",\"some college\",\"associate's degree\",\"high school\",\"some high school\",\"some college\",\"master's degree\",\"some college\",\"high school\",\"some college\",\"bachelor's degree\",\"some high school\",\"some college\",\"some college\",\"high school\",\"some college\",\"bachelor's degree\",\"some high school\",\"some college\",\"associate's degree\",\"high school\",\"some high school\",\"some high school\",\"associate's degree\",\"associate's degree\",\"associate's degree\",\"associate's degree\",\"master's degree\",\"high school\",\"some high school\",\"master's degree\",\"some college\",\"some high school\",\"associate's degree\",\"some college\",\"bachelor's degree\",\"bachelor's degree\",\"bachelor's degree\",\"bachelor's degree\",\"high school\",\"associate's degree\"],\"yaxis\":\"y\",\"type\":\"scatter\"},{\"customdata\":[[\"female\"],[\"male\"],[\"female\"],[\"female\"],[\"male\"],[\"male\"],[\"male\"],[\"male\"],[\"male\"],[\"male\"],[\"female\"],[\"male\"],[\"female\"],[\"male\"],[\"female\"],[\"male\"],[\"male\"],[\"female\"],[\"female\"],[\"male\"],[\"female\"],[\"female\"],[\"male\"],[\"male\"],[\"male\"],[\"male\"],[\"male\"],[\"male\"],[\"male\"],[\"male\"],[\"female\"],[\"male\"],[\"female\"],[\"male\"],[\"female\"],[\"male\"],[\"female\"],[\"female\"],[\"female\"],[\"male\"],[\"male\"],[\"female\"],[\"female\"],[\"male\"],[\"female\"],[\"male\"],[\"female\"],[\"male\"],[\"female\"],[\"female\"],[\"male\"],[\"female\"],[\"male\"],[\"female\"],[\"female\"],[\"female\"],[\"male\"],[\"female\"],[\"male\"],[\"male\"],[\"male\"],[\"female\"],[\"female\"],[\"female\"],[\"male\"],[\"female\"],[\"male\"],[\"female\"],[\"female\"],[\"female\"],[\"female\"],[\"male\"],[\"male\"],[\"male\"],[\"female\"],[\"female\"],[\"female\"],[\"female\"],[\"female\"],[\"female\"],[\"female\"],[\"female\"],[\"male\"],[\"male\"],[\"male\"],[\"male\"],[\"female\"],[\"female\"],[\"male\"],[\"female\"],[\"female\"],[\"female\"],[\"female\"],[\"female\"],[\"male\"],[\"male\"],[\"male\"],[\"female\"],[\"male\"],[\"female\"],[\"female\"],[\"female\"],[\"male\"],[\"male\"],[\"female\"],[\"male\"],[\"female\"],[\"male\"],[\"female\"],[\"male\"],[\"male\"],[\"female\"],[\"female\"],[\"female\"],[\"male\"],[\"female\"],[\"female\"],[\"female\"],[\"male\"],[\"female\"],[\"male\"],[\"male\"],[\"male\"],[\"female\"],[\"female\"],[\"male\"],[\"female\"],[\"female\"],[\"female\"],[\"female\"],[\"female\"],[\"female\"],[\"female\"],[\"male\"],[\"male\"],[\"male\"],[\"male\"],[\"male\"],[\"male\"],[\"female\"],[\"female\"],[\"female\"],[\"female\"],[\"female\"],[\"female\"],[\"female\"],[\"female\"],[\"female\"],[\"female\"],[\"female\"],[\"female\"],[\"male\"],[\"female\"],[\"female\"],[\"male\"],[\"female\"],[\"male\"],[\"female\"],[\"female\"],[\"male\"],[\"female\"],[\"male\"],[\"female\"],[\"female\"],[\"female\"],[\"female\"],[\"male\"],[\"male\"],[\"male\"],[\"female\"],[\"female\"],[\"male\"],[\"male\"],[\"female\"],[\"female\"],[\"male\"],[\"female\"],[\"female\"],[\"female\"],[\"female\"],[\"female\"],[\"female\"],[\"female\"],[\"female\"],[\"female\"],[\"female\"],[\"female\"],[\"female\"],[\"male\"],[\"female\"],[\"female\"],[\"male\"],[\"female\"],[\"female\"],[\"female\"],[\"female\"],[\"female\"],[\"male\"]],\"hovertemplate\":\"GPA cuantiles=Muy alto\\u003cbr\\u003eGPA=%{x}\\u003cbr\\u003eparental level of education=%{y}\\u003cbr\\u003egender=%{customdata[0]}\\u003cextra\\u003e\\u003c\\u002fextra\\u003e\",\"legendgroup\":\"Muy alto\",\"marker\":{\"color\":\"green\",\"symbol\":\"circle\"},\"mode\":\"markers\",\"name\":\"Muy alto\",\"orientation\":\"h\",\"showlegend\":true,\"x\":[5.8,5.8,5.8,5.8,5.82,5.82,5.82,5.82,5.82,5.82,5.82,5.82,5.84,5.84,5.84,5.84,5.84,5.84,5.84,5.86,5.86,5.88,5.88,5.88,5.88,5.88,5.9,5.9,5.9,5.9,5.92,5.92,5.92,5.94,5.94,5.94,5.94,5.94,5.94,5.94,5.94,5.94,5.94,5.94,5.96,5.96,5.96,5.96,5.96,5.96,5.98,5.98,5.98,5.98,5.98,5.98,5.98,5.98,5.98,6.0,6.0,6.0,6.0,6.0,6.02,6.02,6.02,6.02,6.04,6.04,6.04,6.04,6.04,6.04,6.04,6.04,6.06,6.06,6.08,6.08,6.08,6.08,6.1,6.1,6.1,6.1,6.12,6.12,6.12,6.12,6.14,6.14,6.14,6.14,6.14,6.14,6.16,6.16,6.16,6.16,6.18,6.18,6.18,6.18,6.18,6.18,6.2,6.2,6.2,6.2,6.22,6.22,6.22,6.22,6.22,6.22,6.24,6.24,6.24,6.24,6.24,6.26,6.26,6.28,6.28,6.3,6.3,6.3,6.3,6.3,6.32,6.32,6.32,6.32,6.32,6.34,6.34,6.34,6.34,6.34,6.36,6.36,6.36,6.36,6.38,6.38,6.4,6.4,6.42,6.42,6.42,6.44,6.46,6.48,6.48,6.48,6.5,6.5,6.5,6.5,6.5,6.5,6.52,6.52,6.54,6.56,6.56,6.56,6.58,6.6,6.6,6.62,6.64,6.64,6.64,6.64,6.74,6.74,6.76,6.78,6.78,6.78,6.8,6.82,6.82,6.84,6.84,6.86,6.86,6.86,6.92,6.92,6.94,6.94,6.98,7.0,7.0,7.0],\"xaxis\":\"x\",\"y\":[\"high school\",\"some college\",\"some college\",\"high school\",\"high school\",\"some high school\",\"associate's degree\",\"associate's degree\",\"some college\",\"some high school\",\"some high school\",\"associate's degree\",\"bachelor's degree\",\"high school\",\"some high school\",\"some high school\",\"some college\",\"some high school\",\"bachelor's degree\",\"associate's degree\",\"high school\",\"some high school\",\"associate's degree\",\"associate's degree\",\"associate's degree\",\"high school\",\"associate's degree\",\"some high school\",\"some college\",\"associate's degree\",\"some college\",\"master's degree\",\"bachelor's degree\",\"some high school\",\"high school\",\"some college\",\"some college\",\"some college\",\"associate's degree\",\"high school\",\"some high school\",\"some college\",\"some college\",\"some high school\",\"some high school\",\"high school\",\"high school\",\"some high school\",\"some college\",\"high school\",\"bachelor's degree\",\"some college\",\"some college\",\"bachelor's degree\",\"bachelor's degree\",\"associate's degree\",\"associate's degree\",\"high school\",\"bachelor's degree\",\"some high school\",\"some high school\",\"high school\",\"some high school\",\"master's degree\",\"some college\",\"associate's degree\",\"bachelor's degree\",\"master's degree\",\"some high school\",\"some high school\",\"bachelor's degree\",\"associate's degree\",\"some college\",\"some college\",\"some high school\",\"associate's degree\",\"associate's degree\",\"associate's degree\",\"some college\",\"some college\",\"some college\",\"master's degree\",\"master's degree\",\"high school\",\"associate's degree\",\"bachelor's degree\",\"some high school\",\"some college\",\"associate's degree\",\"some college\",\"some college\",\"associate's degree\",\"associate's degree\",\"bachelor's degree\",\"some college\",\"some high school\",\"master's degree\",\"some college\",\"bachelor's degree\",\"associate's degree\",\"master's degree\",\"some college\",\"high school\",\"master's degree\",\"bachelor's degree\",\"some high school\",\"some high school\",\"master's degree\",\"bachelor's degree\",\"some high school\",\"master's degree\",\"associate's degree\",\"bachelor's degree\",\"associate's degree\",\"associate's degree\",\"high school\",\"some college\",\"some college\",\"associate's degree\",\"associate's degree\",\"associate's degree\",\"high school\",\"master's degree\",\"master's degree\",\"associate's degree\",\"bachelor's degree\",\"associate's degree\",\"bachelor's degree\",\"some college\",\"master's degree\",\"associate's degree\",\"bachelor's degree\",\"some college\",\"some college\",\"some college\",\"associate's degree\",\"some high school\",\"some college\",\"some college\",\"some high school\",\"associate's degree\",\"associate's degree\",\"master's degree\",\"high school\",\"associate's degree\",\"some college\",\"some high school\",\"some college\",\"associate's degree\",\"associate's degree\",\"bachelor's degree\",\"associate's degree\",\"associate's degree\",\"some college\",\"some college\",\"some high school\",\"bachelor's degree\",\"some college\",\"associate's degree\",\"associate's degree\",\"some college\",\"associate's degree\",\"associate's degree\",\"associate's degree\",\"some college\",\"master's degree\",\"bachelor's degree\",\"some college\",\"bachelor's degree\",\"associate's degree\",\"master's degree\",\"associate's degree\",\"associate's degree\",\"master's degree\",\"high school\",\"some college\",\"high school\",\"master's degree\",\"associate's degree\",\"bachelor's degree\",\"some college\",\"some high school\",\"bachelor's degree\",\"associate's degree\",\"bachelor's degree\",\"bachelor's degree\",\"master's degree\",\"bachelor's degree\",\"associate's degree\",\"master's degree\",\"bachelor's degree\",\"some college\",\"some college\",\"some high school\",\"bachelor's degree\",\"bachelor's degree\",\"associate's degree\",\"bachelor's degree\"],\"yaxis\":\"y\",\"type\":\"scatter\"}],                        {\"template\":{\"data\":{\"histogram2dcontour\":[{\"type\":\"histogram2dcontour\",\"colorbar\":{\"outlinewidth\":0,\"ticks\":\"\"},\"colorscale\":[[0.0,\"#0d0887\"],[0.1111111111111111,\"#46039f\"],[0.2222222222222222,\"#7201a8\"],[0.3333333333333333,\"#9c179e\"],[0.4444444444444444,\"#bd3786\"],[0.5555555555555556,\"#d8576b\"],[0.6666666666666666,\"#ed7953\"],[0.7777777777777778,\"#fb9f3a\"],[0.8888888888888888,\"#fdca26\"],[1.0,\"#f0f921\"]]}],\"choropleth\":[{\"type\":\"choropleth\",\"colorbar\":{\"outlinewidth\":0,\"ticks\":\"\"}}],\"histogram2d\":[{\"type\":\"histogram2d\",\"colorbar\":{\"outlinewidth\":0,\"ticks\":\"\"},\"colorscale\":[[0.0,\"#0d0887\"],[0.1111111111111111,\"#46039f\"],[0.2222222222222222,\"#7201a8\"],[0.3333333333333333,\"#9c179e\"],[0.4444444444444444,\"#bd3786\"],[0.5555555555555556,\"#d8576b\"],[0.6666666666666666,\"#ed7953\"],[0.7777777777777778,\"#fb9f3a\"],[0.8888888888888888,\"#fdca26\"],[1.0,\"#f0f921\"]]}],\"heatmap\":[{\"type\":\"heatmap\",\"colorbar\":{\"outlinewidth\":0,\"ticks\":\"\"},\"colorscale\":[[0.0,\"#0d0887\"],[0.1111111111111111,\"#46039f\"],[0.2222222222222222,\"#7201a8\"],[0.3333333333333333,\"#9c179e\"],[0.4444444444444444,\"#bd3786\"],[0.5555555555555556,\"#d8576b\"],[0.6666666666666666,\"#ed7953\"],[0.7777777777777778,\"#fb9f3a\"],[0.8888888888888888,\"#fdca26\"],[1.0,\"#f0f921\"]]}],\"heatmapgl\":[{\"type\":\"heatmapgl\",\"colorbar\":{\"outlinewidth\":0,\"ticks\":\"\"},\"colorscale\":[[0.0,\"#0d0887\"],[0.1111111111111111,\"#46039f\"],[0.2222222222222222,\"#7201a8\"],[0.3333333333333333,\"#9c179e\"],[0.4444444444444444,\"#bd3786\"],[0.5555555555555556,\"#d8576b\"],[0.6666666666666666,\"#ed7953\"],[0.7777777777777778,\"#fb9f3a\"],[0.8888888888888888,\"#fdca26\"],[1.0,\"#f0f921\"]]}],\"contourcarpet\":[{\"type\":\"contourcarpet\",\"colorbar\":{\"outlinewidth\":0,\"ticks\":\"\"}}],\"contour\":[{\"type\":\"contour\",\"colorbar\":{\"outlinewidth\":0,\"ticks\":\"\"},\"colorscale\":[[0.0,\"#0d0887\"],[0.1111111111111111,\"#46039f\"],[0.2222222222222222,\"#7201a8\"],[0.3333333333333333,\"#9c179e\"],[0.4444444444444444,\"#bd3786\"],[0.5555555555555556,\"#d8576b\"],[0.6666666666666666,\"#ed7953\"],[0.7777777777777778,\"#fb9f3a\"],[0.8888888888888888,\"#fdca26\"],[1.0,\"#f0f921\"]]}],\"surface\":[{\"type\":\"surface\",\"colorbar\":{\"outlinewidth\":0,\"ticks\":\"\"},\"colorscale\":[[0.0,\"#0d0887\"],[0.1111111111111111,\"#46039f\"],[0.2222222222222222,\"#7201a8\"],[0.3333333333333333,\"#9c179e\"],[0.4444444444444444,\"#bd3786\"],[0.5555555555555556,\"#d8576b\"],[0.6666666666666666,\"#ed7953\"],[0.7777777777777778,\"#fb9f3a\"],[0.8888888888888888,\"#fdca26\"],[1.0,\"#f0f921\"]]}],\"mesh3d\":[{\"type\":\"mesh3d\",\"colorbar\":{\"outlinewidth\":0,\"ticks\":\"\"}}],\"scatter\":[{\"fillpattern\":{\"fillmode\":\"overlay\",\"size\":10,\"solidity\":0.2},\"type\":\"scatter\"}],\"parcoords\":[{\"type\":\"parcoords\",\"line\":{\"colorbar\":{\"outlinewidth\":0,\"ticks\":\"\"}}}],\"scatterpolargl\":[{\"type\":\"scatterpolargl\",\"marker\":{\"colorbar\":{\"outlinewidth\":0,\"ticks\":\"\"}}}],\"bar\":[{\"error_x\":{\"color\":\"#2a3f5f\"},\"error_y\":{\"color\":\"#2a3f5f\"},\"marker\":{\"line\":{\"color\":\"#E5ECF6\",\"width\":0.5},\"pattern\":{\"fillmode\":\"overlay\",\"size\":10,\"solidity\":0.2}},\"type\":\"bar\"}],\"scattergeo\":[{\"type\":\"scattergeo\",\"marker\":{\"colorbar\":{\"outlinewidth\":0,\"ticks\":\"\"}}}],\"scatterpolar\":[{\"type\":\"scatterpolar\",\"marker\":{\"colorbar\":{\"outlinewidth\":0,\"ticks\":\"\"}}}],\"histogram\":[{\"marker\":{\"pattern\":{\"fillmode\":\"overlay\",\"size\":10,\"solidity\":0.2}},\"type\":\"histogram\"}],\"scattergl\":[{\"type\":\"scattergl\",\"marker\":{\"colorbar\":{\"outlinewidth\":0,\"ticks\":\"\"}}}],\"scatter3d\":[{\"type\":\"scatter3d\",\"line\":{\"colorbar\":{\"outlinewidth\":0,\"ticks\":\"\"}},\"marker\":{\"colorbar\":{\"outlinewidth\":0,\"ticks\":\"\"}}}],\"scattermapbox\":[{\"type\":\"scattermapbox\",\"marker\":{\"colorbar\":{\"outlinewidth\":0,\"ticks\":\"\"}}}],\"scatterternary\":[{\"type\":\"scatterternary\",\"marker\":{\"colorbar\":{\"outlinewidth\":0,\"ticks\":\"\"}}}],\"scattercarpet\":[{\"type\":\"scattercarpet\",\"marker\":{\"colorbar\":{\"outlinewidth\":0,\"ticks\":\"\"}}}],\"carpet\":[{\"aaxis\":{\"endlinecolor\":\"#2a3f5f\",\"gridcolor\":\"white\",\"linecolor\":\"white\",\"minorgridcolor\":\"white\",\"startlinecolor\":\"#2a3f5f\"},\"baxis\":{\"endlinecolor\":\"#2a3f5f\",\"gridcolor\":\"white\",\"linecolor\":\"white\",\"minorgridcolor\":\"white\",\"startlinecolor\":\"#2a3f5f\"},\"type\":\"carpet\"}],\"table\":[{\"cells\":{\"fill\":{\"color\":\"#EBF0F8\"},\"line\":{\"color\":\"white\"}},\"header\":{\"fill\":{\"color\":\"#C8D4E3\"},\"line\":{\"color\":\"white\"}},\"type\":\"table\"}],\"barpolar\":[{\"marker\":{\"line\":{\"color\":\"#E5ECF6\",\"width\":0.5},\"pattern\":{\"fillmode\":\"overlay\",\"size\":10,\"solidity\":0.2}},\"type\":\"barpolar\"}],\"pie\":[{\"automargin\":true,\"type\":\"pie\"}]},\"layout\":{\"autotypenumbers\":\"strict\",\"colorway\":[\"#636efa\",\"#EF553B\",\"#00cc96\",\"#ab63fa\",\"#FFA15A\",\"#19d3f3\",\"#FF6692\",\"#B6E880\",\"#FF97FF\",\"#FECB52\"],\"font\":{\"color\":\"#2a3f5f\"},\"hovermode\":\"closest\",\"hoverlabel\":{\"align\":\"left\"},\"paper_bgcolor\":\"white\",\"plot_bgcolor\":\"#E5ECF6\",\"polar\":{\"bgcolor\":\"#E5ECF6\",\"angularaxis\":{\"gridcolor\":\"white\",\"linecolor\":\"white\",\"ticks\":\"\"},\"radialaxis\":{\"gridcolor\":\"white\",\"linecolor\":\"white\",\"ticks\":\"\"}},\"ternary\":{\"bgcolor\":\"#E5ECF6\",\"aaxis\":{\"gridcolor\":\"white\",\"linecolor\":\"white\",\"ticks\":\"\"},\"baxis\":{\"gridcolor\":\"white\",\"linecolor\":\"white\",\"ticks\":\"\"},\"caxis\":{\"gridcolor\":\"white\",\"linecolor\":\"white\",\"ticks\":\"\"}},\"coloraxis\":{\"colorbar\":{\"outlinewidth\":0,\"ticks\":\"\"}},\"colorscale\":{\"sequential\":[[0.0,\"#0d0887\"],[0.1111111111111111,\"#46039f\"],[0.2222222222222222,\"#7201a8\"],[0.3333333333333333,\"#9c179e\"],[0.4444444444444444,\"#bd3786\"],[0.5555555555555556,\"#d8576b\"],[0.6666666666666666,\"#ed7953\"],[0.7777777777777778,\"#fb9f3a\"],[0.8888888888888888,\"#fdca26\"],[1.0,\"#f0f921\"]],\"sequentialminus\":[[0.0,\"#0d0887\"],[0.1111111111111111,\"#46039f\"],[0.2222222222222222,\"#7201a8\"],[0.3333333333333333,\"#9c179e\"],[0.4444444444444444,\"#bd3786\"],[0.5555555555555556,\"#d8576b\"],[0.6666666666666666,\"#ed7953\"],[0.7777777777777778,\"#fb9f3a\"],[0.8888888888888888,\"#fdca26\"],[1.0,\"#f0f921\"]],\"diverging\":[[0,\"#8e0152\"],[0.1,\"#c51b7d\"],[0.2,\"#de77ae\"],[0.3,\"#f1b6da\"],[0.4,\"#fde0ef\"],[0.5,\"#f7f7f7\"],[0.6,\"#e6f5d0\"],[0.7,\"#b8e186\"],[0.8,\"#7fbc41\"],[0.9,\"#4d9221\"],[1,\"#276419\"]]},\"xaxis\":{\"gridcolor\":\"white\",\"linecolor\":\"white\",\"ticks\":\"\",\"title\":{\"standoff\":15},\"zerolinecolor\":\"white\",\"automargin\":true,\"zerolinewidth\":2},\"yaxis\":{\"gridcolor\":\"white\",\"linecolor\":\"white\",\"ticks\":\"\",\"title\":{\"standoff\":15},\"zerolinecolor\":\"white\",\"automargin\":true,\"zerolinewidth\":2},\"scene\":{\"xaxis\":{\"backgroundcolor\":\"#E5ECF6\",\"gridcolor\":\"white\",\"linecolor\":\"white\",\"showbackground\":true,\"ticks\":\"\",\"zerolinecolor\":\"white\",\"gridwidth\":2},\"yaxis\":{\"backgroundcolor\":\"#E5ECF6\",\"gridcolor\":\"white\",\"linecolor\":\"white\",\"showbackground\":true,\"ticks\":\"\",\"zerolinecolor\":\"white\",\"gridwidth\":2},\"zaxis\":{\"backgroundcolor\":\"#E5ECF6\",\"gridcolor\":\"white\",\"linecolor\":\"white\",\"showbackground\":true,\"ticks\":\"\",\"zerolinecolor\":\"white\",\"gridwidth\":2}},\"shapedefaults\":{\"line\":{\"color\":\"#2a3f5f\"}},\"annotationdefaults\":{\"arrowcolor\":\"#2a3f5f\",\"arrowhead\":0,\"arrowwidth\":1},\"geo\":{\"bgcolor\":\"white\",\"landcolor\":\"#E5ECF6\",\"subunitcolor\":\"white\",\"showland\":true,\"showlakes\":true,\"lakecolor\":\"white\"},\"title\":{\"x\":0.05},\"mapbox\":{\"style\":\"light\"}}},\"xaxis\":{\"anchor\":\"y\",\"domain\":[0.0,1.0],\"title\":{\"text\":\"GPA\"}},\"yaxis\":{\"anchor\":\"x\",\"domain\":[0.0,1.0],\"title\":{\"text\":\"parental level of education\"}},\"legend\":{\"title\":{\"text\":\"GPA cuantiles\"},\"tracegroupgap\":0},\"title\":{\"text\":\"GPA por Nivel de educaci\\u00f3n de los padres\"}},                        {\"responsive\": true}                    ).then(function(){\n",
       "                            \n",
       "var gd = document.getElementById('cc90f2db-3a33-4396-8bc0-17438ced77bf');\n",
       "var x = new MutationObserver(function (mutations, observer) {{\n",
       "        var display = window.getComputedStyle(gd).display;\n",
       "        if (!display || display === 'none') {{\n",
       "            console.log([gd, 'removed!']);\n",
       "            Plotly.purge(gd);\n",
       "            observer.disconnect();\n",
       "        }}\n",
       "}});\n",
       "\n",
       "// Listen for the removal of the full notebook cells\n",
       "var notebookContainer = gd.closest('#notebook-container');\n",
       "if (notebookContainer) {{\n",
       "    x.observe(notebookContainer, {childList: true});\n",
       "}}\n",
       "\n",
       "// Listen for the clearing of the current output cell\n",
       "var outputEl = gd.closest('.output');\n",
       "if (outputEl) {{\n",
       "    x.observe(outputEl, {childList: true});\n",
       "}}\n",
       "\n",
       "                        })                };                });            </script>        </div>"
      ]
     },
     "metadata": {},
     "output_type": "display_data"
    }
   ],
   "source": [
    "# Código de gráfico del amigo ChatGPT\n",
    "fig = px.scatter(\n",
    "    df_grades.sort_values(by=\"GPA\"), \n",
    "    x=\"GPA\",\n",
    "    y=\"parental level of education\",\n",
    "    hover_data=[\"gender\"],\n",
    "    color=\"GPA cuantiles\",\n",
    "    title=\"GPA por Nivel de educación de los padres\",\n",
    "    color_discrete_sequence=[\"tomato\", \"orange\", \"yellow\", \"greenyellow\", \"green\"]\n",
    ")\n",
    "\n",
    "fig"
   ]
  },
  {
   "cell_type": "markdown",
   "metadata": {
    "cell_id": "bed63a9b43a24aa4834f099c6bc77476",
    "deepnote_cell_height": 70.796875,
    "deepnote_cell_type": "markdown",
    "id": "qKvoYOtSAwXv",
    "tags": []
   },
   "source": [
    "```\n",
    "Escriba aqui su respuesta\n",
    "```\n",
    "Del gráfico se puede observar que el nivel de educación de los padres no pareciera afectar en gran magnitud el promedio de notas de los alumnos. Sin embargo, se evidencia que los alumnos con peores promedios son los que tienen padres en los menores nivel de educación y a medida que el nivel de educación aumenta la cantidad de estudiantes en el cuantil `bajisimo` dismunuye, es decir,  el promedio mínimo pareciera ir \"aumentando\". "
   ]
  },
  {
   "cell_type": "markdown",
   "metadata": {
    "id": "jXrHFWBeg2TW"
   },
   "source": [
    "## 4. Operaciones con tablas [2.0 puntos]"
   ]
  },
  {
   "cell_type": "markdown",
   "metadata": {
    "id": "inctSAJ9J_4L"
   },
   "source": [
    "<p align=\"center\">\n",
    "  <img src=\"https://media.giphy.com/media/v1.Y2lkPTc5MGI3NjExYWx5dTBkMGhhOTJmeGQzbDV5M21rNTN1NWVwMm1qbHd3cjh3Nmk4NSZlcD12MV9pbnRlcm5hbF9naWZfYnlfaWQmY3Q9Zw/13HBDT4QSTpveU/giphy.gif\">\n",
    "</p>\n",
    "\n"
   ]
  },
  {
   "cell_type": "markdown",
   "metadata": {
    "id": "tfNjYc__fdGq"
   },
   "source": [
    "### 4.1 Carga de datos y concatenar dataset [0.2 Puntos]"
   ]
  },
  {
   "cell_type": "markdown",
   "metadata": {
    "id": "LBcNBttOhxoG"
   },
   "source": [
    "Ya finalizado en análisis inicial, ud. y su equipo le entregaron a *Don Caguayo* (rector de la Universidad de la Cachaña) tanto los resultados del análisis como también la base de datos limpia y lista para ser almacenada. Dada la ingente cantidad de los datos, el equipo de TI de la universidad resolvió separar el dataset en dos bases de datos distintas (lo que según argumentan ellos, permitiría hacer agregaciones de forma más eficiente).\n",
    "\n",
    "Gracias a la excelente labor de ud. y su equipo en el análisis previo, el rector le solicita continuar el trabajo con una nueva batería de análisis. Por este motivo, la sección de TI les entrega nuevamente los datos. Sin embargo, argumentan que dada una escazes de personal, solo le entregarán *dumps* (copias) de cada base de datos y su equipo deberá unir las bases de datos. Los datos se encuentran en los siguiente archivos `.json`: `students_grades_1.json` y `students_grades_2.json`.\n",
    "\n",
    "\n",
    "Por ende, ud. y su equipo deciden que la primera tarea se centrará en cargar estos datos y unirlos.\n",
    "\n",
    "**No se preocupe por la limpieza ni transformar el tipo de datos de las columnas, ni tampoco transformar a notas chilenas**, recuerde que anteriormente ya se encargo de este tema.\n"
   ]
  },
  {
   "cell_type": "markdown",
   "metadata": {
    "id": "JeV8dL9rPyq2"
   },
   "source": [
    "Hint: investigue el método `concat`"
   ]
  },
  {
   "cell_type": "markdown",
   "metadata": {},
   "source": [
    "**Respuesta:**"
   ]
  },
  {
   "cell_type": "code",
   "execution_count": 29,
   "metadata": {
    "ExecuteTime": {
     "end_time": "2024-09-03T17:04:04.537491Z",
     "start_time": "2024-09-03T17:04:04.490080Z"
    },
    "id": "umx2QdawPNbB"
   },
   "outputs": [
    {
     "data": {
      "text/html": [
       "<div>\n",
       "<style scoped>\n",
       "    .dataframe tbody tr th:only-of-type {\n",
       "        vertical-align: middle;\n",
       "    }\n",
       "\n",
       "    .dataframe tbody tr th {\n",
       "        vertical-align: top;\n",
       "    }\n",
       "\n",
       "    .dataframe thead th {\n",
       "        text-align: right;\n",
       "    }\n",
       "</style>\n",
       "<table border=\"1\" class=\"dataframe\">\n",
       "  <thead>\n",
       "    <tr style=\"text-align: right;\">\n",
       "      <th></th>\n",
       "      <th>names</th>\n",
       "      <th>gender</th>\n",
       "      <th>race/ethnicity</th>\n",
       "      <th>parental level of education</th>\n",
       "      <th>lunch</th>\n",
       "      <th>test preparation course</th>\n",
       "      <th>math score</th>\n",
       "      <th>reading score</th>\n",
       "      <th>writing score</th>\n",
       "      <th>GPA</th>\n",
       "      <th>GPA cuantiles</th>\n",
       "    </tr>\n",
       "  </thead>\n",
       "  <tbody>\n",
       "    <tr>\n",
       "      <th>0</th>\n",
       "      <td>Rita Courtney</td>\n",
       "      <td>female</td>\n",
       "      <td>group B</td>\n",
       "      <td>some high school</td>\n",
       "      <td>standard</td>\n",
       "      <td>none</td>\n",
       "      <td>3.22</td>\n",
       "      <td>3.76</td>\n",
       "      <td>3.76</td>\n",
       "      <td>3.58</td>\n",
       "      <td>Bajísimo</td>\n",
       "    </tr>\n",
       "    <tr>\n",
       "      <th>1</th>\n",
       "      <td>Charles Linstrom</td>\n",
       "      <td>male</td>\n",
       "      <td>group A</td>\n",
       "      <td>bachelor's degree</td>\n",
       "      <td>standard</td>\n",
       "      <td>completed</td>\n",
       "      <td>5.80</td>\n",
       "      <td>5.68</td>\n",
       "      <td>5.86</td>\n",
       "      <td>5.78</td>\n",
       "      <td>Alto</td>\n",
       "    </tr>\n",
       "    <tr>\n",
       "      <th>2</th>\n",
       "      <td>Brian Young</td>\n",
       "      <td>male</td>\n",
       "      <td>group C</td>\n",
       "      <td>some high school</td>\n",
       "      <td>standard</td>\n",
       "      <td>none</td>\n",
       "      <td>5.38</td>\n",
       "      <td>4.96</td>\n",
       "      <td>4.78</td>\n",
       "      <td>5.04</td>\n",
       "      <td>Medio</td>\n",
       "    </tr>\n",
       "    <tr>\n",
       "      <th>3</th>\n",
       "      <td>Howard Jimenez</td>\n",
       "      <td>male</td>\n",
       "      <td>group E</td>\n",
       "      <td>some high school</td>\n",
       "      <td>standard</td>\n",
       "      <td>completed</td>\n",
       "      <td>5.86</td>\n",
       "      <td>5.50</td>\n",
       "      <td>5.56</td>\n",
       "      <td>5.64</td>\n",
       "      <td>Alto</td>\n",
       "    </tr>\n",
       "    <tr>\n",
       "      <th>4</th>\n",
       "      <td>Wayne Wilson</td>\n",
       "      <td>male</td>\n",
       "      <td>group B</td>\n",
       "      <td>some high school</td>\n",
       "      <td>standard</td>\n",
       "      <td>completed</td>\n",
       "      <td>6.64</td>\n",
       "      <td>6.16</td>\n",
       "      <td>6.22</td>\n",
       "      <td>6.34</td>\n",
       "      <td>Muy alto</td>\n",
       "    </tr>\n",
       "    <tr>\n",
       "      <th>...</th>\n",
       "      <td>...</td>\n",
       "      <td>...</td>\n",
       "      <td>...</td>\n",
       "      <td>...</td>\n",
       "      <td>...</td>\n",
       "      <td>...</td>\n",
       "      <td>...</td>\n",
       "      <td>...</td>\n",
       "      <td>...</td>\n",
       "      <td>...</td>\n",
       "      <td>...</td>\n",
       "    </tr>\n",
       "    <tr>\n",
       "      <th>998</th>\n",
       "      <td>Richard Young</td>\n",
       "      <td>male</td>\n",
       "      <td>group D</td>\n",
       "      <td>high school</td>\n",
       "      <td>standard</td>\n",
       "      <td>none</td>\n",
       "      <td>5.14</td>\n",
       "      <td>5.50</td>\n",
       "      <td>5.26</td>\n",
       "      <td>5.30</td>\n",
       "      <td>Medio</td>\n",
       "    </tr>\n",
       "    <tr>\n",
       "      <th>999</th>\n",
       "      <td>Wanda Russell</td>\n",
       "      <td>female</td>\n",
       "      <td>group B</td>\n",
       "      <td>high school</td>\n",
       "      <td>free/reduced</td>\n",
       "      <td>completed</td>\n",
       "      <td>2.38</td>\n",
       "      <td>3.64</td>\n",
       "      <td>3.16</td>\n",
       "      <td>3.06</td>\n",
       "      <td>Bajísimo</td>\n",
       "    </tr>\n",
       "    <tr>\n",
       "      <th>1000</th>\n",
       "      <td>Marina Zeigler</td>\n",
       "      <td>female</td>\n",
       "      <td>group C</td>\n",
       "      <td>bachelor's degree</td>\n",
       "      <td>free/reduced</td>\n",
       "      <td>completed</td>\n",
       "      <td>4.96</td>\n",
       "      <td>5.44</td>\n",
       "      <td>5.86</td>\n",
       "      <td>5.42</td>\n",
       "      <td>Alto</td>\n",
       "    </tr>\n",
       "    <tr>\n",
       "      <th>1001</th>\n",
       "      <td>Laurie Carter</td>\n",
       "      <td>female</td>\n",
       "      <td>group B</td>\n",
       "      <td>some high school</td>\n",
       "      <td>standard</td>\n",
       "      <td>completed</td>\n",
       "      <td>4.24</td>\n",
       "      <td>4.66</td>\n",
       "      <td>4.72</td>\n",
       "      <td>4.54</td>\n",
       "      <td>Bajo</td>\n",
       "    </tr>\n",
       "    <tr>\n",
       "      <th>1002</th>\n",
       "      <td>Amanda Perez</td>\n",
       "      <td>female</td>\n",
       "      <td>group A</td>\n",
       "      <td>high school</td>\n",
       "      <td>standard</td>\n",
       "      <td>completed</td>\n",
       "      <td>5.08</td>\n",
       "      <td>5.80</td>\n",
       "      <td>5.56</td>\n",
       "      <td>5.48</td>\n",
       "      <td>Alto</td>\n",
       "    </tr>\n",
       "  </tbody>\n",
       "</table>\n",
       "<p>1000 rows × 11 columns</p>\n",
       "</div>"
      ],
      "text/plain": [
       "                 names  gender race/ethnicity parental level of education  \\\n",
       "0        Rita Courtney  female        group B            some high school   \n",
       "1     Charles Linstrom    male        group A           bachelor's degree   \n",
       "2          Brian Young    male        group C            some high school   \n",
       "3       Howard Jimenez    male        group E            some high school   \n",
       "4         Wayne Wilson    male        group B            some high school   \n",
       "...                ...     ...            ...                         ...   \n",
       "998      Richard Young    male        group D                 high school   \n",
       "999      Wanda Russell  female        group B                 high school   \n",
       "1000    Marina Zeigler  female        group C           bachelor's degree   \n",
       "1001     Laurie Carter  female        group B            some high school   \n",
       "1002      Amanda Perez  female        group A                 high school   \n",
       "\n",
       "             lunch test preparation course  math score  reading score  \\\n",
       "0         standard                    none        3.22           3.76   \n",
       "1         standard               completed        5.80           5.68   \n",
       "2         standard                    none        5.38           4.96   \n",
       "3         standard               completed        5.86           5.50   \n",
       "4         standard               completed        6.64           6.16   \n",
       "...            ...                     ...         ...            ...   \n",
       "998       standard                    none        5.14           5.50   \n",
       "999   free/reduced               completed        2.38           3.64   \n",
       "1000  free/reduced               completed        4.96           5.44   \n",
       "1001      standard               completed        4.24           4.66   \n",
       "1002      standard               completed        5.08           5.80   \n",
       "\n",
       "      writing score   GPA GPA cuantiles  \n",
       "0              3.76  3.58      Bajísimo  \n",
       "1              5.86  5.78          Alto  \n",
       "2              4.78  5.04         Medio  \n",
       "3              5.56  5.64          Alto  \n",
       "4              6.22  6.34      Muy alto  \n",
       "...             ...   ...           ...  \n",
       "998            5.26  5.30         Medio  \n",
       "999            3.16  3.06      Bajísimo  \n",
       "1000           5.86  5.42          Alto  \n",
       "1001           4.72  4.54          Bajo  \n",
       "1002           5.56  5.48          Alto  \n",
       "\n",
       "[1000 rows x 11 columns]"
      ]
     },
     "execution_count": 29,
     "metadata": {},
     "output_type": "execute_result"
    }
   ],
   "source": [
    "# Inserte su respuesta aquí\n",
    "df_grades_1= pd.read_json('./students_grades_1.json',  dtype=True)\n",
    "df_grades_2= pd.read_json('./students_grades_2.json',  dtype=True)\n",
    "\n",
    "\n",
    "df_grades = pd.concat([df_grades_1,df_grades_2])\n",
    "#exploratory_data_analysis(df_grades)\n",
    "df_grades"
   ]
  },
  {
   "cell_type": "markdown",
   "metadata": {
    "id": "2-66WNMKh2L1"
   },
   "source": [
    "### 4.2 Análisis por Nivel Educacional Etnia de los Padres [0.8 Puntos]"
   ]
  },
  {
   "cell_type": "markdown",
   "metadata": {
    "id": "QyGQjpS_gMZo"
   },
   "source": [
    "El rector, basado en su experiencia, cree fuertemente que el nivel educacional y la etnia de los padres influyen en las notas que obtienen sus hijos.\n",
    "Como científicos de datos, ud. y su equipo creen que deben encontrar evidencia para confirmar o refutar la hipótesis del rector.\n",
    "\n",
    "Para esto, deciden generar dos análisis: una tabla de resumen por una parte y gráficos de caja por otro.\n",
    "\n",
    "\n",
    "**Tabla de Resumen [0.5 Puntos]**\n",
    "\n",
    "\n",
    "Para generar la tabla de resumen:\n",
    "\n",
    "- [X] Calcular el promedio de las notas y guardarlo en una variable `GPA` (grade point average).\n",
    "- [ ] Hacer una simplificación a través de un mapeo (investigar el método `map()`) de la variable `parental level of education`  según la siguiente conversión:\n",
    "\n",
    "        some high school -> school\n",
    "        some college -> school\n",
    "        high school -> school\n",
    "        bachelor's degree -> college\n",
    "        associate's degree -> college\n",
    "        master's degree -> postgraduate\n",
    "\n",
    "  Los resultados de este mapeo deben ser guardados en la columna `simple parental level of education`.\n",
    "\n",
    "\n",
    "- [ ] Agregar según 2 niveles: `race/ethnicity` y `simple parental level of education` para obtener el promedio de las notas.\n",
    "- [ ] Agregar según 2 niveles: `race/ethnicity` y `simple parental level of education` para obtener un conteo de los alumnos en cada grupo y agregarlos como una nueva fila count.\n",
    "- [ ] Obtener el porcentaje de alumnos con respecto al total. Los porcentajes deben ser strings que contienen la frecuencia de cada grupo con respecto al total y deben ser terminados en '%'.\n",
    "\n",
    "Utilizar la tabla de resultados esperados como guía para desarrollar este punto.\n",
    "\n",
    "\n",
    "**Análisis [0.3 Puntos]**\n",
    "\n",
    "Finalmente, responda las siguientes preguntas sobre el gráfico de caja que viene implementado a continuación. En este se muestra el GPA con respecto al nivel educacional, donde la variable de color es la etnicidad.\n",
    "\n",
    "- [ ]  ¿Hay alguna diferencia entre los grupos graficados tanto para el nivel educacional de los padres como también para la etnicidad?\n"
   ]
  },
  {
   "cell_type": "markdown",
   "metadata": {},
   "source": [
    "**Respuesta:**"
   ]
  },
  {
   "cell_type": "code",
   "execution_count": 73,
   "metadata": {
    "ExecuteTime": {
     "end_time": "2024-09-03T17:27:17.330448Z",
     "start_time": "2024-09-03T17:27:17.298869Z"
    },
    "id": "QiMZ0SyGPPM_"
   },
   "outputs": [
    {
     "data": {
      "text/html": [
       "<div>\n",
       "<style scoped>\n",
       "    .dataframe tbody tr th:only-of-type {\n",
       "        vertical-align: middle;\n",
       "    }\n",
       "\n",
       "    .dataframe tbody tr th {\n",
       "        vertical-align: top;\n",
       "    }\n",
       "\n",
       "    .dataframe thead th {\n",
       "        text-align: right;\n",
       "    }\n",
       "</style>\n",
       "<table border=\"1\" class=\"dataframe\">\n",
       "  <thead>\n",
       "    <tr style=\"text-align: right;\">\n",
       "      <th></th>\n",
       "      <th></th>\n",
       "      <th>math score</th>\n",
       "      <th>reading score</th>\n",
       "      <th>writing score</th>\n",
       "      <th>GPA</th>\n",
       "      <th>count</th>\n",
       "      <th>porcentaje</th>\n",
       "    </tr>\n",
       "    <tr>\n",
       "      <th>race/ethnicity</th>\n",
       "      <th>simple parental level of education</th>\n",
       "      <th></th>\n",
       "      <th></th>\n",
       "      <th></th>\n",
       "      <th></th>\n",
       "      <th></th>\n",
       "      <th></th>\n",
       "    </tr>\n",
       "  </thead>\n",
       "  <tbody>\n",
       "    <tr>\n",
       "      <th rowspan=\"3\" valign=\"top\">group A</th>\n",
       "      <th>college</th>\n",
       "      <td>4.83</td>\n",
       "      <td>5.05</td>\n",
       "      <td>4.95</td>\n",
       "      <td>4.94</td>\n",
       "      <td>26</td>\n",
       "      <td>2.6%</td>\n",
       "    </tr>\n",
       "    <tr>\n",
       "      <th>postgraduate</th>\n",
       "      <td>4.46</td>\n",
       "      <td>4.88</td>\n",
       "      <td>5.06</td>\n",
       "      <td>4.80</td>\n",
       "      <td>3</td>\n",
       "      <td>0.3%</td>\n",
       "    </tr>\n",
       "    <tr>\n",
       "      <th>school</th>\n",
       "      <td>4.65</td>\n",
       "      <td>4.81</td>\n",
       "      <td>4.66</td>\n",
       "      <td>4.71</td>\n",
       "      <td>60</td>\n",
       "      <td>6.0%</td>\n",
       "    </tr>\n",
       "    <tr>\n",
       "      <th rowspan=\"3\" valign=\"top\">group B</th>\n",
       "      <th>college</th>\n",
       "      <td>5.03</td>\n",
       "      <td>5.24</td>\n",
       "      <td>5.16</td>\n",
       "      <td>5.14</td>\n",
       "      <td>61</td>\n",
       "      <td>6.1%</td>\n",
       "    </tr>\n",
       "    <tr>\n",
       "      <th>postgraduate</th>\n",
       "      <td>5.03</td>\n",
       "      <td>5.81</td>\n",
       "      <td>5.63</td>\n",
       "      <td>5.49</td>\n",
       "      <td>6</td>\n",
       "      <td>0.6%</td>\n",
       "    </tr>\n",
       "    <tr>\n",
       "      <th>school</th>\n",
       "      <td>4.69</td>\n",
       "      <td>4.90</td>\n",
       "      <td>4.79</td>\n",
       "      <td>4.79</td>\n",
       "      <td>123</td>\n",
       "      <td>12.3%</td>\n",
       "    </tr>\n",
       "    <tr>\n",
       "      <th rowspan=\"3\" valign=\"top\">group C</th>\n",
       "      <th>college</th>\n",
       "      <td>5.03</td>\n",
       "      <td>5.36</td>\n",
       "      <td>5.33</td>\n",
       "      <td>5.24</td>\n",
       "      <td>118</td>\n",
       "      <td>11.8%</td>\n",
       "    </tr>\n",
       "    <tr>\n",
       "      <th>postgraduate</th>\n",
       "      <td>5.02</td>\n",
       "      <td>5.23</td>\n",
       "      <td>5.17</td>\n",
       "      <td>5.14</td>\n",
       "      <td>19</td>\n",
       "      <td>1.9%</td>\n",
       "    </tr>\n",
       "    <tr>\n",
       "      <th>school</th>\n",
       "      <td>4.74</td>\n",
       "      <td>5.00</td>\n",
       "      <td>4.89</td>\n",
       "      <td>4.88</td>\n",
       "      <td>182</td>\n",
       "      <td>18.2%</td>\n",
       "    </tr>\n",
       "    <tr>\n",
       "      <th rowspan=\"3\" valign=\"top\">group D</th>\n",
       "      <th>college</th>\n",
       "      <td>5.06</td>\n",
       "      <td>5.22</td>\n",
       "      <td>5.24</td>\n",
       "      <td>5.17</td>\n",
       "      <td>78</td>\n",
       "      <td>7.8%</td>\n",
       "    </tr>\n",
       "    <tr>\n",
       "      <th>postgraduate</th>\n",
       "      <td>5.35</td>\n",
       "      <td>5.63</td>\n",
       "      <td>5.78</td>\n",
       "      <td>5.59</td>\n",
       "      <td>23</td>\n",
       "      <td>2.3%</td>\n",
       "    </tr>\n",
       "    <tr>\n",
       "      <th>school</th>\n",
       "      <td>4.99</td>\n",
       "      <td>5.13</td>\n",
       "      <td>5.11</td>\n",
       "      <td>5.08</td>\n",
       "      <td>161</td>\n",
       "      <td>16.1%</td>\n",
       "    </tr>\n",
       "    <tr>\n",
       "      <th rowspan=\"3\" valign=\"top\">group E</th>\n",
       "      <th>college</th>\n",
       "      <td>5.53</td>\n",
       "      <td>5.45</td>\n",
       "      <td>5.43</td>\n",
       "      <td>5.47</td>\n",
       "      <td>57</td>\n",
       "      <td>5.7%</td>\n",
       "    </tr>\n",
       "    <tr>\n",
       "      <th>postgraduate</th>\n",
       "      <td>5.48</td>\n",
       "      <td>5.93</td>\n",
       "      <td>5.83</td>\n",
       "      <td>5.74</td>\n",
       "      <td>8</td>\n",
       "      <td>0.8%</td>\n",
       "    </tr>\n",
       "    <tr>\n",
       "      <th>school</th>\n",
       "      <td>5.35</td>\n",
       "      <td>5.27</td>\n",
       "      <td>5.11</td>\n",
       "      <td>5.25</td>\n",
       "      <td>75</td>\n",
       "      <td>7.5%</td>\n",
       "    </tr>\n",
       "  </tbody>\n",
       "</table>\n",
       "</div>"
      ],
      "text/plain": [
       "                                                   math score  reading score  \\\n",
       "race/ethnicity simple parental level of education                              \n",
       "group A        college                                   4.83           5.05   \n",
       "               postgraduate                              4.46           4.88   \n",
       "               school                                    4.65           4.81   \n",
       "group B        college                                   5.03           5.24   \n",
       "               postgraduate                              5.03           5.81   \n",
       "               school                                    4.69           4.90   \n",
       "group C        college                                   5.03           5.36   \n",
       "               postgraduate                              5.02           5.23   \n",
       "               school                                    4.74           5.00   \n",
       "group D        college                                   5.06           5.22   \n",
       "               postgraduate                              5.35           5.63   \n",
       "               school                                    4.99           5.13   \n",
       "group E        college                                   5.53           5.45   \n",
       "               postgraduate                              5.48           5.93   \n",
       "               school                                    5.35           5.27   \n",
       "\n",
       "                                                   writing score   GPA  count  \\\n",
       "race/ethnicity simple parental level of education                               \n",
       "group A        college                                      4.95  4.94     26   \n",
       "               postgraduate                                 5.06  4.80      3   \n",
       "               school                                       4.66  4.71     60   \n",
       "group B        college                                      5.16  5.14     61   \n",
       "               postgraduate                                 5.63  5.49      6   \n",
       "               school                                       4.79  4.79    123   \n",
       "group C        college                                      5.33  5.24    118   \n",
       "               postgraduate                                 5.17  5.14     19   \n",
       "               school                                       4.89  4.88    182   \n",
       "group D        college                                      5.24  5.17     78   \n",
       "               postgraduate                                 5.78  5.59     23   \n",
       "               school                                       5.11  5.08    161   \n",
       "group E        college                                      5.43  5.47     57   \n",
       "               postgraduate                                 5.83  5.74      8   \n",
       "               school                                       5.11  5.25     75   \n",
       "\n",
       "                                                  porcentaje  \n",
       "race/ethnicity simple parental level of education             \n",
       "group A        college                                  2.6%  \n",
       "               postgraduate                             0.3%  \n",
       "               school                                   6.0%  \n",
       "group B        college                                  6.1%  \n",
       "               postgraduate                             0.6%  \n",
       "               school                                  12.3%  \n",
       "group C        college                                 11.8%  \n",
       "               postgraduate                             1.9%  \n",
       "               school                                  18.2%  \n",
       "group D        college                                  7.8%  \n",
       "               postgraduate                             2.3%  \n",
       "               school                                  16.1%  \n",
       "group E        college                                  5.7%  \n",
       "               postgraduate                             0.8%  \n",
       "               school                                   7.5%  "
      ]
     },
     "metadata": {},
     "output_type": "display_data"
    }
   ],
   "source": [
    "# Inserte su respuesta aquí\n",
    "df_copia = df_grades.copy()\n",
    "#1. Calcular GPA (ya está)\n",
    "#2. Simplificación var 'parental level of education'\n",
    "df_copia[\"simple parental level of education\"] = df_grades[\"parental level of education\"].map({\"some high school\":\"school\", \n",
    "                          \"some college\":\"school\",\n",
    "                          \"high school\":\"school\",\n",
    "                          \"bachelor's degree\":\"college\",\n",
    "                          \"associate's degree\":\"college\",\n",
    "                          \"master's degree\":\"postgraduate\"})\n",
    "#3. Agregar según 2 niveles: `race/ethnicity` y `simple parental level of education` para obtener el promedio de las notas\n",
    "df_agg = df_copia.groupby([\"race/ethnicity\",\"simple parental level of education\"]).mean(numeric_only=True).round(2)\n",
    "\n",
    "#4  conteo de los alumnos en cada grupo. Nota: no logre hacerlo los dos a la vez :(\n",
    "\n",
    "df_agg['count'] = df_copia.groupby(['race/ethnicity', 'simple parental level of education']).size()\n",
    "\n",
    "\n",
    "#5. Obtener el porcentaje de alumnos con respecto al total. Los porcentajes deben ser strings que contienen la frecuencia de cada grupo con respecto al total y deben ser terminados en '%'.\n",
    "total = df_agg['count'].sum()\n",
    "df_agg['porcentaje'] = ((df_agg['count'] / total) * 100).apply(lambda x: f'{x:.1f}%') # La funcion lambda pasa el porcentaje a tuipo object y se asegura de tener  el simbolo '%', con 1 decimal de precision.\n",
    "\n",
    "\n",
    "display(df_agg)\n"
   ]
  },
  {
   "cell_type": "code",
   "execution_count": 86,
   "metadata": {
    "cell_id": "3587d7516d314ef9ad4d4bacee2dc873",
    "deepnote_cell_height": 744,
    "deepnote_cell_type": "code",
    "deepnote_output_heights": [
     526
    ],
    "deepnote_to_be_reexecuted": false,
    "execution_millis": 124,
    "execution_start": 1633705916137,
    "id": "CpsRRS5Cxlik",
    "outputId": "c258da1f-207c-417b-be20-c843501bc6ba",
    "source_hash": null
   },
   "outputs": [
    {
     "data": {
      "application/vnd.plotly.v1+json": {
       "config": {
        "plotlyServerURL": "https://plot.ly"
       },
       "data": [
        {
         "alignmentgroup": "True",
         "hovertemplate": "race/ethnicity=group B<br>simple parental level of education=%{x}<br>GPA=%{y}<extra></extra>",
         "legendgroup": "group B",
         "marker": {
          "color": "#636efa"
         },
         "name": "group B",
         "notched": false,
         "offsetgroup": "group B",
         "orientation": "v",
         "showlegend": true,
         "type": "box",
         "x": [
          "school",
          "school",
          "college",
          "school",
          "school",
          "college",
          "school",
          "school",
          "school",
          "school",
          "college",
          "school",
          "school",
          "school",
          "school",
          "school",
          "college",
          "college",
          "school",
          "college",
          "college",
          "school",
          "college",
          "college",
          "college",
          "college",
          "school",
          "school",
          "school",
          "school",
          "school",
          "college",
          "school",
          "school",
          "college",
          "college",
          "school",
          "college",
          "college",
          "school",
          "college",
          "college",
          "school",
          "school",
          "school",
          "school",
          "college",
          "school",
          "college",
          "college",
          "school",
          "school",
          "college",
          "school",
          "school",
          "college",
          "college",
          "school",
          "school",
          "college",
          "school",
          "school",
          "school",
          "school",
          "school",
          "school",
          "school",
          "school",
          "college",
          "school",
          "school",
          "college",
          "college",
          "school",
          "college",
          "college",
          "school",
          "school",
          "postgraduate",
          "school",
          "college",
          "college",
          "school",
          "school",
          "college",
          "college",
          "college",
          "college",
          "school",
          "school",
          "college",
          "school",
          "college",
          "school",
          "college",
          "school",
          "school",
          "school",
          "school",
          "school",
          "college",
          "school",
          "college",
          "school",
          "postgraduate",
          "postgraduate",
          "school",
          "college",
          "school",
          "school",
          "college",
          "school",
          "school",
          "college",
          "school",
          "school",
          "school",
          "school",
          "school",
          "school",
          "school",
          "school",
          "college",
          "college",
          "school",
          "school",
          "school",
          "school",
          "school",
          "school",
          "school",
          "school",
          "college",
          "school",
          "school",
          "school",
          "school",
          "school",
          "postgraduate",
          "college",
          "school",
          "school",
          "college",
          "college",
          "college",
          "school",
          "college",
          "school",
          "school",
          "school",
          "school",
          "school",
          "school",
          "school",
          "school",
          "college",
          "school",
          "school",
          "school",
          "school",
          "postgraduate",
          "school",
          "school",
          "postgraduate",
          "school",
          "school",
          "school",
          "college",
          "school",
          "college",
          "college",
          "college",
          "school",
          "school",
          "school",
          "school",
          "school",
          "school",
          "school",
          "college",
          "college",
          "school",
          "college",
          "school",
          "school",
          "college",
          "school",
          "school",
          "school",
          "school"
         ],
         "x0": " ",
         "xaxis": "x",
         "y": [
          3.58,
          6.34,
          4.96,
          5.2,
          5.38,
          4.24,
          5.84,
          4.6,
          4.4,
          2.84,
          5.66,
          4.92,
          5.62,
          6.08,
          4.64,
          4.16,
          3.76,
          5.9,
          6.14,
          5.54,
          5.88,
          5.14,
          4.78,
          4.36,
          5.52,
          5.84,
          5.08,
          3.7800000000000002,
          5.58,
          3.54,
          2.7800000000000002,
          6.44,
          4.76,
          3.92,
          5.72,
          4.5,
          4.84,
          6.14,
          4.72,
          5.64,
          3.88,
          5.64,
          3.9,
          4.84,
          4.92,
          4.92,
          4.4,
          5.2,
          3.7199999999999998,
          4.52,
          4.06,
          5.46,
          4.28,
          4.16,
          5.5600000000000005,
          4.72,
          4.82,
          4.82,
          5.1,
          6.8,
          4.58,
          3.44,
          4.78,
          5.96,
          4.96,
          4.06,
          5.12,
          4.14,
          5.78,
          5.88,
          4.48,
          5.68,
          5.58,
          4.72,
          4.86,
          5.9,
          5.16,
          3.94,
          6.02,
          4.82,
          5.5,
          4.9,
          2.1,
          4.82,
          6.42,
          4.72,
          3.92,
          4.86,
          4.6,
          5.06,
          4.68,
          5.54,
          3.46,
          5.8,
          4.52,
          4.14,
          5.38,
          5.24,
          6.04,
          6.22,
          6.46,
          4.9,
          5.42,
          5.94,
          6.5600000000000005,
          4.08,
          3.9,
          5.98,
          6.14,
          5.86,
          5.04,
          4.02,
          4.7,
          4.62,
          5.48,
          5.94,
          4.6,
          4.74,
          4.9,
          5.16,
          4.24,
          5,
          4.1,
          5.64,
          4.46,
          5.32,
          4.12,
          4.6,
          4.06,
          5.36,
          5.26,
          3.98,
          4.36,
          4.5,
          3.2800000000000002,
          5.76,
          4.42,
          4.92,
          4.68,
          4.66,
          3.96,
          4.88,
          5.98,
          5.98,
          5.78,
          2.7800000000000002,
          3.9,
          5.98,
          6,
          4.24,
          4.28,
          3.62,
          5.46,
          5.4,
          4.16,
          6.3,
          4.84,
          2.38,
          4.74,
          5.08,
          5.24,
          4.8,
          6.36,
          6.36,
          4.86,
          4.5600000000000005,
          5.62,
          5.06,
          4.72,
          5.4,
          5.06,
          4.82,
          3.94,
          2.56,
          4.94,
          4.02,
          5.26,
          5,
          3.7,
          5.78,
          4.88,
          6.5,
          5.68,
          6.5600000000000005,
          5.88,
          5.36,
          5.5,
          5.16,
          3.06,
          4.54
         ],
         "y0": " ",
         "yaxis": "y"
        },
        {
         "alignmentgroup": "True",
         "hovertemplate": "race/ethnicity=group A<br>simple parental level of education=%{x}<br>GPA=%{y}<extra></extra>",
         "legendgroup": "group A",
         "marker": {
          "color": "#EF553B"
         },
         "name": "group A",
         "notched": false,
         "offsetgroup": "group A",
         "orientation": "v",
         "showlegend": true,
         "type": "box",
         "x": [
          "college",
          "school",
          "college",
          "college",
          "college",
          "college",
          "college",
          "school",
          "school",
          "school",
          "college",
          "school",
          "college",
          "postgraduate",
          "school",
          "school",
          "college",
          "school",
          "school",
          "school",
          "college",
          "school",
          "postgraduate",
          "school",
          "school",
          "school",
          "school",
          "school",
          "postgraduate",
          "school",
          "college",
          "school",
          "school",
          "school",
          "school",
          "school",
          "school",
          "college",
          "college",
          "college",
          "college",
          "school",
          "school",
          "school",
          "school",
          "school",
          "school",
          "college",
          "school",
          "school",
          "school",
          "school",
          "college",
          "school",
          "school",
          "school",
          "school",
          "school",
          "school",
          "college",
          "school",
          "college",
          "school",
          "school",
          "school",
          "college",
          "school",
          "school",
          "school",
          "school",
          "school",
          "school",
          "school",
          "college",
          "college",
          "school",
          "school",
          "school",
          "college",
          "school",
          "college",
          "school",
          "school",
          "school",
          "school",
          "college",
          "college",
          "school",
          "school"
         ],
         "x0": " ",
         "xaxis": "x",
         "y": [
          5.78,
          3.46,
          4.7,
          5.02,
          4.84,
          3.96,
          4.36,
          4.96,
          3.7800000000000002,
          4.84,
          4.98,
          4.26,
          5.18,
          4.8,
          4.28,
          4.24,
          4.64,
          4.68,
          4.32,
          6.12,
          4,
          5.08,
          4.22,
          2.4,
          4.02,
          5.38,
          4.1,
          4.68,
          5.38,
          6.64,
          4.5600000000000005,
          4.12,
          5.1,
          3.94,
          4.1,
          5.4,
          6,
          6.16,
          4.08,
          6.5,
          5.52,
          4.58,
          5.08,
          3.68,
          3.88,
          5.02,
          3.9,
          3.8,
          4.76,
          6.78,
          3.36,
          5.18,
          4.54,
          3.24,
          6.34,
          4.96,
          4.14,
          5.66,
          4.14,
          6.36,
          5.72,
          4.02,
          5.62,
          3.68,
          3.48,
          5.86,
          3.6,
          5.6,
          4.5,
          5.68,
          3.8200000000000003,
          5.08,
          5.48,
          5.24,
          4.9,
          5.7,
          4.38,
          4.5600000000000005,
          4.34,
          4.9,
          4.64,
          4.5600000000000005,
          5.02,
          5.8,
          4.66,
          3.96,
          6.58,
          4.54,
          5.48
         ],
         "y0": " ",
         "yaxis": "y"
        },
        {
         "alignmentgroup": "True",
         "hovertemplate": "race/ethnicity=group C<br>simple parental level of education=%{x}<br>GPA=%{y}<extra></extra>",
         "legendgroup": "group C",
         "marker": {
          "color": "#00cc96"
         },
         "name": "group C",
         "notched": false,
         "offsetgroup": "group C",
         "orientation": "v",
         "showlegend": true,
         "type": "box",
         "x": [
          "school",
          "college",
          "postgraduate",
          "college",
          "school",
          "school",
          "school",
          "school",
          "college",
          "school",
          "school",
          "school",
          "college",
          "postgraduate",
          "college",
          "college",
          "college",
          "school",
          "college",
          "college",
          "college",
          "college",
          "school",
          "college",
          "school",
          "school",
          "school",
          "school",
          "school",
          "college",
          "college",
          "college",
          "college",
          "college",
          "school",
          "school",
          "college",
          "school",
          "school",
          "school",
          "school",
          "school",
          "college",
          "college",
          "college",
          "school",
          "college",
          "school",
          "college",
          "school",
          "college",
          "school",
          "school",
          "college",
          "postgraduate",
          "school",
          "school",
          "school",
          "college",
          "school",
          "school",
          "college",
          "school",
          "school",
          "school",
          "school",
          "school",
          "college",
          "school",
          "school",
          "school",
          "school",
          "college",
          "school",
          "college",
          "school",
          "school",
          "school",
          "college",
          "school",
          "college",
          "school",
          "school",
          "college",
          "college",
          "college",
          "school",
          "school",
          "college",
          "school",
          "college",
          "school",
          "school",
          "school",
          "college",
          "college",
          "school",
          "postgraduate",
          "college",
          "school",
          "school",
          "college",
          "college",
          "college",
          "school",
          "college",
          "postgraduate",
          "college",
          "college",
          "school",
          "college",
          "college",
          "school",
          "school",
          "school",
          "school",
          "college",
          "school",
          "school",
          "school",
          "college",
          "school",
          "school",
          "postgraduate",
          "school",
          "college",
          "postgraduate",
          "school",
          "college",
          "college",
          "college",
          "college",
          "school",
          "school",
          "school",
          "school",
          "school",
          "school",
          "school",
          "college",
          "postgraduate",
          "college",
          "college",
          "school",
          "school",
          "college",
          "school",
          "school",
          "college",
          "college",
          "school",
          "college",
          "college",
          "school",
          "college",
          "college",
          "school",
          "college",
          "college",
          "college",
          "college",
          "school",
          "school",
          "school",
          "school",
          "school",
          "college",
          "school",
          "school",
          "school",
          "school",
          "school",
          "school",
          "school",
          "college",
          "college",
          "postgraduate",
          "school",
          "college",
          "college",
          "school",
          "postgraduate",
          "college",
          "college",
          "college",
          "school",
          "school",
          "school",
          "school",
          "postgraduate",
          "college",
          "school",
          "school",
          "college",
          "school",
          "college",
          "college",
          "school",
          "college",
          "school",
          "school",
          "school",
          "school",
          "school",
          "school",
          "school",
          "school",
          "college",
          "school",
          "school",
          "school",
          "college",
          "school",
          "school",
          "college",
          "school",
          "school",
          "school",
          "school",
          "college",
          "college",
          "college",
          "college",
          "school",
          "school",
          "school",
          "school",
          "school",
          "college",
          "school",
          "school",
          "school",
          "college",
          "college",
          "postgraduate",
          "school",
          "school",
          "college",
          "school",
          "school",
          "college",
          "postgraduate",
          "school",
          "college",
          "postgraduate",
          "school",
          "school",
          "college",
          "school",
          "school",
          "college",
          "school",
          "college",
          "school",
          "college",
          "postgraduate",
          "college",
          "college",
          "college",
          "school",
          "school",
          "college",
          "school",
          "school",
          "school",
          "school",
          "school",
          "school",
          "school",
          "school",
          "postgraduate",
          "college",
          "school",
          "college",
          "school",
          "school",
          "school",
          "postgraduate",
          "school",
          "school",
          "college",
          "college",
          "school",
          "school",
          "school",
          "school",
          "school",
          "school",
          "school",
          "postgraduate",
          "college",
          "postgraduate",
          "school",
          "school",
          "school",
          "college",
          "school",
          "school",
          "school",
          "college",
          "school",
          "college",
          "school",
          "college",
          "school",
          "school",
          "school",
          "school",
          "college",
          "school",
          "school",
          "college",
          "college",
          "school",
          "college",
          "college",
          "school",
          "school",
          "college"
         ],
         "x0": " ",
         "xaxis": "x",
         "y": [
          5.04,
          4.7,
          3.68,
          5.1,
          5.94,
          4.44,
          4.68,
          2.8,
          5,
          5.16,
          5.14,
          4.84,
          6.32,
          6.22,
          4.34,
          4.28,
          4.88,
          4.9,
          6.5600000000000005,
          6.62,
          6.36,
          5.12,
          3.84,
          4.86,
          5.22,
          4.52,
          4.1,
          4.7,
          5.46,
          6.42,
          4.78,
          4.46,
          5.32,
          5.5,
          4.38,
          5.38,
          4.36,
          6.12,
          5.32,
          6.54,
          6.24,
          4.94,
          4.32,
          5.04,
          4.58,
          3.8,
          5.5,
          6.04,
          3.96,
          4.98,
          4.38,
          4.28,
          4.6,
          5.46,
          5.62,
          5.26,
          4.14,
          5.94,
          5.32,
          5.04,
          2.88,
          6.02,
          5.58,
          4.5,
          5.08,
          4.08,
          5.3,
          5.28,
          5.02,
          6.26,
          5.68,
          5.12,
          4,
          3.58,
          6.5,
          6.34,
          4.48,
          3.68,
          4.22,
          5.64,
          5.98,
          4.16,
          5.72,
          5.38,
          4.88,
          5.76,
          5.7,
          3.26,
          5.14,
          5.4,
          5.68,
          5.48,
          5.42,
          6.4,
          5.68,
          5.32,
          5.46,
          5.54,
          4.02,
          4.1,
          5.18,
          5.64,
          5.04,
          5.66,
          4.6,
          4.76,
          5.1,
          4.1,
          6.3,
          5.54,
          5.38,
          5.38,
          4.7,
          4.44,
          6.16,
          3.7800000000000002,
          5.14,
          3.7800000000000002,
          4.54,
          5.2,
          4.98,
          5.3,
          5.06,
          4.04,
          5.94,
          4.86,
          4.26,
          5.84,
          6.04,
          5.28,
          4.32,
          6.2,
          5.1,
          5.62,
          6.12,
          4.42,
          4.36,
          4.46,
          5.24,
          4.28,
          5.4,
          5.28,
          5.16,
          5.5600000000000005,
          3.9,
          4.94,
          4.74,
          5.22,
          5.64,
          6.5,
          5.1,
          5.3,
          3.86,
          5,
          4.34,
          6.6,
          5.36,
          5.74,
          3.8,
          4.2,
          6.64,
          5.96,
          5.1,
          5.2,
          4.66,
          5.6,
          6.1,
          4.28,
          5.16,
          5.3,
          5.94,
          4.08,
          4.76,
          4.02,
          4.32,
          5.4,
          5.76,
          4.42,
          3.76,
          4.22,
          5.7,
          6.18,
          5.22,
          5.26,
          6.02,
          4.96,
          3.94,
          4.44,
          5,
          4.66,
          5.08,
          6.32,
          4.94,
          5.18,
          4.54,
          4.38,
          6.16,
          4.54,
          5.64,
          3.98,
          4.32,
          5.8,
          4.54,
          6.48,
          5.96,
          5.96,
          4.7,
          5.34,
          2.94,
          4.54,
          3.44,
          3.38,
          4.08,
          5.54,
          6.38,
          4.08,
          4.72,
          4.36,
          4.94,
          6.22,
          4.96,
          4.46,
          3.62,
          4.82,
          5.42,
          5.68,
          5.12,
          4.62,
          4.4,
          4.4,
          5.44,
          5.2,
          5.74,
          6.82,
          4.88,
          4.28,
          5.54,
          4.5,
          5.4,
          5.44,
          5.16,
          5.1,
          5.58,
          4.38,
          5.5,
          4.62,
          4,
          5.64,
          4.52,
          5.52,
          5.12,
          4.78,
          5.64,
          5.36,
          5.12,
          4.5600000000000005,
          4.84,
          5.98,
          6.18,
          3.34,
          4.22,
          6.82,
          5.54,
          5.94,
          3.64,
          4.86,
          3.3,
          6.04,
          6.4,
          5.24,
          4.7,
          5.08,
          5.82,
          6.92,
          5.62,
          4,
          3.6,
          5.2,
          4.78,
          4.2,
          5.64,
          4.46,
          3.98,
          3.08,
          4.6,
          5.08,
          5,
          5.02,
          5.2,
          5.62,
          6.1,
          5.68,
          3.7199999999999998,
          5.7,
          4.6,
          5.28,
          5.32,
          4.66,
          6.48,
          4.52,
          4.86,
          5.66,
          4.5600000000000005,
          5.88,
          1.54,
          5.06,
          4.44,
          4.64,
          5.94,
          4.82,
          3.92,
          5.82,
          5.22,
          5.22,
          4.96,
          5.36,
          3.6,
          2.76,
          5.42
         ],
         "y0": " ",
         "yaxis": "y"
        },
        {
         "alignmentgroup": "True",
         "hovertemplate": "race/ethnicity=group E<br>simple parental level of education=%{x}<br>GPA=%{y}<extra></extra>",
         "legendgroup": "group E",
         "marker": {
          "color": "#ab63fa"
         },
         "name": "group E",
         "notched": false,
         "offsetgroup": "group E",
         "orientation": "v",
         "showlegend": true,
         "type": "box",
         "x": [
          "school",
          "school",
          "college",
          "college",
          "school",
          "school",
          "school",
          "college",
          "school",
          "college",
          "school",
          "school",
          "school",
          "school",
          "school",
          "college",
          "college",
          "postgraduate",
          "school",
          "school",
          "school",
          "school",
          "college",
          "college",
          "school",
          "school",
          "school",
          "postgraduate",
          "school",
          "school",
          "college",
          "school",
          "college",
          "school",
          "school",
          "college",
          "school",
          "college",
          "college",
          "college",
          "school",
          "college",
          "school",
          "school",
          "college",
          "college",
          "college",
          "college",
          "college",
          "school",
          "school",
          "college",
          "school",
          "college",
          "college",
          "school",
          "college",
          "college",
          "college",
          "school",
          "school",
          "school",
          "school",
          "school",
          "school",
          "school",
          "college",
          "college",
          "college",
          "school",
          "school",
          "college",
          "school",
          "college",
          "school",
          "college",
          "school",
          "school",
          "school",
          "college",
          "school",
          "school",
          "college",
          "college",
          "school",
          "school",
          "school",
          "school",
          "college",
          "school",
          "school",
          "college",
          "postgraduate",
          "college",
          "college",
          "school",
          "college",
          "college",
          "school",
          "postgraduate",
          "school",
          "college",
          "school",
          "college",
          "school",
          "college",
          "school",
          "school",
          "school",
          "college",
          "school",
          "college",
          "school",
          "school",
          "college",
          "postgraduate",
          "college",
          "postgraduate",
          "school",
          "college",
          "school",
          "school",
          "college",
          "college",
          "postgraduate",
          "college",
          "school",
          "school",
          "school",
          "school",
          "postgraduate",
          "college",
          "college",
          "school",
          "college",
          "college",
          "college",
          "school",
          "school",
          "school"
         ],
         "x0": " ",
         "xaxis": "x",
         "y": [
          5.64,
          5.76,
          5.54,
          6.14,
          5.96,
          5.1,
          6.14,
          6.24,
          5.42,
          6.34,
          5.1,
          6.2,
          5.36,
          6.32,
          5.1,
          5.22,
          5.92,
          6.86,
          5.52,
          4.06,
          6,
          4.88,
          5.2,
          5.84,
          4.74,
          4.52,
          4.36,
          4.1,
          3.64,
          4.5,
          4.98,
          6.64,
          5.14,
          5.4,
          5.5600000000000005,
          5.82,
          5.84,
          6.22,
          6.22,
          7,
          4.88,
          5,
          5.52,
          5.38,
          4.2,
          6.42,
          4.82,
          6.98,
          5.88,
          5.5600000000000005,
          5.72,
          6.86,
          5.64,
          5.34,
          3.6,
          5.82,
          5.5,
          5.7,
          6.06,
          2.56,
          5.62,
          4.04,
          5.6,
          5.72,
          6.32,
          5.68,
          5,
          7,
          5.26,
          3.94,
          4.12,
          6.76,
          4.02,
          4.86,
          5.72,
          6.24,
          6,
          4.94,
          4.24,
          4.62,
          5.26,
          6.24,
          4.62,
          5.48,
          5.54,
          5.08,
          5.2,
          4.66,
          5.12,
          5.1,
          6.3,
          3.66,
          6.18,
          3.76,
          5.28,
          5.36,
          4.42,
          6.84,
          5.34,
          6.64,
          4.74,
          5.08,
          6.78,
          5.78,
          4.96,
          6.52,
          5.46,
          5.52,
          5.8,
          4.8,
          5.74,
          3.4,
          4.44,
          3.08,
          5.08,
          6.08,
          5.22,
          4.96,
          5.9,
          5.74,
          4.98,
          5.34,
          5.28,
          4.96,
          6.28,
          4.44,
          6.18,
          5.94,
          5.66,
          3.52,
          4.86,
          5.44,
          7,
          6.34,
          4.12,
          5.26,
          6.52,
          4.62,
          4.34,
          5.2
         ],
         "y0": " ",
         "yaxis": "y"
        },
        {
         "alignmentgroup": "True",
         "hovertemplate": "race/ethnicity=group D<br>simple parental level of education=%{x}<br>GPA=%{y}<extra></extra>",
         "legendgroup": "group D",
         "marker": {
          "color": "#FFA15A"
         },
         "name": "group D",
         "notched": false,
         "offsetgroup": "group D",
         "orientation": "v",
         "showlegend": true,
         "type": "box",
         "x": [
          "school",
          "college",
          "school",
          "school",
          "school",
          "postgraduate",
          "school",
          "college",
          "college",
          "school",
          "school",
          "postgraduate",
          "college",
          "school",
          "school",
          "school",
          "school",
          "college",
          "college",
          "school",
          "college",
          "school",
          "college",
          "school",
          "school",
          "college",
          "school",
          "school",
          "school",
          "school",
          "school",
          "school",
          "college",
          "school",
          "college",
          "school",
          "college",
          "college",
          "school",
          "school",
          "school",
          "school",
          "college",
          "college",
          "school",
          "school",
          "college",
          "school",
          "college",
          "school",
          "school",
          "school",
          "school",
          "postgraduate",
          "school",
          "college",
          "school",
          "school",
          "college",
          "school",
          "school",
          "college",
          "college",
          "school",
          "school",
          "college",
          "college",
          "school",
          "school",
          "school",
          "school",
          "school",
          "postgraduate",
          "school",
          "college",
          "college",
          "postgraduate",
          "school",
          "postgraduate",
          "college",
          "college",
          "school",
          "school",
          "school",
          "college",
          "school",
          "school",
          "school",
          "school",
          "school",
          "school",
          "college",
          "college",
          "school",
          "college",
          "college",
          "college",
          "school",
          "school",
          "school",
          "college",
          "school",
          "college",
          "school",
          "college",
          "college",
          "college",
          "school",
          "school",
          "school",
          "college",
          "school",
          "school",
          "college",
          "postgraduate",
          "school",
          "college",
          "school",
          "school",
          "school",
          "school",
          "school",
          "school",
          "college",
          "school",
          "school",
          "postgraduate",
          "postgraduate",
          "school",
          "college",
          "college",
          "school",
          "school",
          "school",
          "school",
          "college",
          "postgraduate",
          "school",
          "school",
          "school",
          "school",
          "school",
          "school",
          "college",
          "school",
          "college",
          "school",
          "school",
          "school",
          "college",
          "college",
          "college",
          "school",
          "college",
          "school",
          "school",
          "college",
          "school",
          "school",
          "school",
          "school",
          "postgraduate",
          "postgraduate",
          "school",
          "college",
          "school",
          "college",
          "college",
          "school",
          "postgraduate",
          "school",
          "college",
          "postgraduate",
          "school",
          "school",
          "school",
          "school",
          "school",
          "school",
          "school",
          "college",
          "school",
          "school",
          "postgraduate",
          "school",
          "postgraduate",
          "school",
          "school",
          "college",
          "school",
          "school",
          "school",
          "school",
          "college",
          "college",
          "college",
          "college",
          "school",
          "school",
          "college",
          "postgraduate",
          "school",
          "school",
          "college",
          "school",
          "school",
          "college",
          "college",
          "school",
          "school",
          "college",
          "school",
          "school",
          "postgraduate",
          "school",
          "school",
          "school",
          "school",
          "college",
          "school",
          "school",
          "school",
          "school",
          "postgraduate",
          "school",
          "school",
          "school",
          "school",
          "college",
          "school",
          "school",
          "school",
          "college",
          "college",
          "school",
          "postgraduate",
          "school",
          "college",
          "postgraduate",
          "school",
          "college",
          "college",
          "postgraduate",
          "school",
          "school",
          "school",
          "school",
          "school",
          "school",
          "college",
          "school",
          "school",
          "school",
          "postgraduate",
          "college",
          "school",
          "school",
          "college",
          "college",
          "school",
          "school",
          "school"
         ],
         "x0": " ",
         "xaxis": "x",
         "y": [
          5.02,
          5.14,
          5.5,
          5.4,
          4.62,
          5.76,
          4.68,
          5.64,
          6.86,
          4.9,
          5.34,
          4.06,
          4.68,
          4.88,
          4.52,
          4.74,
          4.02,
          6.06,
          5.44,
          5.46,
          6.24,
          5.52,
          5.16,
          4.92,
          5.46,
          4.22,
          4.94,
          4.04,
          4.74,
          5.44,
          4.36,
          5.38,
          5.5,
          3.86,
          5.98,
          4.58,
          4.16,
          5.32,
          4.34,
          5.98,
          5.4,
          3.7800000000000002,
          5.5,
          5.14,
          5.12,
          5.3,
          5.4,
          6.02,
          5.14,
          4.5,
          4.28,
          5.74,
          6.94,
          6.3,
          5.96,
          4,
          5.94,
          4.44,
          5.6,
          6.18,
          3.32,
          5.82,
          5.5600000000000005,
          4.58,
          4.3,
          3.34,
          2.9,
          5.36,
          4.36,
          5.12,
          4.9,
          6.08,
          4.78,
          5.34,
          5.54,
          5.48,
          5.14,
          4.92,
          4.64,
          4.92,
          6.32,
          5.14,
          5.18,
          5.82,
          5.6,
          6.08,
          5.28,
          6.38,
          5.2,
          4.88,
          5.82,
          4.36,
          5.5600000000000005,
          4.74,
          5.06,
          6.14,
          4.94,
          6.48,
          5.74,
          5.5600000000000005,
          4.34,
          4.26,
          4.68,
          5.02,
          5.28,
          3.38,
          5.76,
          5.84,
          5.02,
          4.5,
          4.1,
          4.16,
          5.22,
          5.46,
          6.16,
          4.96,
          5.28,
          4.3,
          5.08,
          4,
          5.26,
          3.74,
          5.14,
          6.12,
          4.82,
          4.38,
          6.1,
          6,
          4.96,
          4.18,
          3.9,
          5.12,
          4.78,
          5.82,
          5.48,
          5.1,
          4.86,
          5.26,
          5.76,
          5.9,
          5.58,
          5.78,
          4.52,
          5.28,
          3.38,
          5.14,
          4.26,
          4.92,
          5.26,
          3.7,
          5.32,
          4.18,
          3.94,
          6.78,
          3.4,
          5.84,
          6.3,
          4.22,
          5.7,
          6.74,
          5.46,
          5.7,
          6.2,
          4.24,
          5.68,
          5.38,
          3.8,
          6.28,
          4.46,
          6.6,
          5.58,
          5.5,
          6.84,
          4.5,
          5.16,
          4.62,
          5.26,
          5.28,
          5.02,
          4.8,
          4.88,
          5.44,
          5.7,
          5.3,
          5.36,
          5.2,
          6.18,
          5.32,
          6.04,
          5.38,
          5.46,
          3.84,
          3.92,
          5.78,
          6.5,
          5.12,
          4.22,
          3.3,
          4.64,
          5.48,
          4.54,
          6.1,
          4.26,
          5.5,
          4.64,
          4.16,
          5.28,
          4.84,
          5.98,
          4.52,
          6.22,
          5.94,
          6.5,
          5.36,
          5.72,
          4.9,
          4.46,
          4.96,
          4.68,
          3.88,
          5.76,
          4.8,
          5.7,
          5.64,
          4.96,
          5.74,
          5.3,
          6.2,
          5.72,
          4.1,
          6.04,
          6.94,
          4.12,
          5.5600000000000005,
          4.84,
          4.44,
          4.34,
          5.04,
          5.92,
          5.46,
          5.08,
          5.12,
          6.74,
          3.88,
          4.2,
          5.08,
          5.06,
          4.46,
          5.16,
          4.88,
          5.92,
          5.72,
          6.04,
          6.26,
          4.1,
          2.86,
          5.78,
          4.92,
          6.04,
          6.92,
          5.5600000000000005,
          5.3
         ],
         "y0": " ",
         "yaxis": "y"
        }
       ],
       "layout": {
        "autosize": true,
        "boxmode": "group",
        "legend": {
         "title": {
          "text": "race/ethnicity"
         },
         "tracegroupgap": 0
        },
        "margin": {
         "t": 60
        },
        "template": {
         "data": {
          "bar": [
           {
            "error_x": {
             "color": "#2a3f5f"
            },
            "error_y": {
             "color": "#2a3f5f"
            },
            "marker": {
             "line": {
              "color": "#E5ECF6",
              "width": 0.5
             },
             "pattern": {
              "fillmode": "overlay",
              "size": 10,
              "solidity": 0.2
             }
            },
            "type": "bar"
           }
          ],
          "barpolar": [
           {
            "marker": {
             "line": {
              "color": "#E5ECF6",
              "width": 0.5
             },
             "pattern": {
              "fillmode": "overlay",
              "size": 10,
              "solidity": 0.2
             }
            },
            "type": "barpolar"
           }
          ],
          "carpet": [
           {
            "aaxis": {
             "endlinecolor": "#2a3f5f",
             "gridcolor": "white",
             "linecolor": "white",
             "minorgridcolor": "white",
             "startlinecolor": "#2a3f5f"
            },
            "baxis": {
             "endlinecolor": "#2a3f5f",
             "gridcolor": "white",
             "linecolor": "white",
             "minorgridcolor": "white",
             "startlinecolor": "#2a3f5f"
            },
            "type": "carpet"
           }
          ],
          "choropleth": [
           {
            "colorbar": {
             "outlinewidth": 0,
             "ticks": ""
            },
            "type": "choropleth"
           }
          ],
          "contour": [
           {
            "colorbar": {
             "outlinewidth": 0,
             "ticks": ""
            },
            "colorscale": [
             [
              0,
              "#0d0887"
             ],
             [
              0.1111111111111111,
              "#46039f"
             ],
             [
              0.2222222222222222,
              "#7201a8"
             ],
             [
              0.3333333333333333,
              "#9c179e"
             ],
             [
              0.4444444444444444,
              "#bd3786"
             ],
             [
              0.5555555555555556,
              "#d8576b"
             ],
             [
              0.6666666666666666,
              "#ed7953"
             ],
             [
              0.7777777777777778,
              "#fb9f3a"
             ],
             [
              0.8888888888888888,
              "#fdca26"
             ],
             [
              1,
              "#f0f921"
             ]
            ],
            "type": "contour"
           }
          ],
          "contourcarpet": [
           {
            "colorbar": {
             "outlinewidth": 0,
             "ticks": ""
            },
            "type": "contourcarpet"
           }
          ],
          "heatmap": [
           {
            "colorbar": {
             "outlinewidth": 0,
             "ticks": ""
            },
            "colorscale": [
             [
              0,
              "#0d0887"
             ],
             [
              0.1111111111111111,
              "#46039f"
             ],
             [
              0.2222222222222222,
              "#7201a8"
             ],
             [
              0.3333333333333333,
              "#9c179e"
             ],
             [
              0.4444444444444444,
              "#bd3786"
             ],
             [
              0.5555555555555556,
              "#d8576b"
             ],
             [
              0.6666666666666666,
              "#ed7953"
             ],
             [
              0.7777777777777778,
              "#fb9f3a"
             ],
             [
              0.8888888888888888,
              "#fdca26"
             ],
             [
              1,
              "#f0f921"
             ]
            ],
            "type": "heatmap"
           }
          ],
          "heatmapgl": [
           {
            "colorbar": {
             "outlinewidth": 0,
             "ticks": ""
            },
            "colorscale": [
             [
              0,
              "#0d0887"
             ],
             [
              0.1111111111111111,
              "#46039f"
             ],
             [
              0.2222222222222222,
              "#7201a8"
             ],
             [
              0.3333333333333333,
              "#9c179e"
             ],
             [
              0.4444444444444444,
              "#bd3786"
             ],
             [
              0.5555555555555556,
              "#d8576b"
             ],
             [
              0.6666666666666666,
              "#ed7953"
             ],
             [
              0.7777777777777778,
              "#fb9f3a"
             ],
             [
              0.8888888888888888,
              "#fdca26"
             ],
             [
              1,
              "#f0f921"
             ]
            ],
            "type": "heatmapgl"
           }
          ],
          "histogram": [
           {
            "marker": {
             "pattern": {
              "fillmode": "overlay",
              "size": 10,
              "solidity": 0.2
             }
            },
            "type": "histogram"
           }
          ],
          "histogram2d": [
           {
            "colorbar": {
             "outlinewidth": 0,
             "ticks": ""
            },
            "colorscale": [
             [
              0,
              "#0d0887"
             ],
             [
              0.1111111111111111,
              "#46039f"
             ],
             [
              0.2222222222222222,
              "#7201a8"
             ],
             [
              0.3333333333333333,
              "#9c179e"
             ],
             [
              0.4444444444444444,
              "#bd3786"
             ],
             [
              0.5555555555555556,
              "#d8576b"
             ],
             [
              0.6666666666666666,
              "#ed7953"
             ],
             [
              0.7777777777777778,
              "#fb9f3a"
             ],
             [
              0.8888888888888888,
              "#fdca26"
             ],
             [
              1,
              "#f0f921"
             ]
            ],
            "type": "histogram2d"
           }
          ],
          "histogram2dcontour": [
           {
            "colorbar": {
             "outlinewidth": 0,
             "ticks": ""
            },
            "colorscale": [
             [
              0,
              "#0d0887"
             ],
             [
              0.1111111111111111,
              "#46039f"
             ],
             [
              0.2222222222222222,
              "#7201a8"
             ],
             [
              0.3333333333333333,
              "#9c179e"
             ],
             [
              0.4444444444444444,
              "#bd3786"
             ],
             [
              0.5555555555555556,
              "#d8576b"
             ],
             [
              0.6666666666666666,
              "#ed7953"
             ],
             [
              0.7777777777777778,
              "#fb9f3a"
             ],
             [
              0.8888888888888888,
              "#fdca26"
             ],
             [
              1,
              "#f0f921"
             ]
            ],
            "type": "histogram2dcontour"
           }
          ],
          "mesh3d": [
           {
            "colorbar": {
             "outlinewidth": 0,
             "ticks": ""
            },
            "type": "mesh3d"
           }
          ],
          "parcoords": [
           {
            "line": {
             "colorbar": {
              "outlinewidth": 0,
              "ticks": ""
             }
            },
            "type": "parcoords"
           }
          ],
          "pie": [
           {
            "automargin": true,
            "type": "pie"
           }
          ],
          "scatter": [
           {
            "fillpattern": {
             "fillmode": "overlay",
             "size": 10,
             "solidity": 0.2
            },
            "type": "scatter"
           }
          ],
          "scatter3d": [
           {
            "line": {
             "colorbar": {
              "outlinewidth": 0,
              "ticks": ""
             }
            },
            "marker": {
             "colorbar": {
              "outlinewidth": 0,
              "ticks": ""
             }
            },
            "type": "scatter3d"
           }
          ],
          "scattercarpet": [
           {
            "marker": {
             "colorbar": {
              "outlinewidth": 0,
              "ticks": ""
             }
            },
            "type": "scattercarpet"
           }
          ],
          "scattergeo": [
           {
            "marker": {
             "colorbar": {
              "outlinewidth": 0,
              "ticks": ""
             }
            },
            "type": "scattergeo"
           }
          ],
          "scattergl": [
           {
            "marker": {
             "colorbar": {
              "outlinewidth": 0,
              "ticks": ""
             }
            },
            "type": "scattergl"
           }
          ],
          "scattermapbox": [
           {
            "marker": {
             "colorbar": {
              "outlinewidth": 0,
              "ticks": ""
             }
            },
            "type": "scattermapbox"
           }
          ],
          "scatterpolar": [
           {
            "marker": {
             "colorbar": {
              "outlinewidth": 0,
              "ticks": ""
             }
            },
            "type": "scatterpolar"
           }
          ],
          "scatterpolargl": [
           {
            "marker": {
             "colorbar": {
              "outlinewidth": 0,
              "ticks": ""
             }
            },
            "type": "scatterpolargl"
           }
          ],
          "scatterternary": [
           {
            "marker": {
             "colorbar": {
              "outlinewidth": 0,
              "ticks": ""
             }
            },
            "type": "scatterternary"
           }
          ],
          "surface": [
           {
            "colorbar": {
             "outlinewidth": 0,
             "ticks": ""
            },
            "colorscale": [
             [
              0,
              "#0d0887"
             ],
             [
              0.1111111111111111,
              "#46039f"
             ],
             [
              0.2222222222222222,
              "#7201a8"
             ],
             [
              0.3333333333333333,
              "#9c179e"
             ],
             [
              0.4444444444444444,
              "#bd3786"
             ],
             [
              0.5555555555555556,
              "#d8576b"
             ],
             [
              0.6666666666666666,
              "#ed7953"
             ],
             [
              0.7777777777777778,
              "#fb9f3a"
             ],
             [
              0.8888888888888888,
              "#fdca26"
             ],
             [
              1,
              "#f0f921"
             ]
            ],
            "type": "surface"
           }
          ],
          "table": [
           {
            "cells": {
             "fill": {
              "color": "#EBF0F8"
             },
             "line": {
              "color": "white"
             }
            },
            "header": {
             "fill": {
              "color": "#C8D4E3"
             },
             "line": {
              "color": "white"
             }
            },
            "type": "table"
           }
          ]
         },
         "layout": {
          "annotationdefaults": {
           "arrowcolor": "#2a3f5f",
           "arrowhead": 0,
           "arrowwidth": 1
          },
          "autotypenumbers": "strict",
          "coloraxis": {
           "colorbar": {
            "outlinewidth": 0,
            "ticks": ""
           }
          },
          "colorscale": {
           "diverging": [
            [
             0,
             "#8e0152"
            ],
            [
             0.1,
             "#c51b7d"
            ],
            [
             0.2,
             "#de77ae"
            ],
            [
             0.3,
             "#f1b6da"
            ],
            [
             0.4,
             "#fde0ef"
            ],
            [
             0.5,
             "#f7f7f7"
            ],
            [
             0.6,
             "#e6f5d0"
            ],
            [
             0.7,
             "#b8e186"
            ],
            [
             0.8,
             "#7fbc41"
            ],
            [
             0.9,
             "#4d9221"
            ],
            [
             1,
             "#276419"
            ]
           ],
           "sequential": [
            [
             0,
             "#0d0887"
            ],
            [
             0.1111111111111111,
             "#46039f"
            ],
            [
             0.2222222222222222,
             "#7201a8"
            ],
            [
             0.3333333333333333,
             "#9c179e"
            ],
            [
             0.4444444444444444,
             "#bd3786"
            ],
            [
             0.5555555555555556,
             "#d8576b"
            ],
            [
             0.6666666666666666,
             "#ed7953"
            ],
            [
             0.7777777777777778,
             "#fb9f3a"
            ],
            [
             0.8888888888888888,
             "#fdca26"
            ],
            [
             1,
             "#f0f921"
            ]
           ],
           "sequentialminus": [
            [
             0,
             "#0d0887"
            ],
            [
             0.1111111111111111,
             "#46039f"
            ],
            [
             0.2222222222222222,
             "#7201a8"
            ],
            [
             0.3333333333333333,
             "#9c179e"
            ],
            [
             0.4444444444444444,
             "#bd3786"
            ],
            [
             0.5555555555555556,
             "#d8576b"
            ],
            [
             0.6666666666666666,
             "#ed7953"
            ],
            [
             0.7777777777777778,
             "#fb9f3a"
            ],
            [
             0.8888888888888888,
             "#fdca26"
            ],
            [
             1,
             "#f0f921"
            ]
           ]
          },
          "colorway": [
           "#636efa",
           "#EF553B",
           "#00cc96",
           "#ab63fa",
           "#FFA15A",
           "#19d3f3",
           "#FF6692",
           "#B6E880",
           "#FF97FF",
           "#FECB52"
          ],
          "font": {
           "color": "#2a3f5f"
          },
          "geo": {
           "bgcolor": "white",
           "lakecolor": "white",
           "landcolor": "#E5ECF6",
           "showlakes": true,
           "showland": true,
           "subunitcolor": "white"
          },
          "hoverlabel": {
           "align": "left"
          },
          "hovermode": "closest",
          "mapbox": {
           "style": "light"
          },
          "paper_bgcolor": "white",
          "plot_bgcolor": "#E5ECF6",
          "polar": {
           "angularaxis": {
            "gridcolor": "white",
            "linecolor": "white",
            "ticks": ""
           },
           "bgcolor": "#E5ECF6",
           "radialaxis": {
            "gridcolor": "white",
            "linecolor": "white",
            "ticks": ""
           }
          },
          "scene": {
           "xaxis": {
            "backgroundcolor": "#E5ECF6",
            "gridcolor": "white",
            "gridwidth": 2,
            "linecolor": "white",
            "showbackground": true,
            "ticks": "",
            "zerolinecolor": "white"
           },
           "yaxis": {
            "backgroundcolor": "#E5ECF6",
            "gridcolor": "white",
            "gridwidth": 2,
            "linecolor": "white",
            "showbackground": true,
            "ticks": "",
            "zerolinecolor": "white"
           },
           "zaxis": {
            "backgroundcolor": "#E5ECF6",
            "gridcolor": "white",
            "gridwidth": 2,
            "linecolor": "white",
            "showbackground": true,
            "ticks": "",
            "zerolinecolor": "white"
           }
          },
          "shapedefaults": {
           "line": {
            "color": "#2a3f5f"
           }
          },
          "ternary": {
           "aaxis": {
            "gridcolor": "white",
            "linecolor": "white",
            "ticks": ""
           },
           "baxis": {
            "gridcolor": "white",
            "linecolor": "white",
            "ticks": ""
           },
           "bgcolor": "#E5ECF6",
           "caxis": {
            "gridcolor": "white",
            "linecolor": "white",
            "ticks": ""
           }
          },
          "title": {
           "x": 0.05
          },
          "xaxis": {
           "automargin": true,
           "gridcolor": "white",
           "linecolor": "white",
           "ticks": "",
           "title": {
            "standoff": 15
           },
           "zerolinecolor": "white",
           "zerolinewidth": 2
          },
          "yaxis": {
           "automargin": true,
           "gridcolor": "white",
           "linecolor": "white",
           "ticks": "",
           "title": {
            "standoff": 15
           },
           "zerolinecolor": "white",
           "zerolinewidth": 2
          }
         }
        },
        "xaxis": {
         "anchor": "y",
         "autorange": true,
         "domain": [
          0,
          1
         ],
         "range": [
          -0.5105882352941177,
          2.510588235294118
         ],
         "title": {
          "text": "simple parental level of education"
         },
         "type": "category"
        },
        "yaxis": {
         "anchor": "x",
         "autorange": true,
         "domain": [
          0,
          1
         ],
         "range": [
          1.2366666666666668,
          7.303333333333334
         ],
         "title": {
          "text": "GPA"
         },
         "type": "linear"
        }
       }
      },
      "image/png": "[encoded data removed]",
      "text/html": [
       "<div>                            <div id=\"4eea0e1e-a044-4b04-be5e-c5425befbae3\" class=\"plotly-graph-div\" style=\"height:525px; width:100%;\"></div>            <script type=\"text/javascript\">                require([\"plotly\"], function(Plotly) {                    window.PLOTLYENV=window.PLOTLYENV || {};                                    if (document.getElementById(\"4eea0e1e-a044-4b04-be5e-c5425befbae3\")) {                    Plotly.newPlot(                        \"4eea0e1e-a044-4b04-be5e-c5425befbae3\",                        [{\"alignmentgroup\":\"True\",\"hovertemplate\":\"race\\u002fethnicity=group B\\u003cbr\\u003esimple parental level of education=%{x}\\u003cbr\\u003eGPA=%{y}\\u003cextra\\u003e\\u003c\\u002fextra\\u003e\",\"legendgroup\":\"group B\",\"marker\":{\"color\":\"#636efa\"},\"name\":\"group B\",\"notched\":false,\"offsetgroup\":\"group B\",\"orientation\":\"v\",\"showlegend\":true,\"x\":[\"school\",\"school\",\"college\",\"school\",\"school\",\"college\",\"school\",\"school\",\"school\",\"school\",\"college\",\"school\",\"school\",\"school\",\"school\",\"school\",\"college\",\"college\",\"school\",\"college\",\"college\",\"school\",\"college\",\"college\",\"college\",\"college\",\"school\",\"school\",\"school\",\"school\",\"school\",\"college\",\"school\",\"school\",\"college\",\"college\",\"school\",\"college\",\"college\",\"school\",\"college\",\"college\",\"school\",\"school\",\"school\",\"school\",\"college\",\"school\",\"college\",\"college\",\"school\",\"school\",\"college\",\"school\",\"school\",\"college\",\"college\",\"school\",\"school\",\"college\",\"school\",\"school\",\"school\",\"school\",\"school\",\"school\",\"school\",\"school\",\"college\",\"school\",\"school\",\"college\",\"college\",\"school\",\"college\",\"college\",\"school\",\"school\",\"postgraduate\",\"school\",\"college\",\"college\",\"school\",\"school\",\"college\",\"college\",\"college\",\"college\",\"school\",\"school\",\"college\",\"school\",\"college\",\"school\",\"college\",\"school\",\"school\",\"school\",\"school\",\"school\",\"college\",\"school\",\"college\",\"school\",\"postgraduate\",\"postgraduate\",\"school\",\"college\",\"school\",\"school\",\"college\",\"school\",\"school\",\"college\",\"school\",\"school\",\"school\",\"school\",\"school\",\"school\",\"school\",\"school\",\"college\",\"college\",\"school\",\"school\",\"school\",\"school\",\"school\",\"school\",\"school\",\"school\",\"college\",\"school\",\"school\",\"school\",\"school\",\"school\",\"postgraduate\",\"college\",\"school\",\"school\",\"college\",\"college\",\"college\",\"school\",\"college\",\"school\",\"school\",\"school\",\"school\",\"school\",\"school\",\"school\",\"school\",\"college\",\"school\",\"school\",\"school\",\"school\",\"postgraduate\",\"school\",\"school\",\"postgraduate\",\"school\",\"school\",\"school\",\"college\",\"school\",\"college\",\"college\",\"college\",\"school\",\"school\",\"school\",\"school\",\"school\",\"school\",\"school\",\"college\",\"college\",\"school\",\"college\",\"school\",\"school\",\"college\",\"school\",\"school\",\"school\",\"school\"],\"x0\":\" \",\"xaxis\":\"x\",\"y\":[3.58,6.34,4.96,5.2,5.38,4.24,5.84,4.6,4.4,2.84,5.66,4.92,5.62,6.08,4.64,4.16,3.76,5.9,6.14,5.54,5.88,5.14,4.78,4.36,5.52,5.84,5.08,3.7800000000000002,5.58,3.54,2.7800000000000002,6.44,4.76,3.92,5.72,4.5,4.84,6.14,4.72,5.64,3.88,5.64,3.9,4.84,4.92,4.92,4.4,5.2,3.7199999999999998,4.52,4.06,5.46,4.28,4.16,5.5600000000000005,4.72,4.82,4.82,5.1,6.8,4.58,3.44,4.78,5.96,4.96,4.06,5.12,4.14,5.78,5.88,4.48,5.68,5.58,4.72,4.86,5.9,5.16,3.94,6.02,4.82,5.5,4.9,2.1,4.82,6.42,4.72,3.92,4.86,4.6,5.06,4.68,5.54,3.46,5.8,4.52,4.14,5.38,5.24,6.04,6.22,6.46,4.9,5.42,5.94,6.5600000000000005,4.08,3.9,5.98,6.14,5.86,5.04,4.02,4.7,4.62,5.48,5.94,4.6,4.74,4.9,5.16,4.24,5.0,4.1,5.64,4.46,5.32,4.12,4.6,4.06,5.36,5.26,3.98,4.36,4.5,3.2800000000000002,5.76,4.42,4.92,4.68,4.66,3.96,4.88,5.98,5.98,5.78,2.7800000000000002,3.9,5.98,6.0,4.24,4.28,3.62,5.46,5.4,4.16,6.3,4.84,2.38,4.74,5.08,5.24,4.8,6.36,6.36,4.86,4.5600000000000005,5.62,5.06,4.72,5.4,5.06,4.82,3.94,2.56,4.94,4.02,5.26,5.0,3.7,5.78,4.88,6.5,5.68,6.5600000000000005,5.88,5.36,5.5,5.16,3.06,4.54],\"y0\":\" \",\"yaxis\":\"y\",\"type\":\"box\"},{\"alignmentgroup\":\"True\",\"hovertemplate\":\"race\\u002fethnicity=group A\\u003cbr\\u003esimple parental level of education=%{x}\\u003cbr\\u003eGPA=%{y}\\u003cextra\\u003e\\u003c\\u002fextra\\u003e\",\"legendgroup\":\"group A\",\"marker\":{\"color\":\"#EF553B\"},\"name\":\"group A\",\"notched\":false,\"offsetgroup\":\"group A\",\"orientation\":\"v\",\"showlegend\":true,\"x\":[\"college\",\"school\",\"college\",\"college\",\"college\",\"college\",\"college\",\"school\",\"school\",\"school\",\"college\",\"school\",\"college\",\"postgraduate\",\"school\",\"school\",\"college\",\"school\",\"school\",\"school\",\"college\",\"school\",\"postgraduate\",\"school\",\"school\",\"school\",\"school\",\"school\",\"postgraduate\",\"school\",\"college\",\"school\",\"school\",\"school\",\"school\",\"school\",\"school\",\"college\",\"college\",\"college\",\"college\",\"school\",\"school\",\"school\",\"school\",\"school\",\"school\",\"college\",\"school\",\"school\",\"school\",\"school\",\"college\",\"school\",\"school\",\"school\",\"school\",\"school\",\"school\",\"college\",\"school\",\"college\",\"school\",\"school\",\"school\",\"college\",\"school\",\"school\",\"school\",\"school\",\"school\",\"school\",\"school\",\"college\",\"college\",\"school\",\"school\",\"school\",\"college\",\"school\",\"college\",\"school\",\"school\",\"school\",\"school\",\"college\",\"college\",\"school\",\"school\"],\"x0\":\" \",\"xaxis\":\"x\",\"y\":[5.78,3.46,4.7,5.02,4.84,3.96,4.36,4.96,3.7800000000000002,4.84,4.98,4.26,5.18,4.8,4.28,4.24,4.64,4.68,4.32,6.12,4.0,5.08,4.22,2.4,4.02,5.38,4.1,4.68,5.38,6.64,4.5600000000000005,4.12,5.1,3.94,4.1,5.4,6.0,6.16,4.08,6.5,5.52,4.58,5.08,3.68,3.88,5.02,3.9,3.8,4.76,6.78,3.36,5.18,4.54,3.24,6.34,4.96,4.14,5.66,4.14,6.36,5.72,4.02,5.62,3.68,3.48,5.86,3.6,5.6,4.5,5.68,3.8200000000000003,5.08,5.48,5.24,4.9,5.7,4.38,4.5600000000000005,4.34,4.9,4.64,4.5600000000000005,5.02,5.8,4.66,3.96,6.58,4.54,5.48],\"y0\":\" \",\"yaxis\":\"y\",\"type\":\"box\"},{\"alignmentgroup\":\"True\",\"hovertemplate\":\"race\\u002fethnicity=group C\\u003cbr\\u003esimple parental level of education=%{x}\\u003cbr\\u003eGPA=%{y}\\u003cextra\\u003e\\u003c\\u002fextra\\u003e\",\"legendgroup\":\"group C\",\"marker\":{\"color\":\"#00cc96\"},\"name\":\"group C\",\"notched\":false,\"offsetgroup\":\"group C\",\"orientation\":\"v\",\"showlegend\":true,\"x\":[\"school\",\"college\",\"postgraduate\",\"college\",\"school\",\"school\",\"school\",\"school\",\"college\",\"school\",\"school\",\"school\",\"college\",\"postgraduate\",\"college\",\"college\",\"college\",\"school\",\"college\",\"college\",\"college\",\"college\",\"school\",\"college\",\"school\",\"school\",\"school\",\"school\",\"school\",\"college\",\"college\",\"college\",\"college\",\"college\",\"school\",\"school\",\"college\",\"school\",\"school\",\"school\",\"school\",\"school\",\"college\",\"college\",\"college\",\"school\",\"college\",\"school\",\"college\",\"school\",\"college\",\"school\",\"school\",\"college\",\"postgraduate\",\"school\",\"school\",\"school\",\"college\",\"school\",\"school\",\"college\",\"school\",\"school\",\"school\",\"school\",\"school\",\"college\",\"school\",\"school\",\"school\",\"school\",\"college\",\"school\",\"college\",\"school\",\"school\",\"school\",\"college\",\"school\",\"college\",\"school\",\"school\",\"college\",\"college\",\"college\",\"school\",\"school\",\"college\",\"school\",\"college\",\"school\",\"school\",\"school\",\"college\",\"college\",\"school\",\"postgraduate\",\"college\",\"school\",\"school\",\"college\",\"college\",\"college\",\"school\",\"college\",\"postgraduate\",\"college\",\"college\",\"school\",\"college\",\"college\",\"school\",\"school\",\"school\",\"school\",\"college\",\"school\",\"school\",\"school\",\"college\",\"school\",\"school\",\"postgraduate\",\"school\",\"college\",\"postgraduate\",\"school\",\"college\",\"college\",\"college\",\"college\",\"school\",\"school\",\"school\",\"school\",\"school\",\"school\",\"school\",\"college\",\"postgraduate\",\"college\",\"college\",\"school\",\"school\",\"college\",\"school\",\"school\",\"college\",\"college\",\"school\",\"college\",\"college\",\"school\",\"college\",\"college\",\"school\",\"college\",\"college\",\"college\",\"college\",\"school\",\"school\",\"school\",\"school\",\"school\",\"college\",\"school\",\"school\",\"school\",\"school\",\"school\",\"school\",\"school\",\"college\",\"college\",\"postgraduate\",\"school\",\"college\",\"college\",\"school\",\"postgraduate\",\"college\",\"college\",\"college\",\"school\",\"school\",\"school\",\"school\",\"postgraduate\",\"college\",\"school\",\"school\",\"college\",\"school\",\"college\",\"college\",\"school\",\"college\",\"school\",\"school\",\"school\",\"school\",\"school\",\"school\",\"school\",\"school\",\"college\",\"school\",\"school\",\"school\",\"college\",\"school\",\"school\",\"college\",\"school\",\"school\",\"school\",\"school\",\"college\",\"college\",\"college\",\"college\",\"school\",\"school\",\"school\",\"school\",\"school\",\"college\",\"school\",\"school\",\"school\",\"college\",\"college\",\"postgraduate\",\"school\",\"school\",\"college\",\"school\",\"school\",\"college\",\"postgraduate\",\"school\",\"college\",\"postgraduate\",\"school\",\"school\",\"college\",\"school\",\"school\",\"college\",\"school\",\"college\",\"school\",\"college\",\"postgraduate\",\"college\",\"college\",\"college\",\"school\",\"school\",\"college\",\"school\",\"school\",\"school\",\"school\",\"school\",\"school\",\"school\",\"school\",\"postgraduate\",\"college\",\"school\",\"college\",\"school\",\"school\",\"school\",\"postgraduate\",\"school\",\"school\",\"college\",\"college\",\"school\",\"school\",\"school\",\"school\",\"school\",\"school\",\"school\",\"postgraduate\",\"college\",\"postgraduate\",\"school\",\"school\",\"school\",\"college\",\"school\",\"school\",\"school\",\"college\",\"school\",\"college\",\"school\",\"college\",\"school\",\"school\",\"school\",\"school\",\"college\",\"school\",\"school\",\"college\",\"college\",\"school\",\"college\",\"college\",\"school\",\"school\",\"college\"],\"x0\":\" \",\"xaxis\":\"x\",\"y\":[5.04,4.7,3.68,5.1,5.94,4.44,4.68,2.8,5.0,5.16,5.14,4.84,6.32,6.22,4.34,4.28,4.88,4.9,6.5600000000000005,6.62,6.36,5.12,3.84,4.86,5.22,4.52,4.1,4.7,5.46,6.42,4.78,4.46,5.32,5.5,4.38,5.38,4.36,6.12,5.32,6.54,6.24,4.94,4.32,5.04,4.58,3.8,5.5,6.04,3.96,4.98,4.38,4.28,4.6,5.46,5.62,5.26,4.14,5.94,5.32,5.04,2.88,6.02,5.58,4.5,5.08,4.08,5.3,5.28,5.02,6.26,5.68,5.12,4.0,3.58,6.5,6.34,4.48,3.68,4.22,5.64,5.98,4.16,5.72,5.38,4.88,5.76,5.7,3.26,5.14,5.4,5.68,5.48,5.42,6.4,5.68,5.32,5.46,5.54,4.02,4.1,5.18,5.64,5.04,5.66,4.6,4.76,5.1,4.1,6.3,5.54,5.38,5.38,4.7,4.44,6.16,3.7800000000000002,5.14,3.7800000000000002,4.54,5.2,4.98,5.3,5.06,4.04,5.94,4.86,4.26,5.84,6.04,5.28,4.32,6.2,5.1,5.62,6.12,4.42,4.36,4.46,5.24,4.28,5.4,5.28,5.16,5.5600000000000005,3.9,4.94,4.74,5.22,5.64,6.5,5.1,5.3,3.86,5.0,4.34,6.6,5.36,5.74,3.8,4.2,6.64,5.96,5.1,5.2,4.66,5.6,6.1,4.28,5.16,5.3,5.94,4.08,4.76,4.02,4.32,5.4,5.76,4.42,3.76,4.22,5.7,6.18,5.22,5.26,6.02,4.96,3.94,4.44,5.0,4.66,5.08,6.32,4.94,5.18,4.54,4.38,6.16,4.54,5.64,3.98,4.32,5.8,4.54,6.48,5.96,5.96,4.7,5.34,2.94,4.54,3.44,3.38,4.08,5.54,6.38,4.08,4.72,4.36,4.94,6.22,4.96,4.46,3.62,4.82,5.42,5.68,5.12,4.62,4.4,4.4,5.44,5.2,5.74,6.82,4.88,4.28,5.54,4.5,5.4,5.44,5.16,5.1,5.58,4.38,5.5,4.62,4.0,5.64,4.52,5.52,5.12,4.78,5.64,5.36,5.12,4.5600000000000005,4.84,5.98,6.18,3.34,4.22,6.82,5.54,5.94,3.64,4.86,3.3,6.04,6.4,5.24,4.7,5.08,5.82,6.92,5.62,4.0,3.6,5.2,4.78,4.2,5.64,4.46,3.98,3.08,4.6,5.08,5.0,5.02,5.2,5.62,6.1,5.68,3.7199999999999998,5.7,4.6,5.28,5.32,4.66,6.48,4.52,4.86,5.66,4.5600000000000005,5.88,1.54,5.06,4.44,4.64,5.94,4.82,3.92,5.82,5.22,5.22,4.96,5.36,3.6,2.76,5.42],\"y0\":\" \",\"yaxis\":\"y\",\"type\":\"box\"},{\"alignmentgroup\":\"True\",\"hovertemplate\":\"race\\u002fethnicity=group E\\u003cbr\\u003esimple parental level of education=%{x}\\u003cbr\\u003eGPA=%{y}\\u003cextra\\u003e\\u003c\\u002fextra\\u003e\",\"legendgroup\":\"group E\",\"marker\":{\"color\":\"#ab63fa\"},\"name\":\"group E\",\"notched\":false,\"offsetgroup\":\"group E\",\"orientation\":\"v\",\"showlegend\":true,\"x\":[\"school\",\"school\",\"college\",\"college\",\"school\",\"school\",\"school\",\"college\",\"school\",\"college\",\"school\",\"school\",\"school\",\"school\",\"school\",\"college\",\"college\",\"postgraduate\",\"school\",\"school\",\"school\",\"school\",\"college\",\"college\",\"school\",\"school\",\"school\",\"postgraduate\",\"school\",\"school\",\"college\",\"school\",\"college\",\"school\",\"school\",\"college\",\"school\",\"college\",\"college\",\"college\",\"school\",\"college\",\"school\",\"school\",\"college\",\"college\",\"college\",\"college\",\"college\",\"school\",\"school\",\"college\",\"school\",\"college\",\"college\",\"school\",\"college\",\"college\",\"college\",\"school\",\"school\",\"school\",\"school\",\"school\",\"school\",\"school\",\"college\",\"college\",\"college\",\"school\",\"school\",\"college\",\"school\",\"college\",\"school\",\"college\",\"school\",\"school\",\"school\",\"college\",\"school\",\"school\",\"college\",\"college\",\"school\",\"school\",\"school\",\"school\",\"college\",\"school\",\"school\",\"college\",\"postgraduate\",\"college\",\"college\",\"school\",\"college\",\"college\",\"school\",\"postgraduate\",\"school\",\"college\",\"school\",\"college\",\"school\",\"college\",\"school\",\"school\",\"school\",\"college\",\"school\",\"college\",\"school\",\"school\",\"college\",\"postgraduate\",\"college\",\"postgraduate\",\"school\",\"college\",\"school\",\"school\",\"college\",\"college\",\"postgraduate\",\"college\",\"school\",\"school\",\"school\",\"school\",\"postgraduate\",\"college\",\"college\",\"school\",\"college\",\"college\",\"college\",\"school\",\"school\",\"school\"],\"x0\":\" \",\"xaxis\":\"x\",\"y\":[5.64,5.76,5.54,6.14,5.96,5.1,6.14,6.24,5.42,6.34,5.1,6.2,5.36,6.32,5.1,5.22,5.92,6.86,5.52,4.06,6.0,4.88,5.2,5.84,4.74,4.52,4.36,4.1,3.64,4.5,4.98,6.64,5.14,5.4,5.5600000000000005,5.82,5.84,6.22,6.22,7.0,4.88,5.0,5.52,5.38,4.2,6.42,4.82,6.98,5.88,5.5600000000000005,5.72,6.86,5.64,5.34,3.6,5.82,5.5,5.7,6.06,2.56,5.62,4.04,5.6,5.72,6.32,5.68,5.0,7.0,5.26,3.94,4.12,6.76,4.02,4.86,5.72,6.24,6.0,4.94,4.24,4.62,5.26,6.24,4.62,5.48,5.54,5.08,5.2,4.66,5.12,5.1,6.3,3.66,6.18,3.76,5.28,5.36,4.42,6.84,5.34,6.64,4.74,5.08,6.78,5.78,4.96,6.52,5.46,5.52,5.8,4.8,5.74,3.4,4.44,3.08,5.08,6.08,5.22,4.96,5.9,5.74,4.98,5.34,5.28,4.96,6.28,4.44,6.18,5.94,5.66,3.52,4.86,5.44,7.0,6.34,4.12,5.26,6.52,4.62,4.34,5.2],\"y0\":\" \",\"yaxis\":\"y\",\"type\":\"box\"},{\"alignmentgroup\":\"True\",\"hovertemplate\":\"race\\u002fethnicity=group D\\u003cbr\\u003esimple parental level of education=%{x}\\u003cbr\\u003eGPA=%{y}\\u003cextra\\u003e\\u003c\\u002fextra\\u003e\",\"legendgroup\":\"group D\",\"marker\":{\"color\":\"#FFA15A\"},\"name\":\"group D\",\"notched\":false,\"offsetgroup\":\"group D\",\"orientation\":\"v\",\"showlegend\":true,\"x\":[\"school\",\"college\",\"school\",\"school\",\"school\",\"postgraduate\",\"school\",\"college\",\"college\",\"school\",\"school\",\"postgraduate\",\"college\",\"school\",\"school\",\"school\",\"school\",\"college\",\"college\",\"school\",\"college\",\"school\",\"college\",\"school\",\"school\",\"college\",\"school\",\"school\",\"school\",\"school\",\"school\",\"school\",\"college\",\"school\",\"college\",\"school\",\"college\",\"college\",\"school\",\"school\",\"school\",\"school\",\"college\",\"college\",\"school\",\"school\",\"college\",\"school\",\"college\",\"school\",\"school\",\"school\",\"school\",\"postgraduate\",\"school\",\"college\",\"school\",\"school\",\"college\",\"school\",\"school\",\"college\",\"college\",\"school\",\"school\",\"college\",\"college\",\"school\",\"school\",\"school\",\"school\",\"school\",\"postgraduate\",\"school\",\"college\",\"college\",\"postgraduate\",\"school\",\"postgraduate\",\"college\",\"college\",\"school\",\"school\",\"school\",\"college\",\"school\",\"school\",\"school\",\"school\",\"school\",\"school\",\"college\",\"college\",\"school\",\"college\",\"college\",\"college\",\"school\",\"school\",\"school\",\"college\",\"school\",\"college\",\"school\",\"college\",\"college\",\"college\",\"school\",\"school\",\"school\",\"college\",\"school\",\"school\",\"college\",\"postgraduate\",\"school\",\"college\",\"school\",\"school\",\"school\",\"school\",\"school\",\"school\",\"college\",\"school\",\"school\",\"postgraduate\",\"postgraduate\",\"school\",\"college\",\"college\",\"school\",\"school\",\"school\",\"school\",\"college\",\"postgraduate\",\"school\",\"school\",\"school\",\"school\",\"school\",\"school\",\"college\",\"school\",\"college\",\"school\",\"school\",\"school\",\"college\",\"college\",\"college\",\"school\",\"college\",\"school\",\"school\",\"college\",\"school\",\"school\",\"school\",\"school\",\"postgraduate\",\"postgraduate\",\"school\",\"college\",\"school\",\"college\",\"college\",\"school\",\"postgraduate\",\"school\",\"college\",\"postgraduate\",\"school\",\"school\",\"school\",\"school\",\"school\",\"school\",\"school\",\"college\",\"school\",\"school\",\"postgraduate\",\"school\",\"postgraduate\",\"school\",\"school\",\"college\",\"school\",\"school\",\"school\",\"school\",\"college\",\"college\",\"college\",\"college\",\"school\",\"school\",\"college\",\"postgraduate\",\"school\",\"school\",\"college\",\"school\",\"school\",\"college\",\"college\",\"school\",\"school\",\"college\",\"school\",\"school\",\"postgraduate\",\"school\",\"school\",\"school\",\"school\",\"college\",\"school\",\"school\",\"school\",\"school\",\"postgraduate\",\"school\",\"school\",\"school\",\"school\",\"college\",\"school\",\"school\",\"school\",\"college\",\"college\",\"school\",\"postgraduate\",\"school\",\"college\",\"postgraduate\",\"school\",\"college\",\"college\",\"postgraduate\",\"school\",\"school\",\"school\",\"school\",\"school\",\"school\",\"college\",\"school\",\"school\",\"school\",\"postgraduate\",\"college\",\"school\",\"school\",\"college\",\"college\",\"school\",\"school\",\"school\"],\"x0\":\" \",\"xaxis\":\"x\",\"y\":[5.02,5.14,5.5,5.4,4.62,5.76,4.68,5.64,6.86,4.9,5.34,4.06,4.68,4.88,4.52,4.74,4.02,6.06,5.44,5.46,6.24,5.52,5.16,4.92,5.46,4.22,4.94,4.04,4.74,5.44,4.36,5.38,5.5,3.86,5.98,4.58,4.16,5.32,4.34,5.98,5.4,3.7800000000000002,5.5,5.14,5.12,5.3,5.4,6.02,5.14,4.5,4.28,5.74,6.94,6.3,5.96,4.0,5.94,4.44,5.6,6.18,3.32,5.82,5.5600000000000005,4.58,4.3,3.34,2.9,5.36,4.36,5.12,4.9,6.08,4.78,5.34,5.54,5.48,5.14,4.92,4.64,4.92,6.32,5.14,5.18,5.82,5.6,6.08,5.28,6.38,5.2,4.88,5.82,4.36,5.5600000000000005,4.74,5.06,6.14,4.94,6.48,5.74,5.5600000000000005,4.34,4.26,4.68,5.02,5.28,3.38,5.76,5.84,5.02,4.5,4.1,4.16,5.22,5.46,6.16,4.96,5.28,4.3,5.08,4.0,5.26,3.74,5.14,6.12,4.82,4.38,6.1,6.0,4.96,4.18,3.9,5.12,4.78,5.82,5.48,5.1,4.86,5.26,5.76,5.9,5.58,5.78,4.52,5.28,3.38,5.14,4.26,4.92,5.26,3.7,5.32,4.18,3.94,6.78,3.4,5.84,6.3,4.22,5.7,6.74,5.46,5.7,6.2,4.24,5.68,5.38,3.8,6.28,4.46,6.6,5.58,5.5,6.84,4.5,5.16,4.62,5.26,5.28,5.02,4.8,4.88,5.44,5.7,5.3,5.36,5.2,6.18,5.32,6.04,5.38,5.46,3.84,3.92,5.78,6.5,5.12,4.22,3.3,4.64,5.48,4.54,6.1,4.26,5.5,4.64,4.16,5.28,4.84,5.98,4.52,6.22,5.94,6.5,5.36,5.72,4.9,4.46,4.96,4.68,3.88,5.76,4.8,5.7,5.64,4.96,5.74,5.3,6.2,5.72,4.1,6.04,6.94,4.12,5.5600000000000005,4.84,4.44,4.34,5.04,5.92,5.46,5.08,5.12,6.74,3.88,4.2,5.08,5.06,4.46,5.16,4.88,5.92,5.72,6.04,6.26,4.1,2.86,5.78,4.92,6.04,6.92,5.5600000000000005,5.3],\"y0\":\" \",\"yaxis\":\"y\",\"type\":\"box\"}],                        {\"template\":{\"data\":{\"histogram2dcontour\":[{\"type\":\"histogram2dcontour\",\"colorbar\":{\"outlinewidth\":0,\"ticks\":\"\"},\"colorscale\":[[0.0,\"#0d0887\"],[0.1111111111111111,\"#46039f\"],[0.2222222222222222,\"#7201a8\"],[0.3333333333333333,\"#9c179e\"],[0.4444444444444444,\"#bd3786\"],[0.5555555555555556,\"#d8576b\"],[0.6666666666666666,\"#ed7953\"],[0.7777777777777778,\"#fb9f3a\"],[0.8888888888888888,\"#fdca26\"],[1.0,\"#f0f921\"]]}],\"choropleth\":[{\"type\":\"choropleth\",\"colorbar\":{\"outlinewidth\":0,\"ticks\":\"\"}}],\"histogram2d\":[{\"type\":\"histogram2d\",\"colorbar\":{\"outlinewidth\":0,\"ticks\":\"\"},\"colorscale\":[[0.0,\"#0d0887\"],[0.1111111111111111,\"#46039f\"],[0.2222222222222222,\"#7201a8\"],[0.3333333333333333,\"#9c179e\"],[0.4444444444444444,\"#bd3786\"],[0.5555555555555556,\"#d8576b\"],[0.6666666666666666,\"#ed7953\"],[0.7777777777777778,\"#fb9f3a\"],[0.8888888888888888,\"#fdca26\"],[1.0,\"#f0f921\"]]}],\"heatmap\":[{\"type\":\"heatmap\",\"colorbar\":{\"outlinewidth\":0,\"ticks\":\"\"},\"colorscale\":[[0.0,\"#0d0887\"],[0.1111111111111111,\"#46039f\"],[0.2222222222222222,\"#7201a8\"],[0.3333333333333333,\"#9c179e\"],[0.4444444444444444,\"#bd3786\"],[0.5555555555555556,\"#d8576b\"],[0.6666666666666666,\"#ed7953\"],[0.7777777777777778,\"#fb9f3a\"],[0.8888888888888888,\"#fdca26\"],[1.0,\"#f0f921\"]]}],\"heatmapgl\":[{\"type\":\"heatmapgl\",\"colorbar\":{\"outlinewidth\":0,\"ticks\":\"\"},\"colorscale\":[[0.0,\"#0d0887\"],[0.1111111111111111,\"#46039f\"],[0.2222222222222222,\"#7201a8\"],[0.3333333333333333,\"#9c179e\"],[0.4444444444444444,\"#bd3786\"],[0.5555555555555556,\"#d8576b\"],[0.6666666666666666,\"#ed7953\"],[0.7777777777777778,\"#fb9f3a\"],[0.8888888888888888,\"#fdca26\"],[1.0,\"#f0f921\"]]}],\"contourcarpet\":[{\"type\":\"contourcarpet\",\"colorbar\":{\"outlinewidth\":0,\"ticks\":\"\"}}],\"contour\":[{\"type\":\"contour\",\"colorbar\":{\"outlinewidth\":0,\"ticks\":\"\"},\"colorscale\":[[0.0,\"#0d0887\"],[0.1111111111111111,\"#46039f\"],[0.2222222222222222,\"#7201a8\"],[0.3333333333333333,\"#9c179e\"],[0.4444444444444444,\"#bd3786\"],[0.5555555555555556,\"#d8576b\"],[0.6666666666666666,\"#ed7953\"],[0.7777777777777778,\"#fb9f3a\"],[0.8888888888888888,\"#fdca26\"],[1.0,\"#f0f921\"]]}],\"surface\":[{\"type\":\"surface\",\"colorbar\":{\"outlinewidth\":0,\"ticks\":\"\"},\"colorscale\":[[0.0,\"#0d0887\"],[0.1111111111111111,\"#46039f\"],[0.2222222222222222,\"#7201a8\"],[0.3333333333333333,\"#9c179e\"],[0.4444444444444444,\"#bd3786\"],[0.5555555555555556,\"#d8576b\"],[0.6666666666666666,\"#ed7953\"],[0.7777777777777778,\"#fb9f3a\"],[0.8888888888888888,\"#fdca26\"],[1.0,\"#f0f921\"]]}],\"mesh3d\":[{\"type\":\"mesh3d\",\"colorbar\":{\"outlinewidth\":0,\"ticks\":\"\"}}],\"scatter\":[{\"fillpattern\":{\"fillmode\":\"overlay\",\"size\":10,\"solidity\":0.2},\"type\":\"scatter\"}],\"parcoords\":[{\"type\":\"parcoords\",\"line\":{\"colorbar\":{\"outlinewidth\":0,\"ticks\":\"\"}}}],\"scatterpolargl\":[{\"type\":\"scatterpolargl\",\"marker\":{\"colorbar\":{\"outlinewidth\":0,\"ticks\":\"\"}}}],\"bar\":[{\"error_x\":{\"color\":\"#2a3f5f\"},\"error_y\":{\"color\":\"#2a3f5f\"},\"marker\":{\"line\":{\"color\":\"#E5ECF6\",\"width\":0.5},\"pattern\":{\"fillmode\":\"overlay\",\"size\":10,\"solidity\":0.2}},\"type\":\"bar\"}],\"scattergeo\":[{\"type\":\"scattergeo\",\"marker\":{\"colorbar\":{\"outlinewidth\":0,\"ticks\":\"\"}}}],\"scatterpolar\":[{\"type\":\"scatterpolar\",\"marker\":{\"colorbar\":{\"outlinewidth\":0,\"ticks\":\"\"}}}],\"histogram\":[{\"marker\":{\"pattern\":{\"fillmode\":\"overlay\",\"size\":10,\"solidity\":0.2}},\"type\":\"histogram\"}],\"scattergl\":[{\"type\":\"scattergl\",\"marker\":{\"colorbar\":{\"outlinewidth\":0,\"ticks\":\"\"}}}],\"scatter3d\":[{\"type\":\"scatter3d\",\"line\":{\"colorbar\":{\"outlinewidth\":0,\"ticks\":\"\"}},\"marker\":{\"colorbar\":{\"outlinewidth\":0,\"ticks\":\"\"}}}],\"scattermapbox\":[{\"type\":\"scattermapbox\",\"marker\":{\"colorbar\":{\"outlinewidth\":0,\"ticks\":\"\"}}}],\"scatterternary\":[{\"type\":\"scatterternary\",\"marker\":{\"colorbar\":{\"outlinewidth\":0,\"ticks\":\"\"}}}],\"scattercarpet\":[{\"type\":\"scattercarpet\",\"marker\":{\"colorbar\":{\"outlinewidth\":0,\"ticks\":\"\"}}}],\"carpet\":[{\"aaxis\":{\"endlinecolor\":\"#2a3f5f\",\"gridcolor\":\"white\",\"linecolor\":\"white\",\"minorgridcolor\":\"white\",\"startlinecolor\":\"#2a3f5f\"},\"baxis\":{\"endlinecolor\":\"#2a3f5f\",\"gridcolor\":\"white\",\"linecolor\":\"white\",\"minorgridcolor\":\"white\",\"startlinecolor\":\"#2a3f5f\"},\"type\":\"carpet\"}],\"table\":[{\"cells\":{\"fill\":{\"color\":\"#EBF0F8\"},\"line\":{\"color\":\"white\"}},\"header\":{\"fill\":{\"color\":\"#C8D4E3\"},\"line\":{\"color\":\"white\"}},\"type\":\"table\"}],\"barpolar\":[{\"marker\":{\"line\":{\"color\":\"#E5ECF6\",\"width\":0.5},\"pattern\":{\"fillmode\":\"overlay\",\"size\":10,\"solidity\":0.2}},\"type\":\"barpolar\"}],\"pie\":[{\"automargin\":true,\"type\":\"pie\"}]},\"layout\":{\"autotypenumbers\":\"strict\",\"colorway\":[\"#636efa\",\"#EF553B\",\"#00cc96\",\"#ab63fa\",\"#FFA15A\",\"#19d3f3\",\"#FF6692\",\"#B6E880\",\"#FF97FF\",\"#FECB52\"],\"font\":{\"color\":\"#2a3f5f\"},\"hovermode\":\"closest\",\"hoverlabel\":{\"align\":\"left\"},\"paper_bgcolor\":\"white\",\"plot_bgcolor\":\"#E5ECF6\",\"polar\":{\"bgcolor\":\"#E5ECF6\",\"angularaxis\":{\"gridcolor\":\"white\",\"linecolor\":\"white\",\"ticks\":\"\"},\"radialaxis\":{\"gridcolor\":\"white\",\"linecolor\":\"white\",\"ticks\":\"\"}},\"ternary\":{\"bgcolor\":\"#E5ECF6\",\"aaxis\":{\"gridcolor\":\"white\",\"linecolor\":\"white\",\"ticks\":\"\"},\"baxis\":{\"gridcolor\":\"white\",\"linecolor\":\"white\",\"ticks\":\"\"},\"caxis\":{\"gridcolor\":\"white\",\"linecolor\":\"white\",\"ticks\":\"\"}},\"coloraxis\":{\"colorbar\":{\"outlinewidth\":0,\"ticks\":\"\"}},\"colorscale\":{\"sequential\":[[0.0,\"#0d0887\"],[0.1111111111111111,\"#46039f\"],[0.2222222222222222,\"#7201a8\"],[0.3333333333333333,\"#9c179e\"],[0.4444444444444444,\"#bd3786\"],[0.5555555555555556,\"#d8576b\"],[0.6666666666666666,\"#ed7953\"],[0.7777777777777778,\"#fb9f3a\"],[0.8888888888888888,\"#fdca26\"],[1.0,\"#f0f921\"]],\"sequentialminus\":[[0.0,\"#0d0887\"],[0.1111111111111111,\"#46039f\"],[0.2222222222222222,\"#7201a8\"],[0.3333333333333333,\"#9c179e\"],[0.4444444444444444,\"#bd3786\"],[0.5555555555555556,\"#d8576b\"],[0.6666666666666666,\"#ed7953\"],[0.7777777777777778,\"#fb9f3a\"],[0.8888888888888888,\"#fdca26\"],[1.0,\"#f0f921\"]],\"diverging\":[[0,\"#8e0152\"],[0.1,\"#c51b7d\"],[0.2,\"#de77ae\"],[0.3,\"#f1b6da\"],[0.4,\"#fde0ef\"],[0.5,\"#f7f7f7\"],[0.6,\"#e6f5d0\"],[0.7,\"#b8e186\"],[0.8,\"#7fbc41\"],[0.9,\"#4d9221\"],[1,\"#276419\"]]},\"xaxis\":{\"gridcolor\":\"white\",\"linecolor\":\"white\",\"ticks\":\"\",\"title\":{\"standoff\":15},\"zerolinecolor\":\"white\",\"automargin\":true,\"zerolinewidth\":2},\"yaxis\":{\"gridcolor\":\"white\",\"linecolor\":\"white\",\"ticks\":\"\",\"title\":{\"standoff\":15},\"zerolinecolor\":\"white\",\"automargin\":true,\"zerolinewidth\":2},\"scene\":{\"xaxis\":{\"backgroundcolor\":\"#E5ECF6\",\"gridcolor\":\"white\",\"linecolor\":\"white\",\"showbackground\":true,\"ticks\":\"\",\"zerolinecolor\":\"white\",\"gridwidth\":2},\"yaxis\":{\"backgroundcolor\":\"#E5ECF6\",\"gridcolor\":\"white\",\"linecolor\":\"white\",\"showbackground\":true,\"ticks\":\"\",\"zerolinecolor\":\"white\",\"gridwidth\":2},\"zaxis\":{\"backgroundcolor\":\"#E5ECF6\",\"gridcolor\":\"white\",\"linecolor\":\"white\",\"showbackground\":true,\"ticks\":\"\",\"zerolinecolor\":\"white\",\"gridwidth\":2}},\"shapedefaults\":{\"line\":{\"color\":\"#2a3f5f\"}},\"annotationdefaults\":{\"arrowcolor\":\"#2a3f5f\",\"arrowhead\":0,\"arrowwidth\":1},\"geo\":{\"bgcolor\":\"white\",\"landcolor\":\"#E5ECF6\",\"subunitcolor\":\"white\",\"showland\":true,\"showlakes\":true,\"lakecolor\":\"white\"},\"title\":{\"x\":0.05},\"mapbox\":{\"style\":\"light\"}}},\"xaxis\":{\"anchor\":\"y\",\"domain\":[0.0,1.0],\"title\":{\"text\":\"simple parental level of education\"}},\"yaxis\":{\"anchor\":\"x\",\"domain\":[0.0,1.0],\"title\":{\"text\":\"GPA\"}},\"legend\":{\"title\":{\"text\":\"race\\u002fethnicity\"},\"tracegroupgap\":0},\"margin\":{\"t\":60},\"boxmode\":\"group\"},                        {\"responsive\": true}                    ).then(function(){\n",
       "                            \n",
       "var gd = document.getElementById('4eea0e1e-a044-4b04-be5e-c5425befbae3');\n",
       "var x = new MutationObserver(function (mutations, observer) {{\n",
       "        var display = window.getComputedStyle(gd).display;\n",
       "        if (!display || display === 'none') {{\n",
       "            console.log([gd, 'removed!']);\n",
       "            Plotly.purge(gd);\n",
       "            observer.disconnect();\n",
       "        }}\n",
       "}});\n",
       "\n",
       "// Listen for the removal of the full notebook cells\n",
       "var notebookContainer = gd.closest('#notebook-container');\n",
       "if (notebookContainer) {{\n",
       "    x.observe(notebookContainer, {childList: true});\n",
       "}}\n",
       "\n",
       "// Listen for the clearing of the current output cell\n",
       "var outputEl = gd.closest('.output');\n",
       "if (outputEl) {{\n",
       "    x.observe(outputEl, {childList: true});\n",
       "}}\n",
       "\n",
       "                        })                };                });            </script>        </div>"
      ]
     },
     "metadata": {},
     "output_type": "display_data"
    }
   ],
   "source": [
    "fig = px.box(\n",
    "    df_copia, # Cmbies df_grades por df_copia ya que realizamos el mapeo en una copia del dataframe original\n",
    "    x=\"simple parental level of education\",\n",
    "    y=\"GPA\",\n",
    "    color=\"race/ethnicity\",\n",
    "    hover_data=[\"GPA\"],\n",
    ")\n",
    "fig.show()"
   ]
  },
  {
   "cell_type": "markdown",
   "metadata": {},
   "source": [
    "    Análizar gráfica acá.\n",
    "```\n",
    "Podemos notar que que el grupo de race/ethnicity E se tienen promedios de notas más altos que en los demás grupos, esto aplica para las 3 clasificaciones de educación de los padres, y el que el grupo con el promedio más bajo es del grupo A. Tambien se puede notar que no se ve mucha diferencia en el promedio con respecto a la eduación de los padres, sino que mas bien la despersion de los promedios parece disminuir.\n"
   ]
  },
  {
   "cell_type": "markdown",
   "metadata": {
    "id": "ZNGMKtJ6yGS6"
   },
   "source": [
    "**Resultados Esperados**"
   ]
  },
  {
   "cell_type": "markdown",
   "metadata": {},
   "source": [
    "Esta tabla ilustra la estructura del dataframe a conseguir. Los valores son referenciales, no necesariamente son los esperados."
   ]
  },
  {
   "cell_type": "markdown",
   "metadata": {},
   "source": [
    "|    | race/ethnicity   | simple parental level of education   |   math score |   reading score |   writing score |   GPA |   count | percentage   |\n",
    "|---:|:-----------------|:-------------------------------------|-------------:|----------------:|----------------:|------:|--------:|:-------------|\n",
    "|  0 | group A          | college                              |         4.83 |            5.05 |            4.95 |  4.94 |      26 | 2.6 %        |\n",
    "|  1 |                  | postgraduate                         |         4.46 |            4.88 |            5.06 |  4.80 |       3 | 0.3 %        |\n",
    "|  2 |                  | school                               |         4.65 |            4.81 |            4.66 |  4.71 |      60 | 6.0 %        |\n",
    "|  3 | group B          | college                              |         5.03 |            5.24 |            5.16 |  5.14 |      61 | 6.1 %        |\n",
    "|  4 |                  | postgraduate                         |         5.03 |            5.81 |            5.63 |  5.49 |       6 | 0.6 %        |\n",
    "|  5 |                  | school                               |         4.69 |            4.90 |            4.79 |  4.79 |     123 | 12.3 %       |\n",
    "|  6 | group C          | college                              |         5.03 |            5.36 |            5.33 |  5.24 |     118 | 11.8 %       |\n",
    "|  7 |                  | postgraduate                         |         5.02 |            5.23 |            5.17 |  5.14 |      19 | 1.9 %        |\n",
    "|  8 |                  | school                               |         4.74 |            5.00 |            4.89 |  4.88 |     182 | 18.2 %       |\n",
    "|  9 | group D          | college                              |         5.06 |            5.22 |            5.24 |  5.17 |      78 | 7.8 %        |\n",
    "| 10 |                  | postgraduate                         |         5.35 |            5.63 |            5.78 |  5.59 |      23 | 2.3 %        |\n",
    "| 11 |                  | school                               |         4.99 |            5.13 |            5.11 |  5.08 |     161 | 16.1 %       |\n",
    "| 12 | group E          | college                              |         5.53 |            5.45 |            5.43 |  5.47 |      57 | 5.7 %        |\n",
    "| 13 |                  | postgraduate                         |         5.48 |            5.93 |            5.83 |  5.74 |       8 | 0.8 %        |\n",
    "| 14 |                  | school                               |         5.35 |            5.27 |            5.11 |  5.25 |      75 | 7.5 %        |\n"
   ]
  },
  {
   "cell_type": "markdown",
   "metadata": {
    "id": "vhuhKQIwiYZ8"
   },
   "source": [
    "### 4.3 Joins, joins y más joins [1 punto]"
   ]
  },
  {
   "cell_type": "markdown",
   "metadata": {
    "id": "K08u0N6Iir9N"
   },
   "source": [
    "Mientras le notificaba por videollamada los resultados de sus descubrimientos a Don Caguayo, un exaltado practicante del area de TI entra a la reunión y les informa que ha encontrado una nueva base de datos que cuenta con las notas de dos asignaturas (en escala chilena): historia y ciencias.\n",
    "Para más remate, antes de huir, el practicante les cuenta que este dataframe lamentablemente contiene registros de alumnos que ya no forman parte de la universidad, por lo que no deben ser parte de este análisis.\n",
    "\n",
    "\n",
    "El rector (evidentemente molesto por la situación) les ruega incluir estos datos (vaciados en el archivo other_grades.csv) al estudio original(`students_grades.csv`).\n",
    "\n",
    "\n",
    "Para esto, carge el archivo `other_grades.csv` y busque la forma de unir ambos DataFrames, de tal manera que las columnas de `history score` y `science score` se anexen al final del DataFrame original. **NO LIMPIE LOS DATOS**, si no que explore los distintos tipos de merge para encontrar el mas situable para su situación (y así evitar buscar duplicados o **alumnos que no pertenecen a la universidad**).\n",
    "\n",
    "**To-Do**\n",
    "\n",
    "\n",
    "- [ ] Cargar el `other_grades.csv`\n",
    "- [ ] Unir `df_grades` con `other_grades.csv` usando outer join y explique el resultado.\n",
    "- [ ] Unir `df_grades` con `other_grades.csv` usando left join y explique el resultado.\n",
    "- [ ] Unir `df_grades` con `other_grades.csv` usando right join y explique el resultado.\n",
    "- [ ] Unir `df_grades` con `other_grades.csv` usando inner join y explique el resultado.\n",
    "- [ ] Defina cuál join es el que utilizará para generar el nuevo DataFrame.\n",
    "\n",
    "> **Hint**: Puede explicar los resultados del merge a través de la cantidad de filas resultantes y los valores que estas contienen."
   ]
  },
  {
   "cell_type": "markdown",
   "metadata": {},
   "source": [
    "**Respuesta:**"
   ]
  },
  {
   "cell_type": "code",
   "execution_count": 88,
   "metadata": {},
   "outputs": [
    {
     "name": "stdout",
     "output_type": "stream",
     "text": [
      "outer join:\n"
     ]
    },
    {
     "data": {
      "text/html": [
       "<div>\n",
       "<style scoped>\n",
       "    .dataframe tbody tr th:only-of-type {\n",
       "        vertical-align: middle;\n",
       "    }\n",
       "\n",
       "    .dataframe tbody tr th {\n",
       "        vertical-align: top;\n",
       "    }\n",
       "\n",
       "    .dataframe thead th {\n",
       "        text-align: right;\n",
       "    }\n",
       "</style>\n",
       "<table border=\"1\" class=\"dataframe\">\n",
       "  <thead>\n",
       "    <tr style=\"text-align: right;\">\n",
       "      <th></th>\n",
       "      <th>names</th>\n",
       "      <th>gender</th>\n",
       "      <th>race/ethnicity</th>\n",
       "      <th>parental level of education</th>\n",
       "      <th>lunch</th>\n",
       "      <th>test preparation course</th>\n",
       "      <th>math score</th>\n",
       "      <th>reading score</th>\n",
       "      <th>writing score</th>\n",
       "      <th>GPA</th>\n",
       "      <th>GPA cuantiles</th>\n",
       "      <th>science score</th>\n",
       "      <th>history score</th>\n",
       "    </tr>\n",
       "  </thead>\n",
       "  <tbody>\n",
       "    <tr>\n",
       "      <th>0</th>\n",
       "      <td>Aaron Morgan</td>\n",
       "      <td>NaN</td>\n",
       "      <td>NaN</td>\n",
       "      <td>NaN</td>\n",
       "      <td>NaN</td>\n",
       "      <td>NaN</td>\n",
       "      <td>NaN</td>\n",
       "      <td>NaN</td>\n",
       "      <td>NaN</td>\n",
       "      <td>NaN</td>\n",
       "      <td>NaN</td>\n",
       "      <td>3.35</td>\n",
       "      <td>5.46</td>\n",
       "    </tr>\n",
       "    <tr>\n",
       "      <th>1</th>\n",
       "      <td>Aaron Oakden</td>\n",
       "      <td>male</td>\n",
       "      <td>group D</td>\n",
       "      <td>high school</td>\n",
       "      <td>free/reduced</td>\n",
       "      <td>none</td>\n",
       "      <td>4.96</td>\n",
       "      <td>5.44</td>\n",
       "      <td>5.14</td>\n",
       "      <td>5.18</td>\n",
       "      <td>Medio</td>\n",
       "      <td>3.76</td>\n",
       "      <td>4.60</td>\n",
       "    </tr>\n",
       "    <tr>\n",
       "      <th>2</th>\n",
       "      <td>Aaron Shelly</td>\n",
       "      <td>male</td>\n",
       "      <td>group D</td>\n",
       "      <td>associate's degree</td>\n",
       "      <td>standard</td>\n",
       "      <td>none</td>\n",
       "      <td>4.66</td>\n",
       "      <td>3.88</td>\n",
       "      <td>3.76</td>\n",
       "      <td>4.10</td>\n",
       "      <td>Bajísimo</td>\n",
       "      <td>3.88</td>\n",
       "      <td>3.90</td>\n",
       "    </tr>\n",
       "    <tr>\n",
       "      <th>3</th>\n",
       "      <td>Abigail Hall</td>\n",
       "      <td>NaN</td>\n",
       "      <td>NaN</td>\n",
       "      <td>NaN</td>\n",
       "      <td>NaN</td>\n",
       "      <td>NaN</td>\n",
       "      <td>NaN</td>\n",
       "      <td>NaN</td>\n",
       "      <td>NaN</td>\n",
       "      <td>NaN</td>\n",
       "      <td>NaN</td>\n",
       "      <td>2.88</td>\n",
       "      <td>4.59</td>\n",
       "    </tr>\n",
       "    <tr>\n",
       "      <th>4</th>\n",
       "      <td>Adam Collins</td>\n",
       "      <td>NaN</td>\n",
       "      <td>NaN</td>\n",
       "      <td>NaN</td>\n",
       "      <td>NaN</td>\n",
       "      <td>NaN</td>\n",
       "      <td>NaN</td>\n",
       "      <td>NaN</td>\n",
       "      <td>NaN</td>\n",
       "      <td>NaN</td>\n",
       "      <td>NaN</td>\n",
       "      <td>5.32</td>\n",
       "      <td>2.57</td>\n",
       "    </tr>\n",
       "    <tr>\n",
       "      <th>...</th>\n",
       "      <td>...</td>\n",
       "      <td>...</td>\n",
       "      <td>...</td>\n",
       "      <td>...</td>\n",
       "      <td>...</td>\n",
       "      <td>...</td>\n",
       "      <td>...</td>\n",
       "      <td>...</td>\n",
       "      <td>...</td>\n",
       "      <td>...</td>\n",
       "      <td>...</td>\n",
       "      <td>...</td>\n",
       "      <td>...</td>\n",
       "    </tr>\n",
       "    <tr>\n",
       "      <th>1145</th>\n",
       "      <td>Zachary Glenn</td>\n",
       "      <td>male</td>\n",
       "      <td>group E</td>\n",
       "      <td>some college</td>\n",
       "      <td>standard</td>\n",
       "      <td>completed</td>\n",
       "      <td>6.94</td>\n",
       "      <td>6.22</td>\n",
       "      <td>5.86</td>\n",
       "      <td>6.34</td>\n",
       "      <td>Muy alto</td>\n",
       "      <td>6.94</td>\n",
       "      <td>5.70</td>\n",
       "    </tr>\n",
       "    <tr>\n",
       "      <th>1146</th>\n",
       "      <td>Zachary Torres</td>\n",
       "      <td>NaN</td>\n",
       "      <td>NaN</td>\n",
       "      <td>NaN</td>\n",
       "      <td>NaN</td>\n",
       "      <td>NaN</td>\n",
       "      <td>NaN</td>\n",
       "      <td>NaN</td>\n",
       "      <td>NaN</td>\n",
       "      <td>NaN</td>\n",
       "      <td>NaN</td>\n",
       "      <td>4.48</td>\n",
       "      <td>6.92</td>\n",
       "    </tr>\n",
       "    <tr>\n",
       "      <th>1147</th>\n",
       "      <td>Zoey Campbell</td>\n",
       "      <td>NaN</td>\n",
       "      <td>NaN</td>\n",
       "      <td>NaN</td>\n",
       "      <td>NaN</td>\n",
       "      <td>NaN</td>\n",
       "      <td>NaN</td>\n",
       "      <td>NaN</td>\n",
       "      <td>NaN</td>\n",
       "      <td>NaN</td>\n",
       "      <td>NaN</td>\n",
       "      <td>4.05</td>\n",
       "      <td>1.72</td>\n",
       "    </tr>\n",
       "    <tr>\n",
       "      <th>1148</th>\n",
       "      <td>Zoey Long</td>\n",
       "      <td>NaN</td>\n",
       "      <td>NaN</td>\n",
       "      <td>NaN</td>\n",
       "      <td>NaN</td>\n",
       "      <td>NaN</td>\n",
       "      <td>NaN</td>\n",
       "      <td>NaN</td>\n",
       "      <td>NaN</td>\n",
       "      <td>NaN</td>\n",
       "      <td>NaN</td>\n",
       "      <td>1.75</td>\n",
       "      <td>3.50</td>\n",
       "    </tr>\n",
       "    <tr>\n",
       "      <th>1149</th>\n",
       "      <td>Zoey Patterson</td>\n",
       "      <td>NaN</td>\n",
       "      <td>NaN</td>\n",
       "      <td>NaN</td>\n",
       "      <td>NaN</td>\n",
       "      <td>NaN</td>\n",
       "      <td>NaN</td>\n",
       "      <td>NaN</td>\n",
       "      <td>NaN</td>\n",
       "      <td>NaN</td>\n",
       "      <td>NaN</td>\n",
       "      <td>4.89</td>\n",
       "      <td>6.68</td>\n",
       "    </tr>\n",
       "  </tbody>\n",
       "</table>\n",
       "<p>1150 rows × 13 columns</p>\n",
       "</div>"
      ],
      "text/plain": [
       "               names gender race/ethnicity parental level of education  \\\n",
       "0       Aaron Morgan    NaN            NaN                         NaN   \n",
       "1       Aaron Oakden   male        group D                 high school   \n",
       "2       Aaron Shelly   male        group D          associate's degree   \n",
       "3       Abigail Hall    NaN            NaN                         NaN   \n",
       "4       Adam Collins    NaN            NaN                         NaN   \n",
       "...              ...    ...            ...                         ...   \n",
       "1145   Zachary Glenn   male        group E                some college   \n",
       "1146  Zachary Torres    NaN            NaN                         NaN   \n",
       "1147   Zoey Campbell    NaN            NaN                         NaN   \n",
       "1148       Zoey Long    NaN            NaN                         NaN   \n",
       "1149  Zoey Patterson    NaN            NaN                         NaN   \n",
       "\n",
       "             lunch test preparation course  math score  reading score  \\\n",
       "0              NaN                     NaN         NaN            NaN   \n",
       "1     free/reduced                    none        4.96           5.44   \n",
       "2         standard                    none        4.66           3.88   \n",
       "3              NaN                     NaN         NaN            NaN   \n",
       "4              NaN                     NaN         NaN            NaN   \n",
       "...            ...                     ...         ...            ...   \n",
       "1145      standard               completed        6.94           6.22   \n",
       "1146           NaN                     NaN         NaN            NaN   \n",
       "1147           NaN                     NaN         NaN            NaN   \n",
       "1148           NaN                     NaN         NaN            NaN   \n",
       "1149           NaN                     NaN         NaN            NaN   \n",
       "\n",
       "      writing score   GPA GPA cuantiles  science score  history score  \n",
       "0               NaN   NaN           NaN           3.35           5.46  \n",
       "1              5.14  5.18         Medio           3.76           4.60  \n",
       "2              3.76  4.10      Bajísimo           3.88           3.90  \n",
       "3               NaN   NaN           NaN           2.88           4.59  \n",
       "4               NaN   NaN           NaN           5.32           2.57  \n",
       "...             ...   ...           ...            ...            ...  \n",
       "1145           5.86  6.34      Muy alto           6.94           5.70  \n",
       "1146            NaN   NaN           NaN           4.48           6.92  \n",
       "1147            NaN   NaN           NaN           4.05           1.72  \n",
       "1148            NaN   NaN           NaN           1.75           3.50  \n",
       "1149            NaN   NaN           NaN           4.89           6.68  \n",
       "\n",
       "[1150 rows x 13 columns]"
      ]
     },
     "metadata": {},
     "output_type": "display_data"
    },
    {
     "name": "stdout",
     "output_type": "stream",
     "text": [
      "\n",
      "\n",
      "left join\n"
     ]
    },
    {
     "data": {
      "text/html": [
       "<div>\n",
       "<style scoped>\n",
       "    .dataframe tbody tr th:only-of-type {\n",
       "        vertical-align: middle;\n",
       "    }\n",
       "\n",
       "    .dataframe tbody tr th {\n",
       "        vertical-align: top;\n",
       "    }\n",
       "\n",
       "    .dataframe thead th {\n",
       "        text-align: right;\n",
       "    }\n",
       "</style>\n",
       "<table border=\"1\" class=\"dataframe\">\n",
       "  <thead>\n",
       "    <tr style=\"text-align: right;\">\n",
       "      <th></th>\n",
       "      <th>names</th>\n",
       "      <th>gender</th>\n",
       "      <th>race/ethnicity</th>\n",
       "      <th>parental level of education</th>\n",
       "      <th>lunch</th>\n",
       "      <th>test preparation course</th>\n",
       "      <th>math score</th>\n",
       "      <th>reading score</th>\n",
       "      <th>writing score</th>\n",
       "      <th>GPA</th>\n",
       "      <th>GPA cuantiles</th>\n",
       "      <th>science score</th>\n",
       "      <th>history score</th>\n",
       "    </tr>\n",
       "  </thead>\n",
       "  <tbody>\n",
       "    <tr>\n",
       "      <th>0</th>\n",
       "      <td>Aaron Oakden</td>\n",
       "      <td>male</td>\n",
       "      <td>group D</td>\n",
       "      <td>high school</td>\n",
       "      <td>free/reduced</td>\n",
       "      <td>none</td>\n",
       "      <td>4.96</td>\n",
       "      <td>5.44</td>\n",
       "      <td>5.14</td>\n",
       "      <td>5.18</td>\n",
       "      <td>Medio</td>\n",
       "      <td>3.76</td>\n",
       "      <td>4.6</td>\n",
       "    </tr>\n",
       "    <tr>\n",
       "      <th>1</th>\n",
       "      <td>Aaron Shelly</td>\n",
       "      <td>male</td>\n",
       "      <td>group D</td>\n",
       "      <td>associate's degree</td>\n",
       "      <td>standard</td>\n",
       "      <td>none</td>\n",
       "      <td>4.66</td>\n",
       "      <td>3.88</td>\n",
       "      <td>3.76</td>\n",
       "      <td>4.10</td>\n",
       "      <td>Bajísimo</td>\n",
       "      <td>3.88</td>\n",
       "      <td>3.9</td>\n",
       "    </tr>\n",
       "    <tr>\n",
       "      <th>2</th>\n",
       "      <td>Adam Romero</td>\n",
       "      <td>male</td>\n",
       "      <td>group C</td>\n",
       "      <td>high school</td>\n",
       "      <td>standard</td>\n",
       "      <td>completed</td>\n",
       "      <td>4.18</td>\n",
       "      <td>4.12</td>\n",
       "      <td>3.94</td>\n",
       "      <td>4.08</td>\n",
       "      <td>Bajísimo</td>\n",
       "      <td>3.52</td>\n",
       "      <td>3.2</td>\n",
       "    </tr>\n",
       "    <tr>\n",
       "      <th>3</th>\n",
       "      <td>Agatha Bergman</td>\n",
       "      <td>female</td>\n",
       "      <td>group D</td>\n",
       "      <td>master's degree</td>\n",
       "      <td>standard</td>\n",
       "      <td>none</td>\n",
       "      <td>6.52</td>\n",
       "      <td>7.00</td>\n",
       "      <td>7.00</td>\n",
       "      <td>6.84</td>\n",
       "      <td>Muy alto</td>\n",
       "      <td>6.52</td>\n",
       "      <td>5.2</td>\n",
       "    </tr>\n",
       "    <tr>\n",
       "      <th>4</th>\n",
       "      <td>Agnes Dobbs</td>\n",
       "      <td>female</td>\n",
       "      <td>group C</td>\n",
       "      <td>master's degree</td>\n",
       "      <td>free/reduced</td>\n",
       "      <td>completed</td>\n",
       "      <td>4.90</td>\n",
       "      <td>5.86</td>\n",
       "      <td>5.86</td>\n",
       "      <td>5.54</td>\n",
       "      <td>Alto</td>\n",
       "      <td>4.90</td>\n",
       "      <td>5.9</td>\n",
       "    </tr>\n",
       "    <tr>\n",
       "      <th>...</th>\n",
       "      <td>...</td>\n",
       "      <td>...</td>\n",
       "      <td>...</td>\n",
       "      <td>...</td>\n",
       "      <td>...</td>\n",
       "      <td>...</td>\n",
       "      <td>...</td>\n",
       "      <td>...</td>\n",
       "      <td>...</td>\n",
       "      <td>...</td>\n",
       "      <td>...</td>\n",
       "      <td>...</td>\n",
       "      <td>...</td>\n",
       "    </tr>\n",
       "    <tr>\n",
       "      <th>995</th>\n",
       "      <td>William Tang</td>\n",
       "      <td>male</td>\n",
       "      <td>group D</td>\n",
       "      <td>associate's degree</td>\n",
       "      <td>standard</td>\n",
       "      <td>none</td>\n",
       "      <td>5.50</td>\n",
       "      <td>5.08</td>\n",
       "      <td>4.84</td>\n",
       "      <td>5.14</td>\n",
       "      <td>Medio</td>\n",
       "      <td>4.12</td>\n",
       "      <td>4.7</td>\n",
       "    </tr>\n",
       "    <tr>\n",
       "      <th>996</th>\n",
       "      <td>Willie Gilbert</td>\n",
       "      <td>male</td>\n",
       "      <td>group E</td>\n",
       "      <td>some high school</td>\n",
       "      <td>standard</td>\n",
       "      <td>none</td>\n",
       "      <td>5.92</td>\n",
       "      <td>5.02</td>\n",
       "      <td>4.66</td>\n",
       "      <td>5.20</td>\n",
       "      <td>Medio</td>\n",
       "      <td>5.38</td>\n",
       "      <td>3.8</td>\n",
       "    </tr>\n",
       "    <tr>\n",
       "      <th>997</th>\n",
       "      <td>Willie Neff</td>\n",
       "      <td>female</td>\n",
       "      <td>group E</td>\n",
       "      <td>associate's degree</td>\n",
       "      <td>free/reduced</td>\n",
       "      <td>none</td>\n",
       "      <td>5.38</td>\n",
       "      <td>5.56</td>\n",
       "      <td>5.68</td>\n",
       "      <td>5.54</td>\n",
       "      <td>Alto</td>\n",
       "      <td>4.48</td>\n",
       "      <td>4.6</td>\n",
       "    </tr>\n",
       "    <tr>\n",
       "      <th>998</th>\n",
       "      <td>Willie Nicholson</td>\n",
       "      <td>female</td>\n",
       "      <td>group D</td>\n",
       "      <td>some college</td>\n",
       "      <td>free/reduced</td>\n",
       "      <td>completed</td>\n",
       "      <td>4.78</td>\n",
       "      <td>5.80</td>\n",
       "      <td>5.80</td>\n",
       "      <td>5.46</td>\n",
       "      <td>Alto</td>\n",
       "      <td>4.78</td>\n",
       "      <td>4.8</td>\n",
       "    </tr>\n",
       "    <tr>\n",
       "      <th>999</th>\n",
       "      <td>Zachary Glenn</td>\n",
       "      <td>male</td>\n",
       "      <td>group E</td>\n",
       "      <td>some college</td>\n",
       "      <td>standard</td>\n",
       "      <td>completed</td>\n",
       "      <td>6.94</td>\n",
       "      <td>6.22</td>\n",
       "      <td>5.86</td>\n",
       "      <td>6.34</td>\n",
       "      <td>Muy alto</td>\n",
       "      <td>6.94</td>\n",
       "      <td>5.7</td>\n",
       "    </tr>\n",
       "  </tbody>\n",
       "</table>\n",
       "<p>1000 rows × 13 columns</p>\n",
       "</div>"
      ],
      "text/plain": [
       "                names  gender race/ethnicity parental level of education  \\\n",
       "0        Aaron Oakden    male        group D                 high school   \n",
       "1        Aaron Shelly    male        group D          associate's degree   \n",
       "2         Adam Romero    male        group C                 high school   \n",
       "3      Agatha Bergman  female        group D             master's degree   \n",
       "4         Agnes Dobbs  female        group C             master's degree   \n",
       "..                ...     ...            ...                         ...   \n",
       "995      William Tang    male        group D          associate's degree   \n",
       "996    Willie Gilbert    male        group E            some high school   \n",
       "997       Willie Neff  female        group E          associate's degree   \n",
       "998  Willie Nicholson  female        group D                some college   \n",
       "999     Zachary Glenn    male        group E                some college   \n",
       "\n",
       "            lunch test preparation course  math score  reading score  \\\n",
       "0    free/reduced                    none        4.96           5.44   \n",
       "1        standard                    none        4.66           3.88   \n",
       "2        standard               completed        4.18           4.12   \n",
       "3        standard                    none        6.52           7.00   \n",
       "4    free/reduced               completed        4.90           5.86   \n",
       "..            ...                     ...         ...            ...   \n",
       "995      standard                    none        5.50           5.08   \n",
       "996      standard                    none        5.92           5.02   \n",
       "997  free/reduced                    none        5.38           5.56   \n",
       "998  free/reduced               completed        4.78           5.80   \n",
       "999      standard               completed        6.94           6.22   \n",
       "\n",
       "     writing score   GPA GPA cuantiles  science score  history score  \n",
       "0             5.14  5.18         Medio           3.76            4.6  \n",
       "1             3.76  4.10      Bajísimo           3.88            3.9  \n",
       "2             3.94  4.08      Bajísimo           3.52            3.2  \n",
       "3             7.00  6.84      Muy alto           6.52            5.2  \n",
       "4             5.86  5.54          Alto           4.90            5.9  \n",
       "..             ...   ...           ...            ...            ...  \n",
       "995           4.84  5.14         Medio           4.12            4.7  \n",
       "996           4.66  5.20         Medio           5.38            3.8  \n",
       "997           5.68  5.54          Alto           4.48            4.6  \n",
       "998           5.80  5.46          Alto           4.78            4.8  \n",
       "999           5.86  6.34      Muy alto           6.94            5.7  \n",
       "\n",
       "[1000 rows x 13 columns]"
      ]
     },
     "metadata": {},
     "output_type": "display_data"
    },
    {
     "name": "stdout",
     "output_type": "stream",
     "text": [
      "\n",
      "\n",
      "right join\n"
     ]
    },
    {
     "data": {
      "text/html": [
       "<div>\n",
       "<style scoped>\n",
       "    .dataframe tbody tr th:only-of-type {\n",
       "        vertical-align: middle;\n",
       "    }\n",
       "\n",
       "    .dataframe tbody tr th {\n",
       "        vertical-align: top;\n",
       "    }\n",
       "\n",
       "    .dataframe thead th {\n",
       "        text-align: right;\n",
       "    }\n",
       "</style>\n",
       "<table border=\"1\" class=\"dataframe\">\n",
       "  <thead>\n",
       "    <tr style=\"text-align: right;\">\n",
       "      <th></th>\n",
       "      <th>names</th>\n",
       "      <th>gender</th>\n",
       "      <th>race/ethnicity</th>\n",
       "      <th>parental level of education</th>\n",
       "      <th>lunch</th>\n",
       "      <th>test preparation course</th>\n",
       "      <th>math score</th>\n",
       "      <th>reading score</th>\n",
       "      <th>writing score</th>\n",
       "      <th>GPA</th>\n",
       "      <th>GPA cuantiles</th>\n",
       "      <th>science score</th>\n",
       "      <th>history score</th>\n",
       "    </tr>\n",
       "  </thead>\n",
       "  <tbody>\n",
       "    <tr>\n",
       "      <th>0</th>\n",
       "      <td>Aaron Morgan</td>\n",
       "      <td>NaN</td>\n",
       "      <td>NaN</td>\n",
       "      <td>NaN</td>\n",
       "      <td>NaN</td>\n",
       "      <td>NaN</td>\n",
       "      <td>NaN</td>\n",
       "      <td>NaN</td>\n",
       "      <td>NaN</td>\n",
       "      <td>NaN</td>\n",
       "      <td>NaN</td>\n",
       "      <td>3.35</td>\n",
       "      <td>5.46</td>\n",
       "    </tr>\n",
       "    <tr>\n",
       "      <th>1</th>\n",
       "      <td>Aaron Oakden</td>\n",
       "      <td>male</td>\n",
       "      <td>group D</td>\n",
       "      <td>high school</td>\n",
       "      <td>free/reduced</td>\n",
       "      <td>none</td>\n",
       "      <td>4.96</td>\n",
       "      <td>5.44</td>\n",
       "      <td>5.14</td>\n",
       "      <td>5.18</td>\n",
       "      <td>Medio</td>\n",
       "      <td>3.76</td>\n",
       "      <td>4.60</td>\n",
       "    </tr>\n",
       "    <tr>\n",
       "      <th>2</th>\n",
       "      <td>Aaron Shelly</td>\n",
       "      <td>male</td>\n",
       "      <td>group D</td>\n",
       "      <td>associate's degree</td>\n",
       "      <td>standard</td>\n",
       "      <td>none</td>\n",
       "      <td>4.66</td>\n",
       "      <td>3.88</td>\n",
       "      <td>3.76</td>\n",
       "      <td>4.10</td>\n",
       "      <td>Bajísimo</td>\n",
       "      <td>3.88</td>\n",
       "      <td>3.90</td>\n",
       "    </tr>\n",
       "    <tr>\n",
       "      <th>3</th>\n",
       "      <td>Abigail Hall</td>\n",
       "      <td>NaN</td>\n",
       "      <td>NaN</td>\n",
       "      <td>NaN</td>\n",
       "      <td>NaN</td>\n",
       "      <td>NaN</td>\n",
       "      <td>NaN</td>\n",
       "      <td>NaN</td>\n",
       "      <td>NaN</td>\n",
       "      <td>NaN</td>\n",
       "      <td>NaN</td>\n",
       "      <td>2.88</td>\n",
       "      <td>4.59</td>\n",
       "    </tr>\n",
       "    <tr>\n",
       "      <th>4</th>\n",
       "      <td>Adam Collins</td>\n",
       "      <td>NaN</td>\n",
       "      <td>NaN</td>\n",
       "      <td>NaN</td>\n",
       "      <td>NaN</td>\n",
       "      <td>NaN</td>\n",
       "      <td>NaN</td>\n",
       "      <td>NaN</td>\n",
       "      <td>NaN</td>\n",
       "      <td>NaN</td>\n",
       "      <td>NaN</td>\n",
       "      <td>5.32</td>\n",
       "      <td>2.57</td>\n",
       "    </tr>\n",
       "    <tr>\n",
       "      <th>...</th>\n",
       "      <td>...</td>\n",
       "      <td>...</td>\n",
       "      <td>...</td>\n",
       "      <td>...</td>\n",
       "      <td>...</td>\n",
       "      <td>...</td>\n",
       "      <td>...</td>\n",
       "      <td>...</td>\n",
       "      <td>...</td>\n",
       "      <td>...</td>\n",
       "      <td>...</td>\n",
       "      <td>...</td>\n",
       "      <td>...</td>\n",
       "    </tr>\n",
       "    <tr>\n",
       "      <th>1145</th>\n",
       "      <td>Zachary Glenn</td>\n",
       "      <td>male</td>\n",
       "      <td>group E</td>\n",
       "      <td>some college</td>\n",
       "      <td>standard</td>\n",
       "      <td>completed</td>\n",
       "      <td>6.94</td>\n",
       "      <td>6.22</td>\n",
       "      <td>5.86</td>\n",
       "      <td>6.34</td>\n",
       "      <td>Muy alto</td>\n",
       "      <td>6.94</td>\n",
       "      <td>5.70</td>\n",
       "    </tr>\n",
       "    <tr>\n",
       "      <th>1146</th>\n",
       "      <td>Zachary Torres</td>\n",
       "      <td>NaN</td>\n",
       "      <td>NaN</td>\n",
       "      <td>NaN</td>\n",
       "      <td>NaN</td>\n",
       "      <td>NaN</td>\n",
       "      <td>NaN</td>\n",
       "      <td>NaN</td>\n",
       "      <td>NaN</td>\n",
       "      <td>NaN</td>\n",
       "      <td>NaN</td>\n",
       "      <td>4.48</td>\n",
       "      <td>6.92</td>\n",
       "    </tr>\n",
       "    <tr>\n",
       "      <th>1147</th>\n",
       "      <td>Zoey Campbell</td>\n",
       "      <td>NaN</td>\n",
       "      <td>NaN</td>\n",
       "      <td>NaN</td>\n",
       "      <td>NaN</td>\n",
       "      <td>NaN</td>\n",
       "      <td>NaN</td>\n",
       "      <td>NaN</td>\n",
       "      <td>NaN</td>\n",
       "      <td>NaN</td>\n",
       "      <td>NaN</td>\n",
       "      <td>4.05</td>\n",
       "      <td>1.72</td>\n",
       "    </tr>\n",
       "    <tr>\n",
       "      <th>1148</th>\n",
       "      <td>Zoey Long</td>\n",
       "      <td>NaN</td>\n",
       "      <td>NaN</td>\n",
       "      <td>NaN</td>\n",
       "      <td>NaN</td>\n",
       "      <td>NaN</td>\n",
       "      <td>NaN</td>\n",
       "      <td>NaN</td>\n",
       "      <td>NaN</td>\n",
       "      <td>NaN</td>\n",
       "      <td>NaN</td>\n",
       "      <td>1.75</td>\n",
       "      <td>3.50</td>\n",
       "    </tr>\n",
       "    <tr>\n",
       "      <th>1149</th>\n",
       "      <td>Zoey Patterson</td>\n",
       "      <td>NaN</td>\n",
       "      <td>NaN</td>\n",
       "      <td>NaN</td>\n",
       "      <td>NaN</td>\n",
       "      <td>NaN</td>\n",
       "      <td>NaN</td>\n",
       "      <td>NaN</td>\n",
       "      <td>NaN</td>\n",
       "      <td>NaN</td>\n",
       "      <td>NaN</td>\n",
       "      <td>4.89</td>\n",
       "      <td>6.68</td>\n",
       "    </tr>\n",
       "  </tbody>\n",
       "</table>\n",
       "<p>1150 rows × 13 columns</p>\n",
       "</div>"
      ],
      "text/plain": [
       "               names gender race/ethnicity parental level of education  \\\n",
       "0       Aaron Morgan    NaN            NaN                         NaN   \n",
       "1       Aaron Oakden   male        group D                 high school   \n",
       "2       Aaron Shelly   male        group D          associate's degree   \n",
       "3       Abigail Hall    NaN            NaN                         NaN   \n",
       "4       Adam Collins    NaN            NaN                         NaN   \n",
       "...              ...    ...            ...                         ...   \n",
       "1145   Zachary Glenn   male        group E                some college   \n",
       "1146  Zachary Torres    NaN            NaN                         NaN   \n",
       "1147   Zoey Campbell    NaN            NaN                         NaN   \n",
       "1148       Zoey Long    NaN            NaN                         NaN   \n",
       "1149  Zoey Patterson    NaN            NaN                         NaN   \n",
       "\n",
       "             lunch test preparation course  math score  reading score  \\\n",
       "0              NaN                     NaN         NaN            NaN   \n",
       "1     free/reduced                    none        4.96           5.44   \n",
       "2         standard                    none        4.66           3.88   \n",
       "3              NaN                     NaN         NaN            NaN   \n",
       "4              NaN                     NaN         NaN            NaN   \n",
       "...            ...                     ...         ...            ...   \n",
       "1145      standard               completed        6.94           6.22   \n",
       "1146           NaN                     NaN         NaN            NaN   \n",
       "1147           NaN                     NaN         NaN            NaN   \n",
       "1148           NaN                     NaN         NaN            NaN   \n",
       "1149           NaN                     NaN         NaN            NaN   \n",
       "\n",
       "      writing score   GPA GPA cuantiles  science score  history score  \n",
       "0               NaN   NaN           NaN           3.35           5.46  \n",
       "1              5.14  5.18         Medio           3.76           4.60  \n",
       "2              3.76  4.10      Bajísimo           3.88           3.90  \n",
       "3               NaN   NaN           NaN           2.88           4.59  \n",
       "4               NaN   NaN           NaN           5.32           2.57  \n",
       "...             ...   ...           ...            ...            ...  \n",
       "1145           5.86  6.34      Muy alto           6.94           5.70  \n",
       "1146            NaN   NaN           NaN           4.48           6.92  \n",
       "1147            NaN   NaN           NaN           4.05           1.72  \n",
       "1148            NaN   NaN           NaN           1.75           3.50  \n",
       "1149            NaN   NaN           NaN           4.89           6.68  \n",
       "\n",
       "[1150 rows x 13 columns]"
      ]
     },
     "metadata": {},
     "output_type": "display_data"
    },
    {
     "name": "stdout",
     "output_type": "stream",
     "text": [
      "\n",
      "\n",
      "inner join\n"
     ]
    },
    {
     "data": {
      "text/html": [
       "<div>\n",
       "<style scoped>\n",
       "    .dataframe tbody tr th:only-of-type {\n",
       "        vertical-align: middle;\n",
       "    }\n",
       "\n",
       "    .dataframe tbody tr th {\n",
       "        vertical-align: top;\n",
       "    }\n",
       "\n",
       "    .dataframe thead th {\n",
       "        text-align: right;\n",
       "    }\n",
       "</style>\n",
       "<table border=\"1\" class=\"dataframe\">\n",
       "  <thead>\n",
       "    <tr style=\"text-align: right;\">\n",
       "      <th></th>\n",
       "      <th>names</th>\n",
       "      <th>gender</th>\n",
       "      <th>race/ethnicity</th>\n",
       "      <th>parental level of education</th>\n",
       "      <th>lunch</th>\n",
       "      <th>test preparation course</th>\n",
       "      <th>math score</th>\n",
       "      <th>reading score</th>\n",
       "      <th>writing score</th>\n",
       "      <th>GPA</th>\n",
       "      <th>GPA cuantiles</th>\n",
       "      <th>science score</th>\n",
       "      <th>history score</th>\n",
       "    </tr>\n",
       "  </thead>\n",
       "  <tbody>\n",
       "    <tr>\n",
       "      <th>0</th>\n",
       "      <td>Aaron Oakden</td>\n",
       "      <td>male</td>\n",
       "      <td>group D</td>\n",
       "      <td>high school</td>\n",
       "      <td>free/reduced</td>\n",
       "      <td>none</td>\n",
       "      <td>4.96</td>\n",
       "      <td>5.44</td>\n",
       "      <td>5.14</td>\n",
       "      <td>5.18</td>\n",
       "      <td>Medio</td>\n",
       "      <td>3.76</td>\n",
       "      <td>4.6</td>\n",
       "    </tr>\n",
       "    <tr>\n",
       "      <th>1</th>\n",
       "      <td>Aaron Shelly</td>\n",
       "      <td>male</td>\n",
       "      <td>group D</td>\n",
       "      <td>associate's degree</td>\n",
       "      <td>standard</td>\n",
       "      <td>none</td>\n",
       "      <td>4.66</td>\n",
       "      <td>3.88</td>\n",
       "      <td>3.76</td>\n",
       "      <td>4.10</td>\n",
       "      <td>Bajísimo</td>\n",
       "      <td>3.88</td>\n",
       "      <td>3.9</td>\n",
       "    </tr>\n",
       "    <tr>\n",
       "      <th>2</th>\n",
       "      <td>Adam Romero</td>\n",
       "      <td>male</td>\n",
       "      <td>group C</td>\n",
       "      <td>high school</td>\n",
       "      <td>standard</td>\n",
       "      <td>completed</td>\n",
       "      <td>4.18</td>\n",
       "      <td>4.12</td>\n",
       "      <td>3.94</td>\n",
       "      <td>4.08</td>\n",
       "      <td>Bajísimo</td>\n",
       "      <td>3.52</td>\n",
       "      <td>3.2</td>\n",
       "    </tr>\n",
       "    <tr>\n",
       "      <th>3</th>\n",
       "      <td>Agatha Bergman</td>\n",
       "      <td>female</td>\n",
       "      <td>group D</td>\n",
       "      <td>master's degree</td>\n",
       "      <td>standard</td>\n",
       "      <td>none</td>\n",
       "      <td>6.52</td>\n",
       "      <td>7.00</td>\n",
       "      <td>7.00</td>\n",
       "      <td>6.84</td>\n",
       "      <td>Muy alto</td>\n",
       "      <td>6.52</td>\n",
       "      <td>5.2</td>\n",
       "    </tr>\n",
       "    <tr>\n",
       "      <th>4</th>\n",
       "      <td>Agnes Dobbs</td>\n",
       "      <td>female</td>\n",
       "      <td>group C</td>\n",
       "      <td>master's degree</td>\n",
       "      <td>free/reduced</td>\n",
       "      <td>completed</td>\n",
       "      <td>4.90</td>\n",
       "      <td>5.86</td>\n",
       "      <td>5.86</td>\n",
       "      <td>5.54</td>\n",
       "      <td>Alto</td>\n",
       "      <td>4.90</td>\n",
       "      <td>5.9</td>\n",
       "    </tr>\n",
       "    <tr>\n",
       "      <th>...</th>\n",
       "      <td>...</td>\n",
       "      <td>...</td>\n",
       "      <td>...</td>\n",
       "      <td>...</td>\n",
       "      <td>...</td>\n",
       "      <td>...</td>\n",
       "      <td>...</td>\n",
       "      <td>...</td>\n",
       "      <td>...</td>\n",
       "      <td>...</td>\n",
       "      <td>...</td>\n",
       "      <td>...</td>\n",
       "      <td>...</td>\n",
       "    </tr>\n",
       "    <tr>\n",
       "      <th>995</th>\n",
       "      <td>William Tang</td>\n",
       "      <td>male</td>\n",
       "      <td>group D</td>\n",
       "      <td>associate's degree</td>\n",
       "      <td>standard</td>\n",
       "      <td>none</td>\n",
       "      <td>5.50</td>\n",
       "      <td>5.08</td>\n",
       "      <td>4.84</td>\n",
       "      <td>5.14</td>\n",
       "      <td>Medio</td>\n",
       "      <td>4.12</td>\n",
       "      <td>4.7</td>\n",
       "    </tr>\n",
       "    <tr>\n",
       "      <th>996</th>\n",
       "      <td>Willie Gilbert</td>\n",
       "      <td>male</td>\n",
       "      <td>group E</td>\n",
       "      <td>some high school</td>\n",
       "      <td>standard</td>\n",
       "      <td>none</td>\n",
       "      <td>5.92</td>\n",
       "      <td>5.02</td>\n",
       "      <td>4.66</td>\n",
       "      <td>5.20</td>\n",
       "      <td>Medio</td>\n",
       "      <td>5.38</td>\n",
       "      <td>3.8</td>\n",
       "    </tr>\n",
       "    <tr>\n",
       "      <th>997</th>\n",
       "      <td>Willie Neff</td>\n",
       "      <td>female</td>\n",
       "      <td>group E</td>\n",
       "      <td>associate's degree</td>\n",
       "      <td>free/reduced</td>\n",
       "      <td>none</td>\n",
       "      <td>5.38</td>\n",
       "      <td>5.56</td>\n",
       "      <td>5.68</td>\n",
       "      <td>5.54</td>\n",
       "      <td>Alto</td>\n",
       "      <td>4.48</td>\n",
       "      <td>4.6</td>\n",
       "    </tr>\n",
       "    <tr>\n",
       "      <th>998</th>\n",
       "      <td>Willie Nicholson</td>\n",
       "      <td>female</td>\n",
       "      <td>group D</td>\n",
       "      <td>some college</td>\n",
       "      <td>free/reduced</td>\n",
       "      <td>completed</td>\n",
       "      <td>4.78</td>\n",
       "      <td>5.80</td>\n",
       "      <td>5.80</td>\n",
       "      <td>5.46</td>\n",
       "      <td>Alto</td>\n",
       "      <td>4.78</td>\n",
       "      <td>4.8</td>\n",
       "    </tr>\n",
       "    <tr>\n",
       "      <th>999</th>\n",
       "      <td>Zachary Glenn</td>\n",
       "      <td>male</td>\n",
       "      <td>group E</td>\n",
       "      <td>some college</td>\n",
       "      <td>standard</td>\n",
       "      <td>completed</td>\n",
       "      <td>6.94</td>\n",
       "      <td>6.22</td>\n",
       "      <td>5.86</td>\n",
       "      <td>6.34</td>\n",
       "      <td>Muy alto</td>\n",
       "      <td>6.94</td>\n",
       "      <td>5.7</td>\n",
       "    </tr>\n",
       "  </tbody>\n",
       "</table>\n",
       "<p>1000 rows × 13 columns</p>\n",
       "</div>"
      ],
      "text/plain": [
       "                names  gender race/ethnicity parental level of education  \\\n",
       "0        Aaron Oakden    male        group D                 high school   \n",
       "1        Aaron Shelly    male        group D          associate's degree   \n",
       "2         Adam Romero    male        group C                 high school   \n",
       "3      Agatha Bergman  female        group D             master's degree   \n",
       "4         Agnes Dobbs  female        group C             master's degree   \n",
       "..                ...     ...            ...                         ...   \n",
       "995      William Tang    male        group D          associate's degree   \n",
       "996    Willie Gilbert    male        group E            some high school   \n",
       "997       Willie Neff  female        group E          associate's degree   \n",
       "998  Willie Nicholson  female        group D                some college   \n",
       "999     Zachary Glenn    male        group E                some college   \n",
       "\n",
       "            lunch test preparation course  math score  reading score  \\\n",
       "0    free/reduced                    none        4.96           5.44   \n",
       "1        standard                    none        4.66           3.88   \n",
       "2        standard               completed        4.18           4.12   \n",
       "3        standard                    none        6.52           7.00   \n",
       "4    free/reduced               completed        4.90           5.86   \n",
       "..            ...                     ...         ...            ...   \n",
       "995      standard                    none        5.50           5.08   \n",
       "996      standard                    none        5.92           5.02   \n",
       "997  free/reduced                    none        5.38           5.56   \n",
       "998  free/reduced               completed        4.78           5.80   \n",
       "999      standard               completed        6.94           6.22   \n",
       "\n",
       "     writing score   GPA GPA cuantiles  science score  history score  \n",
       "0             5.14  5.18         Medio           3.76            4.6  \n",
       "1             3.76  4.10      Bajísimo           3.88            3.9  \n",
       "2             3.94  4.08      Bajísimo           3.52            3.2  \n",
       "3             7.00  6.84      Muy alto           6.52            5.2  \n",
       "4             5.86  5.54          Alto           4.90            5.9  \n",
       "..             ...   ...           ...            ...            ...  \n",
       "995           4.84  5.14         Medio           4.12            4.7  \n",
       "996           4.66  5.20         Medio           5.38            3.8  \n",
       "997           5.68  5.54          Alto           4.48            4.6  \n",
       "998           5.80  5.46          Alto           4.78            4.8  \n",
       "999           5.86  6.34      Muy alto           6.94            5.7  \n",
       "\n",
       "[1000 rows x 13 columns]"
      ]
     },
     "metadata": {},
     "output_type": "display_data"
    }
   ],
   "source": [
    "# Inserte su respuesta aquí\n",
    "other_grades = pd.read_csv('other_grades.csv')\n",
    "\n",
    "df_grades_outer = pd.merge(\n",
    "    left=df_grades,\n",
    "    right=other_grades ,\n",
    "    on=\"names\",\n",
    "    sort=True,\n",
    "    how=\"outer\",\n",
    ")\n",
    "print(\"outer join:\")\n",
    "display(df_grades_outer)\n",
    "print(\"\\n\")\n",
    "\n",
    "df_grades_left =  pd.merge(\n",
    "    left=df_grades,\n",
    "    right=other_grades ,\n",
    "    on=\"names\",\n",
    "    sort=True,\n",
    "    how=\"left\",\n",
    ")\n",
    "print(\"left join\")\n",
    "display(df_grades_left)\n",
    "print(\"\\n\")\n",
    "\n",
    "df_grades_right = right_merged_df = pd.merge(\n",
    "    left=df_grades,\n",
    "    right=other_grades,\n",
    "    on=\"names\",\n",
    "    sort=True,\n",
    "    how=\"right\",\n",
    ")\n",
    "print(\"right join\")\n",
    "display(df_grades_right)\n",
    "print(\"\\n\")\n",
    "\n",
    "df_grades_inner = inner_merged_df = pd.merge(\n",
    "    left=df_grades,\n",
    "    right=other_grades,\n",
    "    on=\"names\",\n",
    "    sort=True,\n",
    "    how=\"inner\",\n",
    ")\n",
    "print(\"inner join\")\n",
    "display(df_grades_inner)"
   ]
  },
  {
   "cell_type": "code",
   "execution_count": 90,
   "metadata": {},
   "outputs": [
    {
     "name": "stdout",
     "output_type": "stream",
     "text": [
      "<class 'pandas.core.frame.DataFrame'>\n",
      "RangeIndex: 1150 entries, 0 to 1149\n",
      "Data columns (total 3 columns):\n",
      " #   Column         Non-Null Count  Dtype  \n",
      "---  ------         --------------  -----  \n",
      " 0   names          1150 non-null   object \n",
      " 1   science score  1150 non-null   float64\n",
      " 2   history score  1150 non-null   float64\n",
      "dtypes: float64(2), object(1)\n",
      "memory usage: 27.1+ KB\n"
     ]
    }
   ],
   "source": [
    "other_grades.info()"
   ]
  },
  {
   "cell_type": "markdown",
   "metadata": {},
   "source": [
    "        Explique sus resultados acá\n",
    "\n",
    "**Outer join**: Se puede ver que se tienen 1150 filas, por lo cual ya podemos ver que pueden haber datos duplicados, además que tiene datos con valores NaN.\n",
    "\n",
    "**Left join**: Se puede ver que tiene el numero de filas correcto, por lo que se puede asumir que no hay datos duplicados, además que no se presentan valores NaN.\n",
    "\n",
    "**Right join**: Se puede ver que tiene 1150 filas, con lo que se asume que hay datos duplicados, ademas que se ven valores NaN.\n",
    "\n",
    "**Inner join**: Al igual que con el left join, se tiene el número de filas correctos y tampoco se presentan valores NaN.\n",
    "\n",
    "Para este caso se puede ocupar el Left join como el Inner join, puesto que en ambos se tienen los datos no duplicados y sin valores NaN.\n"
   ]
  },
  {
   "cell_type": "markdown",
   "metadata": {
    "id": "4C4veNWQi_3_"
   },
   "source": [
    "# Conclusión"
   ]
  },
  {
   "cell_type": "markdown",
   "metadata": {
    "id": "Htu7yQI0i1ic"
   },
   "source": [
    "\n",
    "Eso ha sido todo para el lab de hoy, recuerden que el laboratorio tiene un plazo de entrega de una semana y que **los días de atraso no se pueden utilizar para entregas de lab** solo para tareas. Cualquier duda del laboratorio, no duden en contactarnos por mail o U-cursos.\n",
    "\n",
    "<p align=\"center\">\n",
    "  <img src=\"https://media1.tenor.com/images/2f7df460196625edc45b8380d158e5ee/tenor.gif?itemid=16669403\">\n",
    "</p>"
   ]
  }
 ],
 "metadata": {
  "colab": {
   "provenance": []
  },
  "deepnote": {},
  "deepnote_execution_queue": [],
  "deepnote_notebook_id": "188eceea07074932af334d64275af976",
  "kernelspec": {
   "display_name": "Python 3 (ipykernel)",
   "language": "python",
   "name": "python3"
  },
  "language_info": {
   "codemirror_mode": {
    "name": "ipython",
    "version": 3
   },
   "file_extension": ".py",
   "mimetype": "text/x-python",
   "name": "python",
   "nbconvert_exporter": "python",
   "pygments_lexer": "ipython3",
   "version": "3.11.9"
  },
  "toc": {
   "base_numbering": 1,
   "nav_menu": {},
   "number_sections": true,
   "sideBar": true,
   "skip_h1_title": true,
   "title_cell": "Tabla de Contenidos",
   "title_sidebar": "Contenidos",
   "toc_cell": false,
   "toc_position": {
    "height": "calc(100% - 180px)",
    "left": "10px",
    "top": "150px",
    "width": "241.867px"
   },
   "toc_section_display": true,
   "toc_window_display": true
  },
  "varInspector": {
   "cols": {
    "lenName": 16,
    "lenType": 16,
    "lenVar": 40
   },
   "kernels_config": {
    "python": {
     "delete_cmd_postfix": "",
     "delete_cmd_prefix": "del ",
     "library": "var_list.py",
     "varRefreshCmd": "print(var_dic_list())"
    },
    "r": {
     "delete_cmd_postfix": ") ",
     "delete_cmd_prefix": "rm(",
     "library": "var_list.r",
     "varRefreshCmd": "cat(var_dic_list()) "
    }
   },
   "types_to_exclude": [
    "module",
    "function",
    "builtin_function_or_method",
    "instance",
    "_Feature"
   ],
   "window_display": false
  }
 },
 "nbformat": 4,
 "nbformat_minor": 4
}
